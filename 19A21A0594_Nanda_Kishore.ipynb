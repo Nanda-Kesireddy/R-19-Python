{
  "nbformat": 4,
  "nbformat_minor": 0,
  "metadata": {
    "colab": {
      "name": "19A21A0594-Nanda Kishore.ipynb",
      "provenance": [],
      "collapsed_sections": [],
      "authorship_tag": "ABX9TyMTXhxZbIK2Kp5saKN/Ep+8",
      "include_colab_link": true
    },
    "kernelspec": {
      "display_name": "Python 3",
      "name": "python3"
    },
    "language_info": {
      "name": "python"
    }
  },
  "cells": [
    {
      "cell_type": "markdown",
      "metadata": {
        "id": "view-in-github",
        "colab_type": "text"
      },
      "source": [
        "<a href=\"https://colab.research.google.com/github/Nanda-Kesireddy/R-19-Python/blob/main/19A21A0594_Nanda_Kishore.ipynb\" target=\"_parent\"><img src=\"https://colab.research.google.com/assets/colab-badge.svg\" alt=\"Open In Colab\"/></a>"
      ]
    },
    {
      "cell_type": "markdown",
      "metadata": {
        "id": "fuZze3sIvtG5"
      },
      "source": [
        "**Name : K.Nanda Kishore**\n",
        " \n",
        "**Reg No : 19A21A0594**\n",
        " \n",
        "**Sec : CSE-B**"
      ]
    },
    {
      "cell_type": "markdown",
      "metadata": {
        "id": "RIc91MxcNK9X"
      },
      "source": [
        "**Excercise 1**\n",
        "\n",
        "**Aim** :  Running instructions in interactive interpreter and a python  script."
      ]
    },
    {
      "cell_type": "markdown",
      "metadata": {
        "id": "nOeWCXxuehAE"
      },
      "source": [
        "**Description** : Python is a high-level, interpreted, interactive and object-oriented \n",
        "scripting language. \n",
        "Python is designed to be highly readable.  It uses English keywords frequently where as other languages use \n",
        "punctuation, and it has fewer syntactical constructions than other languages. \n",
        "\n",
        "* Python is Interpreted \n",
        "\n",
        "* Python is Interactive \n",
        "\n",
        "* Python is Object-Oriented\n",
        "\n",
        "* Python is a Beginner's Language\n",
        "\n",
        "**Python Programming Running Python Scripts**\n",
        "\n",
        "Running Python in THREE ways: \n",
        "\n",
        "a) Running Python Interpreter \n",
        "\n",
        "b) Running Python Scripts in IDLE \n",
        "\n",
        "c) Running python scripts in Command Prompt \n",
        "\n",
        "**a) Running Python Interpreter:**\n",
        "Python comes with an interactive interpreter. When you type python in your shell or command prompt, the python interpreter becomes active with a >>> prompt and waits for your commands\n",
        "\n",
        "b) **Running Python Scripts in IDLE:**\n",
        ". Go to File menu click on New File (CTRL+N) and write the \n",
        "code and save first.py\n",
        "\n",
        "c) **Running python scripts in Command Prompt: ** **bold text**\n",
        "· Before going to run we have to check the PATH in environment \n",
        "variables. \n",
        "\n"
      ]
    },
    {
      "cell_type": "markdown",
      "metadata": {
        "id": "BXc8JZEpCXo5"
      },
      "source": [
        "**CODE**"
      ]
    },
    {
      "cell_type": "code",
      "metadata": {
        "colab": {
          "base_uri": "https://localhost:8080/"
        },
        "id": "kqu9Br5mNoUX",
        "outputId": "ccb32f40-8e06-4336-a8ed-e500e723309e"
      },
      "source": [
        "print(\"Hello World\")"
      ],
      "execution_count": null,
      "outputs": [
        {
          "output_type": "stream",
          "name": "stdout",
          "text": [
            "Hello World\n"
          ]
        }
      ]
    },
    {
      "cell_type": "markdown",
      "metadata": {
        "id": "ltGTXhTkNwhU"
      },
      "source": [
        "**Aim** : Write a program to purposefully raise indentation errors and correct "
      ]
    },
    {
      "cell_type": "markdown",
      "metadata": {
        "id": "QJX02Kr-expi"
      },
      "source": [
        "**Description** : **Indentation** \n",
        "* Python does not support braces to indicate blocks of code for class and \n",
        "function definitions or flow control. \n",
        "\n",
        "* Blocks of code are denoted by line indentation.\n",
        "\n",
        "* All the continuous lines indented with same number of spaces would form a block. \n",
        "\n",
        "* Python strictly follow indentation rules to indicate the blocks. \n"
      ]
    },
    {
      "cell_type": "markdown",
      "metadata": {
        "id": "9oKVzDkRN-d4"
      },
      "source": [
        "**Error code**"
      ]
    },
    {
      "cell_type": "code",
      "metadata": {
        "id": "6cAGIeBWOBFh",
        "colab": {
          "base_uri": "https://localhost:8080/",
          "height": 131
        },
        "outputId": "656d9e02-5a4f-4105-da74-8d048679bf36"
      },
      "source": [
        "if True:\n",
        "print(\"True\")\n",
        "else:\n",
        "  print(\"False\")"
      ],
      "execution_count": null,
      "outputs": [
        {
          "output_type": "error",
          "ename": "IndentationError",
          "evalue": "ignored",
          "traceback": [
            "\u001b[0;36m  File \u001b[0;32m\"<ipython-input-1-0f41a9d4bf14>\"\u001b[0;36m, line \u001b[0;32m2\u001b[0m\n\u001b[0;31m    print(\"True\")\u001b[0m\n\u001b[0m        ^\u001b[0m\n\u001b[0;31mIndentationError\u001b[0m\u001b[0;31m:\u001b[0m expected an indented block\n"
          ]
        }
      ]
    },
    {
      "cell_type": "code",
      "metadata": {
        "id": "Q1jo4NS7OlGN",
        "colab": {
          "base_uri": "https://localhost:8080/",
          "height": 128
        },
        "outputId": "05034dec-e7d9-4c22-86db-3e5b39d30a94"
      },
      "source": [
        "if True:\n",
        "  print(\"True1\")\n",
        "    print(\"True2\")\n",
        "else:\n",
        "  print(\"False\")"
      ],
      "execution_count": null,
      "outputs": [
        {
          "output_type": "error",
          "ename": "IndentationError",
          "evalue": "ignored",
          "traceback": [
            "\u001b[0;36m  File \u001b[0;32m\"<ipython-input-1-08efa93e1580>\"\u001b[0;36m, line \u001b[0;32m3\u001b[0m\n\u001b[0;31m    print(\"True2\")\u001b[0m\n\u001b[0m    ^\u001b[0m\n\u001b[0;31mIndentationError\u001b[0m\u001b[0;31m:\u001b[0m unexpected indent\n"
          ]
        }
      ]
    },
    {
      "cell_type": "markdown",
      "metadata": {
        "id": "aYIIGYwhcB2a"
      },
      "source": [
        "**Correced code**"
      ]
    },
    {
      "cell_type": "code",
      "metadata": {
        "id": "eaSI_AUQPHhp",
        "colab": {
          "base_uri": "https://localhost:8080/"
        },
        "outputId": "ea5b53dd-ca3c-4b4b-b278-d224bc7a83c2"
      },
      "source": [
        "if True:\n",
        "    print(\"True\")\n",
        "else:\n",
        "    print(\"False\")"
      ],
      "execution_count": null,
      "outputs": [
        {
          "output_type": "stream",
          "name": "stdout",
          "text": [
            "True\n"
          ]
        }
      ]
    },
    {
      "cell_type": "code",
      "metadata": {
        "id": "r0oW2xXtPrD6",
        "colab": {
          "base_uri": "https://localhost:8080/"
        },
        "outputId": "48a54017-20c5-45dc-a803-28aa033aca41"
      },
      "source": [
        "if True:\n",
        "    print(\"True1\")\n",
        "    print(\"True2\")\n",
        "else:\n",
        "    print(\"False\")"
      ],
      "execution_count": null,
      "outputs": [
        {
          "output_type": "stream",
          "text": [
            "True1\n",
            "True2\n"
          ],
          "name": "stdout"
        }
      ]
    },
    {
      "cell_type": "markdown",
      "metadata": {
        "id": "hUpMkm75Qyo4"
      },
      "source": [
        "**Excercise 2**\n",
        "\n",
        "**Aim** : Write a program to compute distance between two points taking input from the user."
      ]
    },
    {
      "cell_type": "markdown",
      "metadata": {
        "id": "qjSSNuZ1flEK"
      },
      "source": [
        "**Description**\n",
        "\n",
        "**Taking Input From the User:**\n",
        "A function is defined as a block of organized, reusable code used to perform a single, related action. Python has many built-in functions; you can also create your own. \n",
        "\n",
        "Python has an input function which lets you ask a user for some text input. You call this function to tell the program to stop and wait for the user to key in the data.\n",
        "\n",
        " In Python 2, you have a built-in function raw_input(), whereas in Python 3, you have input(). The program will resume once the user presses the ENTER or RETURN key.\n",
        "\n",
        " **Input Function**\n",
        "\n",
        "input(prompt=None,/). \n",
        "\n",
        "Read a string from standard input. The trailing newline is stripped. \n",
        "\n",
        "The prompt string, if given, is printed to standard output without a trailing newline before reading input. \n",
        "\n",
        "If the user hits EOF (*nix: Ctrl-D, Windows: Ctrl Z+Return), raise EOFError."
      ]
    },
    {
      "cell_type": "markdown",
      "metadata": {
        "id": "Fr0KuZgaCjOE"
      },
      "source": [
        "**CODE**"
      ]
    },
    {
      "cell_type": "code",
      "metadata": {
        "id": "a9qb4uT9RCrB",
        "colab": {
          "base_uri": "https://localhost:8080/"
        },
        "outputId": "21c41c7f-f862-4bf3-9ab4-151e192eb771"
      },
      "source": [
        "import math\n",
        "x1=int(input(\"Enter x1 value : \"))\n",
        "x2=int(input(\"Enter x2 value : \"))\n",
        "y1=int(input(\"Enter y1 value : \"))\n",
        "y2=int(input(\"Enter y2 value : \"))\n",
        "d = math.sqrt(((x2-x1)**2)+((y2-y1)**2))\n",
        "print(\"Distance of two points :\",d)"
      ],
      "execution_count": null,
      "outputs": [
        {
          "output_type": "stream",
          "text": [
            "Enter x1 value : 1\n",
            "Enter x2 value : 2\n",
            "Enter y1 value : 3\n",
            "Enter y2 value : 4\n",
            "Distance of two points : 1.4142135623730951\n"
          ],
          "name": "stdout"
        }
      ]
    },
    {
      "cell_type": "markdown",
      "metadata": {
        "id": "Gucn0gueYOoW"
      },
      "source": [
        "**Aim** :  Write a program add.py that takes 2 numbers as command line arguments and prints its sum."
      ]
    },
    {
      "cell_type": "markdown",
      "metadata": {
        "id": "cJKSUazygG9J"
      },
      "source": [
        "**Description** : \n",
        "\n",
        "The arguments that are given after the name of the program in the command line shell of the operating system are known as Command Line Arguments. Python provides various ways of dealing with these types of arguments. The three most common are: \n",
        "\n",
        "Using sys.argv\n",
        "\n",
        "Using getopt module\n",
        "\n",
        "Using argparse module\n",
        "\n",
        "Using sys.argv\n",
        "\n",
        "The sys module provides functions and variables used to manipulate different parts of the Python runtime environment. This module provides access to some variables used or maintained by the interpreter and to functions that interact strongly with the interpreter.\n",
        "\n",
        "One such variable is sys.argv which is a simple list structure. It’s main purpose are:\n",
        "\n",
        "* It is a list of command line arguments.\n",
        "\n",
        "* len(sys.argv) provides the number of command line arguments.\n",
        "\n",
        "* sys.argv[0] is the name of the current Python script. "
      ]
    },
    {
      "cell_type": "code",
      "metadata": {
        "id": "-T7vTkNbaZQi"
      },
      "source": [
        "import sys\n",
        "a=int(sys.argv[1])\n",
        "b=int(sys.argv[2])\n",
        "sum=a+b\n",
        "print(\"Sum of two numbers is :\",sum)"
      ],
      "execution_count": null,
      "outputs": []
    },
    {
      "cell_type": "markdown",
      "metadata": {
        "id": "RCt3tJQUa7MZ"
      },
      "source": [
        "**Excercise 3**\n",
        "\n",
        "**Aim** : Write a program for checking whether the given number is an even number or not."
      ]
    },
    {
      "cell_type": "markdown",
      "metadata": {
        "id": "SQ4OHV3SJ52W"
      },
      "source": [
        "**Description** \n",
        "\n",
        "**if..else Statement**\n",
        "When there is an alternate operation in control flow, use an else statement alongside with if statement. The general format is\n",
        "\n",
        "if condition:\n",
        "\n",
        "        true statement\n",
        "\n",
        "else:\n",
        "\n",
        "         false statement"
      ]
    },
    {
      "cell_type": "code",
      "metadata": {
        "colab": {
          "base_uri": "https://localhost:8080/"
        },
        "id": "7J6vGYOXbJC1",
        "outputId": "2360db3d-c39f-43b9-bba5-94138039178b"
      },
      "source": [
        "#To Check given number is even or odd \n",
        "n=int(input(\"Enter a Number \"))\n",
        "if n%2 == 0:\n",
        "  print(\"Given Number is even\")\n",
        "else:\n",
        "  print(\"Given nunber is odd\")\n",
        "  \n"
      ],
      "execution_count": null,
      "outputs": [
        {
          "output_type": "stream",
          "text": [
            "Enter a Number 2\n",
            "Given Number is even\n"
          ],
          "name": "stdout"
        }
      ]
    },
    {
      "cell_type": "markdown",
      "metadata": {
        "id": "9dXwbyxWcWEP"
      },
      "source": [
        "**Aim** : Using a for loop write a program that prints out the decimal equivalents of 1/2,1/3,1/4,...,1/10."
      ]
    },
    {
      "cell_type": "markdown",
      "metadata": {
        "id": "q0C8dab8pU1E"
      },
      "source": [
        "**Description** : \n",
        "\n",
        "**For Loop:**\n",
        "For loops can iterate over a sequence of numbers using the \"range\" and \"xrange\" functions. The difference between range and xrange is that the range function returns a new list with numbers of that specified range, whereas xrange returns an iterator, which is more efficient. \n",
        "\n",
        "The general format is\n",
        "\n",
        "for x in range(start,stop,step):\n",
        "\n",
        "statements"
      ]
    },
    {
      "cell_type": "markdown",
      "metadata": {
        "id": "kfNvCF2wCl-F"
      },
      "source": [
        "**CODE**"
      ]
    },
    {
      "cell_type": "code",
      "metadata": {
        "colab": {
          "base_uri": "https://localhost:8080/"
        },
        "id": "rI5NMZIecveD",
        "outputId": "aa897263-b415-4129-9947-795c7f0a5c25"
      },
      "source": [
        "#prints out the decimal equivalents of 1/2,1/3,1/4,...,1/10\n",
        "n=int(input(\"Enter a Number : \"))\n",
        "for i in range(2,n):\n",
        "  de=1/i\n",
        "  print(\"1/\"+str(i)+\"=\",de)"
      ],
      "execution_count": null,
      "outputs": [
        {
          "output_type": "stream",
          "text": [
            "Enter a Number : 10\n",
            "1/2= 0.5\n",
            "1/3= 0.3333333333333333\n",
            "1/4= 0.25\n",
            "1/5= 0.2\n",
            "1/6= 0.16666666666666666\n",
            "1/7= 0.14285714285714285\n",
            "1/8= 0.125\n",
            "1/9= 0.1111111111111111\n"
          ],
          "name": "stdout"
        }
      ]
    },
    {
      "cell_type": "markdown",
      "metadata": {
        "id": "Uat1fnmRdq2u"
      },
      "source": [
        "**Aim** : Write a program using a for loop that loops over a sequence.What is sequence?"
      ]
    },
    {
      "cell_type": "markdown",
      "metadata": {
        "id": "H-lLxLKXgoqs"
      },
      "source": [
        "**DESCRIPTION:**\n",
        "\n",
        "**For Loop:**\n",
        "For loops can iterate over a sequence of numbers using the \"range\" and \"xrange\" functions. The difference between range and xrange is that the range function returns a new list with numbers of that specified range, whereas xrange returns an iterator, which is more efficient. \n",
        "\n",
        "The general format is\n",
        "\n",
        "for x in range(start,stop,step):\n",
        "\n",
        "statements"
      ]
    },
    {
      "cell_type": "code",
      "metadata": {
        "colab": {
          "base_uri": "https://localhost:8080/"
        },
        "id": "ZW-P6CT5d73N",
        "outputId": "e2350631-4731-4829-d0c7-15c33d8f199e"
      },
      "source": [
        "arr=[4,\"abc\",-45,'C',10.5,True,5,10.6,\"xyz\"]\n",
        "print(\"Given Array : \",arr)\n",
        "for x in arr:\n",
        "  print(x)"
      ],
      "execution_count": null,
      "outputs": [
        {
          "output_type": "stream",
          "text": [
            "Given Array :  [4, 'abc', -45, 'C', 10.5, True, 5, 10.6, 'xyz']\n",
            "4\n",
            "abc\n",
            "-45\n",
            "C\n",
            "10.5\n",
            "True\n",
            "5\n",
            "10.6\n",
            "xyz\n"
          ],
          "name": "stdout"
        }
      ]
    },
    {
      "cell_type": "markdown",
      "metadata": {
        "id": "gCBNuWRJeiwo"
      },
      "source": [
        "**Aim** : Write a program using a while loop that asks the user for a number and prints a countdown from that number to zero."
      ]
    },
    {
      "cell_type": "markdown",
      "metadata": {
        "id": "ryVQJgR4g3cH"
      },
      "source": [
        "\n",
        "\n",
        "**DESCRIPTION:**\n",
        "\n",
        " While Loop is used to execute a block of statements repeatedly until a given condition is satisfied. And when the condition becomes false, the line immediately after the loop in the program is executed. While loop falls under the category of indefinite iteration\n",
        "\n",
        " The syntax for a while loop is: \n",
        " \n",
        " while [ condition]"
      ]
    },
    {
      "cell_type": "markdown",
      "metadata": {
        "id": "wxbQQ0u3CnLL"
      },
      "source": [
        "**CODE**"
      ]
    },
    {
      "cell_type": "code",
      "metadata": {
        "colab": {
          "base_uri": "https://localhost:8080/"
        },
        "id": "Vl7HtQ_fe1mw",
        "outputId": "04f17bbb-a36d-4751-b175-30c9430215aa"
      },
      "source": [
        "n=int(input(\"Enter value of n:\"))\n",
        "while n>=0:\n",
        "  print(n)\n",
        "  n-=1"
      ],
      "execution_count": null,
      "outputs": [
        {
          "output_type": "stream",
          "text": [
            "Enter value of n:10\n",
            "10\n",
            "9\n",
            "8\n",
            "7\n",
            "6\n",
            "5\n",
            "4\n",
            "3\n",
            "2\n",
            "1\n",
            "0\n"
          ],
          "name": "stdout"
        }
      ]
    },
    {
      "cell_type": "markdown",
      "metadata": {
        "id": "w9l6o0kqfOnv"
      },
      "source": [
        "**Excercise 4**\n",
        "\n",
        "**Aim** : a) Find the sum of all the primes below two million. Each new term in the Fibonacci sequence is generated by adding the previous two terms. Bystarting with 1 and 2, the first 10 terms will be: 1, 2, 3, 5, 8, 13, 21, 34, 55, 89, ..."
      ]
    },
    {
      "cell_type": "markdown",
      "metadata": {
        "id": "8GlYqZV1hQMP"
      },
      "source": [
        "\n",
        "**DESCRIPTION:**\n",
        "\n",
        "A Fibonacci sequence is the integer sequence of 0, 1, 1, 2, 3, 5, 8....\n",
        "\n",
        "The first two terms are 0 and 1. All other terms are obtained by adding the preceding two terms. This means to say the nth term is the sum of (n-1)th and (n-2)th term\n",
        "\n",
        "Here, we store the number of terms in nterms. We initialize the first term to 0 and the second term to 1.\n",
        "\n",
        "If the number of terms is more than 2, we use a while loop to find the next term in the sequence by adding the preceding two terms. We then interchange the variables (update it) and continue on with the process."
      ]
    },
    {
      "cell_type": "markdown",
      "metadata": {
        "id": "kP94wgVZCpf7"
      },
      "source": [
        "**CODE**"
      ]
    },
    {
      "cell_type": "code",
      "metadata": {
        "id": "nVuWrc3xfXUx",
        "colab": {
          "base_uri": "https://localhost:8080/"
        },
        "outputId": "df4d39ab-316a-4097-cb65-2fc6e425a9eb"
      },
      "source": [
        "n=int(input(\"enter an Ending Number: \"));\n",
        "st=\"\"\n",
        "sum=0\n",
        "for i in range(2,n):\n",
        "    state=True\n",
        "    for j in range(2,i):\n",
        "        if(i%j)==0:\n",
        "            state=False\n",
        "            break;\n",
        "    if state==True:\n",
        "            st+=\" \"+str(i)\n",
        "            sum+=i\n",
        "\n",
        "print(\"prime Numbers: \")\n",
        "print(st)\n",
        "print(\"Sum of the prime Numbers: \",sum)"
      ],
      "execution_count": null,
      "outputs": [
        {
          "output_type": "stream",
          "name": "stdout",
          "text": [
            "enter an Ending Number: 50\n",
            "prime Numbers: \n",
            " 2 3 5 7 11 13 17 19 23 29 31 37 41 43 47\n",
            "Sum of the prime Numbers:  328\n"
          ]
        }
      ]
    },
    {
      "cell_type": "markdown",
      "metadata": {
        "id": "hL3E9W5OiA59"
      },
      "source": [
        "**Aim** : Each new term in the fibbonaci sequence is generated by adding the previous two terms.By starting with 1 and 2,the first 10 terms will be:1,2,3,5,8,13,21,34,55,89,..."
      ]
    },
    {
      "cell_type": "markdown",
      "metadata": {
        "id": "rzVd_Yo4hgzY"
      },
      "source": [
        "\n",
        "**DESCRIPTION:**\n",
        "\n",
        "A Fibonacci sequence is the integer sequence of 0, 1, 1, 2, 3, 5, 8....\n",
        "\n",
        "The first two terms are 0 and 1. All other terms are obtained by adding the preceding two terms. This means to say the nth term is the sum of (n-1)th and (n-2)th term\n",
        "\n",
        "Here, we store the number of terms in nterms. We initialize the first term to 0 and the second term to 1.\n",
        "\n",
        "If the number of terms is more than 2, we use a while loop to find the next term in the sequence by adding the preceding two terms. We then interchange the variables (update it) and continue on with the process."
      ]
    },
    {
      "cell_type": "markdown",
      "metadata": {
        "id": "wk2CuyojCr9Q"
      },
      "source": [
        "**CODE**"
      ]
    },
    {
      "cell_type": "code",
      "metadata": {
        "colab": {
          "base_uri": "https://localhost:8080/"
        },
        "id": "BvDF-CWniiGB",
        "outputId": "50ec81ea-6a3c-4544-e710-ed5fc9b3a4be"
      },
      "source": [
        "#Fibbinacci series \n",
        "n=int(input(\"Enter value of n: \"))\n",
        "a=0\n",
        "b=1\n",
        "c=a+b\n",
        "while c<n:\n",
        "  print(c,end=' ')\n",
        "  a=b\n",
        "  b=c\n",
        "  c=a+b"
      ],
      "execution_count": null,
      "outputs": [
        {
          "output_type": "stream",
          "text": [
            "Enter value of n: 1000\n",
            "1 2 3 5 8 13 21 34 55 89 144 233 377 610 987 "
          ],
          "name": "stdout"
        }
      ]
    },
    {
      "cell_type": "markdown",
      "metadata": {
        "id": "ZZn_SMcRjnCH"
      },
      "source": [
        "**Aim** :  By considering the terms in the fibinacci sequence whose values do not exceed four million,find the sum of the even-valued terms."
      ]
    },
    {
      "cell_type": "markdown",
      "metadata": {
        "id": "KLUqS9tEhwpu"
      },
      "source": [
        "**DESCRIPTION:**\n",
        "\n",
        "A Fibonacci sequence is the integer sequence of 0, 1, 1, 2, 3, 5, 8....\n",
        "\n",
        "The first two terms are 0 and 1. All other terms are obtained by adding the preceding two terms. This means to say the nth term is the sum of (n-1)th and (n-2)th term\n",
        "\n",
        "Here, we store the number of terms in nterms. We initialize the first term to 0 and the second term to 1.\n",
        "\n",
        "If the number of terms is more than 2, we use a while loop to find the next term in the sequence by adding the preceding two terms. We then interchange the variables (update it) and continue on with the process."
      ]
    },
    {
      "cell_type": "markdown",
      "metadata": {
        "id": "3OXg7IbFCty8"
      },
      "source": [
        "**CODE**"
      ]
    },
    {
      "cell_type": "code",
      "metadata": {
        "colab": {
          "base_uri": "https://localhost:8080/"
        },
        "id": "pl-9QQavj-R5",
        "outputId": "18483aa8-5060-4f30-fd5b-dc2faa334eaf"
      },
      "source": [
        "n=int(input(\"Enter value of n: \"))\n",
        "a=0\n",
        "b=1\n",
        "c=a+b\n",
        "sum=0\n",
        "print(\"Even numbers in Fibonacci series:\\t \",end='')\n",
        "while c<=n:\n",
        "    if c%2==0:\n",
        "        print(c,end=' ')\n",
        "        sum+=c\n",
        "    a=b\n",
        "    b=c\n",
        "    c=a+b\n",
        "print(\"\\nsum of Fibonacci Series is: \",sum)\n"
      ],
      "execution_count": null,
      "outputs": [
        {
          "output_type": "stream",
          "name": "stdout",
          "text": [
            "Enter value of n: 100\n",
            "Even numbers in Fibonacci series:\t 2 8 34 \n",
            "sum of Fibonacci Series is:  44\n"
          ]
        }
      ]
    },
    {
      "cell_type": "markdown",
      "metadata": {
        "id": "HbmBTMG6lVPN"
      },
      "source": [
        "**Excercise** 5\n",
        "\n",
        "**Aim** : Write a program to count the numbers of characters in the string and store them in a dictionary data structures."
      ]
    },
    {
      "cell_type": "markdown",
      "metadata": {
        "id": "W8HilTcDphOK"
      },
      "source": [
        "**DESCRIPTION:**\n",
        "\n",
        "Given a string, the task is to find the frequencies of all the characters in that string and return a dictionary with key as the character and its value as its frequency in the given string.\n",
        "\n",
        "Method #1 : Naive method\n",
        "\n",
        "Simply iterate through the string and form a key in dictionary of newly occurred element or if element is already occurred, increase its value by 1.\n",
        "\n",
        "Method #2 : Using collections.Counter()\n",
        "\n",
        "The most suggested method that could be used to find all occurrences is this method, this actually gets all element frequency and could also be used to print single element frequency if required."
      ]
    },
    {
      "cell_type": "markdown",
      "metadata": {
        "id": "jWR85mRyCvk-"
      },
      "source": [
        "**CODE**"
      ]
    },
    {
      "cell_type": "code",
      "metadata": {
        "id": "BN87wSsUlo4_",
        "colab": {
          "base_uri": "https://localhost:8080/"
        },
        "outputId": "826eff1d-23e7-40c2-b11b-dae90744818b"
      },
      "source": [
        "name=input(\"Enter a Name :\")\n",
        "dic={}\n",
        "\n",
        "for ch in name:\n",
        "  keys=dic.keys()\n",
        "\n",
        "  if(ch in keys):\n",
        "    dic[ch]-dic[ch]+1\n",
        "  else:\n",
        "    dic[ch]=1\n",
        "\n",
        "print(\"Dictionary is : \",dic)"
      ],
      "execution_count": null,
      "outputs": [
        {
          "output_type": "stream",
          "name": "stdout",
          "text": [
            "Enter a Name :nandu\n",
            "Dictionary is :  {'n': 1, 'a': 1, 'd': 1, 'u': 1}\n"
          ]
        }
      ]
    },
    {
      "cell_type": "markdown",
      "metadata": {
        "id": "Bjnuu_osnJRj"
      },
      "source": [
        "**Aim** : Write a program to use split and join methods in the string and trace a birthday with a dictionary data structures."
      ]
    },
    {
      "cell_type": "markdown",
      "metadata": {
        "id": "vIcyAQXDih8x"
      },
      "source": [
        "**DESCRIPTION:**\n",
        "\n",
        "Python program to Split a string based on a delimiter and join the string using another delimiter.\n",
        "\n",
        "Split a string can be quite useful sometimes, especially when you need only certain parts of strings. A simple yet effective example is splitting the First-name and Last-name of a person. Another application is CSV(Comma Separated Files). We use split to get data from CSV and join to write data to CSV.\n",
        "\n",
        "In Python, we can use the function split() to split a string and \n",
        "\n",
        "join() to join a string. "
      ]
    },
    {
      "cell_type": "markdown",
      "metadata": {
        "id": "PfOfvK04CxTd"
      },
      "source": [
        "**CODE**"
      ]
    },
    {
      "cell_type": "code",
      "metadata": {
        "colab": {
          "base_uri": "https://localhost:8080/"
        },
        "id": "JQN9l8xXnaXT",
        "outputId": "58c79192-8db6-4e52-abd5-b0880e05e8ae"
      },
      "source": [
        "dob={\"Nandu\":\"05-Jun-2001\",\"KK\":\"05-06-2001\"}\n",
        "name=input(\"Which person DOB you want: \")\n",
        "l=name.split()\n",
        "birth=\"\"\n",
        "\n",
        "for i in l:\n",
        "  if i in dob.keys():\n",
        "    pers=i\n",
        "\n",
        "print(\"\".join([pers,\" Birthday is \",dob[pers]]))\n"
      ],
      "execution_count": null,
      "outputs": [
        {
          "output_type": "stream",
          "name": "stdout",
          "text": [
            "Which person DOB you want: Nandu\n",
            "Nandu Birthday is 05-Jun-2001\n"
          ]
        }
      ]
    },
    {
      "cell_type": "markdown",
      "metadata": {
        "id": "H62N3z1WogAS"
      },
      "source": [
        "**Excercise** 6 \n",
        "\n",
        "**Aim** : Write a program combine lists that combines these lists into a dictionory."
      ]
    },
    {
      "cell_type": "markdown",
      "metadata": {
        "id": "1YtWOfngivoq"
      },
      "source": [
        "**DESCRIPTION:**\n",
        "\n",
        "For this, simply declare a dictionary, and then run nested loop for both the lists and assign key and value pairs to from list values to dictionary.\n",
        "\n",
        "Most pythonic and generic method to perform this very task is by using zip(). This function pairs the list element with other list element at corresponding index in form of key-value pairs."
      ]
    },
    {
      "cell_type": "markdown",
      "metadata": {
        "id": "V51m48QGCzJV"
      },
      "source": [
        "**CODE**"
      ]
    },
    {
      "cell_type": "code",
      "metadata": {
        "colab": {
          "base_uri": "https://localhost:8080/"
        },
        "id": "JcE52LpWot5l",
        "outputId": "0b0b16bc-d021-4576-eed0-2ffad6cf044b"
      },
      "source": [
        "subj=[\"DAA\",\"OS\",\"DBMS\",\"P&S\",\"PPL\",\"SE\"]\n",
        "marks=[85,96,78,68,98,56]\n",
        "print(\"Given lists are : \")\n",
        "print(\"Subject Names :\",subj)\n",
        "print(\"Mark values :\",marks)\n",
        "dic=dict(zip(subj,marks))\n",
        "print(\"\\n Dictionary: \",dic)"
      ],
      "execution_count": null,
      "outputs": [
        {
          "output_type": "stream",
          "text": [
            "Given lists are : \n",
            "Subject Names : ['DAA', 'OS', 'DBMS', 'P&S', 'PPL', 'SE']\n",
            "Mark values : [85, 96, 78, 68, 98, 56]\n",
            "\n",
            " Dictionary:  {'DAA': 85, 'OS': 96, 'DBMS': 78, 'P&S': 68, 'PPL': 98, 'SE': 56}\n"
          ],
          "name": "stdout"
        }
      ]
    },
    {
      "cell_type": "markdown",
      "metadata": {
        "id": "kMbuDoeHprMK"
      },
      "source": [
        "b) Write a program to count frequency of characters in a given file. Can you use characterfrequency to tell whether the given file is a Python program file, C program file or a text file?\n"
      ]
    },
    {
      "cell_type": "markdown",
      "metadata": {
        "id": "qmKyeI6ai5Kn"
      },
      "source": [
        "**DESCRIPTION:**\n",
        "\n",
        "approaches to count the number of times a letter appears in a text file in Python.\n",
        "\n",
        "Method 1: Using the in-built count() method.\n",
        "\n",
        "**Approach:**\n",
        "\n",
        "1. Read the file.\n",
        "2. Store the content of the file in a variable.\n",
        "3. Use the count() method with the argument as a letter whose frequency is required.\n",
        "4. Display the count of the letter."
      ]
    },
    {
      "cell_type": "markdown",
      "metadata": {
        "id": "sUf73TU8C04C"
      },
      "source": [
        "**CODE**"
      ]
    },
    {
      "cell_type": "code",
      "metadata": {
        "id": "pAYRGFFUqL_T"
      },
      "source": [
        "filetypes=['.py','.c','.txt']\n",
        "fn=input(\"Enter the file name:\")\n",
        "f=open(fn,\"r\")\n",
        "count=dict()\n",
        "print(\"Given file is\",end=\"\")\n",
        "for ft in filetypes:\n",
        "  if(ft in fn):\n",
        "    if(ft=='.py'):\n",
        "      print(\"Python file\")\n",
        "    elif(ft=='.c'):\n",
        "      print(\"C File\")\n",
        "    elif(ft=='.txt'):\n",
        "       print(\"Text File\")\n",
        "for line in f:\n",
        "  for ch in line:\n",
        "    if ch in count:\n",
        "      count[ch]=count[ch]+1\n",
        "    else:\n",
        "      count[ch]=1\n",
        "print(count)\n",
        "f.close()"
      ],
      "execution_count": null,
      "outputs": []
    },
    {
      "cell_type": "markdown",
      "metadata": {
        "id": "Q5tteV0xHOA7"
      },
      "source": [
        "**Excercise** **7** \n",
        "\n",
        "**Aim** : Write a program to print each line of a file in reverse order."
      ]
    },
    {
      "cell_type": "markdown",
      "metadata": {
        "id": "76gKm5bhjP50"
      },
      "source": [
        " **DESCRIPTION:**\n",
        "\n",
        "The file handling plays an important role when the data needs to be stored permanently into the\n",
        "file. A file is a named location on disk to store related information. We can access the stored\n",
        "information (non-volatile) after the program termination.\n",
        "In Python, files are treated in two modes as text or binary. The file may be in the text or binary\n",
        "format, and each line of a file is ended with the special character.\n",
        "Hence, a file operation can be done in the following order.\n",
        "\n",
        " Open a file\n",
        "\n",
        " Read or write - Performing operation\n",
        "\n",
        " Close the file"
      ]
    },
    {
      "cell_type": "markdown",
      "metadata": {
        "id": "NuDKd0qJC4Cu"
      },
      "source": [
        "**CODE**"
      ]
    },
    {
      "cell_type": "code",
      "metadata": {
        "id": "aU-eOHIzHcHE"
      },
      "source": [
        "obj=open(\"abc.txt\",\"r\")\n",
        "if obj:\n",
        "  st=obj.read()\n",
        "  print(\"File content is:\\n\",st)\n",
        "obj.close()\n",
        "print()\n",
        "lines=st.split('\\n')\n",
        "for ln in lines:\n",
        "  i=len(ln)-1\n",
        "  while(i>=0):\n",
        "    print(ln[i],end=\"\")\n",
        "    i=i-1\n",
        "  print()\n",
        "    "
      ],
      "execution_count": null,
      "outputs": []
    },
    {
      "cell_type": "markdown",
      "metadata": {
        "id": "UZufp_9_Jn3u"
      },
      "source": [
        "**Aim** : Write a program to compute the number of characters words and lines in a file."
      ]
    },
    {
      "cell_type": "markdown",
      "metadata": {
        "id": "n3ua3Hs_jjK9"
      },
      "source": [
        "**Description** : Given a text file fname, the task is to count the total number of characters, words, spaces and lines in the file.\n",
        "\n",
        "As we know, Python provides multiple in-built features and modules for handling files. Let’s discuss different ways to calculate total number of characters, words, spaces and lines in a file using Python.\n",
        "\n",
        "Method #1: Naive approach\n",
        "\n",
        "In this approach, the idea is to solve the task by developing our own logic. Without using any built-in function of Python, the total number of characters, words, spaces and lines of the file will be calculated.\n",
        "\n",
        "Method #2: Using some built-in functions and OS module functions\n",
        "\n",
        "In this approach, the idea is to use the os.linesep() method of OS module to separate the lines on the current platform. When the interpreter’s scanner encounter os.linesep it replaces it with \\n character. After that strip() and split() functions will be used to carry out the task."
      ]
    },
    {
      "cell_type": "markdown",
      "metadata": {
        "id": "OtRxFgCoC5sX"
      },
      "source": [
        "**CODE**"
      ]
    },
    {
      "cell_type": "code",
      "metadata": {
        "id": "QNAzZU3oJ29Q"
      },
      "source": [
        "nc=nw=nl=0\n",
        "file=open(\"abc.txt\",\"r\")\n",
        "nl=nw=nc=0\n",
        "print(\"File Content:\\n\")\n",
        "for line in file:\n",
        "  ln=line.strip(\"\\n\")\n",
        "  print(ln)\n",
        "  words=ln.split()\n",
        "  nl+=1\n",
        "  nw+=len(words)\n",
        "  nc+=len(line)\n",
        "  file.close()\n",
        "  print(\"\\n No of lines:\",nl,\"words\",nw,\"characters:\",nc)"
      ],
      "execution_count": null,
      "outputs": []
    },
    {
      "cell_type": "markdown",
      "metadata": {
        "id": "-NAsyc7ULN4H"
      },
      "source": [
        "**Excercise** **8** \n",
        "\n",
        "**Aim** : Write a function ball collide that takes two balls as parameters and computes if they are colliding.Your function should return a bollean representing whether or not the balls are colliding."
      ]
    },
    {
      "cell_type": "markdown",
      "metadata": {
        "id": "rLZj188RjzXV"
      },
      "source": [
        "**DESCRIPTION**\n",
        "\n",
        "**Functions**\n",
        "A function in python is a block of code that is defined for doing frequent operations in a\n",
        "particular task. The general format is\n",
        "\n",
        "def  Functionname(arguments):\n",
        "\n",
        "      Statements\n",
        "\n",
        "**Calling a Function:**\n",
        "\n",
        "A function can be called by its name followed by arguments within parenthesis.\n",
        "\n",
        "function()\n",
        "\n"
      ]
    },
    {
      "cell_type": "markdown",
      "metadata": {
        "id": "hfE7TJWiC7r-"
      },
      "source": [
        "**CODE**"
      ]
    },
    {
      "cell_type": "code",
      "metadata": {
        "id": "ZGCHHKpzMIoc",
        "colab": {
          "base_uri": "https://localhost:8080/"
        },
        "outputId": "012d4469-17b5-4689-b0a4-b606b65105f8"
      },
      "source": [
        "import math\n",
        "def collide(ball_tup1,ball_tup2):\n",
        "    x1,y1,r1=ball_tup1\n",
        "    x2,y2,r2=ball_tup2\n",
        "\n",
        "    print(\"Ball-01: \",ball_tup1)\n",
        "    print(\"Ball-02: \",ball_tup2)\n",
        "\n",
        "    d=math.sqrt((x2-x1)**2+(y2-y1)**2)\n",
        "    print(\"Centroid Distance of two balls: \",d)\n",
        "    print(\"Sum of Radius Ball-01 &Ball-02 is: {}+{}={}\".format(r1,r2,r1+r2))\n",
        "\n",
        "    if d<=r1+r2:\n",
        "        return True\n",
        "    else:\n",
        "        return False\n",
        "b1=(-2,-4,3)\n",
        "b2=(4,6,3)\n",
        "\n",
        "if collide(b1,b2):\n",
        "    print(\"Balls are Colliode....!\")\n",
        "else:\n",
        "    print(\"Balls are not Colliede...!\")\n"
      ],
      "execution_count": null,
      "outputs": [
        {
          "output_type": "stream",
          "name": "stdout",
          "text": [
            "Ball-01:  (-2, -4, 3)\n",
            "Ball-02:  (4, 6, 3)\n",
            "Centroid Distance of two balls:  11.661903789690601\n",
            "Sum of Radius Ball-01 &Ball-02 is: 3+3=6\n",
            "Balls are not Colliede...!\n"
          ]
        }
      ]
    },
    {
      "cell_type": "markdown",
      "metadata": {
        "id": "2E6DDj1ONXPL"
      },
      "source": [
        "**Aim** :  Find mean,median,mode for the given set of numbers in a list."
      ]
    },
    {
      "cell_type": "markdown",
      "metadata": {
        "id": "GSmRaDrZj9mx"
      },
      "source": [
        "**DESCRIPTION**\n",
        "\n",
        "Mean : The mean is the average of all numbers and is sometimes called the arithmetic mean. This code calculates Mean or Average of a list containing numbers:\n",
        "\n",
        "Median : The median is the middle number in a group of numbers. This code calculates Median of a list containing numbers:\n",
        "\n",
        "Mode : The mode is the number that occurs most often within a set of numbers. This code calculates Mode of a list containing numbers:\n",
        "\n",
        "We will import Counter from collections library which is a built-in module in Python 2 and 3. This module will help us count duplicate elements in a list.\n",
        "We define a list of numbers and calculate the length of the list. We then call Counter (a dict subclass) which helps to count hashable objects, and we then convert it to dict object. We then initialize a list with a For Loop to compare all the dict values (Number of elements) to the max of all dict values (count of most occurring element) and it returns all the elements equal to max count. If the elements returned are equal to the number of total elements in a list then we print out ‘No mode’, else we print out the modes returned.\n",
        "\n"
      ]
    },
    {
      "cell_type": "markdown",
      "metadata": {
        "id": "scgQ2FAZC9Uo"
      },
      "source": [
        "**CODE**"
      ]
    },
    {
      "cell_type": "code",
      "metadata": {
        "id": "fNUPVSQJPGSm",
        "colab": {
          "base_uri": "https://localhost:8080/"
        },
        "outputId": "4b848d2c-b537-47fb-d31d-00170e20d22f"
      },
      "source": [
        "def list_mean(num_list):\n",
        "    return sum(num_list)/len(num_list)\n",
        " \n",
        "def list_median(num_list):\n",
        "    num_list.sort()\n",
        "    n=len(num_list)\n",
        "    mid=n//2\n",
        "    if(n%2==1):\n",
        "        return num_list[mid]\n",
        "    else:\n",
        "        mid\n",
        "        return(num_list[mid+1]+num_list[mid])/2\n",
        " \n",
        "def list_mode(num_list):\n",
        "    num_list.sort()\n",
        "    temp=[]\n",
        " \n",
        "    i=0\n",
        "    while i<len(num_list):\n",
        "        temp.append(num_list.count(num_list[i]))\n",
        "        i+=1\n",
        " \n",
        "    dic=dict(zip(num_list,temp))\n",
        "    mode={k for(k,v) in dic.items() if v==max(temp)}\n",
        "    return mode\n",
        " \n",
        " \n",
        "lst=[1,1,2,2,2,3,4,5,3]\n",
        " \n",
        " \n",
        "print(\"Given list is; \",lst)\n",
        "print(\"Mean of the given list: \",list_mean(lst))\n",
        "print(\"Median of the given list: \",list_median(lst))\n",
        "print(\"Mode of the given list: \",list_mode(lst))"
      ],
      "execution_count": null,
      "outputs": [
        {
          "output_type": "stream",
          "name": "stdout",
          "text": [
            "Given list is;  [1, 1, 2, 2, 2, 3, 4, 5, 3]\n",
            "Mean of the given list:  2.5555555555555554\n",
            "Median of the given list:  2\n",
            "Mode of the given list:  {2}\n"
          ]
        }
      ]
    },
    {
      "cell_type": "markdown",
      "metadata": {
        "id": "uvMpEC0EeDaV"
      },
      "source": [
        "**Excercise** **9** \n",
        "\n",
        "**Aim** : Write a function nearly equal to test whether two strings are nearky equal.Two strings a and b are nearly equal when a can be generated by a single mutation on b."
      ]
    },
    {
      "cell_type": "markdown",
      "metadata": {
        "id": "lGRedIswkQrW"
      },
      "source": [
        "**DESCRIPTION:**\n",
        "\n",
        "strlen() function is used to check wether the two string are nearly equal or not by basis of the Length of those Strings\n",
        "\n",
        "len() function is an inbuilt function in Python programming language that returns the length of the string.\n",
        "\n",
        "len() is a built-in function in python.You can use the len() to get the length of the given string, array, list, tuple, dictionary, etc.\n",
        "\n",
        "Value: the given value you want the length of.\n",
        "\n",
        "Return value a return an integer value i.e. the length of the given string, or array, or list, or collections.\n",
        "\n",
        "Syntax:\n",
        "\n",
        "len(string)\n"
      ]
    },
    {
      "cell_type": "markdown",
      "metadata": {
        "id": "FBgVsnj7DAVB"
      },
      "source": [
        "**CODE**"
      ]
    },
    {
      "cell_type": "code",
      "metadata": {
        "id": "AhrLURm_LUVj",
        "colab": {
          "base_uri": "https://localhost:8080/"
        },
        "outputId": "7d9d57b9-13c6-4a80-c055-1961737fc0c9"
      },
      "source": [
        "def nearly_eq(str1,str2):\n",
        "    count=0\n",
        "    i=j=0\n",
        "    while(i<len(str1) and j<len(str2)):\n",
        "        if(str1[i]!=str2[j]):\n",
        "            count+=1\n",
        "            if(len(str1)>len(str2)):\n",
        "                i+=1\n",
        "            elif(len(str1)==len(str2)):\n",
        "                pass\n",
        "            else:\n",
        "                i-=1\n",
        "        if(count>1):\n",
        "            return False\n",
        "        i+=1\n",
        "        j+=1\n",
        "    if(count<2):\n",
        "        return True\n",
        "s1=input(\"Enter String1: \")\n",
        "s2=input(\"Enter String2: \")\n",
        "bln=nearly_eq(s1,s2)\n",
        "if(bln):\n",
        "    print(\"Strings are nearly equal.\")\n",
        "else:\n",
        "    print(\"Strings are Not Equal.\")\n"
      ],
      "execution_count": null,
      "outputs": [
        {
          "output_type": "stream",
          "name": "stdout",
          "text": [
            "Enter String1: Nandu\n",
            "Enter String2: Kishore\n",
            "Strings are Not Equal.\n"
          ]
        }
      ]
    },
    {
      "cell_type": "markdown",
      "metadata": {
        "id": "DRrNAiFug0nB"
      },
      "source": [
        "**Aim** :  Write a function dup to find all duplicates in the list"
      ]
    },
    {
      "cell_type": "markdown",
      "metadata": {
        "id": "FPRqJ_SGkan5"
      },
      "source": [
        "**DESCRIPTION:**\n",
        "\n",
        "To check if a list contains any duplicate element follow the following steps,\n",
        "\n",
        "1. Add the contents of list in a set.\n",
        "\n",
        "        As set contains only unique elements, so no duplicates will be added   the the set.\n",
        "\n",
        "2. Compare the size of set and list.\n",
        "\n",
        "            If size of list & set is equal then it means no duplicates in list.\n",
        "\n",
        "3. If size of list & set are different then it means yes, there are duplicates in list."
      ]
    },
    {
      "cell_type": "markdown",
      "metadata": {
        "id": "aH_ojI4GDCWg"
      },
      "source": [
        "**CODE**"
      ]
    },
    {
      "cell_type": "code",
      "metadata": {
        "id": "peiziP_OYOFR",
        "colab": {
          "base_uri": "https://localhost:8080/"
        },
        "outputId": "b66b82f6-7285-4fb3-f4c9-7ddd933443c5"
      },
      "source": [
        "def dups(numlist):\n",
        "    temp=[]\n",
        "    for i in numlist:\n",
        "        cnt=numlist.count(i)\n",
        "        if(cnt>1 and (i not in temp)):\n",
        "            temp.append(i)\n",
        "    print(\"Duplicates in the list: \",temp)\n",
        "\n",
        "lst=[1,2,6,9,1,3,5,2,1]\n",
        "print(\"Given elements in the list: \",lst)\n",
        "dups(lst)\n"
      ],
      "execution_count": null,
      "outputs": [
        {
          "output_type": "stream",
          "name": "stdout",
          "text": [
            "Given elements in the list:  [1, 2, 6, 9, 1, 3, 5, 2, 1]\n",
            "Duplicates in the list:  [1, 2]\n"
          ]
        }
      ]
    },
    {
      "cell_type": "markdown",
      "metadata": {
        "id": "8JE5Glvlmo-5"
      },
      "source": [
        "**Aim** :  Write a function unique to find all the unique elements of a list."
      ]
    },
    {
      "cell_type": "markdown",
      "metadata": {
        "id": "2IC-SwdUkrYW"
      },
      "source": [
        "**DESCRIPTION:**\n",
        "\n",
        "To find the unique in the list .There is a Specific Method i.e.,\n",
        "\n",
        "Method  : Traversal of list\n",
        "\n",
        "Using traversal, we can traverse for every element in the list and check if the element is in the unique_list already if it is not over there, then we can append it in the unique_list. \n",
        "\n",
        "This is done using one for loop and other if statement which check if the value is in the unique list or not which is equivalent to another for loop.  "
      ]
    },
    {
      "cell_type": "markdown",
      "metadata": {
        "id": "1GbSHrlaDEIO"
      },
      "source": [
        "**CODE**"
      ]
    },
    {
      "cell_type": "code",
      "metadata": {
        "colab": {
          "base_uri": "https://localhost:8080/"
        },
        "id": "CV_E1Xgom3E6",
        "outputId": "eef38f13-3559-47c6-f36e-df590f0f8f18"
      },
      "source": [
        "def unique(numlist):\n",
        "  temp=[]\n",
        "  for i in numlist:\n",
        "    cnt=numlist.count(i)\n",
        "    if cnt==1:\n",
        "      temp.append(i)\n",
        "  print(\"Unique Elements in the list: \",temp)\n",
        "\n",
        "lst=[1,2,6,9,1,3,5,2,1]\n",
        "print(\"Given elements in the list: \",lst)\n",
        "unique(lst)"
      ],
      "execution_count": null,
      "outputs": [
        {
          "output_type": "stream",
          "text": [
            "Given elements in the list:  [1, 2, 6, 9, 1, 3, 5, 2, 1]\n",
            "Unique Elements in the list:  [6, 9, 3, 5]\n"
          ],
          "name": "stdout"
        }
      ]
    },
    {
      "cell_type": "markdown",
      "metadata": {
        "id": "NRcM9imaoXiE"
      },
      "source": [
        "**Excercise** **10** \n",
        "\n",
        "**Aim** : Write a function cumulative product to compare cumulative product of a list of numbers."
      ]
    },
    {
      "cell_type": "markdown",
      "metadata": {
        "id": "HJeWf_Ovk93O"
      },
      "source": [
        "**DESCRIPTION:**\n",
        "\n",
        "A cumulative product is a sequence of partial products of a given sequence. For example, the cumulative products of the sequence. , are , , .. Cumulative products can be implemented in the Wolfram Language as Rest[FoldList[Times, 1, list]]\n",
        "\n",
        "cumprod(A,1) works on successive elements in the columns of A and returns the cumulative products of each column. cumprod(A,2) works on successive elements in the rows of A and returns the cumulative products of each row.\n",
        "\n",
        "umprod() function is used when we want to compute the cumulative product of array elements over a given axis. Syntax : numpy.cumprod(arr, axis=None, dtype=None, out=None) Parameters : arr : [array_like] Array containing numbers whose cumulative product is desired."
      ]
    },
    {
      "cell_type": "markdown",
      "metadata": {
        "id": "BioKomKcDGKQ"
      },
      "source": [
        "**CODE**"
      ]
    },
    {
      "cell_type": "code",
      "metadata": {
        "colab": {
          "base_uri": "https://localhost:8080/"
        },
        "id": "AOrvqjrDo8JU",
        "outputId": "1bd228f8-3b00-4ce8-cb86-996b789230b9"
      },
      "source": [
        "def cum_prod(numlist):\n",
        "  prod=1\n",
        "  temp=[]\n",
        "  for i in numlist:\n",
        "    prod*=i\n",
        "    temp.append(prod)\n",
        "    return temp\n",
        "lst=[1,2,4,5,3]\n",
        "print(\"Given list is:\",lst)\n",
        "print(\"Cumulative Product list is:\",cum_prod(lst))"
      ],
      "execution_count": null,
      "outputs": [
        {
          "output_type": "stream",
          "text": [
            "Given list is: [1, 2, 4, 5, 3]\n",
            "Cumulative Product list is: [1]\n"
          ],
          "name": "stdout"
        }
      ]
    },
    {
      "cell_type": "markdown",
      "metadata": {
        "id": "_0HBKVfIqXEy"
      },
      "source": [
        "**Aim** :  Write a function reverse to reverse a list.Without using the reverse function."
      ]
    },
    {
      "cell_type": "markdown",
      "metadata": {
        "id": "zdJkvwJvlH0E"
      },
      "source": [
        "**DESCRIPTION:**\n",
        "\n",
        "In this Python code snippet post, we are going to implement a list reverse function from the scratch without using any builtin functions.\n",
        "\n",
        "Let us see how…\n",
        "\n",
        "Iterative solution\n",
        "\n",
        "We can use a for loop to swap the first and last items, the second and the one before the last item and so on until the list is reversed in place. The number of iterations needed is half the list size. If the list has an odd number of items then the middle item will stay in its place.\n"
      ]
    },
    {
      "cell_type": "markdown",
      "metadata": {
        "id": "7DJ1D2A6DH6b"
      },
      "source": [
        "**CODE**"
      ]
    },
    {
      "cell_type": "code",
      "metadata": {
        "colab": {
          "base_uri": "https://localhost:8080/"
        },
        "id": "ZtTat4QhtgjD",
        "outputId": "de607be7-cccc-4a26-8138-82049f702714"
      },
      "source": [
        "def reverse_list(numlist):\n",
        "  i=0\n",
        "  j=len(numlist)-1\n",
        "  while(i<=j):\n",
        "   temp=numlist[i]\n",
        "   numlist[i]=numlist[j]\n",
        "   numlist[j]=temp\n",
        "   j-=1\n",
        "   i+=1\n",
        "  return numlist\n",
        "lst=[1,2,3,4]\n",
        "print(\"Given list is: \",lst)\n",
        "reverse_list(lst)\n",
        "print(\"Reverse of the given list is: \",lst)"
      ],
      "execution_count": null,
      "outputs": [
        {
          "output_type": "stream",
          "text": [
            "Given list is:  [1, 2, 3, 4]\n",
            "Reverse of the given list is:  [4, 3, 2, 1]\n"
          ],
          "name": "stdout"
        }
      ]
    },
    {
      "cell_type": "markdown",
      "metadata": {
        "id": "9OYG3qlnvU5E"
      },
      "source": [
        "10(c)\n",
        "\n",
        "**Aim** : Write function to compute gcd,lcm of two numbers.Each function shouldnt exceed one line."
      ]
    },
    {
      "cell_type": "markdown",
      "metadata": {
        "id": "oYVPEbHKlVED"
      },
      "source": [
        "\n",
        "**DESCRIPTION:**\n",
        "\n",
        "Python provides you an anonymous function called lambda. It can take any number of\n",
        "arguments, but can only have one expression. It can be used to find LCM and GCD values without exceeding each from from one line.\n",
        "\n",
        "The general format is\n",
        "\n",
        "**lambda arguments: expression**\n",
        "\n",
        "The expression is executed during the function call and the result is returned. \n",
        "\n",
        "**Lambda as a Function**\n",
        "\n",
        "The power of using a lambda expression is implementing it using a function"
      ]
    },
    {
      "cell_type": "markdown",
      "metadata": {
        "id": "vJI2Z2j0DJps"
      },
      "source": [
        "**CODE**"
      ]
    },
    {
      "cell_type": "code",
      "metadata": {
        "colab": {
          "base_uri": "https://localhost:8080/"
        },
        "id": "1VKY3ntjvk7h",
        "outputId": "5d3abcce-bb84-4867-9067-2c4f2ca9d103"
      },
      "source": [
        "gcd=lambda a,b:a if b==0 else gcd(a,a%b)\n",
        "lcm=lambda a,b:(a*b)/gcd(a,b)\n",
        "\n",
        "x=4\n",
        "y=24\n",
        "print(\"The given numbers: \",x,y)\n",
        "print(\"GCD is: \",x,y)\n",
        "print(\"LCM is: \",lcm(x,y))\n"
      ],
      "execution_count": null,
      "outputs": [
        {
          "output_type": "stream",
          "text": [
            "The given numbers:  4 24\n",
            "GCD is:  4 24\n",
            "LCM is:  24.0\n"
          ],
          "name": "stdout"
        }
      ]
    },
    {
      "cell_type": "markdown",
      "metadata": {
        "id": "Tgd3ncv7wzrw"
      },
      "source": [
        "**Exercise** **11** \n",
        "\n",
        "**Aim** : Write a program that defines a matrix and prints."
      ]
    },
    {
      "cell_type": "markdown",
      "metadata": {
        "id": "eMjSU5Cblybt"
      },
      "source": [
        "\n",
        "**DESCRIPTION:**\n",
        "\n",
        "Lists are a very widely use data structure in python. They contain a list of elements separated by comma. But sometimes lists can also contain lists within them. These are called nested lists or multidimensional lists. In this article we will see how to create and access elements in a multidimensional list.\n",
        "\n",
        "**Methods on Multidimensional lists**\n",
        "\n",
        "1. append(): Adds an element at the end of the list.\n",
        "\n",
        "2. extend(): Add the elements of a list (or any iterable), to the end of the current list.\n",
        "\n",
        "3. reverse(): Reverses the order of the list."
      ]
    },
    {
      "cell_type": "markdown",
      "metadata": {
        "id": "uwrMFaodDLM1"
      },
      "source": [
        "**CODE**"
      ]
    },
    {
      "cell_type": "code",
      "metadata": {
        "colab": {
          "base_uri": "https://localhost:8080/"
        },
        "id": "b4gTMRi3w8uJ",
        "outputId": "43879b06-171f-4d96-d7e7-5f2875136099"
      },
      "source": [
        "matA=[[]]\n",
        "rows=int(input(\"Enter row size of Matrix: \"))\n",
        "cols=int(input(\"Enter column size of matrix: \"))\n",
        "\n",
        "matA=[[int(input(\"Enter [%d,%d] value: \"%(i,j)))for j in range(cols)]for i in range(rows)]\n",
        "\n",
        "print(\"Matrix is: \")\n",
        "for i in range(rows):\n",
        "  for j in range(cols):\n",
        "    print(matA[i][j],end='\\t')\n",
        "    print(' ')"
      ],
      "execution_count": null,
      "outputs": [
        {
          "output_type": "stream",
          "text": [
            "Enter row size of Matrix: 3\n",
            "Enter column size of matrix: 2\n",
            "Enter [0,0] value: 7\n",
            "Enter [0,1] value: 2\n",
            "Enter [1,0] value: 1\n",
            "Enter [1,1] value: 6\n",
            "Enter [2,0] value: 3\n",
            "Enter [2,1] value: 5\n",
            "Matrix is: \n",
            "7\t \n",
            "2\t \n",
            "1\t \n",
            "6\t \n",
            "3\t \n",
            "5\t \n"
          ],
          "name": "stdout"
        }
      ]
    },
    {
      "cell_type": "markdown",
      "metadata": {
        "id": "rNVns4ZB1F3V"
      },
      "source": [
        "11(b)\n",
        "\n",
        "**Aim** : Write a program to perform addition of two square matrices"
      ]
    },
    {
      "cell_type": "markdown",
      "metadata": {
        "id": "1HPtc3kal_lK"
      },
      "source": [
        "\n",
        "**DESCRIPTION:**\n",
        "\n",
        "We can perform matrix addition in following ways in Python.  \n",
        "\n",
        "1. Using for loop: \n",
        "\n",
        "**Explanation** :- \n",
        "In this program we have used nested for loops to iterate through each row and each column. At each point we add the corresponding elements in the two matrices and store it in the result.\n",
        "\n",
        "2. Using nested list comprehension :\n",
        "\n",
        " In Python, we can implement a matrix as nested list (list inside a list). We can treat each element as a row of the matrix. \n",
        "\n",
        "**Explanation :-**\n",
        "\n",
        "The output of this program is the same as above. We have used nested list comprehension to iterate through each element in the matrix. List comprehension allows us to write concise codes and we must try to use them frequently in Python. They are very helpful.\n",
        "\n",
        "3. uising zip function\n",
        "\n",
        "**Explanation :**\n",
        "\n",
        "The zip function accepts iterator i of each element(list) of matrix, mapping them, adding them using sum() and storing them in the map form."
      ]
    },
    {
      "cell_type": "markdown",
      "metadata": {
        "id": "DzX8ggScDM6Z"
      },
      "source": [
        "**CODE**"
      ]
    },
    {
      "cell_type": "code",
      "metadata": {
        "colab": {
          "base_uri": "https://localhost:8080/"
        },
        "id": "mVh3VeCT1UBE",
        "outputId": "ce3f7d77-5387-4665-8f9b-592dcc6ea20c"
      },
      "source": [
        "def matRead(r,c):\n",
        "  return[[int(input(\"[%d,%d]value: \"%(i,j)))for j in range(c)]for i in range(r)]\n",
        "def matDisp(mat,r,c):\n",
        "  for i in range(r):\n",
        "    for j in range(c):\n",
        "      print(mat[i][j],end='\\t')\n",
        "    print()\n",
        "\n",
        "matA=[[]]\n",
        "matB=[[]]\n",
        "matSum=[[]]\n",
        "rows=int(input(\"Enter row size of the Matrix: \"))\n",
        "cols=int(input(\"Enter column size of the Matrix: \"))\n",
        "if rows==cols:\n",
        "  print(\"Enter Matrix-A elements: \")\n",
        "  matA=matRead(rows,cols)\n",
        "\n",
        "  print(\"Enter Matrix-B elements: \")\n",
        "  matB=matRead(rows,cols)\n",
        "\n",
        "  print(\"Matrix-A is: \")\n",
        "  matDisp(matA,rows,cols)\n",
        "\n",
        "  print(\"Matrix-B is: \")\n",
        "  matDisp(matB,rows,cols)\n",
        "\n",
        "  matSum=[[matA[i][j]+matB[i][j]for j in range(cols)]for i in range(rows)]\n",
        "  print(\"Sum of Matrices is: \")\n",
        "  5matDisp(matSum,rows,cols)\n",
        "else:\n",
        "  print(\"Matrices Addition is Not possible\")"
      ],
      "execution_count": null,
      "outputs": [
        {
          "output_type": "stream",
          "text": [
            "Enter row size of the Matrix: 2\n",
            "Enter column size of the Matrix: 2\n",
            "Enter Matrix-A elements: \n",
            "[0,0]value: 1\n",
            "[0,1]value: 2\n",
            "[1,0]value: 3\n",
            "[1,1]value: 4\n",
            "Enter Matrix-B elements: \n",
            "[0,0]value: 9\n",
            "[0,1]value: 6\n",
            "[1,0]value: 5\n",
            "[1,1]value: 4\n",
            "Matrix-A is: \n",
            "1\t2\t\n",
            "3\t4\t\n",
            "Matrix-B is: \n",
            "9\t6\t\n",
            "5\t4\t\n",
            "Sum of Matrices is: \n",
            "10\t8\t\n",
            "8\t8\t\n"
          ],
          "name": "stdout"
        }
      ]
    },
    {
      "cell_type": "markdown",
      "metadata": {
        "id": "Po4bcHqm6GEp"
      },
      "source": [
        "11(c) \n",
        "\n",
        "**Aim** : Write a program to perform multiplication of two square matrices"
      ]
    },
    {
      "cell_type": "markdown",
      "metadata": {
        "id": "wqmZ--FvmOKP"
      },
      "source": [
        "\n",
        "**DESCRIPTION:**\n",
        "\n",
        "In Python, we can implement a matrix as nested list (list inside a list).\n",
        "\n",
        "We can treat each element as a row of the matrix.\n",
        "\n",
        "For example X = [[1, 2], [4, 5], [3, 6]] would represent a 3x2 matrix.\n",
        "\n",
        "The first row can be selected as X[0]. And, the element in first row, first column can be selected as X[0][0].\n",
        "\n",
        "Multiplication of two matrices X and Y is defined only if the number of columns in X is equal to the number of rows Y.\n",
        "\n",
        "If X is a n x m matrix and Y is a m x l matrix then, XY is defined and has the dimension n x l (but YX is not defined). Here are a couple of ways to implement matrix multiplication in Python."
      ]
    },
    {
      "cell_type": "markdown",
      "metadata": {
        "id": "w2CMl_X4DSJF"
      },
      "source": [
        "**CODE**"
      ]
    },
    {
      "cell_type": "code",
      "metadata": {
        "colab": {
          "base_uri": "https://localhost:8080/"
        },
        "id": "yg8tsFUa6YQC",
        "outputId": "3cbd7eaf-7133-4e96-8b91-1699ca845fa1"
      },
      "source": [
        "def matRead(r,c):\n",
        "  return[[int(input(\"[%d,%d]value: \"%(i,j)))for j in range(c)]for i in range(r)]\n",
        "              \n",
        "def matDisp(mat,r,c):\n",
        "  for i in range(r):\n",
        "    for j in range(c):\n",
        "      print(mat[i][j],end='\\t')\n",
        "    print()\n",
        "matA=[[]]\n",
        "matB=[[]]\n",
        "matMul=[[]]\n",
        "rows=int(input(\"Enter row size of the Matrix: \"))\n",
        "cols=int(input(\"Enter columns size of the Matrix: \"))\n",
        "\n",
        "if rows==cols:\n",
        "  print(\"Enter Matrix-A: \")\n",
        "  matA=matRead(rows,cols)\n",
        "  print(\"Enter Matrix-B: \")\n",
        "  matB=matRead(rows,cols)\n",
        "\n",
        "  matMul=[[0 for j in range(cols)]for i in range(rows)]\n",
        "\n",
        "  for i in range(rows):\n",
        "    for j in range(cols):\n",
        "      for k in range(cols):\n",
        "        matMul[i][j]+=matA[i][k]*matB[k][j]\n",
        "\n",
        "  print(\"Matrix-A is: \")\n",
        "  matDisp(matA,rows,cols)\n",
        "\n",
        "  print(\"Matrix-B is: \")\n",
        "  matDisp(matB,rows,cols)\n",
        "\n",
        "  print(\"Mukitiplication of matrices is: \")\n",
        "  matDisp(matMul,rows,cols)\n",
        "else:\n",
        "  print(\"Matrices Multiplicataion is Not Possible\")\n"
      ],
      "execution_count": null,
      "outputs": [
        {
          "output_type": "stream",
          "text": [
            "Enter row size of the Matrix: 2\n",
            "Enter columns size of the Matrix: 2\n",
            "Enter Matrix-A: \n",
            "[0,0]value: 2\n",
            "[0,1]value: 3\n",
            "[1,0]value: 5\n",
            "[1,1]value: 6\n",
            "Enter Matrix-B: \n",
            "[0,0]value: 1\n",
            "[0,1]value: 2\n",
            "[1,0]value: 3\n",
            "[1,1]value: 4\n",
            "Matrix-A is: \n",
            "2\t3\t\n",
            "5\t6\t\n",
            "Matrix-B is: \n",
            "1\t2\t\n",
            "3\t4\t\n",
            "Mukitiplication of matrices is: \n",
            "11\t16\t\n",
            "23\t34\t\n"
          ],
          "name": "stdout"
        }
      ]
    },
    {
      "cell_type": "markdown",
      "metadata": {
        "id": "L0lYZyiFAgvv"
      },
      "source": [
        "**Exercise** **12**\n",
        "\n",
        "**Aim** : Install packages requests flask and explore them.using(pip)"
      ]
    },
    {
      "cell_type": "markdown",
      "metadata": {
        "id": "65DXIBBO_XwL"
      },
      "source": [
        "**DESCRIPTION:**\n",
        "\n",
        "Installing the pip Python package manager on Windows\n",
        "If you are on Windows, and your installed Python the current version, you already have pip! If your Python installation is not the most recent, the easiest thing to do is to simply reinstall it. Download the Python Windows installer at https://www.python.org/downloads/.\n",
        "\n",
        "In Windows, the variable that controls which programs are accessible from the command line is path. To modify your path to include Python and pip, we have to add C:\\Python27 and C:\\Python27\\Tools. Edit the Windows path by opening the Windows menu, right-clicking on Computer and clicking on Properties. Under Advanced system settings, click Environment Variables.... Scroll down until you find Path, double-click it, and add ;C:\\Python27;C:\\Python27\\Tools to the end.\n",
        "\n",
        "**Installing packages:**\n",
        "\n",
        "Suppose you want to install a package called requests (which is used to make HTTP requests). You need to issue the following command.\n",
        "\n",
        "pip install requests\n",
        "\n",
        "**show installed packages**\n",
        "\n",
        "You can use the following command to get information about a installed package, i.e Package name, version, location, dependencies.\n",
        "\n",
        "pip show package_name\n",
        "\n",
        "**install flask**\n",
        "\n",
        "On Mac and Linux, because you are installing programs outside the user-owned folders, you might have to prepend sudo to the install commands. To install Flask, simply run this:\n",
        "\n",
        "$ pip install flask\n",
        "\n",
        "**show installed flask**\n",
        "\n",
        "You can use the following command to get information about a installed flask, i.e Package name, version, location, dependencies\n",
        "\n",
        "$ pip show flask\n",
        "\n"
      ]
    },
    {
      "cell_type": "markdown",
      "metadata": {
        "id": "ReehrjF4_tuv"
      },
      "source": [
        "The requests and flask packages are downloaded from internet using the following commands.\n",
        "\n",
        "c:\\phython3.9\\scripts>pip install requests\n",
        "\n",
        "c:\\phython3.9\\scripts>pip show requests\n",
        "\n",
        "c:\\phython3.9\\scripts>pip install flask\n",
        "\n",
        "c:\\phython3.9\\scripts>pip show flask"
      ]
    },
    {
      "cell_type": "markdown",
      "metadata": {
        "id": "_E5MoEqRkmuO"
      },
      "source": [
        ""
      ]
    },
    {
      "cell_type": "markdown",
      "metadata": {
        "id": "U0Ksk2O3A54f"
      },
      "source": [
        "12(b)\n",
        " \n",
        "**Aim** : Write a script that imports requests and fetch content from the page."
      ]
    },
    {
      "cell_type": "markdown",
      "metadata": {
        "id": "vd_qv7N1mtv-"
      },
      "source": [
        "\n",
        "**DESCRIPTION:**\n",
        "\n",
        "The Hypertext Transfer Protocol (HTTP) is an application protocol for distributed, collaborative, hypermedia information systems. HTTP is the foundation of data communication for the World Wide Web.\n",
        "\n",
        "**Python requests**\n",
        "\n",
        "Requests is a simple and elegant Python HTTP library. It provides methods for accessing Web resources via HTTP.\n",
        "\n",
        "**Python requests reading a web page**\n",
        "\n",
        "The **get()** method issues a GET request; it fetches documents identified by the given URL.\n",
        "\n"
      ]
    },
    {
      "cell_type": "markdown",
      "metadata": {
        "id": "lfauq6e9DV9g"
      },
      "source": [
        "**CODE**"
      ]
    },
    {
      "cell_type": "code",
      "metadata": {
        "id": "KNhXBzNiBMSR",
        "colab": {
          "base_uri": "https://localhost:8080/"
        },
        "outputId": "033337da-a019-4e69-eb9b-4e4cb9997d0a"
      },
      "source": [
        "import requests\n",
        "r=requests.get('https://www.google.com')\n",
        "print(\"Statuscode: \",r.status_code)\n",
        "print(\"Header Content: \",r.headers['content-type'])\n",
        "print(r.text)\n"
      ],
      "execution_count": null,
      "outputs": [
        {
          "output_type": "stream",
          "name": "stdout",
          "text": [
            "Statuscode:  200\n",
            "Header Content:  text/html; charset=ISO-8859-1\n",
            "<!doctype html><html itemscope=\"\" itemtype=\"http://schema.org/WebPage\" lang=\"nl\"><head><meta content=\"text/html; charset=UTF-8\" http-equiv=\"Content-Type\"><meta content=\"/images/branding/googleg/1x/googleg_standard_color_128dp.png\" itemprop=\"image\"><title>Google</title><script nonce=\"PRtnwucaO+0IWxbQx+Ut7w==\">(function(){window.google={kEI:'pxU2YeSjEMrC0PEProqRsA0',kEXPI:'0,772215,1,530314,56879,954,5105,206,4804,2316,383,246,5,1354,5250,1122516,1197717,565,328985,51223,16115,19397,9287,17572,4858,1362,284,9006,3029,2815,14765,4998,13228,3847,10622,19044,2778,919,5081,1595,1277,2212,530,149,1103,840,1983,4314,3514,606,2023,1777,522,14668,3227,1989,856,7,5599,6754,5097,7540,4084,4696,908,2,940,2615,13142,3,346,230,6460,148,12289,1686,4,1528,2304,1236,10487,2014,13611,2725,2039,2658,4242,2459,656,30,13628,2305,638,1494,5586,3772,7428,652,5178,2527,992,3102,20,3118,6,908,3,3541,1,5096,2,1,3,9608,1814,283,912,5992,16728,1715,2,3057,6167,6729,1532,2377,1680,126,618,5852,1576,3,472,7275,460,677,1160,1269,43,5097,290,2122,259,2717,4547,3,125,16,5332,4635,1214,2408,2,1,12,7730,1932,2635,383,1214,981,2787,345,543,13,2062,399,2,2411,487,1264,267,2,627,1662,49,259,335,665,2,2778,401,5,8,663,1167,272,889,1090,531,94,230,198,35,414,244,528,753,31,4,639,29,853,2,1417,28,160,93,1105,99,1027,352,1001,369,125,242,39,32,4,789,2,1,12,395,394,84,141,580,525,2,529,137,30,1446,1592,5581645,226,220,72,88,45,76,2,15,5996570,2800697,882,444,1,2,80,1,1796,1,9,2553,1,748,141,795,563,1,4265,1,1,2,1331,4142,2609,155,17,13,72,139,4,2,20,2,169,13,19,46,5,39,96,548,29,2,2,1,2,1,2,2,7,4,1,2,2,2,2,2,2,353,513,186,1,1,158,3,2,2,2,2,2,4,2,3,3,269,291,53,23,26,17,12,27,20,11,21,4,21,23654332,299864,2738464,1302888,338,3,2414,448,2,463,94,78,406,9,4775,883,110',kBL:'Wtym'};google.sn='webhp';google.kHL='nl';})();(function(){\n",
            "var f=this||self;var h,k=[];function l(a){for(var b;a&&(!a.getAttribute||!(b=a.getAttribute(\"eid\")));)a=a.parentNode;return b||h}function m(a){for(var b=null;a&&(!a.getAttribute||!(b=a.getAttribute(\"leid\")));)a=a.parentNode;return b}\n",
            "function n(a,b,c,d,g){var e=\"\";c||-1!==b.search(\"&ei=\")||(e=\"&ei=\"+l(d),-1===b.search(\"&lei=\")&&(d=m(d))&&(e+=\"&lei=\"+d));d=\"\";!c&&f._cshid&&-1===b.search(\"&cshid=\")&&\"slh\"!==a&&(d=\"&cshid=\"+f._cshid);c=c||\"/\"+(g||\"gen_204\")+\"?atyp=i&ct=\"+a+\"&cad=\"+b+e+\"&zx=\"+Date.now()+d;/^http:/i.test(c)&&\"https:\"===window.location.protocol&&(google.ml&&google.ml(Error(\"a\"),!1,{src:c,glmm:1}),c=\"\");return c};h=google.kEI;google.getEI=l;google.getLEI=m;google.ml=function(){return null};google.log=function(a,b,c,d,g){if(c=n(a,b,c,d,g)){a=new Image;var e=k.length;k[e]=a;a.onerror=a.onload=a.onabort=function(){delete k[e]};a.src=c}};google.logUrl=n;}).call(this);(function(){\n",
            "google.y={};google.sy=[];google.x=function(a,b){if(a)var c=a.id;else{do c=Math.random();while(google.y[c])}google.y[c]=[a,b];return!1};google.sx=function(a){google.sy.push(a)};google.lm=[];google.plm=function(a){google.lm.push.apply(google.lm,a)};google.lq=[];google.load=function(a,b,c){google.lq.push([[a],b,c])};google.loadAll=function(a,b){google.lq.push([a,b])};google.bx=!1;google.lx=function(){};}).call(this);google.f={};(function(){\n",
            "document.documentElement.addEventListener(\"submit\",function(b){var a;if(a=b.target){var c=a.getAttribute(\"data-submitfalse\");a=\"1\"==c||\"q\"==c&&!a.elements.q.value?!0:!1}else a=!1;a&&(b.preventDefault(),b.stopPropagation())},!0);document.documentElement.addEventListener(\"click\",function(b){var a;a:{for(a=b.target;a&&a!=document.documentElement;a=a.parentElement)if(\"A\"==a.tagName){a=\"1\"==a.getAttribute(\"data-nohref\");break a}a=!1}a&&b.preventDefault()},!0);}).call(this);</script><style>#gbar,#guser{font-size:13px;padding-top:1px !important;}#gbar{height:22px}#guser{padding-bottom:7px !important;text-align:right}.gbh,.gbd{border-top:1px solid #c9d7f1;font-size:1px}.gbh{height:0;position:absolute;top:24px;width:100%}@media all{.gb1{height:22px;margin-right:.5em;vertical-align:top}#gbar{float:left}}a.gb1,a.gb4{text-decoration:underline !important}a.gb1,a.gb4{color:#00c !important}.gbi .gb4{color:#dd8e27 !important}.gbf .gb4{color:#900 !important}\n",
            "</style><style>body,td,a,p,.h{font-family:arial,sans-serif}body{margin:0;overflow-y:scroll}#gog{padding:3px 8px 0}td{line-height:.8em}.gac_m td{line-height:17px}form{margin-bottom:20px}.h{color:#1558d6}em{font-weight:bold;font-style:normal}.lst{height:25px;width:496px}.gsfi,.lst{font:18px arial,sans-serif}.gsfs{font:17px arial,sans-serif}.ds{display:inline-box;display:inline-block;margin:3px 0 4px;margin-left:4px}input{font-family:inherit}body{background:#fff;color:#000}a{color:#4b11a8;text-decoration:none}a:hover,a:active{text-decoration:underline}.fl a{color:#1558d6}a:visited{color:#4b11a8}.sblc{padding-top:5px}.sblc a{display:block;margin:2px 0;margin-left:13px;font-size:11px}.lsbb{background:#f8f9fa;border:solid 1px;border-color:#dadce0 #70757a #70757a #dadce0;height:30px}.lsbb{display:block}#WqQANb a{display:inline-block;margin:0 12px}.lsb{background:url(/images/nav_logo229.png) 0 -261px repeat-x;border:none;color:#000;cursor:pointer;height:30px;margin:0;outline:0;font:15px arial,sans-serif;vertical-align:top}.lsb:active{background:#dadce0}.lst:focus{outline:none}</style><script nonce=\"PRtnwucaO+0IWxbQx+Ut7w==\"></script></head><body bgcolor=\"#fff\"><script nonce=\"PRtnwucaO+0IWxbQx+Ut7w==\">(function(){var src='/images/nav_logo229.png';var iesg=false;document.body.onload = function(){window.n && window.n();if (document.images){new Image().src=src;}\n",
            "if (!iesg){document.f&&document.f.q.focus();document.gbqf&&document.gbqf.q.focus();}\n",
            "}\n",
            "})();</script><div id=\"mngb\"><div id=gbar><nobr><b class=gb1>Zoeken</b> <a class=gb1 href=\"https://www.google.nl/imghp?hl=nl&tab=wi\">Afbeeldingen</a> <a class=gb1 href=\"https://maps.google.nl/maps?hl=nl&tab=wl\">Maps</a> <a class=gb1 href=\"https://play.google.com/?hl=nl&tab=w8\">Play</a> <a class=gb1 href=\"https://www.youtube.com/?gl=NL&tab=w1\">YouTube</a> <a class=gb1 href=\"https://news.google.com/?tab=wn\">Nieuws</a> <a class=gb1 href=\"https://mail.google.com/mail/?tab=wm\">Gmail</a> <a class=gb1 href=\"https://drive.google.com/?tab=wo\">Drive</a> <a class=gb1 style=\"text-decoration:none\" href=\"https://www.google.nl/intl/nl/about/products?tab=wh\"><u>Meer</u> &raquo;</a></nobr></div><div id=guser width=100%><nobr><span id=gbn class=gbi></span><span id=gbf class=gbf></span><span id=gbe></span><a href=\"http://www.google.nl/history/optout?hl=nl\" class=gb4>Webgeschiedenis</a> | <a  href=\"/preferences?hl=nl\" class=gb4>Instellingen</a> | <a target=_top id=gb_70 href=\"https://accounts.google.com/ServiceLogin?hl=nl&passive=true&continue=https://www.google.com/&ec=GAZAAQ\" class=gb4>Inloggen</a></nobr></div><div class=gbh style=left:0></div><div class=gbh style=right:0></div></div><center><br clear=\"all\" id=\"lgpd\"><div id=\"lga\"><img alt=\"Google\" height=\"92\" src=\"/images/branding/googlelogo/1x/googlelogo_white_background_color_272x92dp.png\" style=\"padding:28px 0 14px\" width=\"272\" id=\"hplogo\"><br><br></div><form action=\"/search\" name=\"f\"><table cellpadding=\"0\" cellspacing=\"0\"><tr valign=\"top\"><td width=\"25%\">&nbsp;</td><td align=\"center\" nowrap=\"\"><input name=\"ie\" value=\"ISO-8859-1\" type=\"hidden\"><input value=\"nl\" name=\"hl\" type=\"hidden\"><input name=\"source\" type=\"hidden\" value=\"hp\"><input name=\"biw\" type=\"hidden\"><input name=\"bih\" type=\"hidden\"><div class=\"ds\" style=\"height:32px;margin:4px 0\"><input class=\"lst\" style=\"margin:0;padding:5px 8px 0 6px;vertical-align:top;color:#000\" autocomplete=\"off\" value=\"\" title=\"Google zoeken\" maxlength=\"2048\" name=\"q\" size=\"57\"></div><br style=\"line-height:0\"><span class=\"ds\"><span class=\"lsbb\"><input class=\"lsb\" value=\"Google zoeken\" name=\"btnG\" type=\"submit\"></span></span><span class=\"ds\"><span class=\"lsbb\"><input class=\"lsb\" id=\"tsuid1\" value=\"Ik doe een gok\" name=\"btnI\" type=\"submit\"><script nonce=\"PRtnwucaO+0IWxbQx+Ut7w==\">(function(){var id='tsuid1';document.getElementById(id).onclick = function(){if (this.form.q.value){this.checked = 1;if (this.form.iflsig)this.form.iflsig.disabled = false;}\n",
            "else top.location='/doodles/';};})();</script><input value=\"ALs-wAMAAAAAYTYjtw8L4gyy_UMCCvWPQPTFTqngCdV5\" name=\"iflsig\" type=\"hidden\"></span></span></td><td class=\"fl sblc\" align=\"left\" nowrap=\"\" width=\"25%\"><a href=\"/advanced_search?hl=nl&amp;authuser=0\">Geavanceerd zoeken</a></td></tr></table><input id=\"gbv\" name=\"gbv\" type=\"hidden\" value=\"1\"><script nonce=\"PRtnwucaO+0IWxbQx+Ut7w==\">(function(){\n",
            "var a,b=\"1\";if(document&&document.getElementById)if(\"undefined\"!=typeof XMLHttpRequest)b=\"2\";else if(\"undefined\"!=typeof ActiveXObject){var c,d,e=[\"MSXML2.XMLHTTP.6.0\",\"MSXML2.XMLHTTP.3.0\",\"MSXML2.XMLHTTP\",\"Microsoft.XMLHTTP\"];for(c=0;d=e[c++];)try{new ActiveXObject(d),b=\"2\"}catch(h){}}a=b;if(\"2\"==a&&-1==location.search.indexOf(\"&gbv=2\")){var f=google.gbvu,g=document.getElementById(\"gbv\");g&&(g.value=a);f&&window.setTimeout(function(){location.href=f},0)};}).call(this);</script></form><div id=\"gac_scont\"></div><div style=\"font-size:83%;min-height:3.5em\"><br><div id=\"gws-output-pages-elements-homepage_additional_languages__als\"><style>#gws-output-pages-elements-homepage_additional_languages__als{font-size:small;margin-bottom:24px}#SIvCob{color:#3c4043;display:inline-block;line-height:28px;}#SIvCob a{padding:0 3px;}.H6sW5{display:inline-block;margin:0 2px;white-space:nowrap}.z4hgWe{display:inline-block;margin:0 2px}</style><div id=\"SIvCob\">Google aangeboden in:  <a href=\"https://www.google.com/setprefs?sig=0_PDfEyNLFBl1zb6Wlscdub5zAj3E%3D&amp;hl=fy&amp;source=homepage&amp;sa=X&amp;ved=0ahUKEwikk56fuOryAhVKITQIHS5FBNYQ2ZgBCAU\">Frysk</a>  </div></div></div><span id=\"footer\"><div style=\"font-size:10pt\"><div style=\"margin:19px auto;text-align:center\" id=\"WqQANb\"><a href=\"/intl/nl/ads/\">Advertentieprogramma's</a><a href=\"http://www.google.nl/intl/nl/services/\">Bedrijfsoplossingen</a><a href=\"/intl/nl/about.html\">Alles over Google</a><a href=\"https://www.google.com/setprefdomain?prefdom=NL&amp;prev=https://www.google.nl/&amp;sig=K_gRsrfj-JRHc_c1mDx-SAllactM8%3D\">Google.nl</a></div></div><p style=\"font-size:8pt;color:#70757a\">&copy; 2021 - <a href=\"/intl/nl/policies/privacy/\">Privacy</a> - <a href=\"/intl/nl/policies/terms/\">Voorwaarden</a></p></span></center><script nonce=\"PRtnwucaO+0IWxbQx+Ut7w==\">(function(){window.google.cdo={height:757,width:1440};(function(){\n",
            "var a=window.innerWidth,b=window.innerHeight;if(!a||!b){var c=window.document,d=\"CSS1Compat\"==c.compatMode?c.documentElement:c.body;a=d.clientWidth;b=d.clientHeight}a&&b&&(a!=google.cdo.width||b!=google.cdo.height)&&google.log(\"\",\"\",\"/client_204?&atyp=i&biw=\"+a+\"&bih=\"+b+\"&ei=\"+google.kEI);}).call(this);})();</script> <script nonce=\"PRtnwucaO+0IWxbQx+Ut7w==\">(function(){google.xjs={ck:'',cs:'',excm:[]};})();</script>  <script nonce=\"PRtnwucaO+0IWxbQx+Ut7w==\">(function(){var u='/xjs/_/js/k\\x3dxjs.hp.en.uJVE4aH5PNY.O/am\\x3dAPgEWA/d\\x3d1/ed\\x3d1/rs\\x3dACT90oH46UR8q8EWogvmv18iTgG_1SJR5A/m\\x3dsb_he,d';\n",
            "var e=this||self,f=function(a){return a};var g;var l=function(a,b){this.g=b===h?a:\"\"};l.prototype.toString=function(){return this.g+\"\"};var h={};function m(){var a=u;google.lx=function(){n(a);google.lx=function(){}};google.bx||google.lx()}\n",
            "function n(a){google.timers&&google.timers.load&&google.tick&&google.tick(\"load\",\"xjsls\");var b=document;var c=\"SCRIPT\";\"application/xhtml+xml\"===b.contentType&&(c=c.toLowerCase());c=b.createElement(c);if(void 0===g){b=null;var k=e.trustedTypes;if(k&&k.createPolicy){try{b=k.createPolicy(\"goog#html\",{createHTML:f,createScript:f,createScriptURL:f})}catch(p){e.console&&e.console.error(p.message)}g=b}else g=b}a=(b=g)?b.createScriptURL(a):a;a=new l(a,h);c.src=a instanceof l&&a.constructor===l?a.g:\"type_error:TrustedResourceUrl\";var d;a=(c.ownerDocument&&c.ownerDocument.defaultView||window).document;(d=(b=null===(d=a.querySelector)||void 0===d?void 0:d.call(a,\"script[nonce]\"))?b.nonce||b.getAttribute(\"nonce\")||\"\":\"\")&&c.setAttribute(\"nonce\",d);document.body.appendChild(c);google.psa=!0};setTimeout(function(){m()},0);})();(function(){window.google.xjsu='/xjs/_/js/k\\x3dxjs.hp.en.uJVE4aH5PNY.O/am\\x3dAPgEWA/d\\x3d1/ed\\x3d1/rs\\x3dACT90oH46UR8q8EWogvmv18iTgG_1SJR5A/m\\x3dsb_he,d';})();function _DumpException(e){throw e;}\n",
            "function _F_installCss(c){}\n",
            "(function(){google.jl={attn:false,blt:'none',chnk:0,dw:false,emtn:0,end:0,ine:false,lls:'default',pdt:0,rep:0,sif:true,snet:true,strt:0,ubm:false,uwp:true};})();(function(){var pmc='{\\x22d\\x22:{},\\x22sb_he\\x22:{\\x22agen\\x22:true,\\x22cgen\\x22:true,\\x22client\\x22:\\x22heirloom-hp\\x22,\\x22dh\\x22:true,\\x22dhqt\\x22:true,\\x22ds\\x22:\\x22\\x22,\\x22ffql\\x22:\\x22en\\x22,\\x22fl\\x22:true,\\x22host\\x22:\\x22google.com\\x22,\\x22isbh\\x22:28,\\x22jsonp\\x22:true,\\x22msgs\\x22:{\\x22cibl\\x22:\\x22Zoekopdracht wissen\\x22,\\x22dym\\x22:\\x22Bedoelde je:\\x22,\\x22lcky\\x22:\\x22Ik doe een gok\\x22,\\x22lml\\x22:\\x22Meer informatie\\x22,\\x22oskt\\x22:\\x22Invoertools\\x22,\\x22psrc\\x22:\\x22Deze zoekopdracht is verwijderd uit je \\\\u003Ca href\\x3d\\\\\\x22/history\\\\\\x22\\\\u003EWebgeschiedenis\\\\u003C/a\\\\u003E\\x22,\\x22psrl\\x22:\\x22Verwijderen\\x22,\\x22sbit\\x22:\\x22Zoeken op afbeelding\\x22,\\x22srch\\x22:\\x22Google zoeken\\x22},\\x22ovr\\x22:{},\\x22pq\\x22:\\x22\\x22,\\x22refpd\\x22:true,\\x22rfs\\x22:[],\\x22sbas\\x22:\\x220 3px 8px 0 rgba(0,0,0,0.2),0 0 0 1px rgba(0,0,0,0.08)\\x22,\\x22sbpl\\x22:16,\\x22sbpr\\x22:16,\\x22scd\\x22:10,\\x22stok\\x22:\\x22O8Hl2RgOuBdBnCxfnDAE2wz1NYo\\x22,\\x22uhde\\x22:false}}';google.pmc=JSON.parse(pmc);})();</script>        </body></html>\n"
          ]
        }
      ]
    },
    {
      "cell_type": "markdown",
      "metadata": {
        "id": "OfbXrIIBCH7b"
      },
      "source": [
        "12(c)\n",
        "\n",
        "**Aim** :  Write a simple script that serves that serves a simple HTML page"
      ]
    },
    {
      "cell_type": "markdown",
      "metadata": {
        "id": "Kj19R7GFm6m6"
      },
      "source": [
        "\n",
        "**DESCRIPTION:**\n",
        "\n",
        "  **HTTP Protocol**\n",
        "\n",
        "The most important part of a web server is HTTP protocol.So now we will see what exactly this is –\n",
        "\n",
        "It stands for Hyper Text Transfer Protocol.\n",
        "\n",
        "It is an application layer protocol that allows web based applications to \n",
        "communicate and exchange data.\n",
        "\n",
        "The HTTP is the messenger of web.\n",
        "\n",
        "The computer that communicate via the HTTP must speak the HTTP protocol.\n",
        "\n",
        "It is a TCP/IP based protocol.\n",
        "\n",
        "It is used to deliver contents, for eg. images, audios, videos, documents etc.\n",
        "\n",
        "Using HTTP is the most convenient way to quickly and reliably move data on the web.\n",
        "\n",
        "HTML stands for hypertext markup language. It is the standard markup language for web pages that define the structure of the content. These elements are the building blocks of any website"
      ]
    },
    {
      "cell_type": "markdown",
      "metadata": {
        "id": "FRuqKnDRDapG"
      },
      "source": [
        "**CODE**"
      ]
    },
    {
      "cell_type": "code",
      "metadata": {
        "id": "uNgGghMBCY6M",
        "colab": {
          "base_uri": "https://localhost:8080/"
        },
        "outputId": "6d274a0c-b34e-4287-d0a4-183b1a4d849b"
      },
      "source": [
        "\n",
        "from flask import Flask,render_template\n",
        "app=Flask(__name__)\n",
        "print(app)\n",
        "@app.route(\"/\")\n",
        "\n",
        "\n",
        "def main():\n",
        "    return render_template('abc.html')\n",
        "\n",
        "if __name__==\"__main__\":\n",
        "    app.run(host=\"127.0.0.1\",port=2500)\n"
      ],
      "execution_count": null,
      "outputs": [
        {
          "output_type": "stream",
          "name": "stdout",
          "text": [
            "<Flask '__main__'>\n",
            " * Serving Flask app \"__main__\" (lazy loading)\n",
            " * Environment: production\n",
            "\u001b[31m   WARNING: This is a development server. Do not use it in a production deployment.\u001b[0m\n",
            "\u001b[2m   Use a production WSGI server instead.\u001b[0m\n",
            " * Debug mode: off\n"
          ]
        },
        {
          "output_type": "stream",
          "name": "stderr",
          "text": [
            " * Running on http://127.0.0.1:2500/ (Press CTRL+C to quit)\n"
          ]
        }
      ]
    },
    {
      "cell_type": "markdown",
      "metadata": {
        "id": "OeIJWgLcDYUC"
      },
      "source": [
        "**Excercise** **13**\n",
        "\n",
        "**Aim** : Class variables and instances variable and illustration of the self-variable\n",
        "1)"
      ]
    },
    {
      "cell_type": "markdown",
      "metadata": {
        "id": "ErhqRDGaAUHw"
      },
      "source": [
        "**DESCRIPTION:**\n",
        "\n",
        "Variables are named storage location. In python variables are not defined by its type instead it\n",
        "will be automatically determined by the value assigned to it.\n",
        "To determine the type of a variable a function called type () is used.\n",
        "\n",
        "**class variable**is shared by all object instances of a class. ... They are not defined inside any methods of a class. Because a class variable is shared by instances of a class, the Python class owns the variable. As a result, all instances of the class will be able to access that variable\n",
        "\n",
        "**Instance variables** are owned by instances of the class. This means that for each object or instance of a class, the instance variables are different. ... Instance variables, owned by objects of the class, allow for each object or instance to have different values assigned to those variables\n",
        "\n",
        "**self variable** is used to bind the instance of the class to the instance method. We have to explicitly declare it as the first method argument to access the instance variables and methods. This variable is used only with the instance methods."
      ]
    },
    {
      "cell_type": "markdown",
      "metadata": {
        "id": "on2zPlC3DcSU"
      },
      "source": [
        "**CODE**"
      ]
    },
    {
      "cell_type": "code",
      "metadata": {
        "id": "6K_HtPvLDpZg",
        "colab": {
          "base_uri": "https://localhost:8080/"
        },
        "outputId": "18952f70-c308-4699-8195-8d859f1178cd"
      },
      "source": [
        "\n",
        "class Robot:\n",
        "    what=\"Machine\"\n",
        "    name=\"Kishore\"\n",
        "    version=1.0\n",
        "    speed=\"1THz\"\n",
        "    memory=\"1ZB\"\n",
        "\n",
        "    def update(upd):\n",
        "        upd.version=2.0\n",
        "        upd.speed=\"2THz\"\n",
        "        upd.memory=\"2ZB\"\n",
        "\n",
        "    def disp(self):\n",
        "        print(\"Myself is a\",robj.what)\n",
        "        print(\"MyName is a\",robj.name)\n",
        "        print(\"Version:\",robj.version)\n",
        "        print(\"Speed:\",robj.speed)\n",
        "        print(\"Memory:\",robj.memory)\n",
        " \n",
        "robj=Robot ()\n",
        "robj.disp()\n",
        "\n",
        "print(\"------------Update---------\")\n",
        "robj.update()\n",
        "robj.disp()\n"
      ],
      "execution_count": null,
      "outputs": [
        {
          "output_type": "stream",
          "name": "stdout",
          "text": [
            "Myself is a Machine\n",
            "MyName is a Kishore\n",
            "Version: 1.0\n",
            "Speed: 1THz\n",
            "Memory: 1ZB\n",
            "------------Update---------\n",
            "Myself is a Machine\n",
            "MyName is a Kishore\n",
            "Version: 2.0\n",
            "Speed: 2THz\n",
            "Memory: 2ZB\n"
          ]
        }
      ]
    },
    {
      "cell_type": "markdown",
      "metadata": {
        "id": "H1YNRlrSF4OX"
      },
      "source": [
        "**ATM** **Machine**"
      ]
    },
    {
      "cell_type": "markdown",
      "metadata": {
        "id": "vILIZo9SDeY8"
      },
      "source": [
        "**CODE**"
      ]
    },
    {
      "cell_type": "code",
      "metadata": {
        "id": "g0vR8I9nF8ou",
        "colab": {
          "base_uri": "https://localhost:8080/"
        },
        "outputId": "e9978af7-75e6-4132-c1ad-1558574f8471"
      },
      "source": [
        "\n",
        "class ATM:\n",
        "    def __init__(self):\n",
        "        self.balance=0\n",
        "\n",
        "    def enquire(self):\n",
        "        print(\"Balance: \",self.balance)\n",
        "\n",
        "    def deposit(self):\n",
        "        amount=int(input(\"Enter the deposit amount:\"))\n",
        "        self.balance+=amount\n",
        "        self.enquire()\n",
        "\n",
        "    def withdraw(self):\n",
        "        amount=int(input(\"Enter the Withdraw amount:\"))\n",
        "        if self.balance<amount:\n",
        "            print(\"Insufficient Balance....!\")\n",
        "        else:\n",
        "            self.balance-=amount\n",
        "            self.enquire()\n",
        "\n",
        "aobj=ATM()\n",
        "while(True):\n",
        "    print(\"****Menu****\")\n",
        "    print(\"1.Deposit\")\n",
        "    print(\"2.Withdraw\")\n",
        "    print(\"3.Balance\")\n",
        "    print(\"0.Exit\")\n",
        "    ch=int(input(\"Enter Your Choice: \"))\n",
        "    if ch==0:\n",
        "        break\n",
        "    elif ch==1:\n",
        "        aobj.deposit()\n",
        "    elif ch==2:\n",
        "        aobj.withdraw()\n",
        "    elif ch==3:\n",
        "        aobj.enquire()\n",
        "    else:\n",
        "        print(\"Invalid choice:\")\n",
        "        pass\n"
      ],
      "execution_count": null,
      "outputs": [
        {
          "name": "stdout",
          "output_type": "stream",
          "text": [
            "****Menu****\n",
            "1.Deposit\n",
            "2.Withdraw\n",
            "3.Balance\n",
            "0.Exit\n",
            "Enter Your Choice: 1\n",
            "Enter the deposit amount:1000\n",
            "Balance:  1000\n",
            "****Menu****\n",
            "1.Deposit\n",
            "2.Withdraw\n",
            "3.Balance\n",
            "0.Exit\n",
            "Enter Your Choice: 3\n",
            "Balance:  1000\n",
            "****Menu****\n",
            "1.Deposit\n",
            "2.Withdraw\n",
            "3.Balance\n",
            "0.Exit\n",
            "Enter Your Choice: 0\n"
          ]
        }
      ]
    },
    {
      "cell_type": "markdown",
      "metadata": {
        "id": "mFf4vKs6gZNK"
      },
      "source": [
        " **Exercise** - **14**\n",
        " \n",
        " **GUI**, **Graphics**\n",
        " \n",
        "**Aim** : 1. Write a GUI for an Expression Calculator using tk\n",
        " \n",
        "**Aim** : 2. Write a program to implement the following figures using turtle"
      ]
    },
    {
      "cell_type": "markdown",
      "metadata": {
        "id": "HuBS1qLina43"
      },
      "source": [
        "\n",
        "**DESCRIPTION:**\n",
        "\n",
        "Tkinter is a Python package which comes with many functions and methods that can be used to create an application. In order to create a tkinter application, we generally create an instance of tkinter frame, i.e., Tk(). It helps to display the root window and manages all the other components of the tkinter application. We can initialize the tkinter instance by assigning the variable to it."
      ]
    },
    {
      "cell_type": "markdown",
      "metadata": {
        "id": "3yrbLRPrDgnL"
      },
      "source": [
        "**CODE**"
      ]
    },
    {
      "cell_type": "code",
      "metadata": {
        "id": "pF7ODsjdCfB3"
      },
      "source": [
        "from tkinter import *\n",
        "\n",
        "win = Tk() # to create a basic window\n",
        "win.geometry(\"312x324\")  #for the size of the window \n",
        "win.resizable(0, 0)  # to prevent from resizing the window\n",
        "win.title(\"Calculator\")\n",
        "\n",
        "# 'btn_click' Function continuously updates the \n",
        "# input field whenever you enters a number\n",
        "\n",
        "def btn_click(item):\n",
        "    global expression\n",
        "    expression = expression + str(item)\n",
        "    input_text.set(expression)\n",
        "\n",
        "# 'bt_clear' function : used to clear the input field\n",
        "\n",
        "def bt_clear(): \n",
        "    global expression \n",
        "    expression = \"\"\n",
        "    input_text.set(\"\")\n",
        "\n",
        "# 'bt_equal':calculates the expression present in input field\n",
        "\n",
        "def bt_equal():\n",
        "    global expression\n",
        "    result = str(eval(expression)) # 'eval':This function is used to evaluates the string expression directly\n",
        "    input_text.set(result)\n",
        "    expression = \"\"\n",
        "\n",
        "expression = \"\"\n",
        "\n",
        "# 'StringVar()' :used to get the instance of input field\n",
        "\n",
        "input_text = StringVar()\n",
        "\n",
        "# creating a frame for the input field\n",
        "\n",
        "input_frame = Frame(win, width=312, height=50, bd=0, highlightbackground=\"black\", highlightcolor=\"black\", highlightthickness=2)\n",
        "\n",
        "input_frame.pack(side=TOP)\n",
        "\n",
        "#create a input field inside the 'Frame'\n",
        "\n",
        "input_field = Entry(input_frame, font=('arial', 18, 'bold'), textvariable=input_text, width=50, bg=\"#eee\", bd=0, justify=RIGHT)\n",
        "\n",
        "input_field.grid(row=0, column=0)\n",
        "\n",
        "input_field.pack(ipady=10)\n",
        "# 'ipady' is internal padding to increase the height of input field\n",
        "\n",
        "#creating another 'Frame' for the button below the 'input_frame'\n",
        "\n",
        "btns_frame = Frame(win, width=312, height=272.5, bg=\"grey\")\n",
        "\n",
        "btns_frame.pack()\n",
        "\n",
        "# first row\n",
        "\n",
        "clear = Button(btns_frame, text = \"C\", fg = \"black\", width = 32, height = 3, bd = 0, bg = \"#eee\", cursor = \"hand2\", command = lambda: bt_clear()).grid(row = 0, column = 0, columnspan = 3, padx = 1, pady = 1)\n",
        "\n",
        "divide = Button(btns_frame, text = \"/\", fg = \"black\", width = 10, height = 3, bd = 0, bg = \"#eee\", cursor = \"hand2\", command = lambda: btn_click(\"/\")).grid(row = 0, column = 3, padx = 1, pady = 1)\n",
        "\n",
        "# second row\n",
        "\n",
        "seven = Button(btns_frame, text = \"7\", fg = \"black\", width = 10, height = 3, bd = 0, bg = \"#fff\", cursor = \"hand2\", command = lambda: btn_click(7)).grid(row = 1, column = 0, padx = 1, pady = 1)\n",
        "\n",
        "eight = Button(btns_frame, text = \"8\", fg = \"black\", width = 10, height = 3, bd = 0, bg = \"#fff\", cursor = \"hand2\", command = lambda: btn_click(8)).grid(row = 1, column = 1, padx = 1, pady = 1)\n",
        "\n",
        "nine = Button(btns_frame, text = \"9\", fg = \"black\", width = 10, height = 3, bd = 0, bg = \"#fff\", cursor = \"hand2\", command = lambda: btn_click(9)).grid(row = 1, column = 2, padx = 1, pady = 1)\n",
        "\n",
        "multiply = Button(btns_frame, text = \"\", fg = \"black\", width = 10, height = 3, bd = 0, bg = \"#eee\", cursor = \"hand2\", command = lambda: btn_click(\"\")).grid(row = 1, column = 3, padx = 1, pady = 1)\n",
        "\n",
        "# third row\n",
        "\n",
        "four = Button(btns_frame, text = \"4\", fg = \"black\", width = 10, height = 3, bd = 0, bg = \"#fff\", cursor = \"hand2\", command = lambda: btn_click(4)).grid(row = 2, column = 0, padx = 1, pady = 1)\n",
        "\n",
        "five = Button(btns_frame, text = \"5\", fg = \"black\", width = 10, height = 3, bd = 0, bg = \"#fff\", cursor = \"hand2\", command = lambda: btn_click(5)).grid(row = 2, column = 1, padx = 1, pady = 1)\n",
        "\n",
        "six = Button(btns_frame, text = \"6\", fg = \"black\", width = 10, height = 3, bd = 0, bg = \"#fff\", cursor = \"hand2\", command = lambda: btn_click(6)).grid(row = 2, column = 2, padx = 1, pady = 1)\n",
        "\n",
        "minus = Button(btns_frame, text = \"-\", fg = \"black\", width = 10, height = 3, bd = 0, bg = \"#eee\", cursor = \"hand2\", command = lambda: btn_click(\"-\")).grid(row = 2, column = 3, padx = 1, pady = 1)\n",
        "\n",
        "# fourth row\n",
        "\n",
        "one = Button(btns_frame, text = \"1\", fg = \"black\", width = 10, height = 3, bd = 0, bg = \"#fff\", cursor = \"hand2\", command = lambda: btn_click(1)).grid(row = 3, column = 0, padx = 1, pady = 1)\n",
        "\n",
        "two = Button(btns_frame, text = \"2\", fg = \"black\", width = 10, height = 3, bd = 0, bg = \"#fff\", cursor = \"hand2\", command = lambda: btn_click(2)).grid(row = 3, column = 1, padx = 1, pady = 1)\n",
        "\n",
        "three = Button(btns_frame, text = \"3\", fg = \"black\", width = 10, height = 3, bd = 0, bg = \"#fff\", cursor = \"hand2\", command = lambda: btn_click(3)).grid(row = 3, column = 2, padx = 1, pady = 1)\n",
        "\n",
        "plus = Button(btns_frame, text = \"+\", fg = \"black\", width = 10, height = 3, bd = 0, bg = \"#eee\", cursor = \"hand2\", command = lambda: btn_click(\"+\")).grid(row = 3, column = 3, padx = 1, pady = 1)\n",
        "\n",
        "# fifth row\n",
        "\n",
        "zero = Button(btns_frame, text = \"0\", fg = \"black\", width = 21, height = 3, bd = 0, bg = \"#fff\", cursor = \"hand2\", command = lambda: btn_click(0)).grid(row = 4, column = 0, columnspan = 2, padx = 1, pady = 1)\n",
        "\n",
        "point = Button(btns_frame, text = \".\", fg = \"black\", width = 10, height = 3, bd = 0, bg = \"#eee\", cursor = \"hand2\", command = lambda: btn_click(\".\")).grid(row = 4, column = 2, padx = 1, pady = 1)\n",
        "\n",
        "equals = Button(btns_frame, text = \"=\", fg = \"black\", width = 10, height = 3, bd = 0, bg = \"#eee\", cursor = \"hand2\", command = lambda: bt_equal()).grid(row = 4, column = 3, padx = 1, pady = 1)\n",
        "\n",
        "win.mainloop()"
      ],
      "execution_count": null,
      "outputs": []
    },
    {
      "cell_type": "markdown",
      "metadata": {
        "id": "hNP_is8tR1H6"
      },
      "source": [
        "https://drive.google.com/file/d/1wmP7468qu0_sDM-kdMop1_HmJK19Bb2y/view?usp=sharing"
      ]
    },
    {
      "cell_type": "markdown",
      "metadata": {
        "id": "PZAURepHR3E9"
      },
      "source": [
        "https://drive.google.com/file/d/1EKtrQzzyJPsaex-kjd-ZLUD8TlU72bvm/view?usp=sharing"
      ]
    },
    {
      "cell_type": "markdown",
      "metadata": {
        "id": "7PTIMe58R8_d"
      },
      "source": [
        "https://drive.google.com/file/d/1T7O2fRBDrRLdzEK7kbj-ui5SNC4igDme/view?usp=sharing"
      ]
    },
    {
      "cell_type": "markdown",
      "metadata": {
        "id": "oXtIHh_kA4GL"
      },
      "source": [
        "**AIM:**  b. Write a program to implement the following figures using turtle"
      ]
    },
    {
      "cell_type": "markdown",
      "metadata": {
        "id": "3ueTSdTQBER0"
      },
      "source": [
        "**DESCRIPTION:**\n",
        "\n",
        "The turtle module is an extended reimplementation of the same-named module from the Python standard distribution up to version Python 2.5.\n",
        "\n",
        "It tries to keep the merits of the old turtle module and to be (nearly) 100% compatible with it. This means in the first place to enable the learning programmer to use all the commands, classes and methods interactively when using the module from within IDLE run with the -n switch.\n",
        "\n",
        "The turtle module provides turtle graphics primitives, in both object-oriented and procedure-oriented ways. Because it uses tkinter for the underlying graphics, it needs a version of Python installed with Tk support."
      ]
    },
    {
      "cell_type": "markdown",
      "metadata": {
        "id": "WitiNkXFDkbb"
      },
      "source": [
        "**CODE**"
      ]
    },
    {
      "cell_type": "code",
      "metadata": {
        "id": "iLw-se5XgaCT"
      },
      "source": [
        "import turtle\n",
        "c=[\"red\",\"green\",\"blue\"]\n",
        "i=0\n",
        "turtle.pensize(5)\n",
        "\n",
        "for angle in range(0,360,30):\n",
        "    if i>2:\n",
        "        i=0\n",
        "    turtle.color(c[i])\n",
        "    turtle.seth(angle)\n",
        "    turtle.circle(50)\n",
        "    i+=1"
      ],
      "execution_count": null,
      "outputs": []
    },
    {
      "cell_type": "markdown",
      "metadata": {
        "id": "0C-nfiwiSRBc"
      },
      "source": [
        "https://drive.google.com/file/d/1eO7D9QdEhvpJ361AQ27u-3vayjNk-W1M/view?usp=sharing"
      ]
    },
    {
      "cell_type": "markdown",
      "metadata": {
        "id": "nwAJuIRFDmLL"
      },
      "source": [
        "**CODE**"
      ]
    },
    {
      "cell_type": "code",
      "metadata": {
        "id": "G-65FBC3gaFi"
      },
      "source": [
        " import turtle\n",
        "turtle.pensize(1)\n",
        " \n",
        "for i in range(36):\n",
        "    for j in range(4):\n",
        "        turtle.forward(70)\n",
        "        turtle.left(90)\n",
        "    turtle.left(10)"
      ],
      "execution_count": null,
      "outputs": []
    },
    {
      "cell_type": "markdown",
      "metadata": {
        "id": "Kiba9-BWSUTZ"
      },
      "source": [
        "https://drive.google.com/file/d/1oiosPXpdD-ioDpquXQ0RRgthFwmt1MIj/view?usp=sharing"
      ]
    },
    {
      "cell_type": "markdown",
      "metadata": {
        "id": "1DEzh-4dgPWc"
      },
      "source": [
        "**Exercise** - **15** - **Testing**\n",
        "\n",
        "**Aim** : a) Write a test-case to check the function even numbers which return True on passing a list of all even numbers"
      ]
    },
    {
      "cell_type": "markdown",
      "metadata": {
        "id": "lNKlBK-fnsvl"
      },
      "source": [
        "**Description** : \n",
        "\n",
        "**DESCRIPTION:**\n",
        "\n",
        "TestCase is used to create test cases by subclassing it. The last block of the code at the bottom allows us to run all the tests just by running the file. Basic terms used in the code : assertEqual() – This statement is used to check if the result obtained is equal to the expected result\n",
        "\n",
        "**test case:**\n",
        "\n",
        "A test case is a set of conditions which is used to determine whether a system under test works correctly."
      ]
    },
    {
      "cell_type": "markdown",
      "metadata": {
        "id": "Z3CSVVecDn_f"
      },
      "source": [
        "**CODE**"
      ]
    },
    {
      "cell_type": "code",
      "metadata": {
        "colab": {
          "base_uri": "https://localhost:8080/"
        },
        "id": "miTN8wYbgONQ",
        "outputId": "69b0fa43-28ec-4a36-a3fb-e8c1cc9b1ade"
      },
      "source": [
        "def even(num):\n",
        "  st= True\n",
        "  for i in num:\n",
        "    if i%2==0:\n",
        "      st=False\n",
        "      break\n",
        "  return st\n",
        "numbers=[]\n",
        "print(\"enter th efive nums:\")\n",
        "for i in range(0,5):\n",
        "  numbers.append(int(input(\"enter a value:\")))\n",
        "print(even(numbers))\n"
      ],
      "execution_count": null,
      "outputs": [
        {
          "output_type": "stream",
          "text": [
            "enter th efive nums:\n",
            "enter a value:12\n",
            "enter a value:21\n",
            "enter a value:23\n",
            "enter a value:12\n",
            "enter a value:12\n",
            "False\n"
          ],
          "name": "stdout"
        }
      ]
    },
    {
      "cell_type": "markdown",
      "metadata": {
        "id": "8yBs01ymBmYh"
      },
      "source": [
        "**Aim** : b) Write a test-case to check the function reverse string which returns the reversed string"
      ]
    },
    {
      "cell_type": "markdown",
      "metadata": {
        "id": "VAKRKyIyBd7X"
      },
      "source": [
        "**DESCRIPTION:**\n",
        "\n",
        "Python string library does’nt support the in-built “reverse()” as done by other python containers like list, hence knowing other methods to reverse string can prove to be useful. This article discusses several ways to achieve it.\n",
        "\n",
        "The reversed() returns the reversed iterator of the given string and then its elements are joined empty string separated using join(). And reversed order string is formed."
      ]
    },
    {
      "cell_type": "markdown",
      "metadata": {
        "id": "BctslwtVDpxN"
      },
      "source": [
        "**CODE**"
      ]
    },
    {
      "cell_type": "code",
      "metadata": {
        "colab": {
          "base_uri": "https://localhost:8080/"
        },
        "id": "8xokVXRqgbGN",
        "outputId": "081dc282-22a1-4766-9eca-3356155b783c"
      },
      "source": [
        "def revs(str):\n",
        "  return str[::-1]\n",
        "st=\"Nandu\"\n",
        "print(\"given string is:\",st)\n",
        "print(revs(st))\n"
      ],
      "execution_count": null,
      "outputs": [
        {
          "output_type": "stream",
          "name": "stdout",
          "text": [
            "given string is: Nandu\n",
            "udnaN\n"
          ]
        }
      ]
    },
    {
      "cell_type": "markdown",
      "metadata": {
        "id": "F3LbG0RI79L8"
      },
      "source": [
        "**EXERCISE**-**16**:ADVANCED \n",
        "\n",
        "**Aim** : A) BUILD ANY ONE CLASSICAL DATA STRUCTURE.\n",
        "\n"
      ]
    },
    {
      "cell_type": "markdown",
      "metadata": {
        "id": "Tfm_fT4Cn92d"
      },
      "source": [
        "\n",
        "**DESCRIPTION:**\n",
        "\n",
        "**What is a Data Structure?** \n",
        "\n",
        "Organizing, managing and storing data is important as it enables easier access and efficient modifications. Data Structures allows you to organize your data in such a way that enables you to store collections of data, relate them and perform operations on them accordingly. \n",
        "\n",
        "**Stack**\n",
        "Stacks are linear Data Structures which are based on the principle of Last-In-First-Out (LIFO) where data which is entered last will be the first to get accessed. It is built using the array structure and has operations namely, pushing (adding) elements, popping (deleting) elements and accessing elements only from one point in the stack called as the TOP. This TOP is the pointer to the current position of the stack. Stacks are prominently used in applications such as Recursive Programming, reversing words, undo mechanisms in word editors and so forth."
      ]
    },
    {
      "cell_type": "markdown",
      "metadata": {
        "id": "cViYzkBYDrbE"
      },
      "source": [
        "**CODE**"
      ]
    },
    {
      "cell_type": "code",
      "metadata": {
        "id": "7HFr6Xcb8SWo",
        "colab": {
          "base_uri": "https://localhost:8080/",
          "height": 695
        },
        "outputId": "beead940-0998-40a1-85c2-a858f4361f4e"
      },
      "source": [
        " import sys\n",
        "a=[]\n",
        " \n",
        "while True:\n",
        "  print (\"\\nl.PUSH 2.POP 3.DISPLAY 4.EXIT\")\n",
        "  ch=int(input(\"Enter Your Choice: \"))\n",
        "  if ch==1:\n",
        "   ele=int(input(\"Enter element: \"))\n",
        "   a.append(ele)\n",
        "   print(\"Inserted\")\n",
        "  elif ch==2:\n",
        "   if len(a)==0:\n",
        "     print (\"\\t STACK IS EMPTY\")\n",
        "   else:\n",
        "     print (\"Deleted element is: \",a[len(a)-1])\n",
        "     a.remove(a[len(a)-1])\n",
        "  elif ch==3:\n",
        "   if len(a)==0:\n",
        "     print (\"\\t STACK IS EMPTY\")\n",
        "   else:\n",
        "    print (\"The Elements in Stack is: \")\n",
        "    for i in reversed(a):\n",
        "       print(i)\n",
        "  elif ch==4:\n",
        "    sys.exit()\n",
        "  else:\n",
        "   print (\"\\tINVALID CHOICE\")"
      ],
      "execution_count": null,
      "outputs": [
        {
          "name": "stdout",
          "output_type": "stream",
          "text": [
            "\n",
            "l.PUSH 2.POP 3.DISPLAY 4.EXIT\n",
            "Enter Your Choice: 1\n",
            "Enter element: 2\n",
            "Inserted\n",
            "\n",
            "l.PUSH 2.POP 3.DISPLAY 4.EXIT\n",
            "Enter Your Choice: 3\n",
            "The Elements in Stack is: \n",
            "2\n",
            "\n",
            "l.PUSH 2.POP 3.DISPLAY 4.EXIT\n",
            "Enter Your Choice: 1\n",
            "Enter element: 20\n",
            "Inserted\n",
            "\n",
            "l.PUSH 2.POP 3.DISPLAY 4.EXIT\n",
            "Enter Your Choice: 3\n",
            "The Elements in Stack is: \n",
            "20\n",
            "2\n",
            "\n",
            "l.PUSH 2.POP 3.DISPLAY 4.EXIT\n",
            "Enter Your Choice: 2\n",
            "Deleted element is:  20\n",
            "\n",
            "l.PUSH 2.POP 3.DISPLAY 4.EXIT\n",
            "Enter Your Choice: 3\n",
            "The Elements in Stack is: \n",
            "2\n",
            "\n",
            "l.PUSH 2.POP 3.DISPLAY 4.EXIT\n",
            "Enter Your Choice: 4\n"
          ]
        },
        {
          "output_type": "error",
          "ename": "SystemExit",
          "evalue": "ignored",
          "traceback": [
            "An exception has occurred, use %tb to see the full traceback.\n",
            "\u001b[0;31mSystemExit\u001b[0m\n"
          ]
        },
        {
          "output_type": "stream",
          "name": "stderr",
          "text": [
            "/usr/local/lib/python3.7/dist-packages/IPython/core/interactiveshell.py:2890: UserWarning: To exit: use 'exit', 'quit', or Ctrl-D.\n",
            "  warn(\"To exit: use 'exit', 'quit', or Ctrl-D.\", stacklevel=1)\n"
          ]
        }
      ]
    },
    {
      "cell_type": "markdown",
      "metadata": {
        "id": "pgbwnAr5B56c"
      },
      "source": [
        "**Aim** :B) WRITE A PROGRAM TO SOLVE KNAPSACK PROBLEM."
      ]
    },
    {
      "cell_type": "markdown",
      "metadata": {
        "id": "fm8mKjFyB7f4"
      },
      "source": [
        "**DESCRIPTION:**\n",
        "\n",
        "Python Program for 0-1 Knapsack Problem\n",
        "\n",
        "Problem statement − We are given weights and values of n items, we need to put these items in a bag of capacity W up to the maximum capacity w. We need to carry a maximum number of items and return its value.\n",
        "\n",
        " Brute-force approach.\n",
        "\n",
        "dynamic approach."
      ]
    },
    {
      "cell_type": "markdown",
      "metadata": {
        "id": "aeZOGomoDuFB"
      },
      "source": [
        "**CODE**"
      ]
    },
    {
      "cell_type": "code",
      "metadata": {
        "id": "-O9tpFDM8S6E",
        "colab": {
          "base_uri": "https://localhost:8080/"
        },
        "outputId": "ac6e11b9-694a-498c-d8ee-3c8008829aec"
      },
      "source": [
        "def knapSack(W, wt, val, n):\n",
        "   K= [[0 for x in range(W+1)] for x in range(n+1)]\n",
        "   for i in range(n+1):\n",
        "     for w in range(W+1):\n",
        "       if i==0 or w==0:\n",
        "          K[i][w] = 0\n",
        "       elif wt[i-1]<=w:\n",
        "          K[i][w]= max(val[i-1]+K[i-1][w-wt[i-1]],K[i-1][w])\n",
        "       else:\n",
        "          K[i][w] = K[i-1][w]\n",
        "   return K[n][W]\n",
        "val = [5, 3, 4]\n",
        "wt = [3, 2, 1]\n",
        "W = 5\n",
        "n= len(val)\n",
        "print(\"Maximum value knapsack of capacity W: \", knapSack(W, wt,val,n))"
      ],
      "execution_count": null,
      "outputs": [
        {
          "output_type": "stream",
          "text": [
            "Maximum value knapsack of capacity W:  9\n"
          ],
          "name": "stdout"
        }
      ]
    },
    {
      "cell_type": "markdown",
      "metadata": {
        "id": "iUhvbp8Q8jzN"
      },
      "source": [
        "**EXERCISE 17 & 18**\n",
        "\n",
        "**Aim** : DATA ANALYSIS DATA ANALYSIS OR MANIPULATION USING THE FOLLOWING PACKAGES A) NUMPY B) PANDAS A) SCIPY B) MATPLOTLIB"
      ]
    },
    {
      "cell_type": "markdown",
      "metadata": {
        "id": "L9zCE75QoSSn"
      },
      "source": [
        "**Description** : \n",
        "\n",
        "**DESCRIPTION:**\n",
        "\n",
        "Learn how to analyze data using Python. ... It includes following parts: Data Analysis libraries: will learn to use Pandas, Numpy and Scipy libraries to work with a sample dataset. We will introduce you to pandas, an open-source library, and we will use it to load, manipulate, analyze, and visualize cool datasets.\n",
        "\n",
        "**SciPy** is a free and open-source Python library used for scientific computing and technical computing. It is a collection of mathematical algorithms and convenience functions built on the NumPy extension of Python\n",
        "\n",
        "**NumPy** is the fundamental package for scientific computing in Python. ... NumPy arrays facilitate advanced mathematical and other types of operations on large numbers of data.\n",
        "\n",
        "**Matplotlib** is a plotting library for the Python programming language and its numerical mathematics extension NumPy. It provides an object-oriented API for embedding plots into applications using general-purpose GUI toolkits like Tkinter, wxPython, Qt, or GTK\n",
        "\n",
        "**Pandas** is an open source Python package that is most widely used for data science/data analysis and machine learning tasks. It is built on top of another package named Numpy, which provides support for multi-dimensional arrays.\n",
        "\n",
        "**Scikit-learn** is probably the most useful library for machine learning in Python. The sklearn library contains a lot of efficient tools for machine learning and statistical modeling including classification, regression, clustering and dimensionality reduction.\n",
        "\n",
        "**Seaborn** is a library in Python predominantly used for making statistical graphics. Seaborn is a data visualization library built on top of matplotlib and closely integrated with pandas data structures in Python\n",
        "\n"
      ]
    },
    {
      "cell_type": "markdown",
      "metadata": {
        "id": "9ngePYloDv-u"
      },
      "source": [
        "**CODE**"
      ]
    },
    {
      "cell_type": "code",
      "metadata": {
        "id": "MA86dmQS8leP",
        "colab": {
          "base_uri": "https://localhost:8080/"
        },
        "outputId": "98b03e6c-ba0b-4bcf-97a0-6288fba6350b"
      },
      "source": [
        "#Python version\n",
        "import sys\n",
        "print('Python: {}'.format(sys.version))\n",
        " \n",
        "#scipy\n",
        "import scipy\n",
        "print('scipy: {}'.format(scipy.__version__))\n",
        " \n",
        "# numpy\n",
        "import numpy\n",
        "print( 'numpy: {}'.format(numpy.__version__))\n",
        " \n",
        "# matplotlib\n",
        "import matplotlib\n",
        "print('matplotlib: {}'.format(matplotlib.__version__))\n",
        " \n",
        "# pandas\n",
        "import pandas\n",
        "print('pandas: {}'.format(pandas.__version__))\n",
        " \n",
        "#scikit-learn\n",
        "import sklearn\n",
        "print('sklearn: {}'.format(sklearn.__version__))\n",
        "import seaborn\n",
        "print('seaborn: {}'.format(seaborn.__version__))\n",
        "import urllib\n",
        "print('urlib: {}'.format(urllib.__name__))\n",
        "import csv\n",
        "print('csv: {}'.format(csv.__version__))"
      ],
      "execution_count": null,
      "outputs": [
        {
          "output_type": "stream",
          "text": [
            "Python: 3.7.11 (default, Jul  3 2021, 18:01:19) \n",
            "[GCC 7.5.0]\n",
            "scipy: 1.4.1\n",
            "numpy: 1.19.5\n",
            "matplotlib: 3.2.2\n",
            "pandas: 1.1.5\n",
            "sklearn: 0.22.2.post1\n",
            "seaborn: 0.11.1\n",
            "urlib: urllib\n",
            "csv: 1.0\n"
          ],
          "name": "stdout"
        }
      ]
    },
    {
      "cell_type": "markdown",
      "metadata": {
        "id": "S-Sq7_xmUPeI"
      },
      "source": [
        "# **NumPy**"
      ]
    },
    {
      "cell_type": "code",
      "metadata": {
        "colab": {
          "base_uri": "https://localhost:8080/"
        },
        "id": "gtoKKdr6UcW3",
        "outputId": "f2511a11-35c7-46a3-ac8d-f1ec30e548d5"
      },
      "source": [
        "import numpy as np\n",
        "a=np.array([0,1,2])\n",
        "print(type(a))\n",
        "print(a.shape)\n",
        "print(a[0])\n",
        "print(a[1])\n",
        "print(a[2])\n",
        "a[0]=5\n",
        "print(a)\n"
      ],
      "execution_count": null,
      "outputs": [
        {
          "output_type": "stream",
          "name": "stdout",
          "text": [
            "<class 'numpy.ndarray'>\n",
            "(3,)\n",
            "0\n",
            "1\n",
            "2\n",
            "[5 1 2]\n"
          ]
        }
      ]
    },
    {
      "cell_type": "code",
      "metadata": {
        "colab": {
          "base_uri": "https://localhost:8080/"
        },
        "id": "7LZC8GYwVDFg",
        "outputId": "82b81441-e9e6-4dd7-d4d9-765590235c8f"
      },
      "source": [
        "import numpy as np\n",
        "b=np.array([[0,1,2],[3,4,5]])\n",
        "print(b.shape)\n",
        "print(b)\n",
        "print(b[0,0],b[0,1],b[1,0])\n"
      ],
      "execution_count": null,
      "outputs": [
        {
          "output_type": "stream",
          "name": "stdout",
          "text": [
            "(2, 3)\n",
            "[[0 1 2]\n",
            " [3 4 5]]\n",
            "0 1 3\n"
          ]
        }
      ]
    },
    {
      "cell_type": "code",
      "metadata": {
        "colab": {
          "base_uri": "https://localhost:8080/"
        },
        "id": "VpWIfGrVVSp7",
        "outputId": "ba5d75c0-bbb8-4cda-a019-1fd133efcf31"
      },
      "source": [
        "import numpy as np\n",
        "a=np.zeros((3,3))\n",
        "print(a)"
      ],
      "execution_count": null,
      "outputs": [
        {
          "output_type": "stream",
          "name": "stdout",
          "text": [
            "[[0. 0. 0.]\n",
            " [0. 0. 0.]\n",
            " [0. 0. 0.]]\n"
          ]
        }
      ]
    },
    {
      "cell_type": "code",
      "metadata": {
        "colab": {
          "base_uri": "https://localhost:8080/"
        },
        "id": "S3egASoKVY56",
        "outputId": "2ae7091a-45b5-4647-b07f-72620d76bf14"
      },
      "source": [
        "import numpy as np\n",
        "b=np.ones((2,2))\n",
        "print(b)"
      ],
      "execution_count": null,
      "outputs": [
        {
          "output_type": "stream",
          "name": "stdout",
          "text": [
            "[[1. 1.]\n",
            " [1. 1.]]\n"
          ]
        }
      ]
    },
    {
      "cell_type": "code",
      "metadata": {
        "colab": {
          "base_uri": "https://localhost:8080/"
        },
        "id": "BedJbK3cVfsw",
        "outputId": "af7fbfdf-1f0b-4a71-8a35-76ae9094891c"
      },
      "source": [
        "import numpy as np\n",
        "c=np.full((3,3),7)\n",
        "print(c)"
      ],
      "execution_count": null,
      "outputs": [
        {
          "output_type": "stream",
          "name": "stdout",
          "text": [
            "[[7 7 7]\n",
            " [7 7 7]\n",
            " [7 7 7]]\n"
          ]
        }
      ]
    },
    {
      "cell_type": "code",
      "metadata": {
        "colab": {
          "base_uri": "https://localhost:8080/"
        },
        "id": "NxWtVcNEVoHC",
        "outputId": "0199cfcc-2fee-42f0-b3e6-2a0627168132"
      },
      "source": [
        "import numpy as np\n",
        "d=np.random.random((3,3))\n",
        "print(d)"
      ],
      "execution_count": null,
      "outputs": [
        {
          "output_type": "stream",
          "name": "stdout",
          "text": [
            "[[0.9517245  0.54158821 0.18033042]\n",
            " [0.56970326 0.09925028 0.16042985]\n",
            " [0.13902733 0.94755845 0.98821355]]\n"
          ]
        }
      ]
    },
    {
      "cell_type": "code",
      "metadata": {
        "colab": {
          "base_uri": "https://localhost:8080/"
        },
        "id": "CR_0djmMVujN",
        "outputId": "dc279f51-3b7c-4963-f849-8a3a7a4763e3"
      },
      "source": [
        "import numpy as np\n",
        "e=np.eye(3)\n",
        "print(e)"
      ],
      "execution_count": null,
      "outputs": [
        {
          "output_type": "stream",
          "name": "stdout",
          "text": [
            "[[1. 0. 0.]\n",
            " [0. 1. 0.]\n",
            " [0. 0. 1.]]\n"
          ]
        }
      ]
    },
    {
      "cell_type": "code",
      "metadata": {
        "colab": {
          "base_uri": "https://localhost:8080/"
        },
        "id": "0IlEGmWjV27J",
        "outputId": "b6c6411c-49b2-420d-876e-eae34de90813"
      },
      "source": [
        "import numpy as np\n",
        "f=np.array([2,3,1,0])\n",
        "print(f)"
      ],
      "execution_count": null,
      "outputs": [
        {
          "output_type": "stream",
          "name": "stdout",
          "text": [
            "[2 3 1 0]\n"
          ]
        }
      ]
    },
    {
      "cell_type": "code",
      "metadata": {
        "colab": {
          "base_uri": "https://localhost:8080/"
        },
        "id": "Xyp-lPE2V64A",
        "outputId": "f9fadf41-997f-404d-9be9-513d54a98b83"
      },
      "source": [
        "import numpy as np\n",
        "g=np.arange(2,10)\n",
        "print(g)"
      ],
      "execution_count": null,
      "outputs": [
        {
          "output_type": "stream",
          "name": "stdout",
          "text": [
            "[2 3 4 5 6 7 8 9]\n"
          ]
        }
      ]
    },
    {
      "cell_type": "code",
      "metadata": {
        "colab": {
          "base_uri": "https://localhost:8080/"
        },
        "id": "JgdP3x5TV-to",
        "outputId": "038f0ef8-1c73-4ff0-f9b8-d071af804814"
      },
      "source": [
        "import numpy as np\n",
        "h=np.array([[0,1,2.0],[0,0,0],(1+1j,3.,2.)])\n",
        "print(h)"
      ],
      "execution_count": null,
      "outputs": [
        {
          "output_type": "stream",
          "name": "stdout",
          "text": [
            "[[0.+0.j 1.+0.j 2.+0.j]\n",
            " [0.+0.j 0.+0.j 0.+0.j]\n",
            " [1.+1.j 3.+0.j 2.+0.j]]\n"
          ]
        }
      ]
    },
    {
      "cell_type": "code",
      "metadata": {
        "colab": {
          "base_uri": "https://localhost:8080/"
        },
        "id": "MD5ekgDJWC75",
        "outputId": "baa4c6ea-dcf9-464f-da6c-01f753a9e914"
      },
      "source": [
        "import numpy as np\n",
        "i=np.arange(1,8,dtype=np.float)\n",
        "print(i)"
      ],
      "execution_count": null,
      "outputs": [
        {
          "output_type": "stream",
          "name": "stdout",
          "text": [
            "[1. 2. 3. 4. 5. 6. 7.]\n"
          ]
        }
      ]
    },
    {
      "cell_type": "code",
      "metadata": {
        "colab": {
          "base_uri": "https://localhost:8080/"
        },
        "id": "lvS2CO3yWGEW",
        "outputId": "032db2b4-eef6-430c-d695-8e8521e9bbff"
      },
      "source": [
        "import numpy as np\n",
        "j=np.linspace(2.,4., 5)\n",
        "print(j)"
      ],
      "execution_count": null,
      "outputs": [
        {
          "output_type": "stream",
          "name": "stdout",
          "text": [
            "[2.  2.5 3.  3.5 4. ]\n"
          ]
        }
      ]
    },
    {
      "cell_type": "code",
      "metadata": {
        "colab": {
          "base_uri": "https://localhost:8080/"
        },
        "id": "l8dQJnrtWNNc",
        "outputId": "0574a385-1b19-43df-cb60-32031f7f9a3e"
      },
      "source": [
        "import numpy as np\n",
        "k=np.indices((3,3))\n",
        "print(k)"
      ],
      "execution_count": null,
      "outputs": [
        {
          "output_type": "stream",
          "name": "stdout",
          "text": [
            "[[[0 0 0]\n",
            "  [1 1 1]\n",
            "  [2 2 2]]\n",
            "\n",
            " [[0 1 2]\n",
            "  [0 1 2]\n",
            "  [0 1 2]]]\n"
          ]
        }
      ]
    },
    {
      "cell_type": "code",
      "metadata": {
        "colab": {
          "base_uri": "https://localhost:8080/"
        },
        "id": "O8m9TWDvWSE3",
        "outputId": "5bee143d-5e5d-4bd2-da74-505da0741169"
      },
      "source": [
        "import numpy as np\n",
        "x=np.array([0,1])\n",
        "y=np.array([2.0,3.0])\n",
        "z=np.array([5,6], dtype=np.int64)\n",
        "print(x.dtype,y.dtype,z.dtype)"
      ],
      "execution_count": null,
      "outputs": [
        {
          "output_type": "stream",
          "name": "stdout",
          "text": [
            "int64 float64 int64\n"
          ]
        }
      ]
    },
    {
      "cell_type": "code",
      "metadata": {
        "colab": {
          "base_uri": "https://localhost:8080/"
        },
        "id": "o7jZXNK9WVjk",
        "outputId": "1759dd73-cc32-4908-fed2-ff150e89f044"
      },
      "source": [
        "import numpy as np\n",
        "x=np.array([5,6,7,8,9])\n",
        "print(x[1:7:2])\n",
        "print(x[-2:5])\n",
        "print(x[-1:1:-1])"
      ],
      "execution_count": null,
      "outputs": [
        {
          "output_type": "stream",
          "name": "stdout",
          "text": [
            "[6 8]\n",
            "[8 9]\n",
            "[9 8 7]\n"
          ]
        }
      ]
    },
    {
      "cell_type": "code",
      "metadata": {
        "colab": {
          "base_uri": "https://localhost:8080/"
        },
        "id": "6VX5xaVuWdhd",
        "outputId": "f141cf48-95d9-4d09-aa6c-debebc40772b"
      },
      "source": [
        "import numpy as np\n",
        "a=np.array([[1,2],[3,4],[5,6]])\n",
        "print(a>2)\n",
        "print(a[a>2])"
      ],
      "execution_count": null,
      "outputs": [
        {
          "output_type": "stream",
          "name": "stdout",
          "text": [
            "[[False False]\n",
            " [ True  True]\n",
            " [ True  True]]\n",
            "[3 4 5 6]\n"
          ]
        }
      ]
    },
    {
      "cell_type": "code",
      "metadata": {
        "colab": {
          "base_uri": "https://localhost:8080/"
        },
        "id": "eNFsv25aWhzF",
        "outputId": "8a1ce264-40b2-4160-d78a-821fcbc5739f"
      },
      "source": [
        "import numpy as np\n",
        "x=np.array([[1,2],[3,4],[5,6]])\n",
        "y=np.array([[7,8],[9,10],[11,12]])\n",
        "print(x+y)\n",
        "print(np.add(x,y))\n",
        "print(x-y)\n",
        "print(np.subtract(x,y))"
      ],
      "execution_count": null,
      "outputs": [
        {
          "output_type": "stream",
          "name": "stdout",
          "text": [
            "[[ 8 10]\n",
            " [12 14]\n",
            " [16 18]]\n",
            "[[ 8 10]\n",
            " [12 14]\n",
            " [16 18]]\n",
            "[[-6 -6]\n",
            " [-6 -6]\n",
            " [-6 -6]]\n",
            "[[-6 -6]\n",
            " [-6 -6]\n",
            " [-6 -6]]\n"
          ]
        }
      ]
    },
    {
      "cell_type": "code",
      "metadata": {
        "colab": {
          "base_uri": "https://localhost:8080/"
        },
        "id": "yL1aX5MTWlde",
        "outputId": "738060ca-0e2f-4929-bc68-0540ec4da687"
      },
      "source": [
        "import numpy as np\n",
        "x=np.array([[1,2],[3,4],[5,6]])\n",
        "y=np.array([[7,8],[9,10],[11,12]])\n",
        "print(np.multiply(x,y))\n",
        "print(x*y)"
      ],
      "execution_count": null,
      "outputs": [
        {
          "output_type": "stream",
          "name": "stdout",
          "text": [
            "[[ 7 16]\n",
            " [27 40]\n",
            " [55 72]]\n",
            "[[ 7 16]\n",
            " [27 40]\n",
            " [55 72]]\n"
          ]
        }
      ]
    },
    {
      "cell_type": "code",
      "metadata": {
        "colab": {
          "base_uri": "https://localhost:8080/"
        },
        "id": "D-WjTdPNWtfy",
        "outputId": "6894fce1-8794-4938-dab7-12711716288b"
      },
      "source": [
        "import numpy as np\n",
        "x=np.array([[1,2],[3,4],[5,6]])\n",
        "y=np.array([[7,8],[9,10],[11,12]])\n",
        "print(np.divide(x,y))\n",
        "print(x/y)"
      ],
      "execution_count": null,
      "outputs": [
        {
          "output_type": "stream",
          "name": "stdout",
          "text": [
            "[[0.14285714 0.25      ]\n",
            " [0.33333333 0.4       ]\n",
            " [0.45454545 0.5       ]]\n",
            "[[0.14285714 0.25      ]\n",
            " [0.33333333 0.4       ]\n",
            " [0.45454545 0.5       ]]\n"
          ]
        }
      ]
    },
    {
      "cell_type": "code",
      "metadata": {
        "colab": {
          "base_uri": "https://localhost:8080/"
        },
        "id": "lX9PjBCiW5FQ",
        "outputId": "6375e712-a371-422b-c538-3fae3280688a"
      },
      "source": [
        "import numpy as np\n",
        "x=np.array([[1,2],[3,4],[5,6]])\n",
        "print(np.sqrt(x))"
      ],
      "execution_count": null,
      "outputs": [
        {
          "output_type": "stream",
          "name": "stdout",
          "text": [
            "[[1.         1.41421356]\n",
            " [1.73205081 2.        ]\n",
            " [2.23606798 2.44948974]]\n"
          ]
        }
      ]
    },
    {
      "cell_type": "code",
      "metadata": {
        "colab": {
          "base_uri": "https://localhost:8080/"
        },
        "id": "ghMHDv_iW9At",
        "outputId": "2ab062d0-f7df-4c35-d533-50b7df9ce396"
      },
      "source": [
        "import numpy as np\n",
        "a=np.array([9,10])\n",
        "b=np.array([11,12])\n",
        "print(a.dot(b))\n",
        "print(np.dot(a,b))"
      ],
      "execution_count": null,
      "outputs": [
        {
          "output_type": "stream",
          "name": "stdout",
          "text": [
            "219\n",
            "219\n"
          ]
        }
      ]
    },
    {
      "cell_type": "code",
      "metadata": {
        "colab": {
          "base_uri": "https://localhost:8080/"
        },
        "id": "jUN_cFWEXC5y",
        "outputId": "6eefc22c-1f5b-4aff-cfaa-ba6d5f7554f2"
      },
      "source": [
        "import numpy as np\n",
        "a=np.array([9,10])\n",
        "x=np.array([[1,2],[3,4]])\n",
        "print(x.dot(a))\n",
        "print(np.dot(x,a))"
      ],
      "execution_count": null,
      "outputs": [
        {
          "output_type": "stream",
          "name": "stdout",
          "text": [
            "[29 67]\n",
            "[29 67]\n"
          ]
        }
      ]
    },
    {
      "cell_type": "code",
      "metadata": {
        "colab": {
          "base_uri": "https://localhost:8080/"
        },
        "id": "oVo99yZ2XKJA",
        "outputId": "bd2b0d7c-b4b9-4c9e-8bdc-314a2fb54305"
      },
      "source": [
        "import numpy as np\n",
        "x=np.array([[1,2],[3,4]])\n",
        "y=np.array([[5,6],[7,8]])\n",
        "print(x.dot(y))\n",
        "print(np.dot(x,y))"
      ],
      "execution_count": null,
      "outputs": [
        {
          "output_type": "stream",
          "name": "stdout",
          "text": [
            "[[19 22]\n",
            " [43 50]]\n",
            "[[19 22]\n",
            " [43 50]]\n"
          ]
        }
      ]
    },
    {
      "cell_type": "code",
      "metadata": {
        "colab": {
          "base_uri": "https://localhost:8080/"
        },
        "id": "ftKNLEITXUkS",
        "outputId": "68384d94-4ab0-40a3-c192-2205592a580f"
      },
      "source": [
        "import numpy as np\n",
        "x=np.array([[1,2],[3,4]])\n",
        "print(np.sum(x))\n",
        "print(np.sum(x,axis=0))\n",
        "print(np.sum(x,axis=1))"
      ],
      "execution_count": null,
      "outputs": [
        {
          "output_type": "stream",
          "name": "stdout",
          "text": [
            "10\n",
            "[4 6]\n",
            "[3 7]\n"
          ]
        }
      ]
    },
    {
      "cell_type": "code",
      "metadata": {
        "colab": {
          "base_uri": "https://localhost:8080/"
        },
        "id": "9YiuPxZsXXVR",
        "outputId": "4df148fc-3323-4f8d-9d1c-3eeb2a0c22a4"
      },
      "source": [
        "import numpy as np\n",
        "x=np.array([[1,2],[3,4]])\n",
        "print(x)\n",
        "print(x.T)\n"
      ],
      "execution_count": null,
      "outputs": [
        {
          "output_type": "stream",
          "name": "stdout",
          "text": [
            "[[1 2]\n",
            " [3 4]]\n",
            "[[1 3]\n",
            " [2 4]]\n"
          ]
        }
      ]
    },
    {
      "cell_type": "code",
      "metadata": {
        "colab": {
          "base_uri": "https://localhost:8080/"
        },
        "id": "si6HSaNRXirI",
        "outputId": "986716fe-c91b-47c6-aebf-d8df340702d8"
      },
      "source": [
        "import numpy as np\n",
        "v=np.array([1,2,3])\n",
        "print(v)\n",
        "print(v.T)"
      ],
      "execution_count": null,
      "outputs": [
        {
          "output_type": "stream",
          "name": "stdout",
          "text": [
            "[1 2 3]\n",
            "[1 2 3]\n"
          ]
        }
      ]
    },
    {
      "cell_type": "code",
      "metadata": {
        "colab": {
          "base_uri": "https://localhost:8080/"
        },
        "id": "7izC9IgqXuUZ",
        "outputId": "54739d4a-f98d-434e-f5eb-9063b01679da"
      },
      "source": [
        "import numpy as np\n",
        "x=np.array([[1,2,1],[3,4,1]])\n",
        "print(\"X.T:\\n\",x.T)\n",
        "w=np.array([1,1])\n",
        "print(\"W:\\n\",w)\n",
        "\n",
        "print(\"Final :\\n\",(x.T+w).T)"
      ],
      "execution_count": null,
      "outputs": [
        {
          "output_type": "stream",
          "name": "stdout",
          "text": [
            "X.T:\n",
            " [[1 3]\n",
            " [2 4]\n",
            " [1 1]]\n",
            "W:\n",
            " [1 1]\n",
            "Final :\n",
            " [[2 3 2]\n",
            " [4 5 2]]\n"
          ]
        }
      ]
    },
    {
      "cell_type": "code",
      "metadata": {
        "colab": {
          "base_uri": "https://localhost:8080/"
        },
        "id": "0qEOCzWgXzzg",
        "outputId": "fcac0070-df6d-4f0a-e281-cf1e66f6251f"
      },
      "source": [
        "import numpy as np\n",
        "x=np.array([[1,2,1],[3,4,1]])\n",
        "print(x*2)"
      ],
      "execution_count": null,
      "outputs": [
        {
          "output_type": "stream",
          "name": "stdout",
          "text": [
            "[[2 4 2]\n",
            " [6 8 2]]\n"
          ]
        }
      ]
    },
    {
      "cell_type": "code",
      "metadata": {
        "colab": {
          "base_uri": "https://localhost:8080/"
        },
        "id": "GRfP4PpZX2kP",
        "outputId": "56365434-12b3-45fe-86c0-8d0d131d86f7"
      },
      "source": [
        "import numpy as np\n",
        "np.random.rand(3,2)"
      ],
      "execution_count": null,
      "outputs": [
        {
          "output_type": "execute_result",
          "data": {
            "text/plain": [
              "array([[0.79126919, 0.35977411],\n",
              "       [0.64955623, 0.68359266],\n",
              "       [0.66308812, 0.90063928]])"
            ]
          },
          "metadata": {},
          "execution_count": 57
        }
      ]
    },
    {
      "cell_type": "code",
      "metadata": {
        "colab": {
          "base_uri": "https://localhost:8080/"
        },
        "id": "VoA_PKgTX8R7",
        "outputId": "6cf16df0-4d4b-4827-cd12-f093e1a04208"
      },
      "source": [
        "import numpy as np\n",
        "np.random.rand(10)"
      ],
      "execution_count": null,
      "outputs": [
        {
          "output_type": "execute_result",
          "data": {
            "text/plain": [
              "array([0.45496676, 0.3912352 , 0.33335501, 0.78768005, 0.97271445,\n",
              "       0.87781864, 0.24046566, 0.82391432, 0.01635826, 0.24033062])"
            ]
          },
          "metadata": {},
          "execution_count": 58
        }
      ]
    },
    {
      "cell_type": "markdown",
      "metadata": {
        "id": "LHIIP5rSYFCc"
      },
      "source": [
        "# **Pandas**"
      ]
    },
    {
      "cell_type": "markdown",
      "metadata": {
        "id": "Jk7cjv4jYNJF"
      },
      "source": [
        "# **1.Creating Series**"
      ]
    },
    {
      "cell_type": "code",
      "metadata": {
        "colab": {
          "base_uri": "https://localhost:8080/"
        },
        "id": "_YzlNHXaYg-L",
        "outputId": "3dbbfae0-1565-45c5-95e2-d5e2e824e492"
      },
      "source": [
        "import pandas as pd\n",
        "s=pd.Series([1,2,3,4,5],index=['A','B','C','D','E'])\n",
        "s"
      ],
      "execution_count": null,
      "outputs": [
        {
          "output_type": "execute_result",
          "data": {
            "text/plain": [
              "A    1\n",
              "B    2\n",
              "C    3\n",
              "D    4\n",
              "E    5\n",
              "dtype: int64"
            ]
          },
          "metadata": {},
          "execution_count": 59
        }
      ]
    },
    {
      "cell_type": "markdown",
      "metadata": {
        "id": "uWbGqp3vYl_W"
      },
      "source": [
        "# **2.Data Frames**"
      ]
    },
    {
      "cell_type": "code",
      "metadata": {
        "colab": {
          "base_uri": "https://localhost:8080/"
        },
        "id": "N4EWEVz5YorQ",
        "outputId": "a305d258-9e34-40a8-8e84-4de76bd7bacb"
      },
      "source": [
        "import pandas as pd\n",
        "data={'Gen':['F','M','M'],'EiD':['E01','E02','E03'],'Age':[25,45,38]}\n",
        "\n",
        "df=pd.DataFrame(data,columns=['EiD','Age','Gen'])\n",
        "print(df)"
      ],
      "execution_count": null,
      "outputs": [
        {
          "output_type": "stream",
          "name": "stdout",
          "text": [
            "   EiD  Age Gen\n",
            "0  E01   25   F\n",
            "1  E02   45   M\n",
            "2  E03   38   M\n"
          ]
        }
      ]
    },
    {
      "cell_type": "code",
      "metadata": {
        "colab": {
          "base_uri": "https://localhost:8080/"
        },
        "id": "jQujwkZLZFRS",
        "outputId": "8acfeb8f-207c-4666-a4e3-2adb201c136c"
      },
      "source": [
        "import pandas as pd\n",
        "from numpy import loadtxt\n",
        "from urllib.request import urlopen\n",
        "\n",
        "url='https://raw.githubusercontent.com/jbrownlee/datasets/master/pima-indians-diabetes.data.csv'\n",
        "\n",
        "raw_data=pd.read_csv(urlopen(url))\n",
        "raw_data.shape\n"
      ],
      "execution_count": null,
      "outputs": [
        {
          "output_type": "execute_result",
          "data": {
            "text/plain": [
              "(767, 9)"
            ]
          },
          "metadata": {},
          "execution_count": 61
        }
      ]
    },
    {
      "cell_type": "code",
      "metadata": {
        "colab": {
          "base_uri": "https://localhost:8080/",
          "height": 815
        },
        "id": "3H55U6loZj7b",
        "outputId": "8f3c698a-1288-450b-9bcb-b193d3152ed5"
      },
      "source": [
        "raw_data.head(25)"
      ],
      "execution_count": null,
      "outputs": [
        {
          "output_type": "execute_result",
          "data": {
            "text/html": [
              "<div>\n",
              "<style scoped>\n",
              "    .dataframe tbody tr th:only-of-type {\n",
              "        vertical-align: middle;\n",
              "    }\n",
              "\n",
              "    .dataframe tbody tr th {\n",
              "        vertical-align: top;\n",
              "    }\n",
              "\n",
              "    .dataframe thead th {\n",
              "        text-align: right;\n",
              "    }\n",
              "</style>\n",
              "<table border=\"1\" class=\"dataframe\">\n",
              "  <thead>\n",
              "    <tr style=\"text-align: right;\">\n",
              "      <th></th>\n",
              "      <th>6</th>\n",
              "      <th>148</th>\n",
              "      <th>72</th>\n",
              "      <th>35</th>\n",
              "      <th>0</th>\n",
              "      <th>33.6</th>\n",
              "      <th>0.627</th>\n",
              "      <th>50</th>\n",
              "      <th>1</th>\n",
              "    </tr>\n",
              "  </thead>\n",
              "  <tbody>\n",
              "    <tr>\n",
              "      <th>0</th>\n",
              "      <td>1</td>\n",
              "      <td>85</td>\n",
              "      <td>66</td>\n",
              "      <td>29</td>\n",
              "      <td>0</td>\n",
              "      <td>26.6</td>\n",
              "      <td>0.351</td>\n",
              "      <td>31</td>\n",
              "      <td>0</td>\n",
              "    </tr>\n",
              "    <tr>\n",
              "      <th>1</th>\n",
              "      <td>8</td>\n",
              "      <td>183</td>\n",
              "      <td>64</td>\n",
              "      <td>0</td>\n",
              "      <td>0</td>\n",
              "      <td>23.3</td>\n",
              "      <td>0.672</td>\n",
              "      <td>32</td>\n",
              "      <td>1</td>\n",
              "    </tr>\n",
              "    <tr>\n",
              "      <th>2</th>\n",
              "      <td>1</td>\n",
              "      <td>89</td>\n",
              "      <td>66</td>\n",
              "      <td>23</td>\n",
              "      <td>94</td>\n",
              "      <td>28.1</td>\n",
              "      <td>0.167</td>\n",
              "      <td>21</td>\n",
              "      <td>0</td>\n",
              "    </tr>\n",
              "    <tr>\n",
              "      <th>3</th>\n",
              "      <td>0</td>\n",
              "      <td>137</td>\n",
              "      <td>40</td>\n",
              "      <td>35</td>\n",
              "      <td>168</td>\n",
              "      <td>43.1</td>\n",
              "      <td>2.288</td>\n",
              "      <td>33</td>\n",
              "      <td>1</td>\n",
              "    </tr>\n",
              "    <tr>\n",
              "      <th>4</th>\n",
              "      <td>5</td>\n",
              "      <td>116</td>\n",
              "      <td>74</td>\n",
              "      <td>0</td>\n",
              "      <td>0</td>\n",
              "      <td>25.6</td>\n",
              "      <td>0.201</td>\n",
              "      <td>30</td>\n",
              "      <td>0</td>\n",
              "    </tr>\n",
              "    <tr>\n",
              "      <th>5</th>\n",
              "      <td>3</td>\n",
              "      <td>78</td>\n",
              "      <td>50</td>\n",
              "      <td>32</td>\n",
              "      <td>88</td>\n",
              "      <td>31.0</td>\n",
              "      <td>0.248</td>\n",
              "      <td>26</td>\n",
              "      <td>1</td>\n",
              "    </tr>\n",
              "    <tr>\n",
              "      <th>6</th>\n",
              "      <td>10</td>\n",
              "      <td>115</td>\n",
              "      <td>0</td>\n",
              "      <td>0</td>\n",
              "      <td>0</td>\n",
              "      <td>35.3</td>\n",
              "      <td>0.134</td>\n",
              "      <td>29</td>\n",
              "      <td>0</td>\n",
              "    </tr>\n",
              "    <tr>\n",
              "      <th>7</th>\n",
              "      <td>2</td>\n",
              "      <td>197</td>\n",
              "      <td>70</td>\n",
              "      <td>45</td>\n",
              "      <td>543</td>\n",
              "      <td>30.5</td>\n",
              "      <td>0.158</td>\n",
              "      <td>53</td>\n",
              "      <td>1</td>\n",
              "    </tr>\n",
              "    <tr>\n",
              "      <th>8</th>\n",
              "      <td>8</td>\n",
              "      <td>125</td>\n",
              "      <td>96</td>\n",
              "      <td>0</td>\n",
              "      <td>0</td>\n",
              "      <td>0.0</td>\n",
              "      <td>0.232</td>\n",
              "      <td>54</td>\n",
              "      <td>1</td>\n",
              "    </tr>\n",
              "    <tr>\n",
              "      <th>9</th>\n",
              "      <td>4</td>\n",
              "      <td>110</td>\n",
              "      <td>92</td>\n",
              "      <td>0</td>\n",
              "      <td>0</td>\n",
              "      <td>37.6</td>\n",
              "      <td>0.191</td>\n",
              "      <td>30</td>\n",
              "      <td>0</td>\n",
              "    </tr>\n",
              "    <tr>\n",
              "      <th>10</th>\n",
              "      <td>10</td>\n",
              "      <td>168</td>\n",
              "      <td>74</td>\n",
              "      <td>0</td>\n",
              "      <td>0</td>\n",
              "      <td>38.0</td>\n",
              "      <td>0.537</td>\n",
              "      <td>34</td>\n",
              "      <td>1</td>\n",
              "    </tr>\n",
              "    <tr>\n",
              "      <th>11</th>\n",
              "      <td>10</td>\n",
              "      <td>139</td>\n",
              "      <td>80</td>\n",
              "      <td>0</td>\n",
              "      <td>0</td>\n",
              "      <td>27.1</td>\n",
              "      <td>1.441</td>\n",
              "      <td>57</td>\n",
              "      <td>0</td>\n",
              "    </tr>\n",
              "    <tr>\n",
              "      <th>12</th>\n",
              "      <td>1</td>\n",
              "      <td>189</td>\n",
              "      <td>60</td>\n",
              "      <td>23</td>\n",
              "      <td>846</td>\n",
              "      <td>30.1</td>\n",
              "      <td>0.398</td>\n",
              "      <td>59</td>\n",
              "      <td>1</td>\n",
              "    </tr>\n",
              "    <tr>\n",
              "      <th>13</th>\n",
              "      <td>5</td>\n",
              "      <td>166</td>\n",
              "      <td>72</td>\n",
              "      <td>19</td>\n",
              "      <td>175</td>\n",
              "      <td>25.8</td>\n",
              "      <td>0.587</td>\n",
              "      <td>51</td>\n",
              "      <td>1</td>\n",
              "    </tr>\n",
              "    <tr>\n",
              "      <th>14</th>\n",
              "      <td>7</td>\n",
              "      <td>100</td>\n",
              "      <td>0</td>\n",
              "      <td>0</td>\n",
              "      <td>0</td>\n",
              "      <td>30.0</td>\n",
              "      <td>0.484</td>\n",
              "      <td>32</td>\n",
              "      <td>1</td>\n",
              "    </tr>\n",
              "    <tr>\n",
              "      <th>15</th>\n",
              "      <td>0</td>\n",
              "      <td>118</td>\n",
              "      <td>84</td>\n",
              "      <td>47</td>\n",
              "      <td>230</td>\n",
              "      <td>45.8</td>\n",
              "      <td>0.551</td>\n",
              "      <td>31</td>\n",
              "      <td>1</td>\n",
              "    </tr>\n",
              "    <tr>\n",
              "      <th>16</th>\n",
              "      <td>7</td>\n",
              "      <td>107</td>\n",
              "      <td>74</td>\n",
              "      <td>0</td>\n",
              "      <td>0</td>\n",
              "      <td>29.6</td>\n",
              "      <td>0.254</td>\n",
              "      <td>31</td>\n",
              "      <td>1</td>\n",
              "    </tr>\n",
              "    <tr>\n",
              "      <th>17</th>\n",
              "      <td>1</td>\n",
              "      <td>103</td>\n",
              "      <td>30</td>\n",
              "      <td>38</td>\n",
              "      <td>83</td>\n",
              "      <td>43.3</td>\n",
              "      <td>0.183</td>\n",
              "      <td>33</td>\n",
              "      <td>0</td>\n",
              "    </tr>\n",
              "    <tr>\n",
              "      <th>18</th>\n",
              "      <td>1</td>\n",
              "      <td>115</td>\n",
              "      <td>70</td>\n",
              "      <td>30</td>\n",
              "      <td>96</td>\n",
              "      <td>34.6</td>\n",
              "      <td>0.529</td>\n",
              "      <td>32</td>\n",
              "      <td>1</td>\n",
              "    </tr>\n",
              "    <tr>\n",
              "      <th>19</th>\n",
              "      <td>3</td>\n",
              "      <td>126</td>\n",
              "      <td>88</td>\n",
              "      <td>41</td>\n",
              "      <td>235</td>\n",
              "      <td>39.3</td>\n",
              "      <td>0.704</td>\n",
              "      <td>27</td>\n",
              "      <td>0</td>\n",
              "    </tr>\n",
              "    <tr>\n",
              "      <th>20</th>\n",
              "      <td>8</td>\n",
              "      <td>99</td>\n",
              "      <td>84</td>\n",
              "      <td>0</td>\n",
              "      <td>0</td>\n",
              "      <td>35.4</td>\n",
              "      <td>0.388</td>\n",
              "      <td>50</td>\n",
              "      <td>0</td>\n",
              "    </tr>\n",
              "    <tr>\n",
              "      <th>21</th>\n",
              "      <td>7</td>\n",
              "      <td>196</td>\n",
              "      <td>90</td>\n",
              "      <td>0</td>\n",
              "      <td>0</td>\n",
              "      <td>39.8</td>\n",
              "      <td>0.451</td>\n",
              "      <td>41</td>\n",
              "      <td>1</td>\n",
              "    </tr>\n",
              "    <tr>\n",
              "      <th>22</th>\n",
              "      <td>9</td>\n",
              "      <td>119</td>\n",
              "      <td>80</td>\n",
              "      <td>35</td>\n",
              "      <td>0</td>\n",
              "      <td>29.0</td>\n",
              "      <td>0.263</td>\n",
              "      <td>29</td>\n",
              "      <td>1</td>\n",
              "    </tr>\n",
              "    <tr>\n",
              "      <th>23</th>\n",
              "      <td>11</td>\n",
              "      <td>143</td>\n",
              "      <td>94</td>\n",
              "      <td>33</td>\n",
              "      <td>146</td>\n",
              "      <td>36.6</td>\n",
              "      <td>0.254</td>\n",
              "      <td>51</td>\n",
              "      <td>1</td>\n",
              "    </tr>\n",
              "    <tr>\n",
              "      <th>24</th>\n",
              "      <td>10</td>\n",
              "      <td>125</td>\n",
              "      <td>70</td>\n",
              "      <td>26</td>\n",
              "      <td>115</td>\n",
              "      <td>31.1</td>\n",
              "      <td>0.205</td>\n",
              "      <td>41</td>\n",
              "      <td>1</td>\n",
              "    </tr>\n",
              "  </tbody>\n",
              "</table>\n",
              "</div>"
            ],
            "text/plain": [
              "     6  148  72  35    0  33.6  0.627  50  1\n",
              "0    1   85  66  29    0  26.6  0.351  31  0\n",
              "1    8  183  64   0    0  23.3  0.672  32  1\n",
              "2    1   89  66  23   94  28.1  0.167  21  0\n",
              "3    0  137  40  35  168  43.1  2.288  33  1\n",
              "4    5  116  74   0    0  25.6  0.201  30  0\n",
              "5    3   78  50  32   88  31.0  0.248  26  1\n",
              "6   10  115   0   0    0  35.3  0.134  29  0\n",
              "7    2  197  70  45  543  30.5  0.158  53  1\n",
              "8    8  125  96   0    0   0.0  0.232  54  1\n",
              "9    4  110  92   0    0  37.6  0.191  30  0\n",
              "10  10  168  74   0    0  38.0  0.537  34  1\n",
              "11  10  139  80   0    0  27.1  1.441  57  0\n",
              "12   1  189  60  23  846  30.1  0.398  59  1\n",
              "13   5  166  72  19  175  25.8  0.587  51  1\n",
              "14   7  100   0   0    0  30.0  0.484  32  1\n",
              "15   0  118  84  47  230  45.8  0.551  31  1\n",
              "16   7  107  74   0    0  29.6  0.254  31  1\n",
              "17   1  103  30  38   83  43.3  0.183  33  0\n",
              "18   1  115  70  30   96  34.6  0.529  32  1\n",
              "19   3  126  88  41  235  39.3  0.704  27  0\n",
              "20   8   99  84   0    0  35.4  0.388  50  0\n",
              "21   7  196  90   0    0  39.8  0.451  41  1\n",
              "22   9  119  80  35    0  29.0  0.263  29  1\n",
              "23  11  143  94  33  146  36.6  0.254  51  1\n",
              "24  10  125  70  26  115  31.1  0.205  41  1"
            ]
          },
          "metadata": {},
          "execution_count": 64
        }
      ]
    },
    {
      "cell_type": "code",
      "metadata": {
        "colab": {
          "base_uri": "https://localhost:8080/",
          "height": 294
        },
        "id": "NPYejM7WZpxW",
        "outputId": "466ee14f-25f6-4974-f212-6bc2c39c62c7"
      },
      "source": [
        "raw_data.describe()"
      ],
      "execution_count": null,
      "outputs": [
        {
          "output_type": "execute_result",
          "data": {
            "text/html": [
              "<div>\n",
              "<style scoped>\n",
              "    .dataframe tbody tr th:only-of-type {\n",
              "        vertical-align: middle;\n",
              "    }\n",
              "\n",
              "    .dataframe tbody tr th {\n",
              "        vertical-align: top;\n",
              "    }\n",
              "\n",
              "    .dataframe thead th {\n",
              "        text-align: right;\n",
              "    }\n",
              "</style>\n",
              "<table border=\"1\" class=\"dataframe\">\n",
              "  <thead>\n",
              "    <tr style=\"text-align: right;\">\n",
              "      <th></th>\n",
              "      <th>6</th>\n",
              "      <th>148</th>\n",
              "      <th>72</th>\n",
              "      <th>35</th>\n",
              "      <th>0</th>\n",
              "      <th>33.6</th>\n",
              "      <th>0.627</th>\n",
              "      <th>50</th>\n",
              "      <th>1</th>\n",
              "    </tr>\n",
              "  </thead>\n",
              "  <tbody>\n",
              "    <tr>\n",
              "      <th>count</th>\n",
              "      <td>767.000000</td>\n",
              "      <td>767.000000</td>\n",
              "      <td>767.000000</td>\n",
              "      <td>767.000000</td>\n",
              "      <td>767.000000</td>\n",
              "      <td>767.000000</td>\n",
              "      <td>767.000000</td>\n",
              "      <td>767.000000</td>\n",
              "      <td>767.000000</td>\n",
              "    </tr>\n",
              "    <tr>\n",
              "      <th>mean</th>\n",
              "      <td>3.842243</td>\n",
              "      <td>120.859192</td>\n",
              "      <td>69.101695</td>\n",
              "      <td>20.517601</td>\n",
              "      <td>79.903520</td>\n",
              "      <td>31.990482</td>\n",
              "      <td>0.471674</td>\n",
              "      <td>33.219035</td>\n",
              "      <td>0.348110</td>\n",
              "    </tr>\n",
              "    <tr>\n",
              "      <th>std</th>\n",
              "      <td>3.370877</td>\n",
              "      <td>31.978468</td>\n",
              "      <td>19.368155</td>\n",
              "      <td>15.954059</td>\n",
              "      <td>115.283105</td>\n",
              "      <td>7.889091</td>\n",
              "      <td>0.331497</td>\n",
              "      <td>11.752296</td>\n",
              "      <td>0.476682</td>\n",
              "    </tr>\n",
              "    <tr>\n",
              "      <th>min</th>\n",
              "      <td>0.000000</td>\n",
              "      <td>0.000000</td>\n",
              "      <td>0.000000</td>\n",
              "      <td>0.000000</td>\n",
              "      <td>0.000000</td>\n",
              "      <td>0.000000</td>\n",
              "      <td>0.078000</td>\n",
              "      <td>21.000000</td>\n",
              "      <td>0.000000</td>\n",
              "    </tr>\n",
              "    <tr>\n",
              "      <th>25%</th>\n",
              "      <td>1.000000</td>\n",
              "      <td>99.000000</td>\n",
              "      <td>62.000000</td>\n",
              "      <td>0.000000</td>\n",
              "      <td>0.000000</td>\n",
              "      <td>27.300000</td>\n",
              "      <td>0.243500</td>\n",
              "      <td>24.000000</td>\n",
              "      <td>0.000000</td>\n",
              "    </tr>\n",
              "    <tr>\n",
              "      <th>50%</th>\n",
              "      <td>3.000000</td>\n",
              "      <td>117.000000</td>\n",
              "      <td>72.000000</td>\n",
              "      <td>23.000000</td>\n",
              "      <td>32.000000</td>\n",
              "      <td>32.000000</td>\n",
              "      <td>0.371000</td>\n",
              "      <td>29.000000</td>\n",
              "      <td>0.000000</td>\n",
              "    </tr>\n",
              "    <tr>\n",
              "      <th>75%</th>\n",
              "      <td>6.000000</td>\n",
              "      <td>140.000000</td>\n",
              "      <td>80.000000</td>\n",
              "      <td>32.000000</td>\n",
              "      <td>127.500000</td>\n",
              "      <td>36.600000</td>\n",
              "      <td>0.625000</td>\n",
              "      <td>41.000000</td>\n",
              "      <td>1.000000</td>\n",
              "    </tr>\n",
              "    <tr>\n",
              "      <th>max</th>\n",
              "      <td>17.000000</td>\n",
              "      <td>199.000000</td>\n",
              "      <td>122.000000</td>\n",
              "      <td>99.000000</td>\n",
              "      <td>846.000000</td>\n",
              "      <td>67.100000</td>\n",
              "      <td>2.420000</td>\n",
              "      <td>81.000000</td>\n",
              "      <td>1.000000</td>\n",
              "    </tr>\n",
              "  </tbody>\n",
              "</table>\n",
              "</div>"
            ],
            "text/plain": [
              "                6         148          72  ...       0.627          50           1\n",
              "count  767.000000  767.000000  767.000000  ...  767.000000  767.000000  767.000000\n",
              "mean     3.842243  120.859192   69.101695  ...    0.471674   33.219035    0.348110\n",
              "std      3.370877   31.978468   19.368155  ...    0.331497   11.752296    0.476682\n",
              "min      0.000000    0.000000    0.000000  ...    0.078000   21.000000    0.000000\n",
              "25%      1.000000   99.000000   62.000000  ...    0.243500   24.000000    0.000000\n",
              "50%      3.000000  117.000000   72.000000  ...    0.371000   29.000000    0.000000\n",
              "75%      6.000000  140.000000   80.000000  ...    0.625000   41.000000    1.000000\n",
              "max     17.000000  199.000000  122.000000  ...    2.420000   81.000000    1.000000\n",
              "\n",
              "[8 rows x 9 columns]"
            ]
          },
          "metadata": {},
          "execution_count": 65
        }
      ]
    },
    {
      "cell_type": "code",
      "metadata": {
        "colab": {
          "base_uri": "https://localhost:8080/",
          "height": 324
        },
        "id": "WlOuiBOuZyJx",
        "outputId": "50ccc275-bede-4c77-86fd-e78f5777088f"
      },
      "source": [
        "raw_data.cov()"
      ],
      "execution_count": null,
      "outputs": [
        {
          "output_type": "execute_result",
          "data": {
            "text/html": [
              "<div>\n",
              "<style scoped>\n",
              "    .dataframe tbody tr th:only-of-type {\n",
              "        vertical-align: middle;\n",
              "    }\n",
              "\n",
              "    .dataframe tbody tr th {\n",
              "        vertical-align: top;\n",
              "    }\n",
              "\n",
              "    .dataframe thead th {\n",
              "        text-align: right;\n",
              "    }\n",
              "</style>\n",
              "<table border=\"1\" class=\"dataframe\">\n",
              "  <thead>\n",
              "    <tr style=\"text-align: right;\">\n",
              "      <th></th>\n",
              "      <th>6</th>\n",
              "      <th>148</th>\n",
              "      <th>72</th>\n",
              "      <th>35</th>\n",
              "      <th>0</th>\n",
              "      <th>33.6</th>\n",
              "      <th>0.627</th>\n",
              "      <th>50</th>\n",
              "      <th>1</th>\n",
              "    </tr>\n",
              "  </thead>\n",
              "  <tbody>\n",
              "    <tr>\n",
              "      <th>6</th>\n",
              "      <td>11.362809</td>\n",
              "      <td>13.888985</td>\n",
              "      <td>9.218414</td>\n",
              "      <td>-4.436515</td>\n",
              "      <td>-28.367721</td>\n",
              "      <td>0.465859</td>\n",
              "      <td>-0.037912</td>\n",
              "      <td>21.551571</td>\n",
              "      <td>0.355250</td>\n",
              "    </tr>\n",
              "    <tr>\n",
              "      <th>148</th>\n",
              "      <td>13.888985</td>\n",
              "      <td>1022.622445</td>\n",
              "      <td>94.451675</td>\n",
              "      <td>28.764884</td>\n",
              "      <td>1225.357154</td>\n",
              "      <td>55.742783</td>\n",
              "      <td>1.451278</td>\n",
              "      <td>98.618350</td>\n",
              "      <td>7.101300</td>\n",
              "    </tr>\n",
              "    <tr>\n",
              "      <th>72</th>\n",
              "      <td>9.218414</td>\n",
              "      <td>94.451675</td>\n",
              "      <td>375.125415</td>\n",
              "      <td>64.058260</td>\n",
              "      <td>198.939328</td>\n",
              "      <td>43.054755</td>\n",
              "      <td>0.264396</td>\n",
              "      <td>54.531221</td>\n",
              "      <td>0.599018</td>\n",
              "    </tr>\n",
              "    <tr>\n",
              "      <th>35</th>\n",
              "      <td>-4.436515</td>\n",
              "      <td>28.764884</td>\n",
              "      <td>64.058260</td>\n",
              "      <td>254.532001</td>\n",
              "      <td>805.536948</td>\n",
              "      <td>49.407935</td>\n",
              "      <td>0.970472</td>\n",
              "      <td>-21.725792</td>\n",
              "      <td>0.557181</td>\n",
              "    </tr>\n",
              "    <tr>\n",
              "      <th>0</th>\n",
              "      <td>-28.367721</td>\n",
              "      <td>1225.357154</td>\n",
              "      <td>198.939328</td>\n",
              "      <td>805.536948</td>\n",
              "      <td>13290.194335</td>\n",
              "      <td>180.177540</td>\n",
              "      <td>7.092087</td>\n",
              "      <td>-55.469702</td>\n",
              "      <td>7.252951</td>\n",
              "    </tr>\n",
              "    <tr>\n",
              "      <th>33.6</th>\n",
              "      <td>0.465859</td>\n",
              "      <td>55.742783</td>\n",
              "      <td>43.054755</td>\n",
              "      <td>49.407935</td>\n",
              "      <td>180.177540</td>\n",
              "      <td>62.237755</td>\n",
              "      <td>0.367558</td>\n",
              "      <td>3.329503</td>\n",
              "      <td>1.100707</td>\n",
              "    </tr>\n",
              "    <tr>\n",
              "      <th>0.627</th>\n",
              "      <td>-0.037912</td>\n",
              "      <td>1.451278</td>\n",
              "      <td>0.264396</td>\n",
              "      <td>0.970472</td>\n",
              "      <td>7.092087</td>\n",
              "      <td>0.367558</td>\n",
              "      <td>0.109890</td>\n",
              "      <td>0.127544</td>\n",
              "      <td>0.027376</td>\n",
              "    </tr>\n",
              "    <tr>\n",
              "      <th>50</th>\n",
              "      <td>21.551571</td>\n",
              "      <td>98.618350</td>\n",
              "      <td>54.531221</td>\n",
              "      <td>-21.725792</td>\n",
              "      <td>-55.469702</td>\n",
              "      <td>3.329503</td>\n",
              "      <td>0.127544</td>\n",
              "      <td>138.116452</td>\n",
              "      <td>1.324436</td>\n",
              "    </tr>\n",
              "    <tr>\n",
              "      <th>1</th>\n",
              "      <td>0.355250</td>\n",
              "      <td>7.101300</td>\n",
              "      <td>0.599018</td>\n",
              "      <td>0.557181</td>\n",
              "      <td>7.252951</td>\n",
              "      <td>1.100707</td>\n",
              "      <td>0.027376</td>\n",
              "      <td>1.324436</td>\n",
              "      <td>0.227226</td>\n",
              "    </tr>\n",
              "  </tbody>\n",
              "</table>\n",
              "</div>"
            ],
            "text/plain": [
              "               6          148          72  ...     0.627          50         1\n",
              "6      11.362809    13.888985    9.218414  ... -0.037912   21.551571  0.355250\n",
              "148    13.888985  1022.622445   94.451675  ...  1.451278   98.618350  7.101300\n",
              "72      9.218414    94.451675  375.125415  ...  0.264396   54.531221  0.599018\n",
              "35     -4.436515    28.764884   64.058260  ...  0.970472  -21.725792  0.557181\n",
              "0     -28.367721  1225.357154  198.939328  ...  7.092087  -55.469702  7.252951\n",
              "33.6    0.465859    55.742783   43.054755  ...  0.367558    3.329503  1.100707\n",
              "0.627  -0.037912     1.451278    0.264396  ...  0.109890    0.127544  0.027376\n",
              "50     21.551571    98.618350   54.531221  ...  0.127544  138.116452  1.324436\n",
              "1       0.355250     7.101300    0.599018  ...  0.027376    1.324436  0.227226\n",
              "\n",
              "[9 rows x 9 columns]"
            ]
          },
          "metadata": {},
          "execution_count": 66
        }
      ]
    },
    {
      "cell_type": "code",
      "metadata": {
        "colab": {
          "base_uri": "https://localhost:8080/",
          "height": 324
        },
        "id": "ePPUS_WoZ1Fj",
        "outputId": "c7a81eb3-ccf0-4e29-ddd1-835699617d20"
      },
      "source": [
        "raw_data.corr()"
      ],
      "execution_count": null,
      "outputs": [
        {
          "output_type": "execute_result",
          "data": {
            "text/html": [
              "<div>\n",
              "<style scoped>\n",
              "    .dataframe tbody tr th:only-of-type {\n",
              "        vertical-align: middle;\n",
              "    }\n",
              "\n",
              "    .dataframe tbody tr th {\n",
              "        vertical-align: top;\n",
              "    }\n",
              "\n",
              "    .dataframe thead th {\n",
              "        text-align: right;\n",
              "    }\n",
              "</style>\n",
              "<table border=\"1\" class=\"dataframe\">\n",
              "  <thead>\n",
              "    <tr style=\"text-align: right;\">\n",
              "      <th></th>\n",
              "      <th>6</th>\n",
              "      <th>148</th>\n",
              "      <th>72</th>\n",
              "      <th>35</th>\n",
              "      <th>0</th>\n",
              "      <th>33.6</th>\n",
              "      <th>0.627</th>\n",
              "      <th>50</th>\n",
              "      <th>1</th>\n",
              "    </tr>\n",
              "  </thead>\n",
              "  <tbody>\n",
              "    <tr>\n",
              "      <th>6</th>\n",
              "      <td>1.000000</td>\n",
              "      <td>0.128846</td>\n",
              "      <td>0.141197</td>\n",
              "      <td>-0.082495</td>\n",
              "      <td>-0.072999</td>\n",
              "      <td>0.017518</td>\n",
              "      <td>-0.033927</td>\n",
              "      <td>0.544018</td>\n",
              "      <td>0.221087</td>\n",
              "    </tr>\n",
              "    <tr>\n",
              "      <th>148</th>\n",
              "      <td>0.128846</td>\n",
              "      <td>1.000000</td>\n",
              "      <td>0.152498</td>\n",
              "      <td>0.056381</td>\n",
              "      <td>0.332383</td>\n",
              "      <td>0.220955</td>\n",
              "      <td>0.136903</td>\n",
              "      <td>0.262408</td>\n",
              "      <td>0.465856</td>\n",
              "    </tr>\n",
              "    <tr>\n",
              "      <th>72</th>\n",
              "      <td>0.141197</td>\n",
              "      <td>0.152498</td>\n",
              "      <td>1.000000</td>\n",
              "      <td>0.207308</td>\n",
              "      <td>0.089098</td>\n",
              "      <td>0.281777</td>\n",
              "      <td>0.041180</td>\n",
              "      <td>0.239571</td>\n",
              "      <td>0.064882</td>\n",
              "    </tr>\n",
              "    <tr>\n",
              "      <th>35</th>\n",
              "      <td>-0.082495</td>\n",
              "      <td>0.056381</td>\n",
              "      <td>0.207308</td>\n",
              "      <td>1.000000</td>\n",
              "      <td>0.437974</td>\n",
              "      <td>0.392553</td>\n",
              "      <td>0.183498</td>\n",
              "      <td>-0.115873</td>\n",
              "      <td>0.073265</td>\n",
              "    </tr>\n",
              "    <tr>\n",
              "      <th>0</th>\n",
              "      <td>-0.072999</td>\n",
              "      <td>0.332383</td>\n",
              "      <td>0.089098</td>\n",
              "      <td>0.437974</td>\n",
              "      <td>1.000000</td>\n",
              "      <td>0.198111</td>\n",
              "      <td>0.185579</td>\n",
              "      <td>-0.040942</td>\n",
              "      <td>0.131984</td>\n",
              "    </tr>\n",
              "    <tr>\n",
              "      <th>33.6</th>\n",
              "      <td>0.017518</td>\n",
              "      <td>0.220955</td>\n",
              "      <td>0.281777</td>\n",
              "      <td>0.392553</td>\n",
              "      <td>0.198111</td>\n",
              "      <td>1.000000</td>\n",
              "      <td>0.140546</td>\n",
              "      <td>0.035911</td>\n",
              "      <td>0.292695</td>\n",
              "    </tr>\n",
              "    <tr>\n",
              "      <th>0.627</th>\n",
              "      <td>-0.033927</td>\n",
              "      <td>0.136903</td>\n",
              "      <td>0.041180</td>\n",
              "      <td>0.183498</td>\n",
              "      <td>0.185579</td>\n",
              "      <td>0.140546</td>\n",
              "      <td>1.000000</td>\n",
              "      <td>0.032738</td>\n",
              "      <td>0.173245</td>\n",
              "    </tr>\n",
              "    <tr>\n",
              "      <th>50</th>\n",
              "      <td>0.544018</td>\n",
              "      <td>0.262408</td>\n",
              "      <td>0.239571</td>\n",
              "      <td>-0.115873</td>\n",
              "      <td>-0.040942</td>\n",
              "      <td>0.035911</td>\n",
              "      <td>0.032738</td>\n",
              "      <td>1.000000</td>\n",
              "      <td>0.236417</td>\n",
              "    </tr>\n",
              "    <tr>\n",
              "      <th>1</th>\n",
              "      <td>0.221087</td>\n",
              "      <td>0.465856</td>\n",
              "      <td>0.064882</td>\n",
              "      <td>0.073265</td>\n",
              "      <td>0.131984</td>\n",
              "      <td>0.292695</td>\n",
              "      <td>0.173245</td>\n",
              "      <td>0.236417</td>\n",
              "      <td>1.000000</td>\n",
              "    </tr>\n",
              "  </tbody>\n",
              "</table>\n",
              "</div>"
            ],
            "text/plain": [
              "              6       148        72  ...     0.627        50         1\n",
              "6      1.000000  0.128846  0.141197  ... -0.033927  0.544018  0.221087\n",
              "148    0.128846  1.000000  0.152498  ...  0.136903  0.262408  0.465856\n",
              "72     0.141197  0.152498  1.000000  ...  0.041180  0.239571  0.064882\n",
              "35    -0.082495  0.056381  0.207308  ...  0.183498 -0.115873  0.073265\n",
              "0     -0.072999  0.332383  0.089098  ...  0.185579 -0.040942  0.131984\n",
              "33.6   0.017518  0.220955  0.281777  ...  0.140546  0.035911  0.292695\n",
              "0.627 -0.033927  0.136903  0.041180  ...  1.000000  0.032738  0.173245\n",
              "50     0.544018  0.262408  0.239571  ...  0.032738  1.000000  0.236417\n",
              "1      0.221087  0.465856  0.064882  ...  0.173245  0.236417  1.000000\n",
              "\n",
              "[9 rows x 9 columns]"
            ]
          },
          "metadata": {},
          "execution_count": 67
        }
      ]
    },
    {
      "cell_type": "code",
      "metadata": {
        "colab": {
          "base_uri": "https://localhost:8080/"
        },
        "id": "rTdAZVdyaHH9",
        "outputId": "082148bd-0a89-4ce0-b762-4ce3acda98d5"
      },
      "source": [
        "from sklearn.datasets import load_iris\n",
        "import numpy as np\n",
        "iris=load_iris()\n",
        "iris"
      ],
      "execution_count": null,
      "outputs": [
        {
          "output_type": "execute_result",
          "data": {
            "text/plain": [
              "{'DESCR': '.. _iris_dataset:\\n\\nIris plants dataset\\n--------------------\\n\\n**Data Set Characteristics:**\\n\\n    :Number of Instances: 150 (50 in each of three classes)\\n    :Number of Attributes: 4 numeric, predictive attributes and the class\\n    :Attribute Information:\\n        - sepal length in cm\\n        - sepal width in cm\\n        - petal length in cm\\n        - petal width in cm\\n        - class:\\n                - Iris-Setosa\\n                - Iris-Versicolour\\n                - Iris-Virginica\\n                \\n    :Summary Statistics:\\n\\n    ============== ==== ==== ======= ===== ====================\\n                    Min  Max   Mean    SD   Class Correlation\\n    ============== ==== ==== ======= ===== ====================\\n    sepal length:   4.3  7.9   5.84   0.83    0.7826\\n    sepal width:    2.0  4.4   3.05   0.43   -0.4194\\n    petal length:   1.0  6.9   3.76   1.76    0.9490  (high!)\\n    petal width:    0.1  2.5   1.20   0.76    0.9565  (high!)\\n    ============== ==== ==== ======= ===== ====================\\n\\n    :Missing Attribute Values: None\\n    :Class Distribution: 33.3% for each of 3 classes.\\n    :Creator: R.A. Fisher\\n    :Donor: Michael Marshall (MARSHALL%PLU@io.arc.nasa.gov)\\n    :Date: July, 1988\\n\\nThe famous Iris database, first used by Sir R.A. Fisher. The dataset is taken\\nfrom Fisher\\'s paper. Note that it\\'s the same as in R, but not as in the UCI\\nMachine Learning Repository, which has two wrong data points.\\n\\nThis is perhaps the best known database to be found in the\\npattern recognition literature.  Fisher\\'s paper is a classic in the field and\\nis referenced frequently to this day.  (See Duda & Hart, for example.)  The\\ndata set contains 3 classes of 50 instances each, where each class refers to a\\ntype of iris plant.  One class is linearly separable from the other 2; the\\nlatter are NOT linearly separable from each other.\\n\\n.. topic:: References\\n\\n   - Fisher, R.A. \"The use of multiple measurements in taxonomic problems\"\\n     Annual Eugenics, 7, Part II, 179-188 (1936); also in \"Contributions to\\n     Mathematical Statistics\" (John Wiley, NY, 1950).\\n   - Duda, R.O., & Hart, P.E. (1973) Pattern Classification and Scene Analysis.\\n     (Q327.D83) John Wiley & Sons.  ISBN 0-471-22361-1.  See page 218.\\n   - Dasarathy, B.V. (1980) \"Nosing Around the Neighborhood: A New System\\n     Structure and Classification Rule for Recognition in Partially Exposed\\n     Environments\".  IEEE Transactions on Pattern Analysis and Machine\\n     Intelligence, Vol. PAMI-2, No. 1, 67-71.\\n   - Gates, G.W. (1972) \"The Reduced Nearest Neighbor Rule\".  IEEE Transactions\\n     on Information Theory, May 1972, 431-433.\\n   - See also: 1988 MLC Proceedings, 54-64.  Cheeseman et al\"s AUTOCLASS II\\n     conceptual clustering system finds 3 classes in the data.\\n   - Many, many more ...',\n",
              " 'data': array([[5.1, 3.5, 1.4, 0.2],\n",
              "        [4.9, 3. , 1.4, 0.2],\n",
              "        [4.7, 3.2, 1.3, 0.2],\n",
              "        [4.6, 3.1, 1.5, 0.2],\n",
              "        [5. , 3.6, 1.4, 0.2],\n",
              "        [5.4, 3.9, 1.7, 0.4],\n",
              "        [4.6, 3.4, 1.4, 0.3],\n",
              "        [5. , 3.4, 1.5, 0.2],\n",
              "        [4.4, 2.9, 1.4, 0.2],\n",
              "        [4.9, 3.1, 1.5, 0.1],\n",
              "        [5.4, 3.7, 1.5, 0.2],\n",
              "        [4.8, 3.4, 1.6, 0.2],\n",
              "        [4.8, 3. , 1.4, 0.1],\n",
              "        [4.3, 3. , 1.1, 0.1],\n",
              "        [5.8, 4. , 1.2, 0.2],\n",
              "        [5.7, 4.4, 1.5, 0.4],\n",
              "        [5.4, 3.9, 1.3, 0.4],\n",
              "        [5.1, 3.5, 1.4, 0.3],\n",
              "        [5.7, 3.8, 1.7, 0.3],\n",
              "        [5.1, 3.8, 1.5, 0.3],\n",
              "        [5.4, 3.4, 1.7, 0.2],\n",
              "        [5.1, 3.7, 1.5, 0.4],\n",
              "        [4.6, 3.6, 1. , 0.2],\n",
              "        [5.1, 3.3, 1.7, 0.5],\n",
              "        [4.8, 3.4, 1.9, 0.2],\n",
              "        [5. , 3. , 1.6, 0.2],\n",
              "        [5. , 3.4, 1.6, 0.4],\n",
              "        [5.2, 3.5, 1.5, 0.2],\n",
              "        [5.2, 3.4, 1.4, 0.2],\n",
              "        [4.7, 3.2, 1.6, 0.2],\n",
              "        [4.8, 3.1, 1.6, 0.2],\n",
              "        [5.4, 3.4, 1.5, 0.4],\n",
              "        [5.2, 4.1, 1.5, 0.1],\n",
              "        [5.5, 4.2, 1.4, 0.2],\n",
              "        [4.9, 3.1, 1.5, 0.2],\n",
              "        [5. , 3.2, 1.2, 0.2],\n",
              "        [5.5, 3.5, 1.3, 0.2],\n",
              "        [4.9, 3.6, 1.4, 0.1],\n",
              "        [4.4, 3. , 1.3, 0.2],\n",
              "        [5.1, 3.4, 1.5, 0.2],\n",
              "        [5. , 3.5, 1.3, 0.3],\n",
              "        [4.5, 2.3, 1.3, 0.3],\n",
              "        [4.4, 3.2, 1.3, 0.2],\n",
              "        [5. , 3.5, 1.6, 0.6],\n",
              "        [5.1, 3.8, 1.9, 0.4],\n",
              "        [4.8, 3. , 1.4, 0.3],\n",
              "        [5.1, 3.8, 1.6, 0.2],\n",
              "        [4.6, 3.2, 1.4, 0.2],\n",
              "        [5.3, 3.7, 1.5, 0.2],\n",
              "        [5. , 3.3, 1.4, 0.2],\n",
              "        [7. , 3.2, 4.7, 1.4],\n",
              "        [6.4, 3.2, 4.5, 1.5],\n",
              "        [6.9, 3.1, 4.9, 1.5],\n",
              "        [5.5, 2.3, 4. , 1.3],\n",
              "        [6.5, 2.8, 4.6, 1.5],\n",
              "        [5.7, 2.8, 4.5, 1.3],\n",
              "        [6.3, 3.3, 4.7, 1.6],\n",
              "        [4.9, 2.4, 3.3, 1. ],\n",
              "        [6.6, 2.9, 4.6, 1.3],\n",
              "        [5.2, 2.7, 3.9, 1.4],\n",
              "        [5. , 2. , 3.5, 1. ],\n",
              "        [5.9, 3. , 4.2, 1.5],\n",
              "        [6. , 2.2, 4. , 1. ],\n",
              "        [6.1, 2.9, 4.7, 1.4],\n",
              "        [5.6, 2.9, 3.6, 1.3],\n",
              "        [6.7, 3.1, 4.4, 1.4],\n",
              "        [5.6, 3. , 4.5, 1.5],\n",
              "        [5.8, 2.7, 4.1, 1. ],\n",
              "        [6.2, 2.2, 4.5, 1.5],\n",
              "        [5.6, 2.5, 3.9, 1.1],\n",
              "        [5.9, 3.2, 4.8, 1.8],\n",
              "        [6.1, 2.8, 4. , 1.3],\n",
              "        [6.3, 2.5, 4.9, 1.5],\n",
              "        [6.1, 2.8, 4.7, 1.2],\n",
              "        [6.4, 2.9, 4.3, 1.3],\n",
              "        [6.6, 3. , 4.4, 1.4],\n",
              "        [6.8, 2.8, 4.8, 1.4],\n",
              "        [6.7, 3. , 5. , 1.7],\n",
              "        [6. , 2.9, 4.5, 1.5],\n",
              "        [5.7, 2.6, 3.5, 1. ],\n",
              "        [5.5, 2.4, 3.8, 1.1],\n",
              "        [5.5, 2.4, 3.7, 1. ],\n",
              "        [5.8, 2.7, 3.9, 1.2],\n",
              "        [6. , 2.7, 5.1, 1.6],\n",
              "        [5.4, 3. , 4.5, 1.5],\n",
              "        [6. , 3.4, 4.5, 1.6],\n",
              "        [6.7, 3.1, 4.7, 1.5],\n",
              "        [6.3, 2.3, 4.4, 1.3],\n",
              "        [5.6, 3. , 4.1, 1.3],\n",
              "        [5.5, 2.5, 4. , 1.3],\n",
              "        [5.5, 2.6, 4.4, 1.2],\n",
              "        [6.1, 3. , 4.6, 1.4],\n",
              "        [5.8, 2.6, 4. , 1.2],\n",
              "        [5. , 2.3, 3.3, 1. ],\n",
              "        [5.6, 2.7, 4.2, 1.3],\n",
              "        [5.7, 3. , 4.2, 1.2],\n",
              "        [5.7, 2.9, 4.2, 1.3],\n",
              "        [6.2, 2.9, 4.3, 1.3],\n",
              "        [5.1, 2.5, 3. , 1.1],\n",
              "        [5.7, 2.8, 4.1, 1.3],\n",
              "        [6.3, 3.3, 6. , 2.5],\n",
              "        [5.8, 2.7, 5.1, 1.9],\n",
              "        [7.1, 3. , 5.9, 2.1],\n",
              "        [6.3, 2.9, 5.6, 1.8],\n",
              "        [6.5, 3. , 5.8, 2.2],\n",
              "        [7.6, 3. , 6.6, 2.1],\n",
              "        [4.9, 2.5, 4.5, 1.7],\n",
              "        [7.3, 2.9, 6.3, 1.8],\n",
              "        [6.7, 2.5, 5.8, 1.8],\n",
              "        [7.2, 3.6, 6.1, 2.5],\n",
              "        [6.5, 3.2, 5.1, 2. ],\n",
              "        [6.4, 2.7, 5.3, 1.9],\n",
              "        [6.8, 3. , 5.5, 2.1],\n",
              "        [5.7, 2.5, 5. , 2. ],\n",
              "        [5.8, 2.8, 5.1, 2.4],\n",
              "        [6.4, 3.2, 5.3, 2.3],\n",
              "        [6.5, 3. , 5.5, 1.8],\n",
              "        [7.7, 3.8, 6.7, 2.2],\n",
              "        [7.7, 2.6, 6.9, 2.3],\n",
              "        [6. , 2.2, 5. , 1.5],\n",
              "        [6.9, 3.2, 5.7, 2.3],\n",
              "        [5.6, 2.8, 4.9, 2. ],\n",
              "        [7.7, 2.8, 6.7, 2. ],\n",
              "        [6.3, 2.7, 4.9, 1.8],\n",
              "        [6.7, 3.3, 5.7, 2.1],\n",
              "        [7.2, 3.2, 6. , 1.8],\n",
              "        [6.2, 2.8, 4.8, 1.8],\n",
              "        [6.1, 3. , 4.9, 1.8],\n",
              "        [6.4, 2.8, 5.6, 2.1],\n",
              "        [7.2, 3. , 5.8, 1.6],\n",
              "        [7.4, 2.8, 6.1, 1.9],\n",
              "        [7.9, 3.8, 6.4, 2. ],\n",
              "        [6.4, 2.8, 5.6, 2.2],\n",
              "        [6.3, 2.8, 5.1, 1.5],\n",
              "        [6.1, 2.6, 5.6, 1.4],\n",
              "        [7.7, 3. , 6.1, 2.3],\n",
              "        [6.3, 3.4, 5.6, 2.4],\n",
              "        [6.4, 3.1, 5.5, 1.8],\n",
              "        [6. , 3. , 4.8, 1.8],\n",
              "        [6.9, 3.1, 5.4, 2.1],\n",
              "        [6.7, 3.1, 5.6, 2.4],\n",
              "        [6.9, 3.1, 5.1, 2.3],\n",
              "        [5.8, 2.7, 5.1, 1.9],\n",
              "        [6.8, 3.2, 5.9, 2.3],\n",
              "        [6.7, 3.3, 5.7, 2.5],\n",
              "        [6.7, 3. , 5.2, 2.3],\n",
              "        [6.3, 2.5, 5. , 1.9],\n",
              "        [6.5, 3. , 5.2, 2. ],\n",
              "        [6.2, 3.4, 5.4, 2.3],\n",
              "        [5.9, 3. , 5.1, 1.8]]),\n",
              " 'feature_names': ['sepal length (cm)',\n",
              "  'sepal width (cm)',\n",
              "  'petal length (cm)',\n",
              "  'petal width (cm)'],\n",
              " 'filename': '/usr/local/lib/python3.7/dist-packages/sklearn/datasets/data/iris.csv',\n",
              " 'target': array([0, 0, 0, 0, 0, 0, 0, 0, 0, 0, 0, 0, 0, 0, 0, 0, 0, 0, 0, 0, 0, 0,\n",
              "        0, 0, 0, 0, 0, 0, 0, 0, 0, 0, 0, 0, 0, 0, 0, 0, 0, 0, 0, 0, 0, 0,\n",
              "        0, 0, 0, 0, 0, 0, 1, 1, 1, 1, 1, 1, 1, 1, 1, 1, 1, 1, 1, 1, 1, 1,\n",
              "        1, 1, 1, 1, 1, 1, 1, 1, 1, 1, 1, 1, 1, 1, 1, 1, 1, 1, 1, 1, 1, 1,\n",
              "        1, 1, 1, 1, 1, 1, 1, 1, 1, 1, 1, 1, 2, 2, 2, 2, 2, 2, 2, 2, 2, 2,\n",
              "        2, 2, 2, 2, 2, 2, 2, 2, 2, 2, 2, 2, 2, 2, 2, 2, 2, 2, 2, 2, 2, 2,\n",
              "        2, 2, 2, 2, 2, 2, 2, 2, 2, 2, 2, 2, 2, 2, 2, 2, 2, 2]),\n",
              " 'target_names': array(['setosa', 'versicolor', 'virginica'], dtype='<U10')}"
            ]
          },
          "metadata": {},
          "execution_count": 68
        }
      ]
    },
    {
      "cell_type": "code",
      "metadata": {
        "colab": {
          "base_uri": "https://localhost:8080/",
          "height": 414
        },
        "id": "uUR1XG_raPEO",
        "outputId": "16402389-ea45-40a9-b247-79ee5869e826"
      },
      "source": [
        "X=pd.DataFrame(iris.data)\n",
        "X"
      ],
      "execution_count": null,
      "outputs": [
        {
          "output_type": "execute_result",
          "data": {
            "text/html": [
              "<div>\n",
              "<style scoped>\n",
              "    .dataframe tbody tr th:only-of-type {\n",
              "        vertical-align: middle;\n",
              "    }\n",
              "\n",
              "    .dataframe tbody tr th {\n",
              "        vertical-align: top;\n",
              "    }\n",
              "\n",
              "    .dataframe thead th {\n",
              "        text-align: right;\n",
              "    }\n",
              "</style>\n",
              "<table border=\"1\" class=\"dataframe\">\n",
              "  <thead>\n",
              "    <tr style=\"text-align: right;\">\n",
              "      <th></th>\n",
              "      <th>0</th>\n",
              "      <th>1</th>\n",
              "      <th>2</th>\n",
              "      <th>3</th>\n",
              "    </tr>\n",
              "  </thead>\n",
              "  <tbody>\n",
              "    <tr>\n",
              "      <th>0</th>\n",
              "      <td>5.1</td>\n",
              "      <td>3.5</td>\n",
              "      <td>1.4</td>\n",
              "      <td>0.2</td>\n",
              "    </tr>\n",
              "    <tr>\n",
              "      <th>1</th>\n",
              "      <td>4.9</td>\n",
              "      <td>3.0</td>\n",
              "      <td>1.4</td>\n",
              "      <td>0.2</td>\n",
              "    </tr>\n",
              "    <tr>\n",
              "      <th>2</th>\n",
              "      <td>4.7</td>\n",
              "      <td>3.2</td>\n",
              "      <td>1.3</td>\n",
              "      <td>0.2</td>\n",
              "    </tr>\n",
              "    <tr>\n",
              "      <th>3</th>\n",
              "      <td>4.6</td>\n",
              "      <td>3.1</td>\n",
              "      <td>1.5</td>\n",
              "      <td>0.2</td>\n",
              "    </tr>\n",
              "    <tr>\n",
              "      <th>4</th>\n",
              "      <td>5.0</td>\n",
              "      <td>3.6</td>\n",
              "      <td>1.4</td>\n",
              "      <td>0.2</td>\n",
              "    </tr>\n",
              "    <tr>\n",
              "      <th>...</th>\n",
              "      <td>...</td>\n",
              "      <td>...</td>\n",
              "      <td>...</td>\n",
              "      <td>...</td>\n",
              "    </tr>\n",
              "    <tr>\n",
              "      <th>145</th>\n",
              "      <td>6.7</td>\n",
              "      <td>3.0</td>\n",
              "      <td>5.2</td>\n",
              "      <td>2.3</td>\n",
              "    </tr>\n",
              "    <tr>\n",
              "      <th>146</th>\n",
              "      <td>6.3</td>\n",
              "      <td>2.5</td>\n",
              "      <td>5.0</td>\n",
              "      <td>1.9</td>\n",
              "    </tr>\n",
              "    <tr>\n",
              "      <th>147</th>\n",
              "      <td>6.5</td>\n",
              "      <td>3.0</td>\n",
              "      <td>5.2</td>\n",
              "      <td>2.0</td>\n",
              "    </tr>\n",
              "    <tr>\n",
              "      <th>148</th>\n",
              "      <td>6.2</td>\n",
              "      <td>3.4</td>\n",
              "      <td>5.4</td>\n",
              "      <td>2.3</td>\n",
              "    </tr>\n",
              "    <tr>\n",
              "      <th>149</th>\n",
              "      <td>5.9</td>\n",
              "      <td>3.0</td>\n",
              "      <td>5.1</td>\n",
              "      <td>1.8</td>\n",
              "    </tr>\n",
              "  </tbody>\n",
              "</table>\n",
              "<p>150 rows × 4 columns</p>\n",
              "</div>"
            ],
            "text/plain": [
              "       0    1    2    3\n",
              "0    5.1  3.5  1.4  0.2\n",
              "1    4.9  3.0  1.4  0.2\n",
              "2    4.7  3.2  1.3  0.2\n",
              "3    4.6  3.1  1.5  0.2\n",
              "4    5.0  3.6  1.4  0.2\n",
              "..   ...  ...  ...  ...\n",
              "145  6.7  3.0  5.2  2.3\n",
              "146  6.3  2.5  5.0  1.9\n",
              "147  6.5  3.0  5.2  2.0\n",
              "148  6.2  3.4  5.4  2.3\n",
              "149  5.9  3.0  5.1  1.8\n",
              "\n",
              "[150 rows x 4 columns]"
            ]
          },
          "metadata": {},
          "execution_count": 69
        }
      ]
    },
    {
      "cell_type": "code",
      "metadata": {
        "colab": {
          "base_uri": "https://localhost:8080/",
          "height": 202
        },
        "id": "g6_xPSakaY5i",
        "outputId": "cb947608-d940-4f4e-8c3b-df770bdd5a2d"
      },
      "source": [
        "X.shape\n",
        "(150,4)\n",
        "X.columns=['Sepal_length','Sepal_width','petal_length','petal_width']\n",
        "X.head()"
      ],
      "execution_count": null,
      "outputs": [
        {
          "output_type": "execute_result",
          "data": {
            "text/html": [
              "<div>\n",
              "<style scoped>\n",
              "    .dataframe tbody tr th:only-of-type {\n",
              "        vertical-align: middle;\n",
              "    }\n",
              "\n",
              "    .dataframe tbody tr th {\n",
              "        vertical-align: top;\n",
              "    }\n",
              "\n",
              "    .dataframe thead th {\n",
              "        text-align: right;\n",
              "    }\n",
              "</style>\n",
              "<table border=\"1\" class=\"dataframe\">\n",
              "  <thead>\n",
              "    <tr style=\"text-align: right;\">\n",
              "      <th></th>\n",
              "      <th>Sepal_length</th>\n",
              "      <th>Sepal_width</th>\n",
              "      <th>petal_length</th>\n",
              "      <th>petal_width</th>\n",
              "    </tr>\n",
              "  </thead>\n",
              "  <tbody>\n",
              "    <tr>\n",
              "      <th>0</th>\n",
              "      <td>5.1</td>\n",
              "      <td>3.5</td>\n",
              "      <td>1.4</td>\n",
              "      <td>0.2</td>\n",
              "    </tr>\n",
              "    <tr>\n",
              "      <th>1</th>\n",
              "      <td>4.9</td>\n",
              "      <td>3.0</td>\n",
              "      <td>1.4</td>\n",
              "      <td>0.2</td>\n",
              "    </tr>\n",
              "    <tr>\n",
              "      <th>2</th>\n",
              "      <td>4.7</td>\n",
              "      <td>3.2</td>\n",
              "      <td>1.3</td>\n",
              "      <td>0.2</td>\n",
              "    </tr>\n",
              "    <tr>\n",
              "      <th>3</th>\n",
              "      <td>4.6</td>\n",
              "      <td>3.1</td>\n",
              "      <td>1.5</td>\n",
              "      <td>0.2</td>\n",
              "    </tr>\n",
              "    <tr>\n",
              "      <th>4</th>\n",
              "      <td>5.0</td>\n",
              "      <td>3.6</td>\n",
              "      <td>1.4</td>\n",
              "      <td>0.2</td>\n",
              "    </tr>\n",
              "  </tbody>\n",
              "</table>\n",
              "</div>"
            ],
            "text/plain": [
              "   Sepal_length  Sepal_width  petal_length  petal_width\n",
              "0           5.1          3.5           1.4          0.2\n",
              "1           4.9          3.0           1.4          0.2\n",
              "2           4.7          3.2           1.3          0.2\n",
              "3           4.6          3.1           1.5          0.2\n",
              "4           5.0          3.6           1.4          0.2"
            ]
          },
          "metadata": {},
          "execution_count": 70
        }
      ]
    },
    {
      "cell_type": "code",
      "metadata": {
        "colab": {
          "base_uri": "https://localhost:8080/",
          "height": 202
        },
        "id": "hM7F5_9aafVH",
        "outputId": "0a420ef9-182c-4824-a758-99ceb72c3a2f"
      },
      "source": [
        "X.tail()"
      ],
      "execution_count": null,
      "outputs": [
        {
          "output_type": "execute_result",
          "data": {
            "text/html": [
              "<div>\n",
              "<style scoped>\n",
              "    .dataframe tbody tr th:only-of-type {\n",
              "        vertical-align: middle;\n",
              "    }\n",
              "\n",
              "    .dataframe tbody tr th {\n",
              "        vertical-align: top;\n",
              "    }\n",
              "\n",
              "    .dataframe thead th {\n",
              "        text-align: right;\n",
              "    }\n",
              "</style>\n",
              "<table border=\"1\" class=\"dataframe\">\n",
              "  <thead>\n",
              "    <tr style=\"text-align: right;\">\n",
              "      <th></th>\n",
              "      <th>Sepal_length</th>\n",
              "      <th>Sepal_width</th>\n",
              "      <th>petal_length</th>\n",
              "      <th>petal_width</th>\n",
              "    </tr>\n",
              "  </thead>\n",
              "  <tbody>\n",
              "    <tr>\n",
              "      <th>145</th>\n",
              "      <td>6.7</td>\n",
              "      <td>3.0</td>\n",
              "      <td>5.2</td>\n",
              "      <td>2.3</td>\n",
              "    </tr>\n",
              "    <tr>\n",
              "      <th>146</th>\n",
              "      <td>6.3</td>\n",
              "      <td>2.5</td>\n",
              "      <td>5.0</td>\n",
              "      <td>1.9</td>\n",
              "    </tr>\n",
              "    <tr>\n",
              "      <th>147</th>\n",
              "      <td>6.5</td>\n",
              "      <td>3.0</td>\n",
              "      <td>5.2</td>\n",
              "      <td>2.0</td>\n",
              "    </tr>\n",
              "    <tr>\n",
              "      <th>148</th>\n",
              "      <td>6.2</td>\n",
              "      <td>3.4</td>\n",
              "      <td>5.4</td>\n",
              "      <td>2.3</td>\n",
              "    </tr>\n",
              "    <tr>\n",
              "      <th>149</th>\n",
              "      <td>5.9</td>\n",
              "      <td>3.0</td>\n",
              "      <td>5.1</td>\n",
              "      <td>1.8</td>\n",
              "    </tr>\n",
              "  </tbody>\n",
              "</table>\n",
              "</div>"
            ],
            "text/plain": [
              "     Sepal_length  Sepal_width  petal_length  petal_width\n",
              "145           6.7          3.0           5.2          2.3\n",
              "146           6.3          2.5           5.0          1.9\n",
              "147           6.5          3.0           5.2          2.0\n",
              "148           6.2          3.4           5.4          2.3\n",
              "149           5.9          3.0           5.1          1.8"
            ]
          },
          "metadata": {},
          "execution_count": 71
        }
      ]
    },
    {
      "cell_type": "code",
      "metadata": {
        "colab": {
          "base_uri": "https://localhost:8080/",
          "height": 294
        },
        "id": "08c5jJdCapBA",
        "outputId": "b84800f5-921f-4e27-f272-94b9b69a22f5"
      },
      "source": [
        "X.describe()"
      ],
      "execution_count": null,
      "outputs": [
        {
          "output_type": "execute_result",
          "data": {
            "text/html": [
              "<div>\n",
              "<style scoped>\n",
              "    .dataframe tbody tr th:only-of-type {\n",
              "        vertical-align: middle;\n",
              "    }\n",
              "\n",
              "    .dataframe tbody tr th {\n",
              "        vertical-align: top;\n",
              "    }\n",
              "\n",
              "    .dataframe thead th {\n",
              "        text-align: right;\n",
              "    }\n",
              "</style>\n",
              "<table border=\"1\" class=\"dataframe\">\n",
              "  <thead>\n",
              "    <tr style=\"text-align: right;\">\n",
              "      <th></th>\n",
              "      <th>Sepal_length</th>\n",
              "      <th>Sepal_width</th>\n",
              "      <th>petal_length</th>\n",
              "      <th>petal_width</th>\n",
              "    </tr>\n",
              "  </thead>\n",
              "  <tbody>\n",
              "    <tr>\n",
              "      <th>count</th>\n",
              "      <td>150.000000</td>\n",
              "      <td>150.000000</td>\n",
              "      <td>150.000000</td>\n",
              "      <td>150.000000</td>\n",
              "    </tr>\n",
              "    <tr>\n",
              "      <th>mean</th>\n",
              "      <td>5.843333</td>\n",
              "      <td>3.057333</td>\n",
              "      <td>3.758000</td>\n",
              "      <td>1.199333</td>\n",
              "    </tr>\n",
              "    <tr>\n",
              "      <th>std</th>\n",
              "      <td>0.828066</td>\n",
              "      <td>0.435866</td>\n",
              "      <td>1.765298</td>\n",
              "      <td>0.762238</td>\n",
              "    </tr>\n",
              "    <tr>\n",
              "      <th>min</th>\n",
              "      <td>4.300000</td>\n",
              "      <td>2.000000</td>\n",
              "      <td>1.000000</td>\n",
              "      <td>0.100000</td>\n",
              "    </tr>\n",
              "    <tr>\n",
              "      <th>25%</th>\n",
              "      <td>5.100000</td>\n",
              "      <td>2.800000</td>\n",
              "      <td>1.600000</td>\n",
              "      <td>0.300000</td>\n",
              "    </tr>\n",
              "    <tr>\n",
              "      <th>50%</th>\n",
              "      <td>5.800000</td>\n",
              "      <td>3.000000</td>\n",
              "      <td>4.350000</td>\n",
              "      <td>1.300000</td>\n",
              "    </tr>\n",
              "    <tr>\n",
              "      <th>75%</th>\n",
              "      <td>6.400000</td>\n",
              "      <td>3.300000</td>\n",
              "      <td>5.100000</td>\n",
              "      <td>1.800000</td>\n",
              "    </tr>\n",
              "    <tr>\n",
              "      <th>max</th>\n",
              "      <td>7.900000</td>\n",
              "      <td>4.400000</td>\n",
              "      <td>6.900000</td>\n",
              "      <td>2.500000</td>\n",
              "    </tr>\n",
              "  </tbody>\n",
              "</table>\n",
              "</div>"
            ],
            "text/plain": [
              "       Sepal_length  Sepal_width  petal_length  petal_width\n",
              "count    150.000000   150.000000    150.000000   150.000000\n",
              "mean       5.843333     3.057333      3.758000     1.199333\n",
              "std        0.828066     0.435866      1.765298     0.762238\n",
              "min        4.300000     2.000000      1.000000     0.100000\n",
              "25%        5.100000     2.800000      1.600000     0.300000\n",
              "50%        5.800000     3.000000      4.350000     1.300000\n",
              "75%        6.400000     3.300000      5.100000     1.800000\n",
              "max        7.900000     4.400000      6.900000     2.500000"
            ]
          },
          "metadata": {},
          "execution_count": 72
        }
      ]
    },
    {
      "cell_type": "code",
      "metadata": {
        "colab": {
          "base_uri": "https://localhost:8080/",
          "height": 171
        },
        "id": "x9ItNQyrauLA",
        "outputId": "c484342d-2ff6-4143-cdf1-a7c1656a6f58"
      },
      "source": [
        "X.cov()"
      ],
      "execution_count": null,
      "outputs": [
        {
          "output_type": "execute_result",
          "data": {
            "text/html": [
              "<div>\n",
              "<style scoped>\n",
              "    .dataframe tbody tr th:only-of-type {\n",
              "        vertical-align: middle;\n",
              "    }\n",
              "\n",
              "    .dataframe tbody tr th {\n",
              "        vertical-align: top;\n",
              "    }\n",
              "\n",
              "    .dataframe thead th {\n",
              "        text-align: right;\n",
              "    }\n",
              "</style>\n",
              "<table border=\"1\" class=\"dataframe\">\n",
              "  <thead>\n",
              "    <tr style=\"text-align: right;\">\n",
              "      <th></th>\n",
              "      <th>Sepal_length</th>\n",
              "      <th>Sepal_width</th>\n",
              "      <th>petal_length</th>\n",
              "      <th>petal_width</th>\n",
              "    </tr>\n",
              "  </thead>\n",
              "  <tbody>\n",
              "    <tr>\n",
              "      <th>Sepal_length</th>\n",
              "      <td>0.685694</td>\n",
              "      <td>-0.042434</td>\n",
              "      <td>1.274315</td>\n",
              "      <td>0.516271</td>\n",
              "    </tr>\n",
              "    <tr>\n",
              "      <th>Sepal_width</th>\n",
              "      <td>-0.042434</td>\n",
              "      <td>0.189979</td>\n",
              "      <td>-0.329656</td>\n",
              "      <td>-0.121639</td>\n",
              "    </tr>\n",
              "    <tr>\n",
              "      <th>petal_length</th>\n",
              "      <td>1.274315</td>\n",
              "      <td>-0.329656</td>\n",
              "      <td>3.116278</td>\n",
              "      <td>1.295609</td>\n",
              "    </tr>\n",
              "    <tr>\n",
              "      <th>petal_width</th>\n",
              "      <td>0.516271</td>\n",
              "      <td>-0.121639</td>\n",
              "      <td>1.295609</td>\n",
              "      <td>0.581006</td>\n",
              "    </tr>\n",
              "  </tbody>\n",
              "</table>\n",
              "</div>"
            ],
            "text/plain": [
              "              Sepal_length  Sepal_width  petal_length  petal_width\n",
              "Sepal_length      0.685694    -0.042434      1.274315     0.516271\n",
              "Sepal_width      -0.042434     0.189979     -0.329656    -0.121639\n",
              "petal_length      1.274315    -0.329656      3.116278     1.295609\n",
              "petal_width       0.516271    -0.121639      1.295609     0.581006"
            ]
          },
          "metadata": {},
          "execution_count": 73
        }
      ]
    },
    {
      "cell_type": "code",
      "metadata": {
        "colab": {
          "base_uri": "https://localhost:8080/"
        },
        "id": "5UEIchTsa41r",
        "outputId": "1d47ebf6-7379-49af-8f87-58d73a9b6f41"
      },
      "source": [
        "import numpy as np\n",
        "df=pd.DataFrame({'Name':['Priya','Nandu','Chinni','Chikki'],'state':['IND','USA','UK','USSR'],'Grade':['A','A','B','C'],'Age':np.random.uniform(24,35,size=4),'salary':np.random.uniform(3000,5000,size=4),})\n",
        "print(df)"
      ],
      "execution_count": null,
      "outputs": [
        {
          "output_type": "stream",
          "name": "stdout",
          "text": [
            "     Name state Grade        Age       salary\n",
            "0   Priya   IND     A  34.336089  4078.551236\n",
            "1   Nandu   USA     A  25.695387  3952.519823\n",
            "2  Chinni    UK     B  29.462669  3483.604182\n",
            "3  Chikki  USSR     C  28.247790  4491.401975\n"
          ]
        }
      ]
    },
    {
      "cell_type": "code",
      "metadata": {
        "colab": {
          "base_uri": "https://localhost:8080/",
          "height": 202
        },
        "id": "QnGspGsFbPRG",
        "outputId": "e05f14ea-0144-4401-a243-f7233f7b5265"
      },
      "source": [
        "import numpy as np\n",
        "import pandas as pd\n",
        "df=pd.DataFrame({'Name':['Nandu','priya','Chinni','Chikki'],'state':['IND','USA','UK','USSR'],'Grade':['A','A','B','C'],'Age':np.random.uniform(24,35,size=4),'salary':np.random.uniform(3000,5000,size=4),})\n",
        "df.groupby(['Name','state']).max()"
      ],
      "execution_count": null,
      "outputs": [
        {
          "output_type": "execute_result",
          "data": {
            "text/html": [
              "<div>\n",
              "<style scoped>\n",
              "    .dataframe tbody tr th:only-of-type {\n",
              "        vertical-align: middle;\n",
              "    }\n",
              "\n",
              "    .dataframe tbody tr th {\n",
              "        vertical-align: top;\n",
              "    }\n",
              "\n",
              "    .dataframe thead th {\n",
              "        text-align: right;\n",
              "    }\n",
              "</style>\n",
              "<table border=\"1\" class=\"dataframe\">\n",
              "  <thead>\n",
              "    <tr style=\"text-align: right;\">\n",
              "      <th></th>\n",
              "      <th></th>\n",
              "      <th>Grade</th>\n",
              "      <th>Age</th>\n",
              "      <th>salary</th>\n",
              "    </tr>\n",
              "    <tr>\n",
              "      <th>Name</th>\n",
              "      <th>state</th>\n",
              "      <th></th>\n",
              "      <th></th>\n",
              "      <th></th>\n",
              "    </tr>\n",
              "  </thead>\n",
              "  <tbody>\n",
              "    <tr>\n",
              "      <th>Chikki</th>\n",
              "      <th>USSR</th>\n",
              "      <td>C</td>\n",
              "      <td>29.619874</td>\n",
              "      <td>4328.971753</td>\n",
              "    </tr>\n",
              "    <tr>\n",
              "      <th>Chinni</th>\n",
              "      <th>UK</th>\n",
              "      <td>B</td>\n",
              "      <td>29.020407</td>\n",
              "      <td>4031.922548</td>\n",
              "    </tr>\n",
              "    <tr>\n",
              "      <th>Nandu</th>\n",
              "      <th>IND</th>\n",
              "      <td>A</td>\n",
              "      <td>25.159076</td>\n",
              "      <td>4541.765100</td>\n",
              "    </tr>\n",
              "    <tr>\n",
              "      <th>priya</th>\n",
              "      <th>USA</th>\n",
              "      <td>A</td>\n",
              "      <td>29.586244</td>\n",
              "      <td>4326.671473</td>\n",
              "    </tr>\n",
              "  </tbody>\n",
              "</table>\n",
              "</div>"
            ],
            "text/plain": [
              "             Grade        Age       salary\n",
              "Name   state                              \n",
              "Chikki USSR      C  29.619874  4328.971753\n",
              "Chinni UK        B  29.020407  4031.922548\n",
              "Nandu  IND       A  25.159076  4541.765100\n",
              "priya  USA       A  29.586244  4326.671473"
            ]
          },
          "metadata": {},
          "execution_count": 76
        }
      ]
    },
    {
      "cell_type": "markdown",
      "metadata": {
        "id": "dNGcGBGAbndN"
      },
      "source": [
        "# **Scipy**"
      ]
    },
    {
      "cell_type": "code",
      "metadata": {
        "colab": {
          "base_uri": "https://localhost:8080/"
        },
        "id": "A8GLhd50buhg",
        "outputId": "d0d315ee-c9af-4fa8-db5f-bd08bc52810c"
      },
      "source": [
        "import numpy as np\n",
        "np.linspace(1.,4.,6)"
      ],
      "execution_count": null,
      "outputs": [
        {
          "output_type": "execute_result",
          "data": {
            "text/plain": [
              "array([1. , 1.6, 2.2, 2.8, 3.4, 4. ])"
            ]
          },
          "metadata": {},
          "execution_count": 77
        }
      ]
    },
    {
      "cell_type": "code",
      "metadata": {
        "colab": {
          "base_uri": "https://localhost:8080/"
        },
        "id": "H_8v-TQfb0S1",
        "outputId": "2203dc0d-23ba-47fc-c748-0803fc10a0f0"
      },
      "source": [
        "from scipy.cluster.vq import kmeans,vq,whiten\n",
        "from numpy import vstack,array\n",
        "from numpy.random import rand\n",
        "\n",
        "data=vstack((rand(100,3)+array([.5,.5,.5]),rand(100,3)))\n",
        "data"
      ],
      "execution_count": null,
      "outputs": [
        {
          "output_type": "execute_result",
          "data": {
            "text/plain": [
              "array([[1.04342181e+00, 5.89915148e-01, 1.25230417e+00],\n",
              "       [6.21162273e-01, 1.39314683e+00, 9.74985677e-01],\n",
              "       [9.05853299e-01, 9.29726403e-01, 6.88627996e-01],\n",
              "       [1.24103661e+00, 1.37440783e+00, 5.62314348e-01],\n",
              "       [7.02173557e-01, 7.57002107e-01, 1.09197462e+00],\n",
              "       [7.23697009e-01, 1.11766250e+00, 1.34478465e+00],\n",
              "       [1.14384008e+00, 7.49648474e-01, 8.41063888e-01],\n",
              "       [1.16573750e+00, 8.31796840e-01, 9.27211588e-01],\n",
              "       [1.16532016e+00, 1.30567247e+00, 1.05595987e+00],\n",
              "       [1.37304653e+00, 8.75424038e-01, 1.31828991e+00],\n",
              "       [1.34593258e+00, 9.73658340e-01, 1.15177537e+00],\n",
              "       [1.09256829e+00, 1.17879541e+00, 1.18321304e+00],\n",
              "       [7.44813936e-01, 5.43659747e-01, 7.62122261e-01],\n",
              "       [1.49658426e+00, 6.62825814e-01, 1.09328195e+00],\n",
              "       [8.77763193e-01, 1.31042577e+00, 1.34771726e+00],\n",
              "       [7.26795160e-01, 1.05709955e+00, 1.32087240e+00],\n",
              "       [8.01761704e-01, 1.37499360e+00, 1.34489028e+00],\n",
              "       [1.25459951e+00, 1.15121453e+00, 1.10547475e+00],\n",
              "       [1.08281128e+00, 1.02907917e+00, 5.57994240e-01],\n",
              "       [1.30312648e+00, 5.42572102e-01, 5.11243965e-01],\n",
              "       [9.99505076e-01, 1.48346355e+00, 5.77000202e-01],\n",
              "       [1.01023429e+00, 1.04455290e+00, 1.09366574e+00],\n",
              "       [6.46596597e-01, 6.96077091e-01, 1.22506479e+00],\n",
              "       [1.27450594e+00, 1.46445403e+00, 9.28678757e-01],\n",
              "       [8.41851378e-01, 5.33200187e-01, 1.13887798e+00],\n",
              "       [1.20891853e+00, 1.12151195e+00, 1.32235648e+00],\n",
              "       [1.12656039e+00, 7.44352621e-01, 8.89424072e-01],\n",
              "       [1.10979051e+00, 9.13363295e-01, 1.08222687e+00],\n",
              "       [1.47952677e+00, 7.92694178e-01, 1.29614082e+00],\n",
              "       [5.01827803e-01, 5.05816368e-01, 1.05480860e+00],\n",
              "       [1.40123888e+00, 1.16298203e+00, 1.41418196e+00],\n",
              "       [6.67189990e-01, 9.91702267e-01, 8.20243818e-01],\n",
              "       [1.22902659e+00, 1.01934718e+00, 1.19407235e+00],\n",
              "       [8.02081340e-01, 9.70036758e-01, 1.09129846e+00],\n",
              "       [1.07069740e+00, 1.33362468e+00, 1.00423318e+00],\n",
              "       [6.22606979e-01, 7.91900398e-01, 1.26991586e+00],\n",
              "       [1.09311861e+00, 1.38564207e+00, 1.27194383e+00],\n",
              "       [1.26696896e+00, 6.70821277e-01, 1.07751940e+00],\n",
              "       [1.12936088e+00, 1.01119098e+00, 9.85909266e-01],\n",
              "       [1.07033640e+00, 1.27463345e+00, 1.25611704e+00],\n",
              "       [1.28226889e+00, 6.78658188e-01, 5.42377516e-01],\n",
              "       [9.75841836e-01, 1.46882930e+00, 1.43759173e+00],\n",
              "       [9.70302743e-01, 1.21303704e+00, 9.02322683e-01],\n",
              "       [8.21027187e-01, 8.59042433e-01, 9.90435542e-01],\n",
              "       [1.08528600e+00, 9.43691684e-01, 1.07865624e+00],\n",
              "       [1.48078576e+00, 1.34001076e+00, 1.09816198e+00],\n",
              "       [9.07120782e-01, 1.19373324e+00, 1.10558466e+00],\n",
              "       [5.61765311e-01, 7.83772772e-01, 1.40677435e+00],\n",
              "       [1.28344185e+00, 6.01932761e-01, 1.12902364e+00],\n",
              "       [1.12362874e+00, 1.37748102e+00, 7.46168915e-01],\n",
              "       [1.33631892e+00, 8.83150955e-01, 6.29840215e-01],\n",
              "       [1.24929283e+00, 8.95714709e-01, 8.01113848e-01],\n",
              "       [8.76025541e-01, 1.32425626e+00, 1.22015354e+00],\n",
              "       [1.44967239e+00, 1.11553597e+00, 5.04450797e-01],\n",
              "       [6.96480586e-01, 7.63261171e-01, 7.89698416e-01],\n",
              "       [7.65266287e-01, 1.39054889e+00, 6.76085031e-01],\n",
              "       [6.39526293e-01, 5.33474033e-01, 8.25011275e-01],\n",
              "       [1.31876842e+00, 1.30641536e+00, 1.45942746e+00],\n",
              "       [1.40602641e+00, 1.16270585e+00, 1.46128238e+00],\n",
              "       [1.08724003e+00, 1.25764004e+00, 1.18897782e+00],\n",
              "       [6.73708096e-01, 1.05182613e+00, 1.32684169e+00],\n",
              "       [1.23215802e+00, 8.36698644e-01, 6.14888101e-01],\n",
              "       [9.65028666e-01, 9.63130449e-01, 1.43046193e+00],\n",
              "       [1.49629013e+00, 1.39240640e+00, 1.46104847e+00],\n",
              "       [5.86901811e-01, 1.20871718e+00, 1.04154950e+00],\n",
              "       [1.42345130e+00, 7.08750813e-01, 8.07890557e-01],\n",
              "       [9.08762641e-01, 1.37128989e+00, 1.46985435e+00],\n",
              "       [5.34619116e-01, 6.43543113e-01, 1.07098044e+00],\n",
              "       [6.74320989e-01, 1.47934969e+00, 9.43138165e-01],\n",
              "       [5.44226625e-01, 7.76140985e-01, 9.01564209e-01],\n",
              "       [7.14497857e-01, 1.11085720e+00, 9.01210346e-01],\n",
              "       [1.30111328e+00, 9.60124456e-01, 7.28363505e-01],\n",
              "       [1.26407406e+00, 9.69945814e-01, 1.07326109e+00],\n",
              "       [1.31131566e+00, 6.09040029e-01, 1.43924162e+00],\n",
              "       [1.12016108e+00, 6.55046986e-01, 1.08694077e+00],\n",
              "       [6.91827517e-01, 1.45199909e+00, 9.67860847e-01],\n",
              "       [1.06746331e+00, 1.09838511e+00, 7.25036653e-01],\n",
              "       [1.41298755e+00, 7.20705959e-01, 1.05461873e+00],\n",
              "       [1.00446418e+00, 6.38209850e-01, 1.24101513e+00],\n",
              "       [6.76709438e-01, 9.95303402e-01, 9.74883085e-01],\n",
              "       [1.06694181e+00, 1.17841242e+00, 5.00233659e-01],\n",
              "       [7.67897401e-01, 6.87300695e-01, 1.07273227e+00],\n",
              "       [5.35593503e-01, 1.13116708e+00, 7.72362979e-01],\n",
              "       [9.70342217e-01, 9.78243756e-01, 7.25652342e-01],\n",
              "       [1.45508124e+00, 5.33126481e-01, 1.41710935e+00],\n",
              "       [1.38660027e+00, 1.38145210e+00, 1.09762199e+00],\n",
              "       [5.65065795e-01, 1.41373548e+00, 5.09828552e-01],\n",
              "       [1.40511153e+00, 1.26343461e+00, 1.34257087e+00],\n",
              "       [1.03408254e+00, 1.36355915e+00, 1.18827460e+00],\n",
              "       [6.68793182e-01, 1.34645281e+00, 1.38923250e+00],\n",
              "       [5.84231626e-01, 1.01027554e+00, 1.02139094e+00],\n",
              "       [7.87290978e-01, 1.03577832e+00, 7.28541193e-01],\n",
              "       [8.43577259e-01, 8.87391273e-01, 6.60330662e-01],\n",
              "       [1.45733432e+00, 1.45051744e+00, 1.28133731e+00],\n",
              "       [1.11079196e+00, 9.17339229e-01, 1.16139479e+00],\n",
              "       [1.03148773e+00, 1.12726816e+00, 7.70956214e-01],\n",
              "       [7.74307286e-01, 1.03099373e+00, 6.32863134e-01],\n",
              "       [1.12959660e+00, 1.22255184e+00, 1.30949524e+00],\n",
              "       [5.01863018e-01, 1.43975482e+00, 1.22530222e+00],\n",
              "       [6.82531642e-01, 8.72664772e-01, 7.34165321e-01],\n",
              "       [5.20172946e-02, 6.97827896e-01, 6.99152971e-01],\n",
              "       [8.15792046e-01, 6.31184544e-02, 7.87367367e-01],\n",
              "       [8.32865297e-01, 7.63118174e-01, 9.87169086e-01],\n",
              "       [6.00189803e-01, 1.29724705e-01, 9.22257343e-01],\n",
              "       [8.50318442e-01, 6.75767345e-01, 6.81454636e-01],\n",
              "       [3.28097768e-01, 7.65238315e-01, 8.13776192e-01],\n",
              "       [4.73974897e-01, 3.30771521e-01, 7.97559627e-01],\n",
              "       [9.12754047e-01, 5.10700451e-01, 6.80244433e-02],\n",
              "       [4.97888930e-01, 7.03592297e-01, 2.75833783e-01],\n",
              "       [8.89402826e-02, 3.91065720e-01, 1.90114374e-01],\n",
              "       [4.54484011e-01, 5.97654427e-01, 6.29269870e-01],\n",
              "       [4.02497149e-01, 8.26386383e-01, 4.32139798e-01],\n",
              "       [9.77080013e-01, 7.00742440e-01, 5.16963746e-01],\n",
              "       [6.74720402e-01, 1.32415316e-02, 7.82838635e-01],\n",
              "       [8.07191068e-01, 6.16894630e-02, 2.28555538e-01],\n",
              "       [3.76642548e-01, 1.87385362e-01, 3.26418798e-01],\n",
              "       [7.83041537e-01, 5.58259788e-01, 1.08681634e-01],\n",
              "       [3.34163610e-01, 8.87165944e-01, 6.98589641e-02],\n",
              "       [4.60723450e-01, 9.79763308e-01, 7.47272427e-01],\n",
              "       [3.94580344e-01, 9.43268261e-01, 7.15599835e-01],\n",
              "       [6.90789766e-04, 9.92106226e-01, 8.20375091e-01],\n",
              "       [7.37877515e-01, 9.99980723e-01, 1.09897756e-02],\n",
              "       [2.41427223e-01, 4.02093222e-01, 4.17827847e-01],\n",
              "       [2.07934987e-01, 6.88149068e-01, 6.10835888e-01],\n",
              "       [7.43991621e-01, 8.37286598e-01, 9.95280654e-01],\n",
              "       [7.45710443e-01, 8.27988479e-01, 1.70311037e-01],\n",
              "       [4.17544221e-01, 7.18051281e-01, 2.89754580e-01],\n",
              "       [3.32195527e-01, 8.42310627e-02, 2.93581004e-01],\n",
              "       [6.56482888e-01, 5.07840335e-01, 8.16816116e-01],\n",
              "       [7.05020371e-01, 5.91279584e-01, 4.14456372e-01],\n",
              "       [5.51457313e-02, 6.71238135e-01, 7.79955715e-01],\n",
              "       [6.88567102e-01, 7.27883834e-02, 6.91207951e-01],\n",
              "       [4.99732784e-02, 9.14671513e-01, 7.38269747e-01],\n",
              "       [3.69643210e-01, 7.00284072e-01, 1.73546842e-01],\n",
              "       [3.15746577e-01, 2.56605159e-02, 7.22104807e-01],\n",
              "       [9.82621943e-01, 4.72341242e-02, 2.61961261e-01],\n",
              "       [8.99035872e-01, 7.41465689e-01, 8.27149896e-01],\n",
              "       [8.05249193e-01, 3.65590105e-03, 6.00888458e-01],\n",
              "       [5.92572579e-01, 4.52793944e-02, 2.35745585e-01],\n",
              "       [4.44843638e-02, 2.70418119e-01, 2.82280208e-01],\n",
              "       [1.00115953e-01, 2.44825447e-01, 3.69494790e-01],\n",
              "       [2.24344284e-01, 6.20539309e-01, 1.22845417e-01],\n",
              "       [8.95175366e-01, 1.81671942e-03, 5.12683348e-01],\n",
              "       [4.22554484e-01, 9.19563118e-01, 8.92427328e-01],\n",
              "       [7.12229755e-02, 5.79764001e-01, 1.32155105e-01],\n",
              "       [8.28451554e-01, 8.11453460e-01, 9.50205286e-01],\n",
              "       [8.46352900e-01, 4.13213875e-01, 9.19239473e-01],\n",
              "       [5.41463723e-01, 7.02046652e-01, 6.23590625e-02],\n",
              "       [1.79383135e-01, 6.74711917e-01, 6.87606426e-01],\n",
              "       [2.21831535e-01, 1.64318161e-01, 7.99400608e-01],\n",
              "       [7.96930884e-01, 4.24680293e-01, 9.50484709e-01],\n",
              "       [9.51507526e-02, 3.50893743e-01, 7.59247362e-03],\n",
              "       [4.23522923e-01, 6.65808380e-02, 3.63332623e-04],\n",
              "       [7.88780915e-02, 9.52238400e-01, 9.45173414e-01],\n",
              "       [9.52081916e-01, 9.88630506e-01, 1.00541054e-01],\n",
              "       [6.02841751e-01, 7.47644966e-01, 6.78684407e-01],\n",
              "       [5.65339621e-01, 6.67223868e-01, 9.66581565e-01],\n",
              "       [4.31956881e-03, 7.35405470e-01, 4.09642095e-01],\n",
              "       [5.25103134e-01, 2.22864569e-01, 3.69880136e-01],\n",
              "       [1.93860148e-01, 2.83454521e-01, 2.57848908e-01],\n",
              "       [2.79871975e-01, 7.42346683e-01, 4.85037827e-01],\n",
              "       [3.36482569e-01, 1.89684036e-02, 2.84546454e-01],\n",
              "       [3.97167282e-01, 2.90587571e-01, 3.13794785e-01],\n",
              "       [2.86239112e-01, 5.77723621e-01, 6.62313142e-01],\n",
              "       [6.83632878e-01, 8.67899491e-01, 5.67880115e-01],\n",
              "       [3.54637763e-01, 9.68113423e-01, 6.46530559e-01],\n",
              "       [8.13071031e-01, 8.64127912e-01, 5.45484822e-01],\n",
              "       [4.94421836e-01, 4.05419858e-01, 4.26237015e-01],\n",
              "       [1.60430889e-03, 9.74576331e-01, 1.75254238e-01],\n",
              "       [4.76283419e-02, 3.62710309e-02, 9.23633563e-01],\n",
              "       [2.48980103e-01, 5.46649527e-01, 1.76792464e-01],\n",
              "       [8.24087134e-01, 8.70734391e-02, 7.51740820e-01],\n",
              "       [6.47316854e-01, 4.01720219e-01, 5.67453365e-01],\n",
              "       [9.22061046e-01, 2.67795344e-01, 5.25434212e-01],\n",
              "       [4.52941364e-03, 1.23236263e-01, 6.52181737e-01],\n",
              "       [1.66964592e-01, 3.39198287e-01, 6.55495112e-01],\n",
              "       [4.38887153e-01, 4.84027288e-01, 3.56801940e-01],\n",
              "       [5.82835786e-02, 1.63543913e-01, 4.27028337e-01],\n",
              "       [2.75266331e-01, 8.56717073e-01, 3.28356302e-01],\n",
              "       [6.35058482e-01, 2.85149062e-01, 2.19395654e-01],\n",
              "       [6.16812513e-02, 2.34766122e-01, 3.23721898e-01],\n",
              "       [1.45939542e-01, 2.17862814e-02, 1.22600666e-01],\n",
              "       [7.77325128e-01, 1.03826486e-01, 3.87044249e-01],\n",
              "       [1.27583186e-01, 2.24120325e-01, 9.58560858e-01],\n",
              "       [8.49755699e-01, 6.20606911e-01, 5.72727652e-01],\n",
              "       [1.46236188e-01, 4.91446668e-01, 1.70522548e-01],\n",
              "       [6.10767046e-01, 8.67513966e-01, 5.76485528e-01],\n",
              "       [3.77989020e-01, 6.67862522e-01, 9.18226865e-01],\n",
              "       [5.94462280e-01, 7.88676165e-01, 1.50126462e-01],\n",
              "       [7.63346048e-01, 4.60309434e-02, 5.06856009e-01],\n",
              "       [4.05821575e-01, 3.22810945e-01, 6.70068542e-02],\n",
              "       [5.51022756e-01, 7.09003484e-01, 1.12154091e-01],\n",
              "       [8.67158616e-01, 8.39866468e-01, 5.58869184e-01],\n",
              "       [3.55766321e-01, 6.44355177e-01, 2.31264608e-01],\n",
              "       [4.83594351e-01, 8.46254014e-01, 6.13111318e-01],\n",
              "       [3.60724634e-01, 5.11072069e-02, 9.93259047e-01],\n",
              "       [9.24464712e-01, 8.44439077e-01, 6.80109057e-01],\n",
              "       [7.02267453e-01, 5.06822096e-01, 7.13061217e-01],\n",
              "       [5.84278704e-01, 1.09037164e-01, 1.15253331e-01],\n",
              "       [4.02587876e-01, 8.71200395e-01, 2.55675849e-01]])"
            ]
          },
          "metadata": {},
          "execution_count": 78
        }
      ]
    },
    {
      "cell_type": "code",
      "metadata": {
        "colab": {
          "base_uri": "https://localhost:8080/"
        },
        "id": "nt_xuNU_b_Fw",
        "outputId": "a0e689a9-6e18-4a63-b10d-1001c0c450e9"
      },
      "source": [
        "centroids,_=kmeans(data,3)\n",
        "centroids"
      ],
      "execution_count": null,
      "outputs": [
        {
          "output_type": "execute_result",
          "data": {
            "text/plain": [
              "array([[0.70584018, 0.84185893, 0.80590206],\n",
              "       [0.41314307, 0.39399026, 0.39902726],\n",
              "       [1.13574641, 1.09886659, 1.12466437]])"
            ]
          },
          "metadata": {},
          "execution_count": 79
        }
      ]
    },
    {
      "cell_type": "code",
      "metadata": {
        "colab": {
          "base_uri": "https://localhost:8080/"
        },
        "id": "nzLgGrg1cCyp",
        "outputId": "dbf439af-f857-48dc-d2eb-ff5be76980b8"
      },
      "source": [
        "clx,_=vq(data,centroids)\n",
        "clx"
      ],
      "execution_count": null,
      "outputs": [
        {
          "output_type": "execute_result",
          "data": {
            "text/plain": [
              "array([2, 0, 0, 2, 0, 2, 0, 2, 2, 2, 2, 2, 0, 2, 2, 2, 2, 2, 0, 0, 2, 2,\n",
              "       0, 2, 0, 2, 2, 2, 2, 0, 2, 0, 2, 0, 2, 0, 2, 2, 2, 2, 0, 2, 2, 0,\n",
              "       2, 2, 2, 0, 2, 2, 2, 2, 2, 2, 0, 0, 0, 2, 2, 2, 2, 0, 2, 2, 0, 2,\n",
              "       2, 0, 2, 0, 0, 2, 2, 2, 2, 2, 2, 2, 2, 0, 0, 0, 0, 0, 2, 2, 0, 2,\n",
              "       2, 2, 0, 0, 0, 2, 2, 2, 0, 2, 2, 0, 1, 1, 0, 1, 0, 0, 1, 1, 1, 1,\n",
              "       1, 1, 0, 1, 1, 1, 1, 1, 0, 0, 0, 1, 1, 1, 0, 1, 1, 1, 0, 1, 1, 1,\n",
              "       0, 1, 1, 1, 0, 1, 1, 1, 1, 1, 1, 0, 1, 0, 0, 1, 1, 1, 0, 1, 1, 0,\n",
              "       0, 0, 0, 1, 1, 1, 1, 1, 1, 1, 0, 0, 0, 1, 1, 1, 1, 1, 1, 1, 1, 1,\n",
              "       1, 1, 1, 1, 1, 1, 1, 1, 0, 1, 0, 0, 1, 1, 1, 1, 0, 1, 0, 1, 0, 0,\n",
              "       1, 1], dtype=int32)"
            ]
          },
          "metadata": {},
          "execution_count": 80
        }
      ]
    },
    {
      "cell_type": "code",
      "metadata": {
        "colab": {
          "base_uri": "https://localhost:8080/"
        },
        "id": "gLXNJdgTcSBC",
        "outputId": "03439a20-0cd7-49fc-80f3-17deab0bd154"
      },
      "source": [
        "from scipy.fftpack import fft\n",
        "\n",
        "x=np.array([1.0,2.0,1.0,-1.0,1.5])\n",
        "\n",
        "y=fft(x)\n",
        "print(\"FFT :\\n\",y)"
      ],
      "execution_count": null,
      "outputs": [
        {
          "output_type": "stream",
          "name": "stdout",
          "text": [
            "FFT :\n",
            " [ 4.5       -0.j          2.08155948-1.65109876j -1.83155948+1.60822041j\n",
            " -1.83155948-1.60822041j  2.08155948+1.65109876j]\n"
          ]
        }
      ]
    },
    {
      "cell_type": "code",
      "metadata": {
        "colab": {
          "base_uri": "https://localhost:8080/"
        },
        "id": "AP5PQoOQcUw7",
        "outputId": "47c6a525-eb28-4a84-c127-1a54181977f1"
      },
      "source": [
        "from scipy.fftpack import ifft\n",
        "yinv=ifft(y)\n",
        "print(\"FFT Inverse:\\n\",yinv)"
      ],
      "execution_count": null,
      "outputs": [
        {
          "output_type": "stream",
          "name": "stdout",
          "text": [
            "FFT Inverse:\n",
            " [ 1. +0.j  2. +0.j  1. +0.j -1. +0.j  1.5+0.j]\n"
          ]
        }
      ]
    },
    {
      "cell_type": "code",
      "metadata": {
        "colab": {
          "base_uri": "https://localhost:8080/"
        },
        "id": "FNHZ0OkycfT0",
        "outputId": "7a36d5b5-7698-4172-d433-d3a4f629cb87"
      },
      "source": [
        "from scipy.fftpack import dct\n",
        "print(\"DCT:\\n\",dct(np.array([4.,3.,5.,10.,5.,3.])))"
      ],
      "execution_count": null,
      "outputs": [
        {
          "output_type": "stream",
          "name": "stdout",
          "text": [
            "DCT:\n",
            " [ 60.          -3.48476592 -13.85640646  11.3137085    6.\n",
            "  -6.31319305]\n"
          ]
        }
      ]
    },
    {
      "cell_type": "markdown",
      "metadata": {
        "id": "-kNBKgvycnH7"
      },
      "source": [
        "# **SciPy-Integrated**"
      ]
    },
    {
      "cell_type": "markdown",
      "metadata": {
        "id": "kw1U1s8sctLd"
      },
      "source": [
        "The general form of quad is scipy.integrate.quad(f,a,b), Where 'f' is the name of the function to be integrated. Whereas, 'a' and 'b' are the lower and upper limits, respectively. Let us see an example of the Gaussian function, integrated over a range of 0 and 1                                "
      ]
    },
    {
      "cell_type": "markdown",
      "metadata": {
        "id": "Usq3Nbt2c00q"
      },
      "source": [
        "  # **∫f(x)dx**"
      ]
    },
    {
      "cell_type": "code",
      "metadata": {
        "colab": {
          "base_uri": "https://localhost:8080/"
        },
        "id": "9Q3N-0XUc2rd",
        "outputId": "46266691-f5a1-4ebf-8bbd-bb550166a48c"
      },
      "source": [
        "import scipy.integrate\n",
        "from numpy import exp\n",
        "f=lambda x:exp(-x**2)\n",
        "i=scipy.integrate.quad(f,0,1)\n",
        "print(i)"
      ],
      "execution_count": null,
      "outputs": [
        {
          "output_type": "stream",
          "name": "stdout",
          "text": [
            "(0.7468241328124271, 8.291413475940725e-15)\n"
          ]
        }
      ]
    },
    {
      "cell_type": "markdown",
      "metadata": {
        "id": "HJXLcrrgdJ69"
      },
      "source": [
        "# **Linear Algebra**"
      ]
    },
    {
      "cell_type": "markdown",
      "metadata": {
        "id": "4eGEcw0adS1s"
      },
      "source": [
        "**x+3y+5z=10**\n",
        "\n",
        "**2x+5y+z=8**\n",
        "\n",
        "**2x+3y+8z=3 ***"
      ]
    },
    {
      "cell_type": "code",
      "metadata": {
        "colab": {
          "base_uri": "https://localhost:8080/"
        },
        "id": "21gSGK7IdYR7",
        "outputId": "6e5ecebe-1cb9-4c0c-9f2c-1d8fbb68b720"
      },
      "source": [
        "from scipy import linalg\n",
        "import numpy as np\n",
        "\n",
        "a=np.array([[1,3,5],[2,5,1],[2,3,8]])\n",
        "b=np.array([10,8,3])\n",
        "\n",
        "X=linalg.solve(a,b)\n",
        "\n",
        "print(X)"
      ],
      "execution_count": null,
      "outputs": [
        {
          "output_type": "stream",
          "name": "stdout",
          "text": [
            "[-9.28  5.16  0.76]\n"
          ]
        }
      ]
    },
    {
      "cell_type": "markdown",
      "metadata": {
        "id": "q6obC2MxdkVQ"
      },
      "source": [
        "# **Finding an Determinant**"
      ]
    },
    {
      "cell_type": "code",
      "metadata": {
        "colab": {
          "base_uri": "https://localhost:8080/"
        },
        "id": "NCtQtsxldlhs",
        "outputId": "d25314e0-fb97-45a5-c3c2-036f69a78f3d"
      },
      "source": [
        "from scipy import linalg\n",
        "import numpy as np\n",
        "\n",
        "A=np.array([[1,2],[3,4]])\n",
        "\n",
        "x=linalg.det(A)\n",
        "\n",
        "print(x)"
      ],
      "execution_count": null,
      "outputs": [
        {
          "output_type": "stream",
          "name": "stdout",
          "text": [
            "-2.0\n"
          ]
        }
      ]
    },
    {
      "cell_type": "markdown",
      "metadata": {
        "id": "B5cIok52dz8N"
      },
      "source": [
        "# **Eigen values and Eigen Vectors**"
      ]
    },
    {
      "cell_type": "code",
      "metadata": {
        "colab": {
          "base_uri": "https://localhost:8080/"
        },
        "id": "kO7u_EkHd1N5",
        "outputId": "39071cc9-7bed-4ca0-9b4f-526068d3c81f"
      },
      "source": [
        "from scipy import linalg\n",
        "import numpy as np\n",
        "\n",
        "A=np.array([[1,2],[3,4]])\n",
        "\n",
        "l,v=linalg.eig(A)\n",
        "\n",
        "print(\"Eigen Values :\\n\",l)\n",
        "\n",
        "print(\"Eigen Vectors:\\n\",v)"
      ],
      "execution_count": null,
      "outputs": [
        {
          "output_type": "stream",
          "name": "stdout",
          "text": [
            "Eigen Values :\n",
            " [-0.37228132+0.j  5.37228132+0.j]\n",
            "Eigen Vectors:\n",
            " [[-0.82456484 -0.41597356]\n",
            " [ 0.56576746 -0.90937671]]\n"
          ]
        }
      ]
    },
    {
      "cell_type": "markdown",
      "metadata": {
        "id": "Ynr6yIoDeGa6"
      },
      "source": [
        "# **Matplot Library**"
      ]
    },
    {
      "cell_type": "code",
      "metadata": {
        "colab": {
          "base_uri": "https://localhost:8080/",
          "height": 265
        },
        "id": "c0SYWWOReIej",
        "outputId": "c4c816e1-2d05-42ac-b00a-9690b806aa60"
      },
      "source": [
        "import matplotlib.pyplot as plt\n",
        "import numpy as np\n",
        "\n",
        "x=np.arange(5)\n",
        "y=(35,45,23,27,60)\n",
        "\n",
        "plt.bar(x,y)\n",
        "plt.show()"
      ],
      "execution_count": null,
      "outputs": [
        {
          "output_type": "display_data",
          "data": {
            "image/png": "[encoded data removed]",
            "text/plain": [
              "<Figure size 432x288 with 1 Axes>"
            ]
          },
          "metadata": {
            "needs_background": "light"
          }
        }
      ]
    },
    {
      "cell_type": "code",
      "metadata": {
        "colab": {
          "base_uri": "https://localhost:8080/",
          "height": 265
        },
        "id": "n_sWQ69Ge-dL",
        "outputId": "b7ef7dcb-c253-4368-d0ae-06a47f840aaa"
      },
      "source": [
        "plt.scatter(x,y)\n",
        "plt.show()"
      ],
      "execution_count": null,
      "outputs": [
        {
          "output_type": "display_data",
          "data": {
            "image/png": "[encoded data removed]",
            "text/plain": [
              "<Figure size 432x288 with 1 Axes>"
            ]
          },
          "metadata": {
            "needs_background": "light"
          }
        }
      ]
    },
    {
      "cell_type": "code",
      "metadata": {
        "colab": {
          "base_uri": "https://localhost:8080/",
          "height": 202
        },
        "id": "J6x4AikvfGOD",
        "outputId": "1ca1a5af-1d79-4d0e-a512-3c707ef2b619"
      },
      "source": [
        "import pandas as pd\n",
        "from sklearn.datasets import load_iris\n",
        "iris=load_iris()\n",
        "df=pd.DataFrame(iris.data)\n",
        "\n",
        "df.columns=['sepal_Length','sepal_Width','petal_Length','petal_Width']\n",
        "df.head()"
      ],
      "execution_count": null,
      "outputs": [
        {
          "output_type": "execute_result",
          "data": {
            "text/html": [
              "<div>\n",
              "<style scoped>\n",
              "    .dataframe tbody tr th:only-of-type {\n",
              "        vertical-align: middle;\n",
              "    }\n",
              "\n",
              "    .dataframe tbody tr th {\n",
              "        vertical-align: top;\n",
              "    }\n",
              "\n",
              "    .dataframe thead th {\n",
              "        text-align: right;\n",
              "    }\n",
              "</style>\n",
              "<table border=\"1\" class=\"dataframe\">\n",
              "  <thead>\n",
              "    <tr style=\"text-align: right;\">\n",
              "      <th></th>\n",
              "      <th>sepal_Length</th>\n",
              "      <th>sepal_Width</th>\n",
              "      <th>petal_Length</th>\n",
              "      <th>petal_Width</th>\n",
              "    </tr>\n",
              "  </thead>\n",
              "  <tbody>\n",
              "    <tr>\n",
              "      <th>0</th>\n",
              "      <td>5.1</td>\n",
              "      <td>3.5</td>\n",
              "      <td>1.4</td>\n",
              "      <td>0.2</td>\n",
              "    </tr>\n",
              "    <tr>\n",
              "      <th>1</th>\n",
              "      <td>4.9</td>\n",
              "      <td>3.0</td>\n",
              "      <td>1.4</td>\n",
              "      <td>0.2</td>\n",
              "    </tr>\n",
              "    <tr>\n",
              "      <th>2</th>\n",
              "      <td>4.7</td>\n",
              "      <td>3.2</td>\n",
              "      <td>1.3</td>\n",
              "      <td>0.2</td>\n",
              "    </tr>\n",
              "    <tr>\n",
              "      <th>3</th>\n",
              "      <td>4.6</td>\n",
              "      <td>3.1</td>\n",
              "      <td>1.5</td>\n",
              "      <td>0.2</td>\n",
              "    </tr>\n",
              "    <tr>\n",
              "      <th>4</th>\n",
              "      <td>5.0</td>\n",
              "      <td>3.6</td>\n",
              "      <td>1.4</td>\n",
              "      <td>0.2</td>\n",
              "    </tr>\n",
              "  </tbody>\n",
              "</table>\n",
              "</div>"
            ],
            "text/plain": [
              "   sepal_Length  sepal_Width  petal_Length  petal_Width\n",
              "0           5.1          3.5           1.4          0.2\n",
              "1           4.9          3.0           1.4          0.2\n",
              "2           4.7          3.2           1.3          0.2\n",
              "3           4.6          3.1           1.5          0.2\n",
              "4           5.0          3.6           1.4          0.2"
            ]
          },
          "metadata": {},
          "execution_count": 91
        }
      ]
    },
    {
      "cell_type": "code",
      "metadata": {
        "colab": {
          "base_uri": "https://localhost:8080/",
          "height": 281
        },
        "id": "94cmiBizfO7-",
        "outputId": "3965c0b2-ef72-46cb-e513-96e4d8ee6d9d"
      },
      "source": [
        "df.hist()\n",
        "plt.show()"
      ],
      "execution_count": null,
      "outputs": [
        {
          "output_type": "display_data",
          "data": {
            "image/png": "[encoded data removed]",
            "text/plain": [
              "<Figure size 432x288 with 4 Axes>"
            ]
          },
          "metadata": {
            "needs_background": "light"
          }
        }
      ]
    },
    {
      "cell_type": "code",
      "metadata": {
        "colab": {
          "base_uri": "https://localhost:8080/",
          "height": 265
        },
        "id": "ABIL4_r2fStU",
        "outputId": "b200392a-6ec6-4427-8f18-b1f9f4c77858"
      },
      "source": [
        "df.plot()\n",
        "plt.show()"
      ],
      "execution_count": null,
      "outputs": [
        {
          "output_type": "display_data",
          "data": {
            "image/png": "[encoded data removed]",
            "text/plain": [
              "<Figure size 432x288 with 1 Axes>"
            ]
          },
          "metadata": {
            "needs_background": "light"
          }
        }
      ]
    },
    {
      "cell_type": "code",
      "metadata": {
        "colab": {
          "base_uri": "https://localhost:8080/",
          "height": 266
        },
        "id": "9z1bTIHQfe2E",
        "outputId": "529b34f3-ed6d-4be2-9f8b-868b2ca5b53b"
      },
      "source": [
        "df.boxplot()\n",
        "plt.show()P"
      ],
      "execution_count": null,
      "outputs": [
        {
          "output_type": "display_data",
          "data": {
            "image/png": "[encoded data removed]",
            "text/plain": [
              "<Figure size 432x288 with 1 Axes>"
            ]
          },
          "metadata": {
            "needs_background": "light"
          }
        }
      ]
    }
  ]
}