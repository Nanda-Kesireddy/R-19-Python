{
  "nbformat": 4,
  "nbformat_minor": 0,
  "metadata": {
    "colab": {
      "name": "19A21A0594-Nanda Kishore.ipynb",
      "provenance": [],
      "collapsed_sections": [],
      "authorship_tag": "ABX9TyPal6BfvO2o9WWtLXxqCZ6b",
      "include_colab_link": true
    },
    "kernelspec": {
      "display_name": "Python 3",
      "name": "python3"
    },
    "language_info": {
      "name": "python"
    }
  },
  "cells": [
    {
      "cell_type": "markdown",
      "metadata": {
        "id": "view-in-github",
        "colab_type": "text"
      },
      "source": [
        "<a href=\"https://colab.research.google.com/github/Nanda-Kesireddy/R-19-Python/blob/main/19A21A0594_Nanda_Kishore.ipynb\" target=\"_parent\"><img src=\"https://colab.research.google.com/assets/colab-badge.svg\" alt=\"Open In Colab\"/></a>"
      ]
    },
    {
      "cell_type": "markdown",
      "metadata": {
        "id": "fuZze3sIvtG5"
      },
      "source": [
        "**Name : K.Nanda Kishore**\n",
        "\n",
        "**Reg No : 19A21A0594**\n",
        "\n",
        "**Sec : CSE-B**"
      ]
    },
    {
      "cell_type": "markdown",
      "metadata": {
        "id": "RIc91MxcNK9X"
      },
      "source": [
        "**Excercise 1**\n",
        "\n",
        "**Aim** :  Running instructions in interactive interpreter and a python  script."
      ]
    },
    {
      "cell_type": "markdown",
      "metadata": {
        "id": "nOeWCXxuehAE"
      },
      "source": [
        "**Description** : "
      ]
    },
    {
      "cell_type": "code",
      "metadata": {
        "colab": {
          "base_uri": "https://localhost:8080/"
        },
        "id": "kqu9Br5mNoUX",
        "outputId": "ccb32f40-8e06-4336-a8ed-e500e723309e"
      },
      "source": [
        "print(\"Hello World\")"
      ],
      "execution_count": null,
      "outputs": [
        {
          "output_type": "stream",
          "name": "stdout",
          "text": [
            "Hello World\n"
          ]
        }
      ]
    },
    {
      "cell_type": "markdown",
      "metadata": {
        "id": "ltGTXhTkNwhU"
      },
      "source": [
        "**Aim** : Write a program to purposefully raise indentation errors and correct "
      ]
    },
    {
      "cell_type": "markdown",
      "metadata": {
        "id": "QJX02Kr-expi"
      },
      "source": [
        "**Description** : "
      ]
    },
    {
      "cell_type": "markdown",
      "metadata": {
        "id": "9oKVzDkRN-d4"
      },
      "source": [
        "**Error code**"
      ]
    },
    {
      "cell_type": "code",
      "metadata": {
        "id": "6cAGIeBWOBFh",
        "colab": {
          "base_uri": "https://localhost:8080/",
          "height": 131
        },
        "outputId": "656d9e02-5a4f-4105-da74-8d048679bf36"
      },
      "source": [
        "if True:\n",
        "print(\"True\")\n",
        "else:\n",
        "  print(\"False\")"
      ],
      "execution_count": null,
      "outputs": [
        {
          "output_type": "error",
          "ename": "IndentationError",
          "evalue": "ignored",
          "traceback": [
            "\u001b[0;36m  File \u001b[0;32m\"<ipython-input-1-0f41a9d4bf14>\"\u001b[0;36m, line \u001b[0;32m2\u001b[0m\n\u001b[0;31m    print(\"True\")\u001b[0m\n\u001b[0m        ^\u001b[0m\n\u001b[0;31mIndentationError\u001b[0m\u001b[0;31m:\u001b[0m expected an indented block\n"
          ]
        }
      ]
    },
    {
      "cell_type": "code",
      "metadata": {
        "id": "Q1jo4NS7OlGN"
      },
      "source": [
        "if True:\n",
        "  print(\"True1\")\n",
        "    print(\"True2\")\n",
        "else:\n",
        "  print(\"False\")"
      ],
      "execution_count": null,
      "outputs": []
    },
    {
      "cell_type": "markdown",
      "metadata": {
        "id": "aYIIGYwhcB2a"
      },
      "source": [
        "**Correced code**"
      ]
    },
    {
      "cell_type": "code",
      "metadata": {
        "id": "eaSI_AUQPHhp"
      },
      "source": [
        "if True:\n",
        "    print(\"True\")\n",
        "else:\n",
        "    print(\"False\")"
      ],
      "execution_count": null,
      "outputs": []
    },
    {
      "cell_type": "code",
      "metadata": {
        "id": "r0oW2xXtPrD6",
        "colab": {
          "base_uri": "https://localhost:8080/"
        },
        "outputId": "48a54017-20c5-45dc-a803-28aa033aca41"
      },
      "source": [
        "if True:\n",
        "    print(\"True1\")\n",
        "    print(\"True2\")\n",
        "else:\n",
        "    print(\"False\")"
      ],
      "execution_count": null,
      "outputs": [
        {
          "output_type": "stream",
          "text": [
            "True1\n",
            "True2\n"
          ],
          "name": "stdout"
        }
      ]
    },
    {
      "cell_type": "markdown",
      "metadata": {
        "id": "hUpMkm75Qyo4"
      },
      "source": [
        "**Excercise 2**\n",
        "\n",
        "**Aim** : Write a program to compute distance between two points taking input from the user."
      ]
    },
    {
      "cell_type": "markdown",
      "metadata": {
        "id": "qjSSNuZ1flEK"
      },
      "source": [
        "**Description**"
      ]
    },
    {
      "cell_type": "code",
      "metadata": {
        "id": "a9qb4uT9RCrB",
        "colab": {
          "base_uri": "https://localhost:8080/"
        },
        "outputId": "21c41c7f-f862-4bf3-9ab4-151e192eb771"
      },
      "source": [
        "import math\n",
        "x1=int(input(\"Enter x1 value : \"))\n",
        "x2=int(input(\"Enter x2 value : \"))\n",
        "y1=int(input(\"Enter y1 value : \"))\n",
        "y2=int(input(\"Enter y2 value : \"))\n",
        "d = math.sqrt(((x2-x1)**2)+((y2-y1)**2))\n",
        "print(\"Distance of two points :\",d)"
      ],
      "execution_count": null,
      "outputs": [
        {
          "output_type": "stream",
          "text": [
            "Enter x1 value : 1\n",
            "Enter x2 value : 2\n",
            "Enter y1 value : 3\n",
            "Enter y2 value : 4\n",
            "Distance of two points : 1.4142135623730951\n"
          ],
          "name": "stdout"
        }
      ]
    },
    {
      "cell_type": "markdown",
      "metadata": {
        "id": "Gucn0gueYOoW"
      },
      "source": [
        "**Aim** :  Write a program add.py that takes 2 numbers as command line arguments and prints its sum."
      ]
    },
    {
      "cell_type": "markdown",
      "metadata": {
        "id": "cJKSUazygG9J"
      },
      "source": [
        "**Description** : "
      ]
    },
    {
      "cell_type": "code",
      "metadata": {
        "id": "-T7vTkNbaZQi",
        "colab": {
          "base_uri": "https://localhost:8080/",
          "height": 527
        },
        "outputId": "3acd1297-3a7f-4b20-b3f4-ad34bbeefe4e"
      },
      "source": [
        "import sys\n",
        "a=int(sys.argv[1])\n",
        "b=int(sys.argv[2])\n",
        "sum=a+b\n",
        "print(\"Sum of two numbers is :\",sum)"
      ],
      "execution_count": null,
      "outputs": [
        {
          "output_type": "error",
          "ename": "ValueError",
          "evalue": "ignored",
          "traceback": [
            "\u001b[0;31m---------------------------------------------------------------------------\u001b[0m",
            "\u001b[0;31mValueError\u001b[0m                                Traceback (most recent call last)",
            "\u001b[0;32m<ipython-input-2-e1b0495776bd>\u001b[0m in \u001b[0;36m<module>\u001b[0;34m()\u001b[0m\n\u001b[1;32m      1\u001b[0m \u001b[0;32mimport\u001b[0m \u001b[0msys\u001b[0m\u001b[0;34m\u001b[0m\u001b[0;34m\u001b[0m\u001b[0m\n\u001b[0;32m----> 2\u001b[0;31m \u001b[0ma\u001b[0m\u001b[0;34m=\u001b[0m\u001b[0mint\u001b[0m\u001b[0;34m(\u001b[0m\u001b[0msys\u001b[0m\u001b[0;34m.\u001b[0m\u001b[0margv\u001b[0m\u001b[0;34m[\u001b[0m\u001b[0;36m1\u001b[0m\u001b[0;34m]\u001b[0m\u001b[0;34m)\u001b[0m\u001b[0;34m\u001b[0m\u001b[0;34m\u001b[0m\u001b[0m\n\u001b[0m\u001b[1;32m      3\u001b[0m \u001b[0mb\u001b[0m\u001b[0;34m=\u001b[0m\u001b[0mint\u001b[0m\u001b[0;34m(\u001b[0m\u001b[0msys\u001b[0m\u001b[0;34m.\u001b[0m\u001b[0margv\u001b[0m\u001b[0;34m[\u001b[0m\u001b[0;36m2\u001b[0m\u001b[0;34m]\u001b[0m\u001b[0;34m)\u001b[0m\u001b[0;34m\u001b[0m\u001b[0;34m\u001b[0m\u001b[0m\n\u001b[1;32m      4\u001b[0m \u001b[0msum\u001b[0m\u001b[0;34m=\u001b[0m\u001b[0ma\u001b[0m\u001b[0;34m+\u001b[0m\u001b[0mb\u001b[0m\u001b[0;34m\u001b[0m\u001b[0;34m\u001b[0m\u001b[0m\n\u001b[1;32m      5\u001b[0m \u001b[0mprint\u001b[0m\u001b[0;34m(\u001b[0m\u001b[0;34m\"Sum of two numbers is :\"\u001b[0m\u001b[0;34m,\u001b[0m\u001b[0msum\u001b[0m\u001b[0;34m)\u001b[0m\u001b[0;34m\u001b[0m\u001b[0;34m\u001b[0m\u001b[0m\n",
            "\u001b[0;31mValueError\u001b[0m: invalid literal for int() with base 10: '-f'"
          ]
        }
      ]
    },
    {
      "cell_type": "markdown",
      "metadata": {
        "id": "RCt3tJQUa7MZ"
      },
      "source": [
        "**Excercise 3**\n",
        "\n",
        "**Aim** : Write a program for checking whether the given number is an even number or not."
      ]
    },
    {
      "cell_type": "code",
      "metadata": {
        "colab": {
          "base_uri": "https://localhost:8080/"
        },
        "id": "7J6vGYOXbJC1",
        "outputId": "2360db3d-c39f-43b9-bba5-94138039178b"
      },
      "source": [
        "#To Check given number is even or odd \n",
        "n=int(input(\"Enter a Number \"))\n",
        "if n%2 == 0:\n",
        "  print(\"Given Number is even\")\n",
        "else:\n",
        "  print(\"Given nunber is odd\")\n",
        "  \n"
      ],
      "execution_count": null,
      "outputs": [
        {
          "output_type": "stream",
          "text": [
            "Enter a Number 2\n",
            "Given Number is even\n"
          ],
          "name": "stdout"
        }
      ]
    },
    {
      "cell_type": "markdown",
      "metadata": {
        "id": "9dXwbyxWcWEP"
      },
      "source": [
        "**Aim** : Using a for loop write a program that prints out the decimal equivalents of 1/2,1/3,1/4,...,1/10."
      ]
    },
    {
      "cell_type": "markdown",
      "metadata": {
        "id": "q0C8dab8pU1E"
      },
      "source": [
        "**Description** : "
      ]
    },
    {
      "cell_type": "code",
      "metadata": {
        "colab": {
          "base_uri": "https://localhost:8080/"
        },
        "id": "rI5NMZIecveD",
        "outputId": "aa897263-b415-4129-9947-795c7f0a5c25"
      },
      "source": [
        "#prints out the decimal equivalents of 1/2,1/3,1/4,...,1/10\n",
        "n=int(input(\"Enter a Number : \"))\n",
        "for i in range(2,n):\n",
        "  de=1/i\n",
        "  print(\"1/\"+str(i)+\"=\",de)"
      ],
      "execution_count": null,
      "outputs": [
        {
          "output_type": "stream",
          "text": [
            "Enter a Number : 10\n",
            "1/2= 0.5\n",
            "1/3= 0.3333333333333333\n",
            "1/4= 0.25\n",
            "1/5= 0.2\n",
            "1/6= 0.16666666666666666\n",
            "1/7= 0.14285714285714285\n",
            "1/8= 0.125\n",
            "1/9= 0.1111111111111111\n"
          ],
          "name": "stdout"
        }
      ]
    },
    {
      "cell_type": "markdown",
      "metadata": {
        "id": "Uat1fnmRdq2u"
      },
      "source": [
        "**Aim** : Write a program using a for loop that loops over a sequence.What is sequence?"
      ]
    },
    {
      "cell_type": "markdown",
      "metadata": {
        "id": "H-lLxLKXgoqs"
      },
      "source": [
        "**Description** : "
      ]
    },
    {
      "cell_type": "code",
      "metadata": {
        "colab": {
          "base_uri": "https://localhost:8080/"
        },
        "id": "ZW-P6CT5d73N",
        "outputId": "e2350631-4731-4829-d0c7-15c33d8f199e"
      },
      "source": [
        "arr=[4,\"abc\",-45,'C',10.5,True,5,10.6,\"xyz\"]\n",
        "print(\"Given Array : \",arr)\n",
        "for x in arr:\n",
        "  print(x)"
      ],
      "execution_count": null,
      "outputs": [
        {
          "output_type": "stream",
          "text": [
            "Given Array :  [4, 'abc', -45, 'C', 10.5, True, 5, 10.6, 'xyz']\n",
            "4\n",
            "abc\n",
            "-45\n",
            "C\n",
            "10.5\n",
            "True\n",
            "5\n",
            "10.6\n",
            "xyz\n"
          ],
          "name": "stdout"
        }
      ]
    },
    {
      "cell_type": "markdown",
      "metadata": {
        "id": "gCBNuWRJeiwo"
      },
      "source": [
        "**Aim** : Write a program using a while loop that asks the user for a number and prints a countdown from that number to zero."
      ]
    },
    {
      "cell_type": "markdown",
      "metadata": {
        "id": "ryVQJgR4g3cH"
      },
      "source": [
        "**Description** : "
      ]
    },
    {
      "cell_type": "code",
      "metadata": {
        "colab": {
          "base_uri": "https://localhost:8080/"
        },
        "id": "Vl7HtQ_fe1mw",
        "outputId": "04f17bbb-a36d-4751-b175-30c9430215aa"
      },
      "source": [
        "n=int(input(\"Enter value of n:\"))\n",
        "while n>=0:\n",
        "  print(n)\n",
        "  n-=1"
      ],
      "execution_count": null,
      "outputs": [
        {
          "output_type": "stream",
          "text": [
            "Enter value of n:10\n",
            "10\n",
            "9\n",
            "8\n",
            "7\n",
            "6\n",
            "5\n",
            "4\n",
            "3\n",
            "2\n",
            "1\n",
            "0\n"
          ],
          "name": "stdout"
        }
      ]
    },
    {
      "cell_type": "markdown",
      "metadata": {
        "id": "w9l6o0kqfOnv"
      },
      "source": [
        "**Excercise 4**\n",
        "\n",
        "**Aim** : Find the sum of all the primes below two million."
      ]
    },
    {
      "cell_type": "markdown",
      "metadata": {
        "id": "8GlYqZV1hQMP"
      },
      "source": [
        "**Description** : "
      ]
    },
    {
      "cell_type": "code",
      "metadata": {
        "id": "nVuWrc3xfXUx",
        "colab": {
          "base_uri": "https://localhost:8080/"
        },
        "outputId": "4aae2b57-89bc-4b6d-84f6-18118801ffa2"
      },
      "source": [
        "#sum of all the primes of given number below \n",
        "n=int(input(\"Enter an Ending Number: \"))\n",
        "st=\"\"\n",
        "sum=0\n",
        "for i in range(2,n):\n",
        "  state=True\n",
        "  for j in range(2,i):\n",
        "    if(i%j)==0:\n",
        "      state=False\n",
        "      break;\n",
        "  if state==True:\n",
        "    st+=\" \"+str(i)\n",
        "    sum+=i\n",
        "  print(\"Prime numbers :\")\n",
        "  print(st)\n",
        "  print(\"Sum of the prime numbers : \",sum)"
      ],
      "execution_count": null,
      "outputs": [
        {
          "output_type": "stream",
          "text": [
            "Enter an Ending Number: 100\n",
            "Prime numbers :\n",
            " 2\n",
            "Sum of the prime numbers :  2\n",
            "Prime numbers :\n",
            " 2 3\n",
            "Sum of the prime numbers :  5\n",
            "Prime numbers :\n",
            " 2 3\n",
            "Sum of the prime numbers :  5\n",
            "Prime numbers :\n",
            " 2 3 5\n",
            "Sum of the prime numbers :  10\n",
            "Prime numbers :\n",
            " 2 3 5\n",
            "Sum of the prime numbers :  10\n",
            "Prime numbers :\n",
            " 2 3 5 7\n",
            "Sum of the prime numbers :  17\n",
            "Prime numbers :\n",
            " 2 3 5 7\n",
            "Sum of the prime numbers :  17\n",
            "Prime numbers :\n",
            " 2 3 5 7\n",
            "Sum of the prime numbers :  17\n",
            "Prime numbers :\n",
            " 2 3 5 7\n",
            "Sum of the prime numbers :  17\n",
            "Prime numbers :\n",
            " 2 3 5 7 11\n",
            "Sum of the prime numbers :  28\n",
            "Prime numbers :\n",
            " 2 3 5 7 11\n",
            "Sum of the prime numbers :  28\n",
            "Prime numbers :\n",
            " 2 3 5 7 11 13\n",
            "Sum of the prime numbers :  41\n",
            "Prime numbers :\n",
            " 2 3 5 7 11 13\n",
            "Sum of the prime numbers :  41\n",
            "Prime numbers :\n",
            " 2 3 5 7 11 13\n",
            "Sum of the prime numbers :  41\n",
            "Prime numbers :\n",
            " 2 3 5 7 11 13\n",
            "Sum of the prime numbers :  41\n",
            "Prime numbers :\n",
            " 2 3 5 7 11 13 17\n",
            "Sum of the prime numbers :  58\n",
            "Prime numbers :\n",
            " 2 3 5 7 11 13 17\n",
            "Sum of the prime numbers :  58\n",
            "Prime numbers :\n",
            " 2 3 5 7 11 13 17 19\n",
            "Sum of the prime numbers :  77\n",
            "Prime numbers :\n",
            " 2 3 5 7 11 13 17 19\n",
            "Sum of the prime numbers :  77\n",
            "Prime numbers :\n",
            " 2 3 5 7 11 13 17 19\n",
            "Sum of the prime numbers :  77\n",
            "Prime numbers :\n",
            " 2 3 5 7 11 13 17 19\n",
            "Sum of the prime numbers :  77\n",
            "Prime numbers :\n",
            " 2 3 5 7 11 13 17 19 23\n",
            "Sum of the prime numbers :  100\n",
            "Prime numbers :\n",
            " 2 3 5 7 11 13 17 19 23\n",
            "Sum of the prime numbers :  100\n",
            "Prime numbers :\n",
            " 2 3 5 7 11 13 17 19 23\n",
            "Sum of the prime numbers :  100\n",
            "Prime numbers :\n",
            " 2 3 5 7 11 13 17 19 23\n",
            "Sum of the prime numbers :  100\n",
            "Prime numbers :\n",
            " 2 3 5 7 11 13 17 19 23\n",
            "Sum of the prime numbers :  100\n",
            "Prime numbers :\n",
            " 2 3 5 7 11 13 17 19 23\n",
            "Sum of the prime numbers :  100\n",
            "Prime numbers :\n",
            " 2 3 5 7 11 13 17 19 23 29\n",
            "Sum of the prime numbers :  129\n",
            "Prime numbers :\n",
            " 2 3 5 7 11 13 17 19 23 29\n",
            "Sum of the prime numbers :  129\n",
            "Prime numbers :\n",
            " 2 3 5 7 11 13 17 19 23 29 31\n",
            "Sum of the prime numbers :  160\n",
            "Prime numbers :\n",
            " 2 3 5 7 11 13 17 19 23 29 31\n",
            "Sum of the prime numbers :  160\n",
            "Prime numbers :\n",
            " 2 3 5 7 11 13 17 19 23 29 31\n",
            "Sum of the prime numbers :  160\n",
            "Prime numbers :\n",
            " 2 3 5 7 11 13 17 19 23 29 31\n",
            "Sum of the prime numbers :  160\n",
            "Prime numbers :\n",
            " 2 3 5 7 11 13 17 19 23 29 31\n",
            "Sum of the prime numbers :  160\n",
            "Prime numbers :\n",
            " 2 3 5 7 11 13 17 19 23 29 31\n",
            "Sum of the prime numbers :  160\n",
            "Prime numbers :\n",
            " 2 3 5 7 11 13 17 19 23 29 31 37\n",
            "Sum of the prime numbers :  197\n",
            "Prime numbers :\n",
            " 2 3 5 7 11 13 17 19 23 29 31 37\n",
            "Sum of the prime numbers :  197\n",
            "Prime numbers :\n",
            " 2 3 5 7 11 13 17 19 23 29 31 37\n",
            "Sum of the prime numbers :  197\n",
            "Prime numbers :\n",
            " 2 3 5 7 11 13 17 19 23 29 31 37\n",
            "Sum of the prime numbers :  197\n",
            "Prime numbers :\n",
            " 2 3 5 7 11 13 17 19 23 29 31 37 41\n",
            "Sum of the prime numbers :  238\n",
            "Prime numbers :\n",
            " 2 3 5 7 11 13 17 19 23 29 31 37 41\n",
            "Sum of the prime numbers :  238\n",
            "Prime numbers :\n",
            " 2 3 5 7 11 13 17 19 23 29 31 37 41 43\n",
            "Sum of the prime numbers :  281\n",
            "Prime numbers :\n",
            " 2 3 5 7 11 13 17 19 23 29 31 37 41 43\n",
            "Sum of the prime numbers :  281\n",
            "Prime numbers :\n",
            " 2 3 5 7 11 13 17 19 23 29 31 37 41 43\n",
            "Sum of the prime numbers :  281\n",
            "Prime numbers :\n",
            " 2 3 5 7 11 13 17 19 23 29 31 37 41 43\n",
            "Sum of the prime numbers :  281\n",
            "Prime numbers :\n",
            " 2 3 5 7 11 13 17 19 23 29 31 37 41 43 47\n",
            "Sum of the prime numbers :  328\n",
            "Prime numbers :\n",
            " 2 3 5 7 11 13 17 19 23 29 31 37 41 43 47\n",
            "Sum of the prime numbers :  328\n",
            "Prime numbers :\n",
            " 2 3 5 7 11 13 17 19 23 29 31 37 41 43 47\n",
            "Sum of the prime numbers :  328\n",
            "Prime numbers :\n",
            " 2 3 5 7 11 13 17 19 23 29 31 37 41 43 47\n",
            "Sum of the prime numbers :  328\n",
            "Prime numbers :\n",
            " 2 3 5 7 11 13 17 19 23 29 31 37 41 43 47\n",
            "Sum of the prime numbers :  328\n",
            "Prime numbers :\n",
            " 2 3 5 7 11 13 17 19 23 29 31 37 41 43 47\n",
            "Sum of the prime numbers :  328\n",
            "Prime numbers :\n",
            " 2 3 5 7 11 13 17 19 23 29 31 37 41 43 47 53\n",
            "Sum of the prime numbers :  381\n",
            "Prime numbers :\n",
            " 2 3 5 7 11 13 17 19 23 29 31 37 41 43 47 53\n",
            "Sum of the prime numbers :  381\n",
            "Prime numbers :\n",
            " 2 3 5 7 11 13 17 19 23 29 31 37 41 43 47 53\n",
            "Sum of the prime numbers :  381\n",
            "Prime numbers :\n",
            " 2 3 5 7 11 13 17 19 23 29 31 37 41 43 47 53\n",
            "Sum of the prime numbers :  381\n",
            "Prime numbers :\n",
            " 2 3 5 7 11 13 17 19 23 29 31 37 41 43 47 53\n",
            "Sum of the prime numbers :  381\n",
            "Prime numbers :\n",
            " 2 3 5 7 11 13 17 19 23 29 31 37 41 43 47 53\n",
            "Sum of the prime numbers :  381\n",
            "Prime numbers :\n",
            " 2 3 5 7 11 13 17 19 23 29 31 37 41 43 47 53 59\n",
            "Sum of the prime numbers :  440\n",
            "Prime numbers :\n",
            " 2 3 5 7 11 13 17 19 23 29 31 37 41 43 47 53 59\n",
            "Sum of the prime numbers :  440\n",
            "Prime numbers :\n",
            " 2 3 5 7 11 13 17 19 23 29 31 37 41 43 47 53 59 61\n",
            "Sum of the prime numbers :  501\n",
            "Prime numbers :\n",
            " 2 3 5 7 11 13 17 19 23 29 31 37 41 43 47 53 59 61\n",
            "Sum of the prime numbers :  501\n",
            "Prime numbers :\n",
            " 2 3 5 7 11 13 17 19 23 29 31 37 41 43 47 53 59 61\n",
            "Sum of the prime numbers :  501\n",
            "Prime numbers :\n",
            " 2 3 5 7 11 13 17 19 23 29 31 37 41 43 47 53 59 61\n",
            "Sum of the prime numbers :  501\n",
            "Prime numbers :\n",
            " 2 3 5 7 11 13 17 19 23 29 31 37 41 43 47 53 59 61\n",
            "Sum of the prime numbers :  501\n",
            "Prime numbers :\n",
            " 2 3 5 7 11 13 17 19 23 29 31 37 41 43 47 53 59 61\n",
            "Sum of the prime numbers :  501\n",
            "Prime numbers :\n",
            " 2 3 5 7 11 13 17 19 23 29 31 37 41 43 47 53 59 61 67\n",
            "Sum of the prime numbers :  568\n",
            "Prime numbers :\n",
            " 2 3 5 7 11 13 17 19 23 29 31 37 41 43 47 53 59 61 67\n",
            "Sum of the prime numbers :  568\n",
            "Prime numbers :\n",
            " 2 3 5 7 11 13 17 19 23 29 31 37 41 43 47 53 59 61 67\n",
            "Sum of the prime numbers :  568\n",
            "Prime numbers :\n",
            " 2 3 5 7 11 13 17 19 23 29 31 37 41 43 47 53 59 61 67\n",
            "Sum of the prime numbers :  568\n",
            "Prime numbers :\n",
            " 2 3 5 7 11 13 17 19 23 29 31 37 41 43 47 53 59 61 67 71\n",
            "Sum of the prime numbers :  639\n",
            "Prime numbers :\n",
            " 2 3 5 7 11 13 17 19 23 29 31 37 41 43 47 53 59 61 67 71\n",
            "Sum of the prime numbers :  639\n",
            "Prime numbers :\n",
            " 2 3 5 7 11 13 17 19 23 29 31 37 41 43 47 53 59 61 67 71 73\n",
            "Sum of the prime numbers :  712\n",
            "Prime numbers :\n",
            " 2 3 5 7 11 13 17 19 23 29 31 37 41 43 47 53 59 61 67 71 73\n",
            "Sum of the prime numbers :  712\n",
            "Prime numbers :\n",
            " 2 3 5 7 11 13 17 19 23 29 31 37 41 43 47 53 59 61 67 71 73\n",
            "Sum of the prime numbers :  712\n",
            "Prime numbers :\n",
            " 2 3 5 7 11 13 17 19 23 29 31 37 41 43 47 53 59 61 67 71 73\n",
            "Sum of the prime numbers :  712\n",
            "Prime numbers :\n",
            " 2 3 5 7 11 13 17 19 23 29 31 37 41 43 47 53 59 61 67 71 73\n",
            "Sum of the prime numbers :  712\n",
            "Prime numbers :\n",
            " 2 3 5 7 11 13 17 19 23 29 31 37 41 43 47 53 59 61 67 71 73\n",
            "Sum of the prime numbers :  712\n",
            "Prime numbers :\n",
            " 2 3 5 7 11 13 17 19 23 29 31 37 41 43 47 53 59 61 67 71 73 79\n",
            "Sum of the prime numbers :  791\n",
            "Prime numbers :\n",
            " 2 3 5 7 11 13 17 19 23 29 31 37 41 43 47 53 59 61 67 71 73 79\n",
            "Sum of the prime numbers :  791\n",
            "Prime numbers :\n",
            " 2 3 5 7 11 13 17 19 23 29 31 37 41 43 47 53 59 61 67 71 73 79\n",
            "Sum of the prime numbers :  791\n",
            "Prime numbers :\n",
            " 2 3 5 7 11 13 17 19 23 29 31 37 41 43 47 53 59 61 67 71 73 79\n",
            "Sum of the prime numbers :  791\n",
            "Prime numbers :\n",
            " 2 3 5 7 11 13 17 19 23 29 31 37 41 43 47 53 59 61 67 71 73 79 83\n",
            "Sum of the prime numbers :  874\n",
            "Prime numbers :\n",
            " 2 3 5 7 11 13 17 19 23 29 31 37 41 43 47 53 59 61 67 71 73 79 83\n",
            "Sum of the prime numbers :  874\n",
            "Prime numbers :\n",
            " 2 3 5 7 11 13 17 19 23 29 31 37 41 43 47 53 59 61 67 71 73 79 83\n",
            "Sum of the prime numbers :  874\n",
            "Prime numbers :\n",
            " 2 3 5 7 11 13 17 19 23 29 31 37 41 43 47 53 59 61 67 71 73 79 83\n",
            "Sum of the prime numbers :  874\n",
            "Prime numbers :\n",
            " 2 3 5 7 11 13 17 19 23 29 31 37 41 43 47 53 59 61 67 71 73 79 83\n",
            "Sum of the prime numbers :  874\n",
            "Prime numbers :\n",
            " 2 3 5 7 11 13 17 19 23 29 31 37 41 43 47 53 59 61 67 71 73 79 83\n",
            "Sum of the prime numbers :  874\n",
            "Prime numbers :\n",
            " 2 3 5 7 11 13 17 19 23 29 31 37 41 43 47 53 59 61 67 71 73 79 83 89\n",
            "Sum of the prime numbers :  963\n",
            "Prime numbers :\n",
            " 2 3 5 7 11 13 17 19 23 29 31 37 41 43 47 53 59 61 67 71 73 79 83 89\n",
            "Sum of the prime numbers :  963\n",
            "Prime numbers :\n",
            " 2 3 5 7 11 13 17 19 23 29 31 37 41 43 47 53 59 61 67 71 73 79 83 89\n",
            "Sum of the prime numbers :  963\n",
            "Prime numbers :\n",
            " 2 3 5 7 11 13 17 19 23 29 31 37 41 43 47 53 59 61 67 71 73 79 83 89\n",
            "Sum of the prime numbers :  963\n",
            "Prime numbers :\n",
            " 2 3 5 7 11 13 17 19 23 29 31 37 41 43 47 53 59 61 67 71 73 79 83 89\n",
            "Sum of the prime numbers :  963\n",
            "Prime numbers :\n",
            " 2 3 5 7 11 13 17 19 23 29 31 37 41 43 47 53 59 61 67 71 73 79 83 89\n",
            "Sum of the prime numbers :  963\n",
            "Prime numbers :\n",
            " 2 3 5 7 11 13 17 19 23 29 31 37 41 43 47 53 59 61 67 71 73 79 83 89\n",
            "Sum of the prime numbers :  963\n",
            "Prime numbers :\n",
            " 2 3 5 7 11 13 17 19 23 29 31 37 41 43 47 53 59 61 67 71 73 79 83 89\n",
            "Sum of the prime numbers :  963\n",
            "Prime numbers :\n",
            " 2 3 5 7 11 13 17 19 23 29 31 37 41 43 47 53 59 61 67 71 73 79 83 89 97\n",
            "Sum of the prime numbers :  1060\n",
            "Prime numbers :\n",
            " 2 3 5 7 11 13 17 19 23 29 31 37 41 43 47 53 59 61 67 71 73 79 83 89 97\n",
            "Sum of the prime numbers :  1060\n",
            "Prime numbers :\n",
            " 2 3 5 7 11 13 17 19 23 29 31 37 41 43 47 53 59 61 67 71 73 79 83 89 97\n",
            "Sum of the prime numbers :  1060\n"
          ],
          "name": "stdout"
        }
      ]
    },
    {
      "cell_type": "markdown",
      "metadata": {
        "id": "hL3E9W5OiA59"
      },
      "source": [
        "**Aim** : Each new term in the fibbonaci sequence is generated by adding the previous two terms.By starting with 1 and 2,the first 10 terms will be:1,2,3,5,8,13,21,34,55,89,..."
      ]
    },
    {
      "cell_type": "markdown",
      "metadata": {
        "id": "rzVd_Yo4hgzY"
      },
      "source": [
        "**Description** : "
      ]
    },
    {
      "cell_type": "code",
      "metadata": {
        "colab": {
          "base_uri": "https://localhost:8080/"
        },
        "id": "BvDF-CWniiGB",
        "outputId": "50ec81ea-6a3c-4544-e710-ed5fc9b3a4be"
      },
      "source": [
        "#Fibbinacci series \n",
        "n=int(input(\"Enter value of n: \"))\n",
        "a=0\n",
        "b=1\n",
        "c=a+b\n",
        "while c<n:\n",
        "  print(c,end=' ')\n",
        "  a=b\n",
        "  b=c\n",
        "  c=a+b"
      ],
      "execution_count": null,
      "outputs": [
        {
          "output_type": "stream",
          "text": [
            "Enter value of n: 1000\n",
            "1 2 3 5 8 13 21 34 55 89 144 233 377 610 987 "
          ],
          "name": "stdout"
        }
      ]
    },
    {
      "cell_type": "markdown",
      "metadata": {
        "id": "ZZn_SMcRjnCH"
      },
      "source": [
        "**Aim** :  By considering the terms in the fibinacci sequence whose values do not exceed four million,find the sum of the even-valued terms."
      ]
    },
    {
      "cell_type": "markdown",
      "metadata": {
        "id": "KLUqS9tEhwpu"
      },
      "source": [
        "**Description** : "
      ]
    },
    {
      "cell_type": "code",
      "metadata": {
        "colab": {
          "base_uri": "https://localhost:8080/"
        },
        "id": "pl-9QQavj-R5",
        "outputId": "2c14ea65-8ef3-4507-9e5c-8a19ab1d4043"
      },
      "source": [
        "n=int(input(\"Enter value of n : \"))\n",
        "a=0\n",
        "b=1\n",
        "c=a+b\n",
        "sum=0\n",
        "print(\"Even numbers in fibbinoci series: \",end=\"\")\n",
        "while c<=n:\n",
        "  if c%2==0:\n",
        "    print(c,end='')\n",
        "    sum+=c\n",
        "  a=b\n",
        "  b=c\n",
        "  c=a+b\n",
        "  print(\"\\n sum of fibbinaci series is : \",sum)"
      ],
      "execution_count": null,
      "outputs": [
        {
          "output_type": "stream",
          "text": [
            "Enter value of n : 4000000\n",
            "Even numbers in fibbinoci series: \n",
            " sum of fibbinaci series is :  0\n",
            "2\n",
            " sum of fibbinaci series is :  2\n",
            "\n",
            " sum of fibbinaci series is :  2\n",
            "\n",
            " sum of fibbinaci series is :  2\n",
            "8\n",
            " sum of fibbinaci series is :  10\n",
            "\n",
            " sum of fibbinaci series is :  10\n",
            "\n",
            " sum of fibbinaci series is :  10\n",
            "34\n",
            " sum of fibbinaci series is :  44\n",
            "\n",
            " sum of fibbinaci series is :  44\n",
            "\n",
            " sum of fibbinaci series is :  44\n",
            "144\n",
            " sum of fibbinaci series is :  188\n",
            "\n",
            " sum of fibbinaci series is :  188\n",
            "\n",
            " sum of fibbinaci series is :  188\n",
            "610\n",
            " sum of fibbinaci series is :  798\n",
            "\n",
            " sum of fibbinaci series is :  798\n",
            "\n",
            " sum of fibbinaci series is :  798\n",
            "2584\n",
            " sum of fibbinaci series is :  3382\n",
            "\n",
            " sum of fibbinaci series is :  3382\n",
            "\n",
            " sum of fibbinaci series is :  3382\n",
            "10946\n",
            " sum of fibbinaci series is :  14328\n",
            "\n",
            " sum of fibbinaci series is :  14328\n",
            "\n",
            " sum of fibbinaci series is :  14328\n",
            "46368\n",
            " sum of fibbinaci series is :  60696\n",
            "\n",
            " sum of fibbinaci series is :  60696\n",
            "\n",
            " sum of fibbinaci series is :  60696\n",
            "196418\n",
            " sum of fibbinaci series is :  257114\n",
            "\n",
            " sum of fibbinaci series is :  257114\n",
            "\n",
            " sum of fibbinaci series is :  257114\n",
            "832040\n",
            " sum of fibbinaci series is :  1089154\n",
            "\n",
            " sum of fibbinaci series is :  1089154\n",
            "\n",
            " sum of fibbinaci series is :  1089154\n",
            "3524578\n",
            " sum of fibbinaci series is :  4613732\n"
          ],
          "name": "stdout"
        }
      ]
    },
    {
      "cell_type": "markdown",
      "metadata": {
        "id": "HbmBTMG6lVPN"
      },
      "source": [
        "**Excercise** 5\n",
        "\n",
        "**Aim** : Write a program to count the numbers of characters in the string and store them in a dictionary data structures."
      ]
    },
    {
      "cell_type": "markdown",
      "metadata": {
        "id": "W8HilTcDphOK"
      },
      "source": [
        "**Description** : "
      ]
    },
    {
      "cell_type": "code",
      "metadata": {
        "id": "BN87wSsUlo4_",
        "colab": {
          "base_uri": "https://localhost:8080/"
        },
        "outputId": "158c5dd0-2d80-4ded-947d-6b36122ae1ff"
      },
      "source": [
        "name=input(\"Enter a Name :\")\n",
        "dic={}\n",
        "\n",
        "for ch in name:\n",
        "  keys=dic.keys()\n",
        "\n",
        "  if(ch in keys):\n",
        "    dic[ch]-dic[ch]+1\n",
        "  else:\n",
        "    dic[ch]=1\n",
        "  print(\"Dictionary is : \",dic)"
      ],
      "execution_count": null,
      "outputs": [
        {
          "output_type": "stream",
          "text": [
            "Enter a Name :nandu\n",
            "Dictionary is :  {'n': 1}\n",
            "Dictionary is :  {'n': 1, 'a': 1}\n",
            "Dictionary is :  {'n': 1, 'a': 1}\n",
            "Dictionary is :  {'n': 1, 'a': 1, 'd': 1}\n",
            "Dictionary is :  {'n': 1, 'a': 1, 'd': 1, 'u': 1}\n"
          ],
          "name": "stdout"
        }
      ]
    },
    {
      "cell_type": "markdown",
      "metadata": {
        "id": "Bjnuu_osnJRj"
      },
      "source": [
        "**Aim** : Write a program to use split and join methods in the string and trace a birthday with a dictionary data structures."
      ]
    },
    {
      "cell_type": "markdown",
      "metadata": {
        "id": "vIcyAQXDih8x"
      },
      "source": [
        "**Description** : "
      ]
    },
    {
      "cell_type": "code",
      "metadata": {
        "colab": {
          "base_uri": "https://localhost:8080/"
        },
        "id": "JQN9l8xXnaXT",
        "outputId": "6785775a-8b04-4796-8e86-ae5cacd71ed9"
      },
      "source": [
        "dob={\"parnika\":\"07-Nov-2015\",\"KK\":\"10-10-2000\"}\n",
        "name=input(\"Which person DOB you want: \")\n",
        "l=name.split()\n",
        "birth=\"\"\n",
        "\n",
        "for i in l:\n",
        "  if i in dob.keys():\n",
        "    pers=i\n",
        "\n",
        "print(\"\".join([pers,\"Birthday is\",dob[pers]]))\n"
      ],
      "execution_count": null,
      "outputs": [
        {
          "output_type": "stream",
          "text": [
            "Which person DOB you want: parnika\n",
            "parnikaBirthday is07-Nov-2015\n"
          ],
          "name": "stdout"
        }
      ]
    },
    {
      "cell_type": "markdown",
      "metadata": {
        "id": "H62N3z1WogAS"
      },
      "source": [
        "**Excercise** 6 \n",
        "\n",
        "**Aim** : Write a program combine lists that combines these lists into a dictionory."
      ]
    },
    {
      "cell_type": "markdown",
      "metadata": {
        "id": "1YtWOfngivoq"
      },
      "source": [
        "**Description** : "
      ]
    },
    {
      "cell_type": "code",
      "metadata": {
        "colab": {
          "base_uri": "https://localhost:8080/"
        },
        "id": "JcE52LpWot5l",
        "outputId": "0b0b16bc-d021-4576-eed0-2ffad6cf044b"
      },
      "source": [
        "subj=[\"DAA\",\"OS\",\"DBMS\",\"P&S\",\"PPL\",\"SE\"]\n",
        "marks=[85,96,78,68,98,56]\n",
        "print(\"Given lists are : \")\n",
        "print(\"Subject Names :\",subj)\n",
        "print(\"Mark values :\",marks)\n",
        "dic=dict(zip(subj,marks))\n",
        "print(\"\\n Dictionary: \",dic)"
      ],
      "execution_count": null,
      "outputs": [
        {
          "output_type": "stream",
          "text": [
            "Given lists are : \n",
            "Subject Names : ['DAA', 'OS', 'DBMS', 'P&S', 'PPL', 'SE']\n",
            "Mark values : [85, 96, 78, 68, 98, 56]\n",
            "\n",
            " Dictionary:  {'DAA': 85, 'OS': 96, 'DBMS': 78, 'P&S': 68, 'PPL': 98, 'SE': 56}\n"
          ],
          "name": "stdout"
        }
      ]
    },
    {
      "cell_type": "markdown",
      "metadata": {
        "id": "kMbuDoeHprMK"
      },
      "source": [
        "**Aim** : Write a program to count frequency of charchters in a given file.can you use charchter frequency to tell whether the given file is a python program file,c program file or a text file?"
      ]
    },
    {
      "cell_type": "markdown",
      "metadata": {
        "id": "qmKyeI6ai5Kn"
      },
      "source": [
        "**Description** : "
      ]
    },
    {
      "cell_type": "code",
      "metadata": {
        "id": "pAYRGFFUqL_T",
        "colab": {
          "base_uri": "https://localhost:8080/",
          "height": 563
        },
        "outputId": "400727f9-7ca6-4d5f-ede5-d6a1e67b3a83"
      },
      "source": [
        "filetypes=['.py','.c','.txt']\n",
        "fn=input(\"Enter the file name :\")\n",
        "f=open(fn,\"r\")\n",
        "count=dict()\n",
        "print(\"Given file is \",end=\"\")\n",
        "for ft in filetypes:\n",
        "  if(ft in fn):\n",
        "    if(ft=='.py'):\n",
        "      print(\"Python File \")\n",
        "    elif(ft=='.c'):\n",
        "      print(\"C File\")\n",
        "    elif(ft=='.txt'):\n",
        "      print(\"Text file\")\n",
        "for line in f:\n",
        "  for ch in line:\n",
        "    if ch in count:\n",
        "      count[ch]=count[ch]+1\n",
        "    else:\n",
        "      count[ch]=1\n",
        "print(count)\n",
        "f.close()"
      ],
      "execution_count": null,
      "outputs": [
        {
          "output_type": "stream",
          "text": [
            "Enter the file name :abc.txt\n"
          ],
          "name": "stdout"
        },
        {
          "output_type": "error",
          "ename": "FileNotFoundError",
          "evalue": "ignored",
          "traceback": [
            "\u001b[0;31m---------------------------------------------------------------------------\u001b[0m",
            "\u001b[0;31mFileNotFoundError\u001b[0m                         Traceback (most recent call last)",
            "\u001b[0;32m<ipython-input-4-cd0fca6ed2ca>\u001b[0m in \u001b[0;36m<module>\u001b[0;34m()\u001b[0m\n\u001b[1;32m      1\u001b[0m \u001b[0mfiletypes\u001b[0m\u001b[0;34m=\u001b[0m\u001b[0;34m[\u001b[0m\u001b[0;34m'.py'\u001b[0m\u001b[0;34m,\u001b[0m\u001b[0;34m'.c'\u001b[0m\u001b[0;34m,\u001b[0m\u001b[0;34m'.txt'\u001b[0m\u001b[0;34m]\u001b[0m\u001b[0;34m\u001b[0m\u001b[0;34m\u001b[0m\u001b[0m\n\u001b[1;32m      2\u001b[0m \u001b[0mfn\u001b[0m\u001b[0;34m=\u001b[0m\u001b[0minput\u001b[0m\u001b[0;34m(\u001b[0m\u001b[0;34m\"Enter the file name :\"\u001b[0m\u001b[0;34m)\u001b[0m\u001b[0;34m\u001b[0m\u001b[0;34m\u001b[0m\u001b[0m\n\u001b[0;32m----> 3\u001b[0;31m \u001b[0mf\u001b[0m\u001b[0;34m=\u001b[0m\u001b[0mopen\u001b[0m\u001b[0;34m(\u001b[0m\u001b[0mfn\u001b[0m\u001b[0;34m,\u001b[0m\u001b[0;34m\"r\"\u001b[0m\u001b[0;34m)\u001b[0m\u001b[0;34m\u001b[0m\u001b[0;34m\u001b[0m\u001b[0m\n\u001b[0m\u001b[1;32m      4\u001b[0m \u001b[0mcount\u001b[0m\u001b[0;34m=\u001b[0m\u001b[0mdict\u001b[0m\u001b[0;34m(\u001b[0m\u001b[0;34m)\u001b[0m\u001b[0;34m\u001b[0m\u001b[0;34m\u001b[0m\u001b[0m\n\u001b[1;32m      5\u001b[0m \u001b[0mprint\u001b[0m\u001b[0;34m(\u001b[0m\u001b[0;34m\"Given file is \"\u001b[0m\u001b[0;34m,\u001b[0m\u001b[0mend\u001b[0m\u001b[0;34m=\u001b[0m\u001b[0;34m\"\"\u001b[0m\u001b[0;34m)\u001b[0m\u001b[0;34m\u001b[0m\u001b[0;34m\u001b[0m\u001b[0m\n",
            "\u001b[0;31mFileNotFoundError\u001b[0m: [Errno 2] No such file or directory: 'abc.txt'"
          ]
        }
      ]
    },
    {
      "cell_type": "markdown",
      "metadata": {
        "id": "Q5tteV0xHOA7"
      },
      "source": [
        "**Excercise** **7** \n",
        "\n",
        "**Aim** : Write a program to print each line of a file in reverse order."
      ]
    },
    {
      "cell_type": "markdown",
      "metadata": {
        "id": "76gKm5bhjP50"
      },
      "source": [
        "**Description** : "
      ]
    },
    {
      "cell_type": "code",
      "metadata": {
        "id": "aU-eOHIzHcHE",
        "colab": {
          "base_uri": "https://localhost:8080/",
          "height": 563
        },
        "outputId": "0c1a31ae-7311-40da-d742-173505e4f85e"
      },
      "source": [
        "#Write a program to print each line of a file in reverse order.\n",
        "obj=open(\"abc.txt\",\"r\")\n",
        "if obj:\n",
        "  st=obj.read()\n",
        "  print(\"File content is :\\n\",st)\n",
        "  obj.close()\n",
        "  print()\n",
        "  lines=st.split('\\n')\n",
        "for ln in lines:\n",
        "  i=lcn(ln)-1\n",
        "  while(i>=0):\n",
        "    print(ln[i],end=\"\")\n",
        "    i=i-1\n",
        "  print()"
      ],
      "execution_count": null,
      "outputs": [
        {
          "output_type": "error",
          "ename": "FileNotFoundError",
          "evalue": "ignored",
          "traceback": [
            "\u001b[0;31m---------------------------------------------------------------------------\u001b[0m",
            "\u001b[0;31mFileNotFoundError\u001b[0m                         Traceback (most recent call last)",
            "\u001b[0;32m<ipython-input-5-79e8ce5d7e36>\u001b[0m in \u001b[0;36m<module>\u001b[0;34m()\u001b[0m\n\u001b[1;32m      1\u001b[0m \u001b[0;31m#Write a program to print each line of a file in reverse order.\u001b[0m\u001b[0;34m\u001b[0m\u001b[0;34m\u001b[0m\u001b[0;34m\u001b[0m\u001b[0m\n\u001b[0;32m----> 2\u001b[0;31m \u001b[0mobj\u001b[0m\u001b[0;34m=\u001b[0m\u001b[0mopen\u001b[0m\u001b[0;34m(\u001b[0m\u001b[0;34m\"abc.txt\"\u001b[0m\u001b[0;34m,\u001b[0m\u001b[0;34m\"r\"\u001b[0m\u001b[0;34m)\u001b[0m\u001b[0;34m\u001b[0m\u001b[0;34m\u001b[0m\u001b[0m\n\u001b[0m\u001b[1;32m      3\u001b[0m \u001b[0;32mif\u001b[0m \u001b[0mobj\u001b[0m\u001b[0;34m:\u001b[0m\u001b[0;34m\u001b[0m\u001b[0;34m\u001b[0m\u001b[0m\n\u001b[1;32m      4\u001b[0m   \u001b[0mst\u001b[0m\u001b[0;34m=\u001b[0m\u001b[0mobj\u001b[0m\u001b[0;34m.\u001b[0m\u001b[0mread\u001b[0m\u001b[0;34m(\u001b[0m\u001b[0;34m)\u001b[0m\u001b[0;34m\u001b[0m\u001b[0;34m\u001b[0m\u001b[0m\n\u001b[1;32m      5\u001b[0m   \u001b[0mprint\u001b[0m\u001b[0;34m(\u001b[0m\u001b[0;34m\"File content is :\\n\"\u001b[0m\u001b[0;34m,\u001b[0m\u001b[0mst\u001b[0m\u001b[0;34m)\u001b[0m\u001b[0;34m\u001b[0m\u001b[0;34m\u001b[0m\u001b[0m\n",
            "\u001b[0;31mFileNotFoundError\u001b[0m: [Errno 2] No such file or directory: 'abc.txt'"
          ]
        }
      ]
    },
    {
      "cell_type": "markdown",
      "metadata": {
        "id": "UZufp_9_Jn3u"
      },
      "source": [
        "**Aim** : Write a program to compute the number of characters words and lines in a file."
      ]
    },
    {
      "cell_type": "markdown",
      "metadata": {
        "id": "n3ua3Hs_jjK9"
      },
      "source": [
        "**Description** : "
      ]
    },
    {
      "cell_type": "code",
      "metadata": {
        "id": "QNAzZU3oJ29Q",
        "colab": {
          "base_uri": "https://localhost:8080/",
          "height": 527
        },
        "outputId": "c78aeb85-3c0b-41c7-a3cd-0aacb159c54d"
      },
      "source": [
        "nc=nw=nl=0\n",
        "file=open(\"abc.txt\",\"r\")\n",
        "nl=nw=nc=0\n",
        "print(\"File Content:\\n\")\n",
        "for line in file:\n",
        "  ln=line.strip(\"\\n\")\n",
        "  print(ln)\n",
        "  words=ln.split()\n",
        "  nl+=1\n",
        "  nw+=len(words)\n",
        "  nc+=len(line)\n",
        "  file.close()\n",
        "  print(\"\\n No of lines:\",nl,\"words\",nw,\"characters:\",nc)"
      ],
      "execution_count": null,
      "outputs": [
        {
          "output_type": "error",
          "ename": "FileNotFoundError",
          "evalue": "ignored",
          "traceback": [
            "\u001b[0;31m---------------------------------------------------------------------------\u001b[0m",
            "\u001b[0;31mFileNotFoundError\u001b[0m                         Traceback (most recent call last)",
            "\u001b[0;32m<ipython-input-6-b6f78745c9b2>\u001b[0m in \u001b[0;36m<module>\u001b[0;34m()\u001b[0m\n\u001b[1;32m      1\u001b[0m \u001b[0mnc\u001b[0m\u001b[0;34m=\u001b[0m\u001b[0mnw\u001b[0m\u001b[0;34m=\u001b[0m\u001b[0mnl\u001b[0m\u001b[0;34m=\u001b[0m\u001b[0;36m0\u001b[0m\u001b[0;34m\u001b[0m\u001b[0;34m\u001b[0m\u001b[0m\n\u001b[0;32m----> 2\u001b[0;31m \u001b[0mfile\u001b[0m\u001b[0;34m=\u001b[0m\u001b[0mopen\u001b[0m\u001b[0;34m(\u001b[0m\u001b[0;34m\"abc.txt\"\u001b[0m\u001b[0;34m,\u001b[0m\u001b[0;34m\"r\"\u001b[0m\u001b[0;34m)\u001b[0m\u001b[0;34m\u001b[0m\u001b[0;34m\u001b[0m\u001b[0m\n\u001b[0m\u001b[1;32m      3\u001b[0m \u001b[0mnl\u001b[0m\u001b[0;34m=\u001b[0m\u001b[0mnw\u001b[0m\u001b[0;34m=\u001b[0m\u001b[0mnc\u001b[0m\u001b[0;34m=\u001b[0m\u001b[0;36m0\u001b[0m\u001b[0;34m\u001b[0m\u001b[0;34m\u001b[0m\u001b[0m\n\u001b[1;32m      4\u001b[0m \u001b[0mprint\u001b[0m\u001b[0;34m(\u001b[0m\u001b[0;34m\"File Content:\\n\"\u001b[0m\u001b[0;34m)\u001b[0m\u001b[0;34m\u001b[0m\u001b[0;34m\u001b[0m\u001b[0m\n\u001b[1;32m      5\u001b[0m \u001b[0;32mfor\u001b[0m \u001b[0mline\u001b[0m \u001b[0;32min\u001b[0m \u001b[0mfile\u001b[0m\u001b[0;34m:\u001b[0m\u001b[0;34m\u001b[0m\u001b[0;34m\u001b[0m\u001b[0m\n",
            "\u001b[0;31mFileNotFoundError\u001b[0m: [Errno 2] No such file or directory: 'abc.txt'"
          ]
        }
      ]
    },
    {
      "cell_type": "markdown",
      "metadata": {
        "id": "-NAsyc7ULN4H"
      },
      "source": [
        "**Excercise** **8** \n",
        "\n",
        "**Aim** : Write a function ball collide that takes two balls as parameters and computes if they are colliding.Your function should return a bollean representing whether or not the balls are colliding."
      ]
    },
    {
      "cell_type": "markdown",
      "metadata": {
        "id": "rLZj188RjzXV"
      },
      "source": [
        "**Description** : "
      ]
    },
    {
      "cell_type": "code",
      "metadata": {
        "id": "ZGCHHKpzMIoc"
      },
      "source": [
        "import math\n",
        "def collide(ball_tup1,ball_tup2):\n",
        "  x1,y1,r1=ball_tup1\n",
        "  x2,y2,r2=ball_tup2\n",
        "  print(\"Ball-01: \",ball_tup1)\n",
        "  print(\"Ball-02: \",ball_tup2)\n",
        "  d=math.sqrt((x2-x1)**2+(y2-y1)**2)\n",
        "  print(\"Centroid Distance of two balls: \",d)\n",
        "  print(\"Sum of radius Ball-01 & Balu-02 is: {}+{}={}\".format(r1,r2,r1+r2))\n",
        "  if d<=r1+r2:\n",
        "    return True\n",
        "  else:\n",
        "    return False\n",
        "  b1=(-2,-4,3)\n",
        "  b2=(4,6,3)\n",
        "  if collide(b1,b2):\n",
        "    print(\"Balls are Collide...!\")\n",
        "  else:\n",
        "    print(\"Balls are NOT Collide !\")"
      ],
      "execution_count": null,
      "outputs": []
    },
    {
      "cell_type": "markdown",
      "metadata": {
        "id": "2E6DDj1ONXPL"
      },
      "source": [
        "**Aim** :  Find mean,median,mode for the given set of numbers in a list."
      ]
    },
    {
      "cell_type": "markdown",
      "metadata": {
        "id": "GSmRaDrZj9mx"
      },
      "source": [
        "**Description** : "
      ]
    },
    {
      "cell_type": "code",
      "metadata": {
        "id": "fNUPVSQJPGSm"
      },
      "source": [
        "def list_mean(num_list):\n",
        "  return sum(num_list)/len(num_list)\n",
        "\n",
        "  def list_median(num_list):\n",
        "    num_list.sort()\n",
        "    n=len(num_list)\n",
        "    mid=n/2\n",
        "    if(n%2==1):\n",
        "      return num_list[mid]\n",
        "    else:\n",
        "      mid\n",
        "      return(num_list[mid-1]+num_list[mid])/2\n",
        "\n",
        "  def list_mode(num_list):\n",
        "    num_list.sort()\n",
        "    temp=[]\n",
        "\n",
        "    i=0\n",
        "    while i<len(num_list):\n",
        "      temp.append(num_list.count(num_list[i]))\n",
        "      i+=1\n",
        "    dic=dict(zip(num_list,temp))\n",
        "    mode={k for(k,v) in dic.items() if v==max(temp)}\n",
        "    return mode\n",
        "\n",
        "  lst=[1,1,2,2,2,3,4,5,3]\n",
        "\n",
        "  print(\"Given list is:\",lst)\n",
        "  print(\"Mean of the given list: \",list_mean(lst))\n",
        "  print(\"Median of the given list:\",list_median(lst))\n",
        "  print(\"Mode of the given list :\",list_mode(lst))\n"
      ],
      "execution_count": null,
      "outputs": []
    },
    {
      "cell_type": "markdown",
      "metadata": {
        "id": "uvMpEC0EeDaV"
      },
      "source": [
        "**Excercise** **9** \n",
        "\n",
        "**Aim** : Write a function nearly equal to test whether two strings are nearky equal.Two strings a and b are nearly equal when a can be generated by a single mutation on b."
      ]
    },
    {
      "cell_type": "markdown",
      "metadata": {
        "id": "lGRedIswkQrW"
      },
      "source": [
        "**Description** : "
      ]
    },
    {
      "cell_type": "code",
      "metadata": {
        "id": "-g4ktXhrebxZ"
      },
      "source": [
        "def nearly_eq(str1,str2):\n",
        "  count=0\n",
        "  i=j=0\n",
        "  while(i<len(str1) and j<len(str2)):\n",
        "    if(str1[i]!=str2[j]):\n",
        "      count+=1\n",
        "      if(len(str1)>len(str2)):\n",
        "        i+=1\n",
        "      elif(len(str1)-len(str2)):\n",
        "          pass\n",
        "      else:\n",
        "          i=1\n",
        "      if(count>1):\n",
        "        return False\n",
        "      i+=1\n",
        "      j+=1\n",
        "    if(count<2):\n",
        "      return True\n",
        "\n",
        "  s1=input(\"Enter String1: \")\n",
        "  s2=input(\"Enter String2: \")\n",
        "  bln=nearly_eq(s1,s2)\n",
        "  if(bln):\n",
        "    print(\"Strings are naerly equal \")\n",
        "  else:\n",
        "    print(\"String are NOT equal \")\n"
      ],
      "execution_count": null,
      "outputs": []
    },
    {
      "cell_type": "markdown",
      "metadata": {
        "id": "DRrNAiFug0nB"
      },
      "source": [
        "**Aim** :  Write a function dup to find all duplicates in the list"
      ]
    },
    {
      "cell_type": "markdown",
      "metadata": {
        "id": "FPRqJ_SGkan5"
      },
      "source": [
        "**Description** : "
      ]
    },
    {
      "cell_type": "code",
      "metadata": {
        "id": "peiziP_OYOFR"
      },
      "source": [
        "def dups(numlist):\n",
        "  temp=[]\n",
        "  for i in numlist:\n",
        "    cnt=numlist.count(i)\n",
        "    if(cnt>1 and (i not in temp)):\n",
        "      temp.append(i)\n",
        "  print(\"Duplicates in the list: \",temp)\n",
        "\n",
        "  lst=[1,2,6,9,1,3,5,2,1]\n",
        "  print(\"Duplicates in the list: \",lst)\n",
        "  dups(lst)"
      ],
      "execution_count": null,
      "outputs": []
    },
    {
      "cell_type": "markdown",
      "metadata": {
        "id": "8JE5Glvlmo-5"
      },
      "source": [
        "**Aim** :  Write a function unique to find all the unique elements of a list."
      ]
    },
    {
      "cell_type": "markdown",
      "metadata": {
        "id": "2IC-SwdUkrYW"
      },
      "source": [
        "**Description** : "
      ]
    },
    {
      "cell_type": "code",
      "metadata": {
        "colab": {
          "base_uri": "https://localhost:8080/"
        },
        "id": "CV_E1Xgom3E6",
        "outputId": "eef38f13-3559-47c6-f36e-df590f0f8f18"
      },
      "source": [
        "def unique(numlist):\n",
        "  temp=[]\n",
        "  for i in numlist:\n",
        "    cnt=numlist.count(i)\n",
        "    if cnt==1:\n",
        "      temp.append(i)\n",
        "  print(\"Unique Elements in the list: \",temp)\n",
        "\n",
        "lst=[1,2,6,9,1,3,5,2,1]\n",
        "print(\"Given elements in the list: \",lst)\n",
        "unique(lst)"
      ],
      "execution_count": null,
      "outputs": [
        {
          "output_type": "stream",
          "text": [
            "Given elements in the list:  [1, 2, 6, 9, 1, 3, 5, 2, 1]\n",
            "Unique Elements in the list:  [6, 9, 3, 5]\n"
          ],
          "name": "stdout"
        }
      ]
    },
    {
      "cell_type": "markdown",
      "metadata": {
        "id": "NRcM9imaoXiE"
      },
      "source": [
        "**Excercise** **10** \n",
        "\n",
        "**Aim** : Write a function cumulative product to compare cumulative product of a list of numbers."
      ]
    },
    {
      "cell_type": "markdown",
      "metadata": {
        "id": "HJeWf_Ovk93O"
      },
      "source": [
        "**Description** : "
      ]
    },
    {
      "cell_type": "code",
      "metadata": {
        "colab": {
          "base_uri": "https://localhost:8080/"
        },
        "id": "AOrvqjrDo8JU",
        "outputId": "1bd228f8-3b00-4ce8-cb86-996b789230b9"
      },
      "source": [
        "def cum_prod(numlist):\n",
        "  prod=1\n",
        "  temp=[]\n",
        "  for i in numlist:\n",
        "    prod*=i\n",
        "    temp.append(prod)\n",
        "    return temp\n",
        "lst=[1,2,4,5,3]\n",
        "print(\"Given list is:\",lst)\n",
        "print(\"Cumulative Product list is:\",cum_prod(lst))"
      ],
      "execution_count": null,
      "outputs": [
        {
          "output_type": "stream",
          "text": [
            "Given list is: [1, 2, 4, 5, 3]\n",
            "Cumulative Product list is: [1]\n"
          ],
          "name": "stdout"
        }
      ]
    },
    {
      "cell_type": "markdown",
      "metadata": {
        "id": "_0HBKVfIqXEy"
      },
      "source": [
        "**Aim** :  Write a function reverse to reverse a list.Without using the reverse function."
      ]
    },
    {
      "cell_type": "markdown",
      "metadata": {
        "id": "zdJkvwJvlH0E"
      },
      "source": [
        "**Description** : "
      ]
    },
    {
      "cell_type": "code",
      "metadata": {
        "colab": {
          "base_uri": "https://localhost:8080/"
        },
        "id": "ZtTat4QhtgjD",
        "outputId": "de607be7-cccc-4a26-8138-82049f702714"
      },
      "source": [
        "def reverse_list(numlist):\n",
        "  i=0\n",
        "  j=len(numlist)-1\n",
        "  while(i<=j):\n",
        "   temp=numlist[i]\n",
        "   numlist[i]=numlist[j]\n",
        "   numlist[j]=temp\n",
        "   j-=1\n",
        "   i+=1\n",
        "  return numlist\n",
        "lst=[1,2,3,4]\n",
        "print(\"Given list is: \",lst)\n",
        "reverse_list(lst)\n",
        "print(\"Reverse of the given list is: \",lst)"
      ],
      "execution_count": null,
      "outputs": [
        {
          "output_type": "stream",
          "text": [
            "Given list is:  [1, 2, 3, 4]\n",
            "Reverse of the given list is:  [4, 3, 2, 1]\n"
          ],
          "name": "stdout"
        }
      ]
    },
    {
      "cell_type": "markdown",
      "metadata": {
        "id": "9OYG3qlnvU5E"
      },
      "source": [
        "10(c)\n",
        "\n",
        "**Aim** : Write function to compute gcd,lcm of two numbers.Each function shouldnt exceed one line."
      ]
    },
    {
      "cell_type": "markdown",
      "metadata": {
        "id": "oYVPEbHKlVED"
      },
      "source": [
        "**Description** : "
      ]
    },
    {
      "cell_type": "code",
      "metadata": {
        "colab": {
          "base_uri": "https://localhost:8080/"
        },
        "id": "1VKY3ntjvk7h",
        "outputId": "5d3abcce-bb84-4867-9067-2c4f2ca9d103"
      },
      "source": [
        "gcd=lambda a,b:a if b==0 else gcd(a,a%b)\n",
        "lcm=lambda a,b:(a*b)/gcd(a,b)\n",
        "\n",
        "x=4\n",
        "y=24\n",
        "print(\"The given numbers: \",x,y)\n",
        "print(\"GCD is: \",x,y)\n",
        "print(\"LCM is: \",lcm(x,y))\n"
      ],
      "execution_count": null,
      "outputs": [
        {
          "output_type": "stream",
          "text": [
            "The given numbers:  4 24\n",
            "GCD is:  4 24\n",
            "LCM is:  24.0\n"
          ],
          "name": "stdout"
        }
      ]
    },
    {
      "cell_type": "markdown",
      "metadata": {
        "id": "Tgd3ncv7wzrw"
      },
      "source": [
        "**Exercise** **11** \n",
        "\n",
        "**Aim** : Write a program that defines a matrix and prints."
      ]
    },
    {
      "cell_type": "markdown",
      "metadata": {
        "id": "eMjSU5Cblybt"
      },
      "source": [
        "**Description** : "
      ]
    },
    {
      "cell_type": "code",
      "metadata": {
        "colab": {
          "base_uri": "https://localhost:8080/"
        },
        "id": "b4gTMRi3w8uJ",
        "outputId": "43879b06-171f-4d96-d7e7-5f2875136099"
      },
      "source": [
        "matA=[[]]\n",
        "rows=int(input(\"Enter row size of Matrix: \"))\n",
        "cols=int(input(\"Enter column size of matrix: \"))\n",
        "\n",
        "matA=[[int(input(\"Enter [%d,%d] value: \"%(i,j)))for j in range(cols)]for i in range(rows)]\n",
        "\n",
        "print(\"Matrix is: \")\n",
        "for i in range(rows):\n",
        "  for j in range(cols):\n",
        "    print(matA[i][j],end='\\t')\n",
        "    print(' ')"
      ],
      "execution_count": null,
      "outputs": [
        {
          "output_type": "stream",
          "text": [
            "Enter row size of Matrix: 3\n",
            "Enter column size of matrix: 2\n",
            "Enter [0,0] value: 7\n",
            "Enter [0,1] value: 2\n",
            "Enter [1,0] value: 1\n",
            "Enter [1,1] value: 6\n",
            "Enter [2,0] value: 3\n",
            "Enter [2,1] value: 5\n",
            "Matrix is: \n",
            "7\t \n",
            "2\t \n",
            "1\t \n",
            "6\t \n",
            "3\t \n",
            "5\t \n"
          ],
          "name": "stdout"
        }
      ]
    },
    {
      "cell_type": "markdown",
      "metadata": {
        "id": "rNVns4ZB1F3V"
      },
      "source": [
        "11(b)\n",
        "\n",
        "**Aim** : Write a program to perform addition of two square matrices"
      ]
    },
    {
      "cell_type": "markdown",
      "metadata": {
        "id": "1HPtc3kal_lK"
      },
      "source": [
        "**Description** : "
      ]
    },
    {
      "cell_type": "code",
      "metadata": {
        "colab": {
          "base_uri": "https://localhost:8080/"
        },
        "id": "mVh3VeCT1UBE",
        "outputId": "ce3f7d77-5387-4665-8f9b-592dcc6ea20c"
      },
      "source": [
        "def matRead(r,c):\n",
        "  return[[int(input(\"[%d,%d]value: \"%(i,j)))for j in range(c)]for i in range(r)]\n",
        "def matDisp(mat,r,c):\n",
        "  for i in range(r):\n",
        "    for j in range(c):\n",
        "      print(mat[i][j],end='\\t')\n",
        "    print()\n",
        "\n",
        "matA=[[]]\n",
        "matB=[[]]\n",
        "matSum=[[]]\n",
        "rows=int(input(\"Enter row size of the Matrix: \"))\n",
        "cols=int(input(\"Enter column size of the Matrix: \"))\n",
        "if rows==cols:\n",
        "  print(\"Enter Matrix-A elements: \")\n",
        "  matA=matRead(rows,cols)\n",
        "\n",
        "  print(\"Enter Matrix-B elements: \")\n",
        "  matB=matRead(rows,cols)\n",
        "\n",
        "  print(\"Matrix-A is: \")\n",
        "  matDisp(matA,rows,cols)\n",
        "\n",
        "  print(\"Matrix-B is: \")\n",
        "  matDisp(matB,rows,cols)\n",
        "\n",
        "  matSum=[[matA[i][j]+matB[i][j]for j in range(cols)]for i in range(rows)]\n",
        "  print(\"Sum of Matrices is: \")\n",
        "  5matDisp(matSum,rows,cols)\n",
        "else:\n",
        "  print(\"Matrices Addition is Not possible\")"
      ],
      "execution_count": null,
      "outputs": [
        {
          "output_type": "stream",
          "text": [
            "Enter row size of the Matrix: 2\n",
            "Enter column size of the Matrix: 2\n",
            "Enter Matrix-A elements: \n",
            "[0,0]value: 1\n",
            "[0,1]value: 2\n",
            "[1,0]value: 3\n",
            "[1,1]value: 4\n",
            "Enter Matrix-B elements: \n",
            "[0,0]value: 9\n",
            "[0,1]value: 6\n",
            "[1,0]value: 5\n",
            "[1,1]value: 4\n",
            "Matrix-A is: \n",
            "1\t2\t\n",
            "3\t4\t\n",
            "Matrix-B is: \n",
            "9\t6\t\n",
            "5\t4\t\n",
            "Sum of Matrices is: \n",
            "10\t8\t\n",
            "8\t8\t\n"
          ],
          "name": "stdout"
        }
      ]
    },
    {
      "cell_type": "markdown",
      "metadata": {
        "id": "Po4bcHqm6GEp"
      },
      "source": [
        "11(c) \n",
        "\n",
        "**Aim** : Write a program to perform multiplication of two square matrices"
      ]
    },
    {
      "cell_type": "markdown",
      "metadata": {
        "id": "wqmZ--FvmOKP"
      },
      "source": [
        "**Description** : "
      ]
    },
    {
      "cell_type": "code",
      "metadata": {
        "colab": {
          "base_uri": "https://localhost:8080/"
        },
        "id": "yg8tsFUa6YQC",
        "outputId": "3cbd7eaf-7133-4e96-8b91-1699ca845fa1"
      },
      "source": [
        "def matRead(r,c):\n",
        "  return[[int(input(\"[%d,%d]value: \"%(i,j)))for j in range(c)]for i in range(r)]\n",
        "              \n",
        "def matDisp(mat,r,c):\n",
        "  for i in range(r):\n",
        "    for j in range(c):\n",
        "      print(mat[i][j],end='\\t')\n",
        "    print()\n",
        "matA=[[]]\n",
        "matB=[[]]\n",
        "matMul=[[]]\n",
        "rows=int(input(\"Enter row size of the Matrix: \"))\n",
        "cols=int(input(\"Enter columns size of the Matrix: \"))\n",
        "\n",
        "if rows==cols:\n",
        "  print(\"Enter Matrix-A: \")\n",
        "  matA=matRead(rows,cols)\n",
        "  print(\"Enter Matrix-B: \")\n",
        "  matB=matRead(rows,cols)\n",
        "\n",
        "  matMul=[[0 for j in range(cols)]for i in range(rows)]\n",
        "\n",
        "  for i in range(rows):\n",
        "    for j in range(cols):\n",
        "      for k in range(cols):\n",
        "        matMul[i][j]+=matA[i][k]*matB[k][j]\n",
        "\n",
        "  print(\"Matrix-A is: \")\n",
        "  matDisp(matA,rows,cols)\n",
        "\n",
        "  print(\"Matrix-B is: \")\n",
        "  matDisp(matB,rows,cols)\n",
        "\n",
        "  print(\"Mukitiplication of matrices is: \")\n",
        "  matDisp(matMul,rows,cols)\n",
        "else:\n",
        "  print(\"Matrices Multiplicataion is Not Possible\")\n"
      ],
      "execution_count": null,
      "outputs": [
        {
          "output_type": "stream",
          "text": [
            "Enter row size of the Matrix: 2\n",
            "Enter columns size of the Matrix: 2\n",
            "Enter Matrix-A: \n",
            "[0,0]value: 2\n",
            "[0,1]value: 3\n",
            "[1,0]value: 5\n",
            "[1,1]value: 6\n",
            "Enter Matrix-B: \n",
            "[0,0]value: 1\n",
            "[0,1]value: 2\n",
            "[1,0]value: 3\n",
            "[1,1]value: 4\n",
            "Matrix-A is: \n",
            "2\t3\t\n",
            "5\t6\t\n",
            "Matrix-B is: \n",
            "1\t2\t\n",
            "3\t4\t\n",
            "Mukitiplication of matrices is: \n",
            "11\t16\t\n",
            "23\t34\t\n"
          ],
          "name": "stdout"
        }
      ]
    },
    {
      "cell_type": "markdown",
      "metadata": {
        "id": "L0lYZyiFAgvv"
      },
      "source": [
        "**Exercise** **12**\n",
        "\n",
        "**Aim** : Install packages requests flask and explore them.using(pip)"
      ]
    },
    {
      "cell_type": "code",
      "metadata": {
        "id": "W7QPq7HPAu8F"
      },
      "source": [
        ""
      ],
      "execution_count": null,
      "outputs": []
    },
    {
      "cell_type": "markdown",
      "metadata": {
        "id": "U0Ksk2O3A54f"
      },
      "source": [
        "12(b)\n",
        " \n",
        "**Aim** : Write a script that imports requests and fetch content from the page."
      ]
    },
    {
      "cell_type": "markdown",
      "metadata": {
        "id": "vd_qv7N1mtv-"
      },
      "source": [
        "**Description** : "
      ]
    },
    {
      "cell_type": "code",
      "metadata": {
        "id": "KNhXBzNiBMSR"
      },
      "source": [
        "import requests\n",
        "r=requests.get('https://www.google.com')\n",
        "\n",
        "print(\"Statuscode: \",r.status_code)\n",
        "\n",
        "print(\"Header Content: \",r.header['content-type'])\n",
        "\n",
        "print(r.text)"
      ],
      "execution_count": null,
      "outputs": []
    },
    {
      "cell_type": "markdown",
      "metadata": {
        "id": "OfbXrIIBCH7b"
      },
      "source": [
        "12(c)\n",
        "\n",
        "**Aim** :  Write a simple script that serves that serves a simple HTML page"
      ]
    },
    {
      "cell_type": "markdown",
      "metadata": {
        "id": "Kj19R7GFm6m6"
      },
      "source": [
        "**Description** : "
      ]
    },
    {
      "cell_type": "code",
      "metadata": {
        "id": "uNgGghMBCY6M",
        "colab": {
          "base_uri": "https://localhost:8080/",
          "height": 130
        },
        "outputId": "8d49bd08-62ab-405a-d605-1eae88e672ad"
      },
      "source": [
        "from flask import Flask,render_template\n",
        "app=Flask(__name__)\n",
        "print(app)\n",
        "@app.route(\"/\")\n",
        "\n",
        "def main():\n",
        "  return render_template('login.html')\n",
        "\n",
        "  if__name__==\"__main__\":\n",
        "    app.run(host=\"127.0.0.1\",port=2500)"
      ],
      "execution_count": null,
      "outputs": [
        {
          "output_type": "error",
          "ename": "SyntaxError",
          "evalue": "ignored",
          "traceback": [
            "\u001b[0;36m  File \u001b[0;32m\"<ipython-input-20-1b9351b7d5de>\"\u001b[0;36m, line \u001b[0;32m9\u001b[0m\n\u001b[0;31m    if__name__==\"__main__\":\u001b[0m\n\u001b[0m                           ^\u001b[0m\n\u001b[0;31mSyntaxError\u001b[0m\u001b[0;31m:\u001b[0m invalid syntax\n"
          ]
        }
      ]
    },
    {
      "cell_type": "markdown",
      "metadata": {
        "id": "OeIJWgLcDYUC"
      },
      "source": [
        "**Excercise** **13**\n",
        "\n",
        "**Aim** : Class variables and instances variable and illustration of the self-variable\n",
        "1)"
      ]
    },
    {
      "cell_type": "code",
      "metadata": {
        "id": "6K_HtPvLDpZg"
      },
      "source": [
        "class Robot:\n",
        "  what=\"Machine\"\n",
        "  name=\"Chitti\"\n",
        "  version=1.0\n",
        "  speed=\"1THz\"\n",
        "  memory=\"1ZB\"\n",
        "\n",
        "def updated(upd):\n",
        "  upd.version-2.0\n",
        "  upd.speed=\"2THz\"\n",
        "  upd.memory=\"2ZB\"\n",
        "\n",
        "def disp(self):\n",
        "  print(\"Myself is a\",robj.what)\n",
        "  print(\"MyName is a\",robj.name)\n",
        "  print(\"Version:\",robj.version)\n",
        "  print(\"Speed:\",robj.speed)\n",
        "  print(\"Memory:\",robj.memory)\n",
        "\n",
        "robj=Robot()\n",
        "robj.disp()\n",
        "\n",
        "print(\".......Update.......\")\n",
        "robj.update()\n",
        "robj.disp()\n",
        "\n"
      ],
      "execution_count": null,
      "outputs": []
    },
    {
      "cell_type": "markdown",
      "metadata": {
        "id": "H1YNRlrSF4OX"
      },
      "source": [
        "**ATM** **Machine**"
      ]
    },
    {
      "cell_type": "code",
      "metadata": {
        "id": "g0vR8I9nF8ou"
      },
      "source": [
        "class ATM:\n",
        "  def init(self):\n",
        "   self.balance=0\n",
        "   \n",
        "  def enquire(self):\n",
        "    print(\"Balance: \",balance)\n",
        "\n",
        "  def deposit(self):\n",
        "    amount=int(input(\"Enter the Deposit Amount : \"))\n",
        "    self.balance+=amount\n",
        "    self.enquire()\n",
        "\n",
        "  def withdraw(self):\n",
        "    amount=int(input(\"Enter the Withdraw Amount: \"))\n",
        "    if self.balance<amount:\n",
        "      print(\"Insufficient Balance....!\")\n",
        "    else:\n",
        "      self.balance-=amount\n",
        "      self.enquire()\n",
        "\n",
        "aobj=ATM()\n",
        "while(True):\n",
        "  print(\"****Menu****\")\n",
        "  print(\"1.Deposit\")\n",
        "  print(\"2.Withdraw\")\n",
        "  print(\"3.Balance\")\n",
        "  print(\"0.Exit\")\n",
        "  ch=int(input(\"Enter Your Choice: \"))\n",
        "  if ch==0:\n",
        "    break\n",
        "  elif ch==1:\n",
        "      aobj.deposit()\n",
        "  elif ch==2:\n",
        "      aobj.withdraw()\n",
        "  elif ch==3:\n",
        "      aobj.enquire()\n",
        "  else:\n",
        "      print(\"Invalid choice:\")\n",
        "      pass"
      ],
      "execution_count": null,
      "outputs": []
    },
    {
      "cell_type": "markdown",
      "metadata": {
        "id": "mFf4vKs6gZNK"
      },
      "source": [
        " **Exercise** - **14**\n",
        " \n",
        " **GUI**, **Graphics**\n",
        " \n",
        "**Aim** : 1. Write a GUI for an Expression Calculator using tk\n",
        " \n",
        "**Aim** : 2. Write a program to implement the following figures using turtle"
      ]
    },
    {
      "cell_type": "markdown",
      "metadata": {
        "id": "HuBS1qLina43"
      },
      "source": [
        "**Description** : "
      ]
    },
    {
      "cell_type": "code",
      "metadata": {
        "id": "pF7ODsjdCfB3",
        "colab": {
          "base_uri": "https://localhost:8080/",
          "height": 350
        },
        "outputId": "0622cd09-646e-4ea1-ec6a-8acda283bcc5"
      },
      "source": [
        "from tkinter import *\n",
        "\n",
        "win = Tk() # to create a basic window\n",
        "win.geometry(\"312x324\")  #for the size of the window \n",
        "win.resizable(0, 0)  # to prevent from resizing the window\n",
        "win.title(\"Calculator\")\n",
        "\n",
        "# 'btn_click' Function continuously updates the \n",
        "# input field whenever you enters a number\n",
        "\n",
        "def btn_click(item):\n",
        "    global expression\n",
        "    expression = expression + str(item)\n",
        "    input_text.set(expression)\n",
        "\n",
        "# 'bt_clear' function : used to clear the input field\n",
        "\n",
        "def bt_clear(): \n",
        "    global expression \n",
        "    expression = \"\"\n",
        "    input_text.set(\"\")\n",
        "\n",
        "# 'bt_equal':calculates the expression present in input field\n",
        "\n",
        "def bt_equal():\n",
        "    global expression\n",
        "    result = str(eval(expression)) # 'eval':This function is used to evaluates the string expression directly\n",
        "    input_text.set(result)\n",
        "    expression = \"\"\n",
        "\n",
        "expression = \"\"\n",
        "\n",
        "# 'StringVar()' :used to get the instance of input field\n",
        "\n",
        "input_text = StringVar()\n",
        "\n",
        "# creating a frame for the input field\n",
        "\n",
        "input_frame = Frame(win, width=312, height=50, bd=0, highlightbackground=\"black\", highlightcolor=\"black\", highlightthickness=2)\n",
        "\n",
        "input_frame.pack(side=TOP)\n",
        "\n",
        "#create a input field inside the 'Frame'\n",
        "\n",
        "input_field = Entry(input_frame, font=('arial', 18, 'bold'), textvariable=input_text, width=50, bg=\"#eee\", bd=0, justify=RIGHT)\n",
        "\n",
        "input_field.grid(row=0, column=0)\n",
        "\n",
        "input_field.pack(ipady=10)\n",
        "# 'ipady' is internal padding to increase the height of input field\n",
        "\n",
        "#creating another 'Frame' for the button below the 'input_frame'\n",
        "\n",
        "btns_frame = Frame(win, width=312, height=272.5, bg=\"grey\")\n",
        "\n",
        "btns_frame.pack()\n",
        "\n",
        "# first row\n",
        "\n",
        "clear = Button(btns_frame, text = \"C\", fg = \"black\", width = 32, height = 3, bd = 0, bg = \"#eee\", cursor = \"hand2\", command = lambda: bt_clear()).grid(row = 0, column = 0, columnspan = 3, padx = 1, pady = 1)\n",
        "\n",
        "divide = Button(btns_frame, text = \"/\", fg = \"black\", width = 10, height = 3, bd = 0, bg = \"#eee\", cursor = \"hand2\", command = lambda: btn_click(\"/\")).grid(row = 0, column = 3, padx = 1, pady = 1)\n",
        "\n",
        "# second row\n",
        "\n",
        "seven = Button(btns_frame, text = \"7\", fg = \"black\", width = 10, height = 3, bd = 0, bg = \"#fff\", cursor = \"hand2\", command = lambda: btn_click(7)).grid(row = 1, column = 0, padx = 1, pady = 1)\n",
        "\n",
        "eight = Button(btns_frame, text = \"8\", fg = \"black\", width = 10, height = 3, bd = 0, bg = \"#fff\", cursor = \"hand2\", command = lambda: btn_click(8)).grid(row = 1, column = 1, padx = 1, pady = 1)\n",
        "\n",
        "nine = Button(btns_frame, text = \"9\", fg = \"black\", width = 10, height = 3, bd = 0, bg = \"#fff\", cursor = \"hand2\", command = lambda: btn_click(9)).grid(row = 1, column = 2, padx = 1, pady = 1)\n",
        "\n",
        "multiply = Button(btns_frame, text = \"\", fg = \"black\", width = 10, height = 3, bd = 0, bg = \"#eee\", cursor = \"hand2\", command = lambda: btn_click(\"\")).grid(row = 1, column = 3, padx = 1, pady = 1)\n",
        "\n",
        "# third row\n",
        "\n",
        "four = Button(btns_frame, text = \"4\", fg = \"black\", width = 10, height = 3, bd = 0, bg = \"#fff\", cursor = \"hand2\", command = lambda: btn_click(4)).grid(row = 2, column = 0, padx = 1, pady = 1)\n",
        "\n",
        "five = Button(btns_frame, text = \"5\", fg = \"black\", width = 10, height = 3, bd = 0, bg = \"#fff\", cursor = \"hand2\", command = lambda: btn_click(5)).grid(row = 2, column = 1, padx = 1, pady = 1)\n",
        "\n",
        "six = Button(btns_frame, text = \"6\", fg = \"black\", width = 10, height = 3, bd = 0, bg = \"#fff\", cursor = \"hand2\", command = lambda: btn_click(6)).grid(row = 2, column = 2, padx = 1, pady = 1)\n",
        "\n",
        "minus = Button(btns_frame, text = \"-\", fg = \"black\", width = 10, height = 3, bd = 0, bg = \"#eee\", cursor = \"hand2\", command = lambda: btn_click(\"-\")).grid(row = 2, column = 3, padx = 1, pady = 1)\n",
        "\n",
        "# fourth row\n",
        "\n",
        "one = Button(btns_frame, text = \"1\", fg = \"black\", width = 10, height = 3, bd = 0, bg = \"#fff\", cursor = \"hand2\", command = lambda: btn_click(1)).grid(row = 3, column = 0, padx = 1, pady = 1)\n",
        "\n",
        "two = Button(btns_frame, text = \"2\", fg = \"black\", width = 10, height = 3, bd = 0, bg = \"#fff\", cursor = \"hand2\", command = lambda: btn_click(2)).grid(row = 3, column = 1, padx = 1, pady = 1)\n",
        "\n",
        "three = Button(btns_frame, text = \"3\", fg = \"black\", width = 10, height = 3, bd = 0, bg = \"#fff\", cursor = \"hand2\", command = lambda: btn_click(3)).grid(row = 3, column = 2, padx = 1, pady = 1)\n",
        "\n",
        "plus = Button(btns_frame, text = \"+\", fg = \"black\", width = 10, height = 3, bd = 0, bg = \"#eee\", cursor = \"hand2\", command = lambda: btn_click(\"+\")).grid(row = 3, column = 3, padx = 1, pady = 1)\n",
        "\n",
        "# fifth row\n",
        "\n",
        "zero = Button(btns_frame, text = \"0\", fg = \"black\", width = 21, height = 3, bd = 0, bg = \"#fff\", cursor = \"hand2\", command = lambda: btn_click(0)).grid(row = 4, column = 0, columnspan = 2, padx = 1, pady = 1)\n",
        "\n",
        "point = Button(btns_frame, text = \".\", fg = \"black\", width = 10, height = 3, bd = 0, bg = \"#eee\", cursor = \"hand2\", command = lambda: btn_click(\".\")).grid(row = 4, column = 2, padx = 1, pady = 1)\n",
        "\n",
        "equals = Button(btns_frame, text = \"=\", fg = \"black\", width = 10, height = 3, bd = 0, bg = \"#eee\", cursor = \"hand2\", command = lambda: bt_equal()).grid(row = 4, column = 3, padx = 1, pady = 1)\n",
        "\n",
        "win.mainloop()"
      ],
      "execution_count": null,
      "outputs": [
        {
          "output_type": "error",
          "ename": "TclError",
          "evalue": "ignored",
          "traceback": [
            "\u001b[0;31m---------------------------------------------------------------------------\u001b[0m",
            "\u001b[0;31mTclError\u001b[0m                                  Traceback (most recent call last)",
            "\u001b[0;32m<ipython-input-1-d6577ed3b2f9>\u001b[0m in \u001b[0;36m<module>\u001b[0;34m()\u001b[0m\n\u001b[1;32m      1\u001b[0m \u001b[0;32mfrom\u001b[0m \u001b[0mtkinter\u001b[0m \u001b[0;32mimport\u001b[0m \u001b[0;34m*\u001b[0m\u001b[0;34m\u001b[0m\u001b[0;34m\u001b[0m\u001b[0m\n\u001b[1;32m      2\u001b[0m \u001b[0;34m\u001b[0m\u001b[0m\n\u001b[0;32m----> 3\u001b[0;31m \u001b[0mwin\u001b[0m \u001b[0;34m=\u001b[0m \u001b[0mTk\u001b[0m\u001b[0;34m(\u001b[0m\u001b[0;34m)\u001b[0m \u001b[0;31m# to create a basic window\u001b[0m\u001b[0;34m\u001b[0m\u001b[0;34m\u001b[0m\u001b[0m\n\u001b[0m\u001b[1;32m      4\u001b[0m \u001b[0mwin\u001b[0m\u001b[0;34m.\u001b[0m\u001b[0mgeometry\u001b[0m\u001b[0;34m(\u001b[0m\u001b[0;34m\"312x324\"\u001b[0m\u001b[0;34m)\u001b[0m  \u001b[0;31m#for the size of the window\u001b[0m\u001b[0;34m\u001b[0m\u001b[0;34m\u001b[0m\u001b[0m\n\u001b[1;32m      5\u001b[0m \u001b[0mwin\u001b[0m\u001b[0;34m.\u001b[0m\u001b[0mresizable\u001b[0m\u001b[0;34m(\u001b[0m\u001b[0;36m0\u001b[0m\u001b[0;34m,\u001b[0m \u001b[0;36m0\u001b[0m\u001b[0;34m)\u001b[0m  \u001b[0;31m# to prevent from resizing the window\u001b[0m\u001b[0;34m\u001b[0m\u001b[0;34m\u001b[0m\u001b[0m\n",
            "\u001b[0;32m/usr/lib/python3.7/tkinter/__init__.py\u001b[0m in \u001b[0;36m__init__\u001b[0;34m(self, screenName, baseName, className, useTk, sync, use)\u001b[0m\n\u001b[1;32m   2021\u001b[0m                 \u001b[0mbaseName\u001b[0m \u001b[0;34m=\u001b[0m \u001b[0mbaseName\u001b[0m \u001b[0;34m+\u001b[0m \u001b[0mext\u001b[0m\u001b[0;34m\u001b[0m\u001b[0;34m\u001b[0m\u001b[0m\n\u001b[1;32m   2022\u001b[0m         \u001b[0minteractive\u001b[0m \u001b[0;34m=\u001b[0m \u001b[0;36m0\u001b[0m\u001b[0;34m\u001b[0m\u001b[0;34m\u001b[0m\u001b[0m\n\u001b[0;32m-> 2023\u001b[0;31m         \u001b[0mself\u001b[0m\u001b[0;34m.\u001b[0m\u001b[0mtk\u001b[0m \u001b[0;34m=\u001b[0m \u001b[0m_tkinter\u001b[0m\u001b[0;34m.\u001b[0m\u001b[0mcreate\u001b[0m\u001b[0;34m(\u001b[0m\u001b[0mscreenName\u001b[0m\u001b[0;34m,\u001b[0m \u001b[0mbaseName\u001b[0m\u001b[0;34m,\u001b[0m \u001b[0mclassName\u001b[0m\u001b[0;34m,\u001b[0m \u001b[0minteractive\u001b[0m\u001b[0;34m,\u001b[0m \u001b[0mwantobjects\u001b[0m\u001b[0;34m,\u001b[0m \u001b[0museTk\u001b[0m\u001b[0;34m,\u001b[0m \u001b[0msync\u001b[0m\u001b[0;34m,\u001b[0m \u001b[0muse\u001b[0m\u001b[0;34m)\u001b[0m\u001b[0;34m\u001b[0m\u001b[0;34m\u001b[0m\u001b[0m\n\u001b[0m\u001b[1;32m   2024\u001b[0m         \u001b[0;32mif\u001b[0m \u001b[0museTk\u001b[0m\u001b[0;34m:\u001b[0m\u001b[0;34m\u001b[0m\u001b[0;34m\u001b[0m\u001b[0m\n\u001b[1;32m   2025\u001b[0m             \u001b[0mself\u001b[0m\u001b[0;34m.\u001b[0m\u001b[0m_loadtk\u001b[0m\u001b[0;34m(\u001b[0m\u001b[0;34m)\u001b[0m\u001b[0;34m\u001b[0m\u001b[0;34m\u001b[0m\u001b[0m\n",
            "\u001b[0;31mTclError\u001b[0m: no display name and no $DISPLAY environment variable"
          ]
        }
      ]
    },
    {
      "cell_type": "code",
      "metadata": {
        "id": "iLw-se5XgaCT",
        "colab": {
          "base_uri": "https://localhost:8080/",
          "height": 374
        },
        "outputId": "bd0c01f5-134f-43ff-de2b-3fbb37bc029f"
      },
      "source": [
        "import turtle\n",
        "c=[\"red\",\"green\",\"blue\"]\n",
        "i=0\n",
        "turtle.pensize(5)\n",
        "\n",
        "for angle in range(0,360,30):\n",
        "    if i>2:\n",
        "        i=0\n",
        "    turtle.color(c[i])\n",
        "    turtle.seth(angle)\n",
        "    turtle.circle(50)\n",
        "    i+=1"
      ],
      "execution_count": null,
      "outputs": [
        {
          "output_type": "error",
          "ename": "TclError",
          "evalue": "ignored",
          "traceback": [
            "\u001b[0;31m---------------------------------------------------------------------------\u001b[0m",
            "\u001b[0;31mTclError\u001b[0m                                  Traceback (most recent call last)",
            "\u001b[0;32m<ipython-input-2-f95b0a16c05d>\u001b[0m in \u001b[0;36m<module>\u001b[0;34m()\u001b[0m\n\u001b[1;32m      2\u001b[0m \u001b[0mc\u001b[0m\u001b[0;34m=\u001b[0m\u001b[0;34m[\u001b[0m\u001b[0;34m\"red\"\u001b[0m\u001b[0;34m,\u001b[0m\u001b[0;34m\"green\"\u001b[0m\u001b[0;34m,\u001b[0m\u001b[0;34m\"blue\"\u001b[0m\u001b[0;34m]\u001b[0m\u001b[0;34m\u001b[0m\u001b[0;34m\u001b[0m\u001b[0m\n\u001b[1;32m      3\u001b[0m \u001b[0mi\u001b[0m\u001b[0;34m=\u001b[0m\u001b[0;36m0\u001b[0m\u001b[0;34m\u001b[0m\u001b[0;34m\u001b[0m\u001b[0m\n\u001b[0;32m----> 4\u001b[0;31m \u001b[0mturtle\u001b[0m\u001b[0;34m.\u001b[0m\u001b[0mpensize\u001b[0m\u001b[0;34m(\u001b[0m\u001b[0;36m5\u001b[0m\u001b[0;34m)\u001b[0m\u001b[0;34m\u001b[0m\u001b[0;34m\u001b[0m\u001b[0m\n\u001b[0m\u001b[1;32m      5\u001b[0m \u001b[0;34m\u001b[0m\u001b[0m\n\u001b[1;32m      6\u001b[0m \u001b[0;32mfor\u001b[0m \u001b[0mangle\u001b[0m \u001b[0;32min\u001b[0m \u001b[0mrange\u001b[0m\u001b[0;34m(\u001b[0m\u001b[0;36m0\u001b[0m\u001b[0;34m,\u001b[0m\u001b[0;36m360\u001b[0m\u001b[0;34m,\u001b[0m\u001b[0;36m30\u001b[0m\u001b[0;34m)\u001b[0m\u001b[0;34m:\u001b[0m\u001b[0;34m\u001b[0m\u001b[0;34m\u001b[0m\u001b[0m\n",
            "\u001b[0;32m/usr/lib/python3.7/turtle.py\u001b[0m in \u001b[0;36mpensize\u001b[0;34m(width)\u001b[0m\n",
            "\u001b[0;32m/usr/lib/python3.7/turtle.py\u001b[0m in \u001b[0;36m__init__\u001b[0;34m(self, shape, undobuffersize, visible)\u001b[0m\n\u001b[1;32m   3810\u001b[0m                  visible=_CFG[\"visible\"]):\n\u001b[1;32m   3811\u001b[0m         \u001b[0;32mif\u001b[0m \u001b[0mTurtle\u001b[0m\u001b[0;34m.\u001b[0m\u001b[0m_screen\u001b[0m \u001b[0;32mis\u001b[0m \u001b[0;32mNone\u001b[0m\u001b[0;34m:\u001b[0m\u001b[0;34m\u001b[0m\u001b[0;34m\u001b[0m\u001b[0m\n\u001b[0;32m-> 3812\u001b[0;31m             \u001b[0mTurtle\u001b[0m\u001b[0;34m.\u001b[0m\u001b[0m_screen\u001b[0m \u001b[0;34m=\u001b[0m \u001b[0mScreen\u001b[0m\u001b[0;34m(\u001b[0m\u001b[0;34m)\u001b[0m\u001b[0;34m\u001b[0m\u001b[0;34m\u001b[0m\u001b[0m\n\u001b[0m\u001b[1;32m   3813\u001b[0m         RawTurtle.__init__(self, Turtle._screen,\n\u001b[1;32m   3814\u001b[0m                            \u001b[0mshape\u001b[0m\u001b[0;34m=\u001b[0m\u001b[0mshape\u001b[0m\u001b[0;34m,\u001b[0m\u001b[0;34m\u001b[0m\u001b[0;34m\u001b[0m\u001b[0m\n",
            "\u001b[0;32m/usr/lib/python3.7/turtle.py\u001b[0m in \u001b[0;36mScreen\u001b[0;34m()\u001b[0m\n\u001b[1;32m   3660\u001b[0m     else return the existing one.\"\"\"\n\u001b[1;32m   3661\u001b[0m     \u001b[0;32mif\u001b[0m \u001b[0mTurtle\u001b[0m\u001b[0;34m.\u001b[0m\u001b[0m_screen\u001b[0m \u001b[0;32mis\u001b[0m \u001b[0;32mNone\u001b[0m\u001b[0;34m:\u001b[0m\u001b[0;34m\u001b[0m\u001b[0;34m\u001b[0m\u001b[0m\n\u001b[0;32m-> 3662\u001b[0;31m         \u001b[0mTurtle\u001b[0m\u001b[0;34m.\u001b[0m\u001b[0m_screen\u001b[0m \u001b[0;34m=\u001b[0m \u001b[0m_Screen\u001b[0m\u001b[0;34m(\u001b[0m\u001b[0;34m)\u001b[0m\u001b[0;34m\u001b[0m\u001b[0;34m\u001b[0m\u001b[0m\n\u001b[0m\u001b[1;32m   3663\u001b[0m     \u001b[0;32mreturn\u001b[0m \u001b[0mTurtle\u001b[0m\u001b[0;34m.\u001b[0m\u001b[0m_screen\u001b[0m\u001b[0;34m\u001b[0m\u001b[0;34m\u001b[0m\u001b[0m\n\u001b[1;32m   3664\u001b[0m \u001b[0;34m\u001b[0m\u001b[0m\n",
            "\u001b[0;32m/usr/lib/python3.7/turtle.py\u001b[0m in \u001b[0;36m__init__\u001b[0;34m(self)\u001b[0m\n\u001b[1;32m   3676\u001b[0m         \u001b[0;31m# preserved (perhaps by passing it as an optional parameter)\u001b[0m\u001b[0;34m\u001b[0m\u001b[0;34m\u001b[0m\u001b[0;34m\u001b[0m\u001b[0m\n\u001b[1;32m   3677\u001b[0m         \u001b[0;32mif\u001b[0m \u001b[0m_Screen\u001b[0m\u001b[0;34m.\u001b[0m\u001b[0m_root\u001b[0m \u001b[0;32mis\u001b[0m \u001b[0;32mNone\u001b[0m\u001b[0;34m:\u001b[0m\u001b[0;34m\u001b[0m\u001b[0;34m\u001b[0m\u001b[0m\n\u001b[0;32m-> 3678\u001b[0;31m             \u001b[0m_Screen\u001b[0m\u001b[0;34m.\u001b[0m\u001b[0m_root\u001b[0m \u001b[0;34m=\u001b[0m \u001b[0mself\u001b[0m\u001b[0;34m.\u001b[0m\u001b[0m_root\u001b[0m \u001b[0;34m=\u001b[0m \u001b[0m_Root\u001b[0m\u001b[0;34m(\u001b[0m\u001b[0;34m)\u001b[0m\u001b[0;34m\u001b[0m\u001b[0;34m\u001b[0m\u001b[0m\n\u001b[0m\u001b[1;32m   3679\u001b[0m             \u001b[0mself\u001b[0m\u001b[0;34m.\u001b[0m\u001b[0m_root\u001b[0m\u001b[0;34m.\u001b[0m\u001b[0mtitle\u001b[0m\u001b[0;34m(\u001b[0m\u001b[0m_Screen\u001b[0m\u001b[0;34m.\u001b[0m\u001b[0m_title\u001b[0m\u001b[0;34m)\u001b[0m\u001b[0;34m\u001b[0m\u001b[0;34m\u001b[0m\u001b[0m\n\u001b[1;32m   3680\u001b[0m             \u001b[0mself\u001b[0m\u001b[0;34m.\u001b[0m\u001b[0m_root\u001b[0m\u001b[0;34m.\u001b[0m\u001b[0mondestroy\u001b[0m\u001b[0;34m(\u001b[0m\u001b[0mself\u001b[0m\u001b[0;34m.\u001b[0m\u001b[0m_destroy\u001b[0m\u001b[0;34m)\u001b[0m\u001b[0;34m\u001b[0m\u001b[0;34m\u001b[0m\u001b[0m\n",
            "\u001b[0;32m/usr/lib/python3.7/turtle.py\u001b[0m in \u001b[0;36m__init__\u001b[0;34m(self)\u001b[0m\n\u001b[1;32m    432\u001b[0m     \u001b[0;34m\"\"\"Root class for Screen based on Tkinter.\"\"\"\u001b[0m\u001b[0;34m\u001b[0m\u001b[0;34m\u001b[0m\u001b[0m\n\u001b[1;32m    433\u001b[0m     \u001b[0;32mdef\u001b[0m \u001b[0m__init__\u001b[0m\u001b[0;34m(\u001b[0m\u001b[0mself\u001b[0m\u001b[0;34m)\u001b[0m\u001b[0;34m:\u001b[0m\u001b[0;34m\u001b[0m\u001b[0;34m\u001b[0m\u001b[0m\n\u001b[0;32m--> 434\u001b[0;31m         \u001b[0mTK\u001b[0m\u001b[0;34m.\u001b[0m\u001b[0mTk\u001b[0m\u001b[0;34m.\u001b[0m\u001b[0m__init__\u001b[0m\u001b[0;34m(\u001b[0m\u001b[0mself\u001b[0m\u001b[0;34m)\u001b[0m\u001b[0;34m\u001b[0m\u001b[0;34m\u001b[0m\u001b[0m\n\u001b[0m\u001b[1;32m    435\u001b[0m \u001b[0;34m\u001b[0m\u001b[0m\n\u001b[1;32m    436\u001b[0m     \u001b[0;32mdef\u001b[0m \u001b[0msetupcanvas\u001b[0m\u001b[0;34m(\u001b[0m\u001b[0mself\u001b[0m\u001b[0;34m,\u001b[0m \u001b[0mwidth\u001b[0m\u001b[0;34m,\u001b[0m \u001b[0mheight\u001b[0m\u001b[0;34m,\u001b[0m \u001b[0mcwidth\u001b[0m\u001b[0;34m,\u001b[0m \u001b[0mcheight\u001b[0m\u001b[0;34m)\u001b[0m\u001b[0;34m:\u001b[0m\u001b[0;34m\u001b[0m\u001b[0;34m\u001b[0m\u001b[0m\n",
            "\u001b[0;32m/usr/lib/python3.7/tkinter/__init__.py\u001b[0m in \u001b[0;36m__init__\u001b[0;34m(self, screenName, baseName, className, useTk, sync, use)\u001b[0m\n\u001b[1;32m   2021\u001b[0m                 \u001b[0mbaseName\u001b[0m \u001b[0;34m=\u001b[0m \u001b[0mbaseName\u001b[0m \u001b[0;34m+\u001b[0m \u001b[0mext\u001b[0m\u001b[0;34m\u001b[0m\u001b[0;34m\u001b[0m\u001b[0m\n\u001b[1;32m   2022\u001b[0m         \u001b[0minteractive\u001b[0m \u001b[0;34m=\u001b[0m \u001b[0;36m0\u001b[0m\u001b[0;34m\u001b[0m\u001b[0;34m\u001b[0m\u001b[0m\n\u001b[0;32m-> 2023\u001b[0;31m         \u001b[0mself\u001b[0m\u001b[0;34m.\u001b[0m\u001b[0mtk\u001b[0m \u001b[0;34m=\u001b[0m \u001b[0m_tkinter\u001b[0m\u001b[0;34m.\u001b[0m\u001b[0mcreate\u001b[0m\u001b[0;34m(\u001b[0m\u001b[0mscreenName\u001b[0m\u001b[0;34m,\u001b[0m \u001b[0mbaseName\u001b[0m\u001b[0;34m,\u001b[0m \u001b[0mclassName\u001b[0m\u001b[0;34m,\u001b[0m \u001b[0minteractive\u001b[0m\u001b[0;34m,\u001b[0m \u001b[0mwantobjects\u001b[0m\u001b[0;34m,\u001b[0m \u001b[0museTk\u001b[0m\u001b[0;34m,\u001b[0m \u001b[0msync\u001b[0m\u001b[0;34m,\u001b[0m \u001b[0muse\u001b[0m\u001b[0;34m)\u001b[0m\u001b[0;34m\u001b[0m\u001b[0;34m\u001b[0m\u001b[0m\n\u001b[0m\u001b[1;32m   2024\u001b[0m         \u001b[0;32mif\u001b[0m \u001b[0museTk\u001b[0m\u001b[0;34m:\u001b[0m\u001b[0;34m\u001b[0m\u001b[0;34m\u001b[0m\u001b[0m\n\u001b[1;32m   2025\u001b[0m             \u001b[0mself\u001b[0m\u001b[0;34m.\u001b[0m\u001b[0m_loadtk\u001b[0m\u001b[0;34m(\u001b[0m\u001b[0;34m)\u001b[0m\u001b[0;34m\u001b[0m\u001b[0;34m\u001b[0m\u001b[0m\n",
            "\u001b[0;31mTclError\u001b[0m: no display name and no $DISPLAY environment variable"
          ]
        }
      ]
    },
    {
      "cell_type": "code",
      "metadata": {
        "id": "G-65FBC3gaFi",
        "colab": {
          "base_uri": "https://localhost:8080/",
          "height": 374
        },
        "outputId": "5681b7e1-dc92-4338-e3c1-665c58b1b1d3"
      },
      "source": [
        " import turtle\n",
        "turtle.pensize(1)\n",
        " \n",
        "for i in range(36):\n",
        "    for j in range(4):\n",
        "        turtle.forward(70)\n",
        "        turtle.left(90)\n",
        "    turtle.left(10)"
      ],
      "execution_count": null,
      "outputs": [
        {
          "output_type": "error",
          "ename": "TclError",
          "evalue": "ignored",
          "traceback": [
            "\u001b[0;31m---------------------------------------------------------------------------\u001b[0m",
            "\u001b[0;31mTclError\u001b[0m                                  Traceback (most recent call last)",
            "\u001b[0;32m<ipython-input-3-23810faf8a59>\u001b[0m in \u001b[0;36m<module>\u001b[0;34m()\u001b[0m\n\u001b[1;32m      1\u001b[0m \u001b[0;32mimport\u001b[0m \u001b[0mturtle\u001b[0m\u001b[0;34m\u001b[0m\u001b[0;34m\u001b[0m\u001b[0m\n\u001b[0;32m----> 2\u001b[0;31m \u001b[0mturtle\u001b[0m\u001b[0;34m.\u001b[0m\u001b[0mpensize\u001b[0m\u001b[0;34m(\u001b[0m\u001b[0;36m1\u001b[0m\u001b[0;34m)\u001b[0m\u001b[0;34m\u001b[0m\u001b[0;34m\u001b[0m\u001b[0m\n\u001b[0m\u001b[1;32m      3\u001b[0m \u001b[0;34m\u001b[0m\u001b[0m\n\u001b[1;32m      4\u001b[0m \u001b[0;32mfor\u001b[0m \u001b[0mi\u001b[0m \u001b[0;32min\u001b[0m \u001b[0mrange\u001b[0m\u001b[0;34m(\u001b[0m\u001b[0;36m36\u001b[0m\u001b[0;34m)\u001b[0m\u001b[0;34m:\u001b[0m\u001b[0;34m\u001b[0m\u001b[0;34m\u001b[0m\u001b[0m\n\u001b[1;32m      5\u001b[0m    \u001b[0;32mfor\u001b[0m \u001b[0mj\u001b[0m \u001b[0;32min\u001b[0m \u001b[0mrange\u001b[0m\u001b[0;34m(\u001b[0m\u001b[0;36m4\u001b[0m\u001b[0;34m)\u001b[0m\u001b[0;34m:\u001b[0m\u001b[0;34m\u001b[0m\u001b[0;34m\u001b[0m\u001b[0m\n",
            "\u001b[0;32m/usr/lib/python3.7/turtle.py\u001b[0m in \u001b[0;36mpensize\u001b[0;34m(width)\u001b[0m\n",
            "\u001b[0;32m/usr/lib/python3.7/turtle.py\u001b[0m in \u001b[0;36m__init__\u001b[0;34m(self, shape, undobuffersize, visible)\u001b[0m\n\u001b[1;32m   3810\u001b[0m                  visible=_CFG[\"visible\"]):\n\u001b[1;32m   3811\u001b[0m         \u001b[0;32mif\u001b[0m \u001b[0mTurtle\u001b[0m\u001b[0;34m.\u001b[0m\u001b[0m_screen\u001b[0m \u001b[0;32mis\u001b[0m \u001b[0;32mNone\u001b[0m\u001b[0;34m:\u001b[0m\u001b[0;34m\u001b[0m\u001b[0;34m\u001b[0m\u001b[0m\n\u001b[0;32m-> 3812\u001b[0;31m             \u001b[0mTurtle\u001b[0m\u001b[0;34m.\u001b[0m\u001b[0m_screen\u001b[0m \u001b[0;34m=\u001b[0m \u001b[0mScreen\u001b[0m\u001b[0;34m(\u001b[0m\u001b[0;34m)\u001b[0m\u001b[0;34m\u001b[0m\u001b[0;34m\u001b[0m\u001b[0m\n\u001b[0m\u001b[1;32m   3813\u001b[0m         RawTurtle.__init__(self, Turtle._screen,\n\u001b[1;32m   3814\u001b[0m                            \u001b[0mshape\u001b[0m\u001b[0;34m=\u001b[0m\u001b[0mshape\u001b[0m\u001b[0;34m,\u001b[0m\u001b[0;34m\u001b[0m\u001b[0;34m\u001b[0m\u001b[0m\n",
            "\u001b[0;32m/usr/lib/python3.7/turtle.py\u001b[0m in \u001b[0;36mScreen\u001b[0;34m()\u001b[0m\n\u001b[1;32m   3660\u001b[0m     else return the existing one.\"\"\"\n\u001b[1;32m   3661\u001b[0m     \u001b[0;32mif\u001b[0m \u001b[0mTurtle\u001b[0m\u001b[0;34m.\u001b[0m\u001b[0m_screen\u001b[0m \u001b[0;32mis\u001b[0m \u001b[0;32mNone\u001b[0m\u001b[0;34m:\u001b[0m\u001b[0;34m\u001b[0m\u001b[0;34m\u001b[0m\u001b[0m\n\u001b[0;32m-> 3662\u001b[0;31m         \u001b[0mTurtle\u001b[0m\u001b[0;34m.\u001b[0m\u001b[0m_screen\u001b[0m \u001b[0;34m=\u001b[0m \u001b[0m_Screen\u001b[0m\u001b[0;34m(\u001b[0m\u001b[0;34m)\u001b[0m\u001b[0;34m\u001b[0m\u001b[0;34m\u001b[0m\u001b[0m\n\u001b[0m\u001b[1;32m   3663\u001b[0m     \u001b[0;32mreturn\u001b[0m \u001b[0mTurtle\u001b[0m\u001b[0;34m.\u001b[0m\u001b[0m_screen\u001b[0m\u001b[0;34m\u001b[0m\u001b[0;34m\u001b[0m\u001b[0m\n\u001b[1;32m   3664\u001b[0m \u001b[0;34m\u001b[0m\u001b[0m\n",
            "\u001b[0;32m/usr/lib/python3.7/turtle.py\u001b[0m in \u001b[0;36m__init__\u001b[0;34m(self)\u001b[0m\n\u001b[1;32m   3676\u001b[0m         \u001b[0;31m# preserved (perhaps by passing it as an optional parameter)\u001b[0m\u001b[0;34m\u001b[0m\u001b[0;34m\u001b[0m\u001b[0;34m\u001b[0m\u001b[0m\n\u001b[1;32m   3677\u001b[0m         \u001b[0;32mif\u001b[0m \u001b[0m_Screen\u001b[0m\u001b[0;34m.\u001b[0m\u001b[0m_root\u001b[0m \u001b[0;32mis\u001b[0m \u001b[0;32mNone\u001b[0m\u001b[0;34m:\u001b[0m\u001b[0;34m\u001b[0m\u001b[0;34m\u001b[0m\u001b[0m\n\u001b[0;32m-> 3678\u001b[0;31m             \u001b[0m_Screen\u001b[0m\u001b[0;34m.\u001b[0m\u001b[0m_root\u001b[0m \u001b[0;34m=\u001b[0m \u001b[0mself\u001b[0m\u001b[0;34m.\u001b[0m\u001b[0m_root\u001b[0m \u001b[0;34m=\u001b[0m \u001b[0m_Root\u001b[0m\u001b[0;34m(\u001b[0m\u001b[0;34m)\u001b[0m\u001b[0;34m\u001b[0m\u001b[0;34m\u001b[0m\u001b[0m\n\u001b[0m\u001b[1;32m   3679\u001b[0m             \u001b[0mself\u001b[0m\u001b[0;34m.\u001b[0m\u001b[0m_root\u001b[0m\u001b[0;34m.\u001b[0m\u001b[0mtitle\u001b[0m\u001b[0;34m(\u001b[0m\u001b[0m_Screen\u001b[0m\u001b[0;34m.\u001b[0m\u001b[0m_title\u001b[0m\u001b[0;34m)\u001b[0m\u001b[0;34m\u001b[0m\u001b[0;34m\u001b[0m\u001b[0m\n\u001b[1;32m   3680\u001b[0m             \u001b[0mself\u001b[0m\u001b[0;34m.\u001b[0m\u001b[0m_root\u001b[0m\u001b[0;34m.\u001b[0m\u001b[0mondestroy\u001b[0m\u001b[0;34m(\u001b[0m\u001b[0mself\u001b[0m\u001b[0;34m.\u001b[0m\u001b[0m_destroy\u001b[0m\u001b[0;34m)\u001b[0m\u001b[0;34m\u001b[0m\u001b[0;34m\u001b[0m\u001b[0m\n",
            "\u001b[0;32m/usr/lib/python3.7/turtle.py\u001b[0m in \u001b[0;36m__init__\u001b[0;34m(self)\u001b[0m\n\u001b[1;32m    432\u001b[0m     \u001b[0;34m\"\"\"Root class for Screen based on Tkinter.\"\"\"\u001b[0m\u001b[0;34m\u001b[0m\u001b[0;34m\u001b[0m\u001b[0m\n\u001b[1;32m    433\u001b[0m     \u001b[0;32mdef\u001b[0m \u001b[0m__init__\u001b[0m\u001b[0;34m(\u001b[0m\u001b[0mself\u001b[0m\u001b[0;34m)\u001b[0m\u001b[0;34m:\u001b[0m\u001b[0;34m\u001b[0m\u001b[0;34m\u001b[0m\u001b[0m\n\u001b[0;32m--> 434\u001b[0;31m         \u001b[0mTK\u001b[0m\u001b[0;34m.\u001b[0m\u001b[0mTk\u001b[0m\u001b[0;34m.\u001b[0m\u001b[0m__init__\u001b[0m\u001b[0;34m(\u001b[0m\u001b[0mself\u001b[0m\u001b[0;34m)\u001b[0m\u001b[0;34m\u001b[0m\u001b[0;34m\u001b[0m\u001b[0m\n\u001b[0m\u001b[1;32m    435\u001b[0m \u001b[0;34m\u001b[0m\u001b[0m\n\u001b[1;32m    436\u001b[0m     \u001b[0;32mdef\u001b[0m \u001b[0msetupcanvas\u001b[0m\u001b[0;34m(\u001b[0m\u001b[0mself\u001b[0m\u001b[0;34m,\u001b[0m \u001b[0mwidth\u001b[0m\u001b[0;34m,\u001b[0m \u001b[0mheight\u001b[0m\u001b[0;34m,\u001b[0m \u001b[0mcwidth\u001b[0m\u001b[0;34m,\u001b[0m \u001b[0mcheight\u001b[0m\u001b[0;34m)\u001b[0m\u001b[0;34m:\u001b[0m\u001b[0;34m\u001b[0m\u001b[0;34m\u001b[0m\u001b[0m\n",
            "\u001b[0;32m/usr/lib/python3.7/tkinter/__init__.py\u001b[0m in \u001b[0;36m__init__\u001b[0;34m(self, screenName, baseName, className, useTk, sync, use)\u001b[0m\n\u001b[1;32m   2021\u001b[0m                 \u001b[0mbaseName\u001b[0m \u001b[0;34m=\u001b[0m \u001b[0mbaseName\u001b[0m \u001b[0;34m+\u001b[0m \u001b[0mext\u001b[0m\u001b[0;34m\u001b[0m\u001b[0;34m\u001b[0m\u001b[0m\n\u001b[1;32m   2022\u001b[0m         \u001b[0minteractive\u001b[0m \u001b[0;34m=\u001b[0m \u001b[0;36m0\u001b[0m\u001b[0;34m\u001b[0m\u001b[0;34m\u001b[0m\u001b[0m\n\u001b[0;32m-> 2023\u001b[0;31m         \u001b[0mself\u001b[0m\u001b[0;34m.\u001b[0m\u001b[0mtk\u001b[0m \u001b[0;34m=\u001b[0m \u001b[0m_tkinter\u001b[0m\u001b[0;34m.\u001b[0m\u001b[0mcreate\u001b[0m\u001b[0;34m(\u001b[0m\u001b[0mscreenName\u001b[0m\u001b[0;34m,\u001b[0m \u001b[0mbaseName\u001b[0m\u001b[0;34m,\u001b[0m \u001b[0mclassName\u001b[0m\u001b[0;34m,\u001b[0m \u001b[0minteractive\u001b[0m\u001b[0;34m,\u001b[0m \u001b[0mwantobjects\u001b[0m\u001b[0;34m,\u001b[0m \u001b[0museTk\u001b[0m\u001b[0;34m,\u001b[0m \u001b[0msync\u001b[0m\u001b[0;34m,\u001b[0m \u001b[0muse\u001b[0m\u001b[0;34m)\u001b[0m\u001b[0;34m\u001b[0m\u001b[0;34m\u001b[0m\u001b[0m\n\u001b[0m\u001b[1;32m   2024\u001b[0m         \u001b[0;32mif\u001b[0m \u001b[0museTk\u001b[0m\u001b[0;34m:\u001b[0m\u001b[0;34m\u001b[0m\u001b[0;34m\u001b[0m\u001b[0m\n\u001b[1;32m   2025\u001b[0m             \u001b[0mself\u001b[0m\u001b[0;34m.\u001b[0m\u001b[0m_loadtk\u001b[0m\u001b[0;34m(\u001b[0m\u001b[0;34m)\u001b[0m\u001b[0;34m\u001b[0m\u001b[0;34m\u001b[0m\u001b[0m\n",
            "\u001b[0;31mTclError\u001b[0m: no display name and no $DISPLAY environment variable"
          ]
        }
      ]
    },
    {
      "cell_type": "markdown",
      "metadata": {
        "id": "1DEzh-4dgPWc"
      },
      "source": [
        "**Exercise** - **15** - **Testing**\n",
        "\n",
        "**Aim** : a) Write a test-case to check the function even numbers which return True on passing a list of all even numbers\n",
        "\n",
        "**Aim** : b) Write a test-case to check the function reverse string which returns the reversed string"
      ]
    },
    {
      "cell_type": "markdown",
      "metadata": {
        "id": "lNKlBK-fnsvl"
      },
      "source": [
        "**Description** : "
      ]
    },
    {
      "cell_type": "code",
      "metadata": {
        "colab": {
          "base_uri": "https://localhost:8080/"
        },
        "id": "miTN8wYbgONQ",
        "outputId": "69b0fa43-28ec-4a36-a3fb-e8c1cc9b1ade"
      },
      "source": [
        "def even(num):\n",
        "  st= True\n",
        "  for i in num:\n",
        "    if i%2==0:\n",
        "      st=False\n",
        "      break\n",
        "  return st\n",
        "numbers=[]\n",
        "print(\"enter th efive nums:\")\n",
        "for i in range(0,5):\n",
        "  numbers.append(int(input(\"enter a value:\")))\n",
        "print(even(numbers))\n"
      ],
      "execution_count": null,
      "outputs": [
        {
          "output_type": "stream",
          "text": [
            "enter th efive nums:\n",
            "enter a value:12\n",
            "enter a value:21\n",
            "enter a value:23\n",
            "enter a value:12\n",
            "enter a value:12\n",
            "False\n"
          ],
          "name": "stdout"
        }
      ]
    },
    {
      "cell_type": "code",
      "metadata": {
        "colab": {
          "base_uri": "https://localhost:8080/"
        },
        "id": "8xokVXRqgbGN",
        "outputId": "a06ded43-cf37-430a-dc90-84557c5bec55"
      },
      "source": [
        "def revs(str):\n",
        "  return str[::-1]\n",
        "st=\"dimple\"\n",
        "print(\"given string is:\",st)\n",
        "print(revs(st))\n"
      ],
      "execution_count": null,
      "outputs": [
        {
          "output_type": "stream",
          "text": [
            "given string is: dimple\n",
            "elpmid\n"
          ],
          "name": "stdout"
        }
      ]
    },
    {
      "cell_type": "markdown",
      "metadata": {
        "id": "F3LbG0RI79L8"
      },
      "source": [
        "**EXERCISE**-**16**:ADVANCED \n",
        "\n",
        "**Aim** : A) BUILD ANY ONE CLASSICAL DATA STRUCTURE.\n",
        "\n",
        "**Aim** :B) WRITE A PROGRAM TO SOLVE KNAPSACK PROBLEM."
      ]
    },
    {
      "cell_type": "markdown",
      "metadata": {
        "id": "Tfm_fT4Cn92d"
      },
      "source": [
        "**Description** : "
      ]
    },
    {
      "cell_type": "code",
      "metadata": {
        "id": "7HFr6Xcb8SWo",
        "colab": {
          "base_uri": "https://localhost:8080/",
          "height": 197
        },
        "outputId": "e26207b7-5cd4-412f-ba50-be59a4de9a0b"
      },
      "source": [
        " import sys\n",
        "a=[]\n",
        " \n",
        "while True:\n",
        "  print (\"\\nl.PUSH 2.POP 3.DISPLAY 4.EXIT\")\n",
        "  ch=int(input(\"Enter Your Choice: \"))\n",
        "  if ch==1:\n",
        "   ele=int(input(\"Enter element: \"))\n",
        "   a.append(ele)\n",
        "   print(\"Inserted\")\n",
        "  elif ch==2:\n",
        "   if len(a)==0:\n",
        "     print (\"\\t STACK IS EMPTY\")\n",
        "   else:\n",
        "     print (\"Deleted element is: \",a[len(a)-1])\n",
        "     a.remove(a[len(a)-1])\n",
        "  elif ch==3:\n",
        "   if len(a)==0:\n",
        "     print (\"\\t STACK IS EMPTY\")\n",
        "   else:\n",
        "    print (\"The Elements in Stack is: \")\n",
        "    for i in reversed(a):\n",
        "       print(i)\n",
        "  elif ch==4:\n",
        "    sys.exit()\n",
        "  else:\n",
        "   print (\"\\tINVALID CHOICE\")"
      ],
      "execution_count": null,
      "outputs": [
        {
          "output_type": "stream",
          "text": [
            "\n",
            "l.PUSH 2.POP 3.DISPLAY 4.EXIT\n",
            "Enter Your Choice: 4\n"
          ],
          "name": "stdout"
        },
        {
          "output_type": "error",
          "ename": "SystemExit",
          "evalue": "ignored",
          "traceback": [
            "An exception has occurred, use %tb to see the full traceback.\n",
            "\u001b[0;31mSystemExit\u001b[0m\n"
          ]
        },
        {
          "output_type": "stream",
          "text": [
            "/usr/local/lib/python3.7/dist-packages/IPython/core/interactiveshell.py:2890: UserWarning: To exit: use 'exit', 'quit', or Ctrl-D.\n",
            "  warn(\"To exit: use 'exit', 'quit', or Ctrl-D.\", stacklevel=1)\n"
          ],
          "name": "stderr"
        }
      ]
    },
    {
      "cell_type": "code",
      "metadata": {
        "id": "-O9tpFDM8S6E",
        "colab": {
          "base_uri": "https://localhost:8080/"
        },
        "outputId": "ac6e11b9-694a-498c-d8ee-3c8008829aec"
      },
      "source": [
        "def knapSack(W, wt, val, n):\n",
        "   K= [[0 for x in range(W+1)] for x in range(n+1)]\n",
        "   for i in range(n+1):\n",
        "     for w in range(W+1):\n",
        "       if i==0 or w==0:\n",
        "          K[i][w] = 0\n",
        "       elif wt[i-1]<=w:\n",
        "          K[i][w]= max(val[i-1]+K[i-1][w-wt[i-1]],K[i-1][w])\n",
        "       else:\n",
        "          K[i][w] = K[i-1][w]\n",
        "   return K[n][W]\n",
        "val = [5, 3, 4]\n",
        "wt = [3, 2, 1]\n",
        "W = 5\n",
        "n= len(val)\n",
        "print(\"Maximum value knapsack of capacity W: \", knapSack(W, wt,val,n))"
      ],
      "execution_count": null,
      "outputs": [
        {
          "output_type": "stream",
          "text": [
            "Maximum value knapsack of capacity W:  9\n"
          ],
          "name": "stdout"
        }
      ]
    },
    {
      "cell_type": "markdown",
      "metadata": {
        "id": "iUhvbp8Q8jzN"
      },
      "source": [
        "**EXERCISE 17 & 18**\n",
        "\n",
        "**Aim** : DATA ANALYSIS DATA ANALYSIS OR MANIPULATION USING THE FOLLOWING PACKAGES A) NUMPY B) PANDAS A) SCIPY B) MATPLOTLIB"
      ]
    },
    {
      "cell_type": "markdown",
      "metadata": {
        "id": "L9zCE75QoSSn"
      },
      "source": [
        "**Description** : "
      ]
    },
    {
      "cell_type": "code",
      "metadata": {
        "id": "MA86dmQS8leP",
        "colab": {
          "base_uri": "https://localhost:8080/"
        },
        "outputId": "98b03e6c-ba0b-4bcf-97a0-6288fba6350b"
      },
      "source": [
        "#Python version\n",
        "import sys\n",
        "print('Python: {}'.format(sys.version))\n",
        " \n",
        "#scipy\n",
        "import scipy\n",
        "print('scipy: {}'.format(scipy.__version__))\n",
        " \n",
        "# numpy\n",
        "import numpy\n",
        "print( 'numpy: {}'.format(numpy.__version__))\n",
        " \n",
        "# matplotlib\n",
        "import matplotlib\n",
        "print('matplotlib: {}'.format(matplotlib.__version__))\n",
        " \n",
        "# pandas\n",
        "import pandas\n",
        "print('pandas: {}'.format(pandas.__version__))\n",
        " \n",
        "#scikit-learn\n",
        "import sklearn\n",
        "print('sklearn: {}'.format(sklearn.__version__))\n",
        "import seaborn\n",
        "print('seaborn: {}'.format(seaborn.__version__))\n",
        "import urllib\n",
        "print('urlib: {}'.format(urllib.__name__))\n",
        "import csv\n",
        "print('csv: {}'.format(csv.__version__))"
      ],
      "execution_count": null,
      "outputs": [
        {
          "output_type": "stream",
          "text": [
            "Python: 3.7.11 (default, Jul  3 2021, 18:01:19) \n",
            "[GCC 7.5.0]\n",
            "scipy: 1.4.1\n",
            "numpy: 1.19.5\n",
            "matplotlib: 3.2.2\n",
            "pandas: 1.1.5\n",
            "sklearn: 0.22.2.post1\n",
            "seaborn: 0.11.1\n",
            "urlib: urllib\n",
            "csv: 1.0\n"
          ],
          "name": "stdout"
        }
      ]
    }
  ]
}