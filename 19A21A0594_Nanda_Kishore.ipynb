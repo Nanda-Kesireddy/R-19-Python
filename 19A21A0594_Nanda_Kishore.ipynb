{
  "nbformat": 4,
  "nbformat_minor": 0,
  "metadata": {
    "colab": {
      "name": "19A21A0594-Nanda Kishore.ipynb",
      "provenance": [],
      "collapsed_sections": [],
      "authorship_tag": "ABX9TyNfho9CRGhjLcKW3zZFh7za",
      "include_colab_link": true
    },
    "kernelspec": {
      "display_name": "Python 3",
      "name": "python3"
    },
    "language_info": {
      "name": "python"
    }
  },
  "cells": [
    {
      "cell_type": "markdown",
      "metadata": {
        "id": "view-in-github",
        "colab_type": "text"
      },
      "source": [
        "<a href=\"https://colab.research.google.com/github/Nanda-Kesireddy/R-19-Python/blob/main/19A21A0594_Nanda_Kishore.ipynb\" target=\"_parent\"><img src=\"https://colab.research.google.com/assets/colab-badge.svg\" alt=\"Open In Colab\"/></a>"
      ]
    },
    {
      "cell_type": "markdown",
      "metadata": {
        "id": "RIc91MxcNK9X"
      },
      "source": [
        "1(a) Running instructions in interactive interpreter and a python  script."
      ]
    },
    {
      "cell_type": "code",
      "metadata": {
        "colab": {
          "base_uri": "https://localhost:8080/"
        },
        "id": "kqu9Br5mNoUX",
        "outputId": "1817e133-9921-4896-fea8-0b2766e07e8c"
      },
      "source": [
        "print(\"Hello World\")"
      ],
      "execution_count": null,
      "outputs": [
        {
          "output_type": "stream",
          "text": [
            "Hello World\n"
          ],
          "name": "stdout"
        }
      ]
    },
    {
      "cell_type": "markdown",
      "metadata": {
        "id": "ltGTXhTkNwhU"
      },
      "source": [
        "1(b) Write a program to purposefully raise indentation errors and correct "
      ]
    },
    {
      "cell_type": "markdown",
      "metadata": {
        "id": "9oKVzDkRN-d4"
      },
      "source": [
        "Error code"
      ]
    },
    {
      "cell_type": "code",
      "metadata": {
        "id": "6cAGIeBWOBFh"
      },
      "source": [
        "if True:\n",
        "print(\"True\")\n",
        "else:\n",
        "  print(\"False\")"
      ],
      "execution_count": null,
      "outputs": []
    },
    {
      "cell_type": "code",
      "metadata": {
        "id": "Q1jo4NS7OlGN"
      },
      "source": [
        "if True:\n",
        "  print(\"True1\")\n",
        "    print(\"True2\")\n",
        "else:\n",
        "  print(\"False\")"
      ],
      "execution_count": null,
      "outputs": []
    },
    {
      "cell_type": "markdown",
      "metadata": {
        "id": "aYIIGYwhcB2a"
      },
      "source": [
        "Correced code"
      ]
    },
    {
      "cell_type": "code",
      "metadata": {
        "id": "eaSI_AUQPHhp"
      },
      "source": [
        "if True:\n",
        "    print(\"True\")\n",
        "else:\n",
        "    print(\"False\")"
      ],
      "execution_count": null,
      "outputs": []
    },
    {
      "cell_type": "code",
      "metadata": {
        "id": "r0oW2xXtPrD6"
      },
      "source": [
        "if True:\n",
        "    print(\"True1\")\n",
        "    print(\"True2\")\n",
        "else:\n",
        "    print(\"False\")"
      ],
      "execution_count": null,
      "outputs": []
    },
    {
      "cell_type": "markdown",
      "metadata": {
        "id": "hUpMkm75Qyo4"
      },
      "source": [
        "2(a) Write a program to compute distance between two points taking input from the user."
      ]
    },
    {
      "cell_type": "code",
      "metadata": {
        "id": "a9qb4uT9RCrB",
        "colab": {
          "base_uri": "https://localhost:8080/"
        },
        "outputId": "21c41c7f-f862-4bf3-9ab4-151e192eb771"
      },
      "source": [
        "import math\n",
        "x1=int(input(\"Enter x1 value : \"))\n",
        "x2=int(input(\"Enter x2 value : \"))\n",
        "y1=int(input(\"Enter y1 value : \"))\n",
        "y2=int(input(\"Enter y2 value : \"))\n",
        "d = math.sqrt(((x2-x1)**2)+((y2-y1)**2))\n",
        "print(\"Distance of two points :\",d)"
      ],
      "execution_count": null,
      "outputs": [
        {
          "output_type": "stream",
          "text": [
            "Enter x1 value : 1\n",
            "Enter x2 value : 2\n",
            "Enter y1 value : 3\n",
            "Enter y2 value : 4\n",
            "Distance of two points : 1.4142135623730951\n"
          ],
          "name": "stdout"
        }
      ]
    },
    {
      "cell_type": "markdown",
      "metadata": {
        "id": "Gucn0gueYOoW"
      },
      "source": [
        "2(b) Write a program add.py that takes 2 numbers as command line arguments and prints its sum."
      ]
    },
    {
      "cell_type": "code",
      "metadata": {
        "id": "-T7vTkNbaZQi"
      },
      "source": [
        "import sys\n",
        "a=int(sys.argv[1])\n",
        "b=int(sys.argv[2])\n",
        "sum=a+b\n",
        "print(\"Sum of two numbers is :\",sum)"
      ],
      "execution_count": null,
      "outputs": []
    },
    {
      "cell_type": "markdown",
      "metadata": {
        "id": "RCt3tJQUa7MZ"
      },
      "source": [
        "3(a) Write a program for checking whether the given number is an even number or not."
      ]
    },
    {
      "cell_type": "code",
      "metadata": {
        "colab": {
          "base_uri": "https://localhost:8080/"
        },
        "id": "7J6vGYOXbJC1",
        "outputId": "13d11ea7-5d39-4dfc-8f63-18ea138a7d36"
      },
      "source": [
        "#To Check given number is even or odd \n",
        "n=int(input(\"Enter a Number \"))\n",
        "if n%2 == 0:\n",
        "  print(\"Given Number is even\")\n",
        "else:\n",
        "  print(\"Given nunber is odd\")\n",
        "  \n"
      ],
      "execution_count": null,
      "outputs": [
        {
          "output_type": "stream",
          "text": [
            "Enter a Number 5\n",
            "Given nunber is odd\n"
          ],
          "name": "stdout"
        }
      ]
    },
    {
      "cell_type": "markdown",
      "metadata": {
        "id": "9dXwbyxWcWEP"
      },
      "source": [
        "3(b) Using a for loop write a program that prints out the decimal equivalents of 1/2,1/3,1/4,...,1/10."
      ]
    },
    {
      "cell_type": "code",
      "metadata": {
        "colab": {
          "base_uri": "https://localhost:8080/"
        },
        "id": "rI5NMZIecveD",
        "outputId": "aa897263-b415-4129-9947-795c7f0a5c25"
      },
      "source": [
        "#prints out the decimal equivalents of 1/2,1/3,1/4,...,1/10\n",
        "n=int(input(\"Enter a Number : \"))\n",
        "for i in range(2,n):\n",
        "  de=1/i\n",
        "  print(\"1/\"+str(i)+\"=\",de)"
      ],
      "execution_count": null,
      "outputs": [
        {
          "output_type": "stream",
          "text": [
            "Enter a Number : 10\n",
            "1/2= 0.5\n",
            "1/3= 0.3333333333333333\n",
            "1/4= 0.25\n",
            "1/5= 0.2\n",
            "1/6= 0.16666666666666666\n",
            "1/7= 0.14285714285714285\n",
            "1/8= 0.125\n",
            "1/9= 0.1111111111111111\n"
          ],
          "name": "stdout"
        }
      ]
    },
    {
      "cell_type": "markdown",
      "metadata": {
        "id": "Uat1fnmRdq2u"
      },
      "source": [
        "3(c) Write a program using a for loop that loops over a sequence.What is sequence?"
      ]
    },
    {
      "cell_type": "code",
      "metadata": {
        "colab": {
          "base_uri": "https://localhost:8080/"
        },
        "id": "ZW-P6CT5d73N",
        "outputId": "e2350631-4731-4829-d0c7-15c33d8f199e"
      },
      "source": [
        "arr=[4,\"abc\",-45,'C',10.5,True,5,10.6,\"xyz\"]\n",
        "print(\"Given Array : \",arr)\n",
        "for x in arr:\n",
        "  print(x)"
      ],
      "execution_count": null,
      "outputs": [
        {
          "output_type": "stream",
          "text": [
            "Given Array :  [4, 'abc', -45, 'C', 10.5, True, 5, 10.6, 'xyz']\n",
            "4\n",
            "abc\n",
            "-45\n",
            "C\n",
            "10.5\n",
            "True\n",
            "5\n",
            "10.6\n",
            "xyz\n"
          ],
          "name": "stdout"
        }
      ]
    },
    {
      "cell_type": "markdown",
      "metadata": {
        "id": "gCBNuWRJeiwo"
      },
      "source": [
        "3(d) Write a program using a while loop that asks the user for a number and prints a countdown from that number to zero."
      ]
    },
    {
      "cell_type": "code",
      "metadata": {
        "colab": {
          "base_uri": "https://localhost:8080/"
        },
        "id": "Vl7HtQ_fe1mw",
        "outputId": "04f17bbb-a36d-4751-b175-30c9430215aa"
      },
      "source": [
        "n=int(input(\"Enter value of n:\"))\n",
        "while n>=0:\n",
        "  print(n)\n",
        "  n-=1"
      ],
      "execution_count": null,
      "outputs": [
        {
          "output_type": "stream",
          "text": [
            "Enter value of n:10\n",
            "10\n",
            "9\n",
            "8\n",
            "7\n",
            "6\n",
            "5\n",
            "4\n",
            "3\n",
            "2\n",
            "1\n",
            "0\n"
          ],
          "name": "stdout"
        }
      ]
    },
    {
      "cell_type": "markdown",
      "metadata": {
        "id": "w9l6o0kqfOnv"
      },
      "source": [
        "4(a) Find the sum of all the primes below two million."
      ]
    },
    {
      "cell_type": "code",
      "metadata": {
        "id": "nVuWrc3xfXUx",
        "colab": {
          "base_uri": "https://localhost:8080/"
        },
        "outputId": "4aae2b57-89bc-4b6d-84f6-18118801ffa2"
      },
      "source": [
        "#sum of all the primes of given number below \n",
        "n=int(input(\"Enter an Ending Number: \"))\n",
        "st=\"\"\n",
        "sum=0\n",
        "for i in range(2,n):\n",
        "  state=True\n",
        "  for j in range(2,i):\n",
        "    if(i%j)==0:\n",
        "      state=False\n",
        "      break;\n",
        "  if state==True:\n",
        "    st+=\" \"+str(i)\n",
        "    sum+=i\n",
        "  print(\"Prime numbers :\")\n",
        "  print(st)\n",
        "  print(\"Sum of the prime numbers : \",sum)"
      ],
      "execution_count": null,
      "outputs": [
        {
          "output_type": "stream",
          "text": [
            "Enter an Ending Number: 100\n",
            "Prime numbers :\n",
            " 2\n",
            "Sum of the prime numbers :  2\n",
            "Prime numbers :\n",
            " 2 3\n",
            "Sum of the prime numbers :  5\n",
            "Prime numbers :\n",
            " 2 3\n",
            "Sum of the prime numbers :  5\n",
            "Prime numbers :\n",
            " 2 3 5\n",
            "Sum of the prime numbers :  10\n",
            "Prime numbers :\n",
            " 2 3 5\n",
            "Sum of the prime numbers :  10\n",
            "Prime numbers :\n",
            " 2 3 5 7\n",
            "Sum of the prime numbers :  17\n",
            "Prime numbers :\n",
            " 2 3 5 7\n",
            "Sum of the prime numbers :  17\n",
            "Prime numbers :\n",
            " 2 3 5 7\n",
            "Sum of the prime numbers :  17\n",
            "Prime numbers :\n",
            " 2 3 5 7\n",
            "Sum of the prime numbers :  17\n",
            "Prime numbers :\n",
            " 2 3 5 7 11\n",
            "Sum of the prime numbers :  28\n",
            "Prime numbers :\n",
            " 2 3 5 7 11\n",
            "Sum of the prime numbers :  28\n",
            "Prime numbers :\n",
            " 2 3 5 7 11 13\n",
            "Sum of the prime numbers :  41\n",
            "Prime numbers :\n",
            " 2 3 5 7 11 13\n",
            "Sum of the prime numbers :  41\n",
            "Prime numbers :\n",
            " 2 3 5 7 11 13\n",
            "Sum of the prime numbers :  41\n",
            "Prime numbers :\n",
            " 2 3 5 7 11 13\n",
            "Sum of the prime numbers :  41\n",
            "Prime numbers :\n",
            " 2 3 5 7 11 13 17\n",
            "Sum of the prime numbers :  58\n",
            "Prime numbers :\n",
            " 2 3 5 7 11 13 17\n",
            "Sum of the prime numbers :  58\n",
            "Prime numbers :\n",
            " 2 3 5 7 11 13 17 19\n",
            "Sum of the prime numbers :  77\n",
            "Prime numbers :\n",
            " 2 3 5 7 11 13 17 19\n",
            "Sum of the prime numbers :  77\n",
            "Prime numbers :\n",
            " 2 3 5 7 11 13 17 19\n",
            "Sum of the prime numbers :  77\n",
            "Prime numbers :\n",
            " 2 3 5 7 11 13 17 19\n",
            "Sum of the prime numbers :  77\n",
            "Prime numbers :\n",
            " 2 3 5 7 11 13 17 19 23\n",
            "Sum of the prime numbers :  100\n",
            "Prime numbers :\n",
            " 2 3 5 7 11 13 17 19 23\n",
            "Sum of the prime numbers :  100\n",
            "Prime numbers :\n",
            " 2 3 5 7 11 13 17 19 23\n",
            "Sum of the prime numbers :  100\n",
            "Prime numbers :\n",
            " 2 3 5 7 11 13 17 19 23\n",
            "Sum of the prime numbers :  100\n",
            "Prime numbers :\n",
            " 2 3 5 7 11 13 17 19 23\n",
            "Sum of the prime numbers :  100\n",
            "Prime numbers :\n",
            " 2 3 5 7 11 13 17 19 23\n",
            "Sum of the prime numbers :  100\n",
            "Prime numbers :\n",
            " 2 3 5 7 11 13 17 19 23 29\n",
            "Sum of the prime numbers :  129\n",
            "Prime numbers :\n",
            " 2 3 5 7 11 13 17 19 23 29\n",
            "Sum of the prime numbers :  129\n",
            "Prime numbers :\n",
            " 2 3 5 7 11 13 17 19 23 29 31\n",
            "Sum of the prime numbers :  160\n",
            "Prime numbers :\n",
            " 2 3 5 7 11 13 17 19 23 29 31\n",
            "Sum of the prime numbers :  160\n",
            "Prime numbers :\n",
            " 2 3 5 7 11 13 17 19 23 29 31\n",
            "Sum of the prime numbers :  160\n",
            "Prime numbers :\n",
            " 2 3 5 7 11 13 17 19 23 29 31\n",
            "Sum of the prime numbers :  160\n",
            "Prime numbers :\n",
            " 2 3 5 7 11 13 17 19 23 29 31\n",
            "Sum of the prime numbers :  160\n",
            "Prime numbers :\n",
            " 2 3 5 7 11 13 17 19 23 29 31\n",
            "Sum of the prime numbers :  160\n",
            "Prime numbers :\n",
            " 2 3 5 7 11 13 17 19 23 29 31 37\n",
            "Sum of the prime numbers :  197\n",
            "Prime numbers :\n",
            " 2 3 5 7 11 13 17 19 23 29 31 37\n",
            "Sum of the prime numbers :  197\n",
            "Prime numbers :\n",
            " 2 3 5 7 11 13 17 19 23 29 31 37\n",
            "Sum of the prime numbers :  197\n",
            "Prime numbers :\n",
            " 2 3 5 7 11 13 17 19 23 29 31 37\n",
            "Sum of the prime numbers :  197\n",
            "Prime numbers :\n",
            " 2 3 5 7 11 13 17 19 23 29 31 37 41\n",
            "Sum of the prime numbers :  238\n",
            "Prime numbers :\n",
            " 2 3 5 7 11 13 17 19 23 29 31 37 41\n",
            "Sum of the prime numbers :  238\n",
            "Prime numbers :\n",
            " 2 3 5 7 11 13 17 19 23 29 31 37 41 43\n",
            "Sum of the prime numbers :  281\n",
            "Prime numbers :\n",
            " 2 3 5 7 11 13 17 19 23 29 31 37 41 43\n",
            "Sum of the prime numbers :  281\n",
            "Prime numbers :\n",
            " 2 3 5 7 11 13 17 19 23 29 31 37 41 43\n",
            "Sum of the prime numbers :  281\n",
            "Prime numbers :\n",
            " 2 3 5 7 11 13 17 19 23 29 31 37 41 43\n",
            "Sum of the prime numbers :  281\n",
            "Prime numbers :\n",
            " 2 3 5 7 11 13 17 19 23 29 31 37 41 43 47\n",
            "Sum of the prime numbers :  328\n",
            "Prime numbers :\n",
            " 2 3 5 7 11 13 17 19 23 29 31 37 41 43 47\n",
            "Sum of the prime numbers :  328\n",
            "Prime numbers :\n",
            " 2 3 5 7 11 13 17 19 23 29 31 37 41 43 47\n",
            "Sum of the prime numbers :  328\n",
            "Prime numbers :\n",
            " 2 3 5 7 11 13 17 19 23 29 31 37 41 43 47\n",
            "Sum of the prime numbers :  328\n",
            "Prime numbers :\n",
            " 2 3 5 7 11 13 17 19 23 29 31 37 41 43 47\n",
            "Sum of the prime numbers :  328\n",
            "Prime numbers :\n",
            " 2 3 5 7 11 13 17 19 23 29 31 37 41 43 47\n",
            "Sum of the prime numbers :  328\n",
            "Prime numbers :\n",
            " 2 3 5 7 11 13 17 19 23 29 31 37 41 43 47 53\n",
            "Sum of the prime numbers :  381\n",
            "Prime numbers :\n",
            " 2 3 5 7 11 13 17 19 23 29 31 37 41 43 47 53\n",
            "Sum of the prime numbers :  381\n",
            "Prime numbers :\n",
            " 2 3 5 7 11 13 17 19 23 29 31 37 41 43 47 53\n",
            "Sum of the prime numbers :  381\n",
            "Prime numbers :\n",
            " 2 3 5 7 11 13 17 19 23 29 31 37 41 43 47 53\n",
            "Sum of the prime numbers :  381\n",
            "Prime numbers :\n",
            " 2 3 5 7 11 13 17 19 23 29 31 37 41 43 47 53\n",
            "Sum of the prime numbers :  381\n",
            "Prime numbers :\n",
            " 2 3 5 7 11 13 17 19 23 29 31 37 41 43 47 53\n",
            "Sum of the prime numbers :  381\n",
            "Prime numbers :\n",
            " 2 3 5 7 11 13 17 19 23 29 31 37 41 43 47 53 59\n",
            "Sum of the prime numbers :  440\n",
            "Prime numbers :\n",
            " 2 3 5 7 11 13 17 19 23 29 31 37 41 43 47 53 59\n",
            "Sum of the prime numbers :  440\n",
            "Prime numbers :\n",
            " 2 3 5 7 11 13 17 19 23 29 31 37 41 43 47 53 59 61\n",
            "Sum of the prime numbers :  501\n",
            "Prime numbers :\n",
            " 2 3 5 7 11 13 17 19 23 29 31 37 41 43 47 53 59 61\n",
            "Sum of the prime numbers :  501\n",
            "Prime numbers :\n",
            " 2 3 5 7 11 13 17 19 23 29 31 37 41 43 47 53 59 61\n",
            "Sum of the prime numbers :  501\n",
            "Prime numbers :\n",
            " 2 3 5 7 11 13 17 19 23 29 31 37 41 43 47 53 59 61\n",
            "Sum of the prime numbers :  501\n",
            "Prime numbers :\n",
            " 2 3 5 7 11 13 17 19 23 29 31 37 41 43 47 53 59 61\n",
            "Sum of the prime numbers :  501\n",
            "Prime numbers :\n",
            " 2 3 5 7 11 13 17 19 23 29 31 37 41 43 47 53 59 61\n",
            "Sum of the prime numbers :  501\n",
            "Prime numbers :\n",
            " 2 3 5 7 11 13 17 19 23 29 31 37 41 43 47 53 59 61 67\n",
            "Sum of the prime numbers :  568\n",
            "Prime numbers :\n",
            " 2 3 5 7 11 13 17 19 23 29 31 37 41 43 47 53 59 61 67\n",
            "Sum of the prime numbers :  568\n",
            "Prime numbers :\n",
            " 2 3 5 7 11 13 17 19 23 29 31 37 41 43 47 53 59 61 67\n",
            "Sum of the prime numbers :  568\n",
            "Prime numbers :\n",
            " 2 3 5 7 11 13 17 19 23 29 31 37 41 43 47 53 59 61 67\n",
            "Sum of the prime numbers :  568\n",
            "Prime numbers :\n",
            " 2 3 5 7 11 13 17 19 23 29 31 37 41 43 47 53 59 61 67 71\n",
            "Sum of the prime numbers :  639\n",
            "Prime numbers :\n",
            " 2 3 5 7 11 13 17 19 23 29 31 37 41 43 47 53 59 61 67 71\n",
            "Sum of the prime numbers :  639\n",
            "Prime numbers :\n",
            " 2 3 5 7 11 13 17 19 23 29 31 37 41 43 47 53 59 61 67 71 73\n",
            "Sum of the prime numbers :  712\n",
            "Prime numbers :\n",
            " 2 3 5 7 11 13 17 19 23 29 31 37 41 43 47 53 59 61 67 71 73\n",
            "Sum of the prime numbers :  712\n",
            "Prime numbers :\n",
            " 2 3 5 7 11 13 17 19 23 29 31 37 41 43 47 53 59 61 67 71 73\n",
            "Sum of the prime numbers :  712\n",
            "Prime numbers :\n",
            " 2 3 5 7 11 13 17 19 23 29 31 37 41 43 47 53 59 61 67 71 73\n",
            "Sum of the prime numbers :  712\n",
            "Prime numbers :\n",
            " 2 3 5 7 11 13 17 19 23 29 31 37 41 43 47 53 59 61 67 71 73\n",
            "Sum of the prime numbers :  712\n",
            "Prime numbers :\n",
            " 2 3 5 7 11 13 17 19 23 29 31 37 41 43 47 53 59 61 67 71 73\n",
            "Sum of the prime numbers :  712\n",
            "Prime numbers :\n",
            " 2 3 5 7 11 13 17 19 23 29 31 37 41 43 47 53 59 61 67 71 73 79\n",
            "Sum of the prime numbers :  791\n",
            "Prime numbers :\n",
            " 2 3 5 7 11 13 17 19 23 29 31 37 41 43 47 53 59 61 67 71 73 79\n",
            "Sum of the prime numbers :  791\n",
            "Prime numbers :\n",
            " 2 3 5 7 11 13 17 19 23 29 31 37 41 43 47 53 59 61 67 71 73 79\n",
            "Sum of the prime numbers :  791\n",
            "Prime numbers :\n",
            " 2 3 5 7 11 13 17 19 23 29 31 37 41 43 47 53 59 61 67 71 73 79\n",
            "Sum of the prime numbers :  791\n",
            "Prime numbers :\n",
            " 2 3 5 7 11 13 17 19 23 29 31 37 41 43 47 53 59 61 67 71 73 79 83\n",
            "Sum of the prime numbers :  874\n",
            "Prime numbers :\n",
            " 2 3 5 7 11 13 17 19 23 29 31 37 41 43 47 53 59 61 67 71 73 79 83\n",
            "Sum of the prime numbers :  874\n",
            "Prime numbers :\n",
            " 2 3 5 7 11 13 17 19 23 29 31 37 41 43 47 53 59 61 67 71 73 79 83\n",
            "Sum of the prime numbers :  874\n",
            "Prime numbers :\n",
            " 2 3 5 7 11 13 17 19 23 29 31 37 41 43 47 53 59 61 67 71 73 79 83\n",
            "Sum of the prime numbers :  874\n",
            "Prime numbers :\n",
            " 2 3 5 7 11 13 17 19 23 29 31 37 41 43 47 53 59 61 67 71 73 79 83\n",
            "Sum of the prime numbers :  874\n",
            "Prime numbers :\n",
            " 2 3 5 7 11 13 17 19 23 29 31 37 41 43 47 53 59 61 67 71 73 79 83\n",
            "Sum of the prime numbers :  874\n",
            "Prime numbers :\n",
            " 2 3 5 7 11 13 17 19 23 29 31 37 41 43 47 53 59 61 67 71 73 79 83 89\n",
            "Sum of the prime numbers :  963\n",
            "Prime numbers :\n",
            " 2 3 5 7 11 13 17 19 23 29 31 37 41 43 47 53 59 61 67 71 73 79 83 89\n",
            "Sum of the prime numbers :  963\n",
            "Prime numbers :\n",
            " 2 3 5 7 11 13 17 19 23 29 31 37 41 43 47 53 59 61 67 71 73 79 83 89\n",
            "Sum of the prime numbers :  963\n",
            "Prime numbers :\n",
            " 2 3 5 7 11 13 17 19 23 29 31 37 41 43 47 53 59 61 67 71 73 79 83 89\n",
            "Sum of the prime numbers :  963\n",
            "Prime numbers :\n",
            " 2 3 5 7 11 13 17 19 23 29 31 37 41 43 47 53 59 61 67 71 73 79 83 89\n",
            "Sum of the prime numbers :  963\n",
            "Prime numbers :\n",
            " 2 3 5 7 11 13 17 19 23 29 31 37 41 43 47 53 59 61 67 71 73 79 83 89\n",
            "Sum of the prime numbers :  963\n",
            "Prime numbers :\n",
            " 2 3 5 7 11 13 17 19 23 29 31 37 41 43 47 53 59 61 67 71 73 79 83 89\n",
            "Sum of the prime numbers :  963\n",
            "Prime numbers :\n",
            " 2 3 5 7 11 13 17 19 23 29 31 37 41 43 47 53 59 61 67 71 73 79 83 89\n",
            "Sum of the prime numbers :  963\n",
            "Prime numbers :\n",
            " 2 3 5 7 11 13 17 19 23 29 31 37 41 43 47 53 59 61 67 71 73 79 83 89 97\n",
            "Sum of the prime numbers :  1060\n",
            "Prime numbers :\n",
            " 2 3 5 7 11 13 17 19 23 29 31 37 41 43 47 53 59 61 67 71 73 79 83 89 97\n",
            "Sum of the prime numbers :  1060\n",
            "Prime numbers :\n",
            " 2 3 5 7 11 13 17 19 23 29 31 37 41 43 47 53 59 61 67 71 73 79 83 89 97\n",
            "Sum of the prime numbers :  1060\n"
          ],
          "name": "stdout"
        }
      ]
    },
    {
      "cell_type": "markdown",
      "metadata": {
        "id": "hL3E9W5OiA59"
      },
      "source": [
        "4(b) Each new term in the fibbonaci sequence is generated by adding the previous two terms.By starting with 1 and 2,the first 10 terms will be:1,2,3,5,8,13,21,34,55,89,..."
      ]
    },
    {
      "cell_type": "code",
      "metadata": {
        "colab": {
          "base_uri": "https://localhost:8080/"
        },
        "id": "BvDF-CWniiGB",
        "outputId": "50ec81ea-6a3c-4544-e710-ed5fc9b3a4be"
      },
      "source": [
        "#Fibbinacci series \n",
        "n=int(input(\"Enter value of n: \"))\n",
        "a=0\n",
        "b=1\n",
        "c=a+b\n",
        "while c<n:\n",
        "  print(c,end=' ')\n",
        "  a=b\n",
        "  b=c\n",
        "  c=a+b"
      ],
      "execution_count": null,
      "outputs": [
        {
          "output_type": "stream",
          "text": [
            "Enter value of n: 1000\n",
            "1 2 3 5 8 13 21 34 55 89 144 233 377 610 987 "
          ],
          "name": "stdout"
        }
      ]
    },
    {
      "cell_type": "markdown",
      "metadata": {
        "id": "ZZn_SMcRjnCH"
      },
      "source": [
        "4(c) By considering the terms in the fibinacci sequence whose values do not exceed four million,find the sum of the even-valued terms."
      ]
    },
    {
      "cell_type": "code",
      "metadata": {
        "colab": {
          "base_uri": "https://localhost:8080/"
        },
        "id": "pl-9QQavj-R5",
        "outputId": "2c14ea65-8ef3-4507-9e5c-8a19ab1d4043"
      },
      "source": [
        "n=int(input(\"Enter value of n : \"))\n",
        "a=0\n",
        "b=1\n",
        "c=a+b\n",
        "sum=0\n",
        "print(\"Even numbers in fibbinoci series: \",end=\"\")\n",
        "while c<=n:\n",
        "  if c%2==0:\n",
        "    print(c,end='')\n",
        "    sum+=c\n",
        "  a=b\n",
        "  b=c\n",
        "  c=a+b\n",
        "  print(\"\\n sum of fibbinaci series is : \",sum)"
      ],
      "execution_count": null,
      "outputs": [
        {
          "output_type": "stream",
          "text": [
            "Enter value of n : 4000000\n",
            "Even numbers in fibbinoci series: \n",
            " sum of fibbinaci series is :  0\n",
            "2\n",
            " sum of fibbinaci series is :  2\n",
            "\n",
            " sum of fibbinaci series is :  2\n",
            "\n",
            " sum of fibbinaci series is :  2\n",
            "8\n",
            " sum of fibbinaci series is :  10\n",
            "\n",
            " sum of fibbinaci series is :  10\n",
            "\n",
            " sum of fibbinaci series is :  10\n",
            "34\n",
            " sum of fibbinaci series is :  44\n",
            "\n",
            " sum of fibbinaci series is :  44\n",
            "\n",
            " sum of fibbinaci series is :  44\n",
            "144\n",
            " sum of fibbinaci series is :  188\n",
            "\n",
            " sum of fibbinaci series is :  188\n",
            "\n",
            " sum of fibbinaci series is :  188\n",
            "610\n",
            " sum of fibbinaci series is :  798\n",
            "\n",
            " sum of fibbinaci series is :  798\n",
            "\n",
            " sum of fibbinaci series is :  798\n",
            "2584\n",
            " sum of fibbinaci series is :  3382\n",
            "\n",
            " sum of fibbinaci series is :  3382\n",
            "\n",
            " sum of fibbinaci series is :  3382\n",
            "10946\n",
            " sum of fibbinaci series is :  14328\n",
            "\n",
            " sum of fibbinaci series is :  14328\n",
            "\n",
            " sum of fibbinaci series is :  14328\n",
            "46368\n",
            " sum of fibbinaci series is :  60696\n",
            "\n",
            " sum of fibbinaci series is :  60696\n",
            "\n",
            " sum of fibbinaci series is :  60696\n",
            "196418\n",
            " sum of fibbinaci series is :  257114\n",
            "\n",
            " sum of fibbinaci series is :  257114\n",
            "\n",
            " sum of fibbinaci series is :  257114\n",
            "832040\n",
            " sum of fibbinaci series is :  1089154\n",
            "\n",
            " sum of fibbinaci series is :  1089154\n",
            "\n",
            " sum of fibbinaci series is :  1089154\n",
            "3524578\n",
            " sum of fibbinaci series is :  4613732\n"
          ],
          "name": "stdout"
        }
      ]
    },
    {
      "cell_type": "markdown",
      "metadata": {
        "id": "HbmBTMG6lVPN"
      },
      "source": [
        "5(a) Write a program to count the numbers of characters in the string and store them in a dictionary data structures."
      ]
    },
    {
      "cell_type": "code",
      "metadata": {
        "id": "BN87wSsUlo4_",
        "colab": {
          "base_uri": "https://localhost:8080/"
        },
        "outputId": "158c5dd0-2d80-4ded-947d-6b36122ae1ff"
      },
      "source": [
        "name=input(\"Enter a Name :\")\n",
        "dic={}\n",
        "\n",
        "for ch in name:\n",
        "  keys=dic.keys()\n",
        "\n",
        "  if(ch in keys):\n",
        "    dic[ch]-dic[ch]+1\n",
        "  else:\n",
        "    dic[ch]=1\n",
        "  print(\"Dictionary is : \",dic)"
      ],
      "execution_count": null,
      "outputs": [
        {
          "output_type": "stream",
          "text": [
            "Enter a Name :nandu\n",
            "Dictionary is :  {'n': 1}\n",
            "Dictionary is :  {'n': 1, 'a': 1}\n",
            "Dictionary is :  {'n': 1, 'a': 1}\n",
            "Dictionary is :  {'n': 1, 'a': 1, 'd': 1}\n",
            "Dictionary is :  {'n': 1, 'a': 1, 'd': 1, 'u': 1}\n"
          ],
          "name": "stdout"
        }
      ]
    },
    {
      "cell_type": "markdown",
      "metadata": {
        "id": "Bjnuu_osnJRj"
      },
      "source": [
        "5(b) Write a program to use split and join methods in the string and trace a birthday with a dictionary data structures."
      ]
    },
    {
      "cell_type": "code",
      "metadata": {
        "colab": {
          "base_uri": "https://localhost:8080/"
        },
        "id": "JQN9l8xXnaXT",
        "outputId": "6785775a-8b04-4796-8e86-ae5cacd71ed9"
      },
      "source": [
        "dob={\"parnika\":\"07-Nov-2015\",\"KK\":\"10-10-2000\"}\n",
        "name=input(\"Which person DOB you want: \")\n",
        "l=name.split()\n",
        "birth=\"\"\n",
        "\n",
        "for i in l:\n",
        "  if i in dob.keys():\n",
        "    pers=i\n",
        "\n",
        "print(\"\".join([pers,\"Birthday is\",dob[pers]]))\n"
      ],
      "execution_count": null,
      "outputs": [
        {
          "output_type": "stream",
          "text": [
            "Which person DOB you want: parnika\n",
            "parnikaBirthday is07-Nov-2015\n"
          ],
          "name": "stdout"
        }
      ]
    },
    {
      "cell_type": "markdown",
      "metadata": {
        "id": "H62N3z1WogAS"
      },
      "source": [
        "6(a) Write a program combine lists that combines these lists into a dictionory."
      ]
    },
    {
      "cell_type": "code",
      "metadata": {
        "colab": {
          "base_uri": "https://localhost:8080/"
        },
        "id": "JcE52LpWot5l",
        "outputId": "0b0b16bc-d021-4576-eed0-2ffad6cf044b"
      },
      "source": [
        "subj=[\"DAA\",\"OS\",\"DBMS\",\"P&S\",\"PPL\",\"SE\"]\n",
        "marks=[85,96,78,68,98,56]\n",
        "print(\"Given lists are : \")\n",
        "print(\"Subject Names :\",subj)\n",
        "print(\"Mark values :\",marks)\n",
        "dic=dict(zip(subj,marks))\n",
        "print(\"\\n Dictionary: \",dic)"
      ],
      "execution_count": null,
      "outputs": [
        {
          "output_type": "stream",
          "text": [
            "Given lists are : \n",
            "Subject Names : ['DAA', 'OS', 'DBMS', 'P&S', 'PPL', 'SE']\n",
            "Mark values : [85, 96, 78, 68, 98, 56]\n",
            "\n",
            " Dictionary:  {'DAA': 85, 'OS': 96, 'DBMS': 78, 'P&S': 68, 'PPL': 98, 'SE': 56}\n"
          ],
          "name": "stdout"
        }
      ]
    },
    {
      "cell_type": "markdown",
      "metadata": {
        "id": "kMbuDoeHprMK"
      },
      "source": [
        "6(b) Write a program to count frequency of charchters in a given file.can you use charchter frequency to tell whether the given file is a python program file,c program file or a text file?"
      ]
    },
    {
      "cell_type": "code",
      "metadata": {
        "id": "pAYRGFFUqL_T"
      },
      "source": [
        "filetypes=['.py','.c','.txt']\n",
        "fn=input(\"Enter the file name :\")\n",
        "f=open(fn,\"r\")\n",
        "count=dict()\n",
        "print(\"Given file is \",end=\"\")\n",
        "for ft in filetypes:\n",
        "  if(ft in fn):\n",
        "    if(ft=='.py'):\n",
        "      print(\"Python File \")\n",
        "    elif(ft=='.c'):\n",
        "      print(\"C File\")\n",
        "    elif(ft=='.txt'):\n",
        "      print(\"Text file\")\n",
        "for line in f:\n",
        "  for ch in line:\n",
        "    if ch in count:\n",
        "      count[ch]=count[ch]+1\n",
        "    else:\n",
        "      count[ch]=1\n",
        "print(count)\n",
        "f.close()"
      ],
      "execution_count": null,
      "outputs": []
    },
    {
      "cell_type": "markdown",
      "metadata": {
        "id": "Q5tteV0xHOA7"
      },
      "source": [
        "7(a) Write a program to print each line of a file in reverse order."
      ]
    },
    {
      "cell_type": "code",
      "metadata": {
        "id": "aU-eOHIzHcHE"
      },
      "source": [
        "#Write a program to print each line of a file in reverse order.\n",
        "obj=open(\"abc.txt\",\"r\")\n",
        "if obj:\n",
        "  st=obj.read()\n",
        "  print(\"File content is :\\n\",st)\n",
        "  obj.close()\n",
        "  print()\n",
        "  lines=st.split('\\n')\n",
        "for ln in lines:\n",
        "  i=lcn(ln)-1\n",
        "  while(i>=0):\n",
        "    print(ln[i],end=\"\")\n",
        "    i=i-1\n",
        "  print()"
      ],
      "execution_count": null,
      "outputs": []
    },
    {
      "cell_type": "markdown",
      "metadata": {
        "id": "UZufp_9_Jn3u"
      },
      "source": [
        "7(b) Write a program to compute the number of characters words and lines in a file."
      ]
    },
    {
      "cell_type": "code",
      "metadata": {
        "id": "QNAzZU3oJ29Q"
      },
      "source": [
        "nc=nw=nl=0\n",
        "file=open(\"abc.txt\",\"r\")\n",
        "nl=nw=nc=0\n",
        "print(\"File Content:\\n\")\n",
        "for line in file:\n",
        "  ln=line.strip(\"\\n\")\n",
        "  print(ln)\n",
        "  words=ln.split()\n",
        "  nl+=1\n",
        "  nw+=len(words)\n",
        "  nc+=len(line)\n",
        "  file.close()\n",
        "  print(\"\\n No of lines:\",nl,\"words\",nw,\"characters:\",nc)"
      ],
      "execution_count": null,
      "outputs": []
    },
    {
      "cell_type": "markdown",
      "metadata": {
        "id": "-NAsyc7ULN4H"
      },
      "source": [
        "8(a) Write a function ball collide that takes two balls as parameters and computes if they are colliding.Your function should return a bollean representing whether or not the balls are colliding."
      ]
    },
    {
      "cell_type": "code",
      "metadata": {
        "id": "ZGCHHKpzMIoc"
      },
      "source": [
        "import math\n",
        "def collide(ball_tup1,ball_tup2):\n",
        "  x1,y1,r1=ball_tup1\n",
        "  x2,y2,r2=ball_tup2\n",
        "  print(\"Ball-01: \",ball_tup1)\n",
        "  print(\"Ball-02: \",ball_tup2)\n",
        "  d=math.sqrt((x2-x1)**2+(y2-y1)**2)\n",
        "  print(\"Centroid Distance of two balls: \",d)\n",
        "  print(\"Sum of radius Ball-01 & Balu-02 is: {}+{}={}\".format(r1,r2,r1+r2))\n",
        "  if d<=r1+r2:\n",
        "    return True\n",
        "  else:\n",
        "    return False\n",
        "  b1=(-2,-4,3)\n",
        "  b2=(4,6,3)\n",
        "  if collide(b1,b2):\n",
        "    print(\"Balls are Collide...!\")\n",
        "  else:\n",
        "    print(\"Balls are NOT Collide !\")"
      ],
      "execution_count": null,
      "outputs": []
    },
    {
      "cell_type": "markdown",
      "metadata": {
        "id": "2E6DDj1ONXPL"
      },
      "source": [
        "8(b) Find mean,median,mode for the given set of numbers in a list."
      ]
    },
    {
      "cell_type": "code",
      "metadata": {
        "id": "fNUPVSQJPGSm"
      },
      "source": [
        "def list_mean(num_list):\n",
        "  return sum(num_list)/len(num_list)\n",
        "\n",
        "  def list_median(num_list):\n",
        "    num_list.sort()\n",
        "    n=len(num_list)\n",
        "    mid=n/2\n",
        "    if(n%2==1):\n",
        "      return num_list[mid]\n",
        "    else:\n",
        "      mid\n",
        "      return(num_list[mid-1]+num_list[mid])/2\n",
        "\n",
        "  def list_mode(num_list):\n",
        "    num_list.sort()\n",
        "    temp=[]\n",
        "\n",
        "    i=0\n",
        "    while i<len(num_list):\n",
        "      temp.append(num_list.count(num_list[i]))\n",
        "      i+=1\n",
        "    dic=dict(zip(num_list,temp))\n",
        "    mode={k for(k,v) in dic.items() if v==max(temp)}\n",
        "    return mode\n",
        "\n",
        "  lst=[1,1,2,2,2,3,4,5,3]\n",
        "\n",
        "  print(\"Given list is:\",lst)\n",
        "  print(\"Mean of the given list: \",list_mean(lst))\n",
        "  print(\"Median of the given list:\",list_median(lst))\n",
        "  print(\"Mode of the given list :\",list_mode(lst))\n"
      ],
      "execution_count": null,
      "outputs": []
    },
    {
      "cell_type": "markdown",
      "metadata": {
        "id": "uvMpEC0EeDaV"
      },
      "source": [
        "9(a) Write a function nearly equal to test whether two strings are nearky equal.Two strings a and b are nearly equal when a can be generated by a single mutation on b."
      ]
    },
    {
      "cell_type": "code",
      "metadata": {
        "id": "-g4ktXhrebxZ"
      },
      "source": [
        "def nearly_eq(str1,str2):\n",
        "  count=0\n",
        "  i=j=0\n",
        "  while(i<len(str1) and j<len(str2)):\n",
        "    if(str1[i]!=str2[j]):\n",
        "      count+=1\n",
        "      if(len(str1)>len(str2)):\n",
        "        i+=1\n",
        "      elif(len(str1)-len(str2)):\n",
        "          pass\n",
        "      else:\n",
        "          i=1\n",
        "      if(count>1):\n",
        "        return False\n",
        "      i+=1\n",
        "      j+=1\n",
        "    if(count<2):\n",
        "      return True\n",
        "\n",
        "  s1=input(\"Enter String1: \")\n",
        "  s2=input(\"Enter String2: \")\n",
        "  bln=nearly_eq(s1,s2)\n",
        "  if(bln):\n",
        "    print(\"Strings are naerly equal \")\n",
        "  else:\n",
        "    print(\"String are NOT equal \")\n"
      ],
      "execution_count": null,
      "outputs": []
    },
    {
      "cell_type": "markdown",
      "metadata": {
        "id": "DRrNAiFug0nB"
      },
      "source": [
        "9(b) Write a function dup to find all duplicates in the list"
      ]
    },
    {
      "cell_type": "code",
      "metadata": {
        "id": "peiziP_OYOFR"
      },
      "source": [
        "def dups(numlist):\n",
        "  temp=[]\n",
        "  for i in numlist:\n",
        "    cnt=numlist.count(i)\n",
        "    if(cnt>1 and (i not in temp)):\n",
        "      temp.append(i)\n",
        "  print(\"Duplicates in the list: \",temp)\n",
        "\n",
        "  lst=[1,2,6,9,1,3,5,2,1]\n",
        "  print(\"Duplicates in the list: \",lst)\n",
        "  dups(lst)"
      ],
      "execution_count": null,
      "outputs": []
    },
    {
      "cell_type": "markdown",
      "metadata": {
        "id": "8JE5Glvlmo-5"
      },
      "source": [
        "9(c) Write a function unique to find all the unique elements of a list."
      ]
    },
    {
      "cell_type": "code",
      "metadata": {
        "colab": {
          "base_uri": "https://localhost:8080/"
        },
        "id": "CV_E1Xgom3E6",
        "outputId": "4cc30e07-8677-490b-e0fd-ebe1a1d07f8c"
      },
      "source": [
        "def unique(numlist):\n",
        "  temp=[]\n",
        "  for i in numlist:\n",
        "    cnt=numlist.count(i)\n",
        "    if cnt==1:\n",
        "      temp.append(i)\n",
        "  print(\"Unique Elements in the list: \",temp)\n",
        "\n",
        "lst=[1,2,6,9,1,3,5,2,1]\n",
        "print(\"Given elements in the list: \",lst)\n",
        "unique(lst)"
      ],
      "execution_count": null,
      "outputs": [
        {
          "output_type": "stream",
          "text": [
            "Given elements in the list:  [1, 2, 6, 9, 1, 3, 5, 2, 1]\n",
            "Unique Elements in the list:  [6, 9, 3, 5]\n"
          ],
          "name": "stdout"
        }
      ]
    },
    {
      "cell_type": "markdown",
      "metadata": {
        "id": "NRcM9imaoXiE"
      },
      "source": [
        "10(a) Write a function cumulative product to compare cumulative product of a list of numbers."
      ]
    },
    {
      "cell_type": "code",
      "metadata": {
        "colab": {
          "base_uri": "https://localhost:8080/"
        },
        "id": "AOrvqjrDo8JU",
        "outputId": "34e3a6bd-9b01-420c-a2b2-d3cf18a67eef"
      },
      "source": [
        "def cum_prod(numlist):\n",
        "  prod=1\n",
        "  temp=[]\n",
        "  for i in numlist:\n",
        "    prod*=i\n",
        "    temp.append(prod)\n",
        "    return temp\n",
        "lst=[1,2,4,5,3]\n",
        "print(\"Given list is:\",lst)\n",
        "print(\"Cumulative Product list is:\",cum_prod(lst))"
      ],
      "execution_count": null,
      "outputs": [
        {
          "output_type": "stream",
          "text": [
            "Given list is: [1, 2, 4, 5, 3]\n",
            "Cumulative Product list is: [1]\n"
          ],
          "name": "stdout"
        }
      ]
    },
    {
      "cell_type": "markdown",
      "metadata": {
        "id": "_0HBKVfIqXEy"
      },
      "source": [
        "10(b) Write a function reverse to reverse a list.Without using the reverse function."
      ]
    },
    {
      "cell_type": "code",
      "metadata": {
        "colab": {
          "base_uri": "https://localhost:8080/"
        },
        "id": "ZtTat4QhtgjD",
        "outputId": "de607be7-cccc-4a26-8138-82049f702714"
      },
      "source": [
        "def reverse_list(numlist):\n",
        "  i=0\n",
        "  j=len(numlist)-1\n",
        "  while(i<=j):\n",
        "   temp=numlist[i]\n",
        "   numlist[i]=numlist[j]\n",
        "   numlist[j]=temp\n",
        "   j-=1\n",
        "   i+=1\n",
        "  return numlist\n",
        "lst=[1,2,3,4]\n",
        "print(\"Given list is: \",lst)\n",
        "reverse_list(lst)\n",
        "print(\"Reverse of the given list is: \",lst)"
      ],
      "execution_count": null,
      "outputs": [
        {
          "output_type": "stream",
          "text": [
            "Given list is:  [1, 2, 3, 4]\n",
            "Reverse of the given list is:  [4, 3, 2, 1]\n"
          ],
          "name": "stdout"
        }
      ]
    },
    {
      "cell_type": "markdown",
      "metadata": {
        "id": "9OYG3qlnvU5E"
      },
      "source": [
        "10(c) Write function to compute gcd,lcm of two numbers.Each function shouldnt exceed one line."
      ]
    },
    {
      "cell_type": "code",
      "metadata": {
        "colab": {
          "base_uri": "https://localhost:8080/"
        },
        "id": "1VKY3ntjvk7h",
        "outputId": "5d3abcce-bb84-4867-9067-2c4f2ca9d103"
      },
      "source": [
        "gcd=lambda a,b:a if b==0 else gcd(a,a%b)\n",
        "lcm=lambda a,b:(a*b)/gcd(a,b)\n",
        "\n",
        "x=4\n",
        "y=24\n",
        "print(\"The given numbers: \",x,y)\n",
        "print(\"GCD is: \",x,y)\n",
        "print(\"LCM is: \",lcm(x,y))\n"
      ],
      "execution_count": null,
      "outputs": [
        {
          "output_type": "stream",
          "text": [
            "The given numbers:  4 24\n",
            "GCD is:  4 24\n",
            "LCM is:  24.0\n"
          ],
          "name": "stdout"
        }
      ]
    },
    {
      "cell_type": "markdown",
      "metadata": {
        "id": "Tgd3ncv7wzrw"
      },
      "source": [
        "11(a) Write a program that defines a matrix and prints."
      ]
    },
    {
      "cell_type": "code",
      "metadata": {
        "colab": {
          "base_uri": "https://localhost:8080/"
        },
        "id": "b4gTMRi3w8uJ",
        "outputId": "43879b06-171f-4d96-d7e7-5f2875136099"
      },
      "source": [
        "matA=[[]]\n",
        "rows=int(input(\"Enter row size of Matrix: \"))\n",
        "cols=int(input(\"Enter column size of matrix: \"))\n",
        "\n",
        "matA=[[int(input(\"Enter [%d,%d] value: \"%(i,j)))for j in range(cols)]for i in range(rows)]\n",
        "\n",
        "print(\"Matrix is: \")\n",
        "for i in range(rows):\n",
        "  for j in range(cols):\n",
        "    print(matA[i][j],end='\\t')\n",
        "    print(' ')"
      ],
      "execution_count": null,
      "outputs": [
        {
          "output_type": "stream",
          "text": [
            "Enter row size of Matrix: 3\n",
            "Enter column size of matrix: 2\n",
            "Enter [0,0] value: 7\n",
            "Enter [0,1] value: 2\n",
            "Enter [1,0] value: 1\n",
            "Enter [1,1] value: 6\n",
            "Enter [2,0] value: 3\n",
            "Enter [2,1] value: 5\n",
            "Matrix is: \n",
            "7\t \n",
            "2\t \n",
            "1\t \n",
            "6\t \n",
            "3\t \n",
            "5\t \n"
          ],
          "name": "stdout"
        }
      ]
    },
    {
      "cell_type": "markdown",
      "metadata": {
        "id": "rNVns4ZB1F3V"
      },
      "source": [
        "11(b) Write a program to perform addition of two square matrices"
      ]
    },
    {
      "cell_type": "code",
      "metadata": {
        "colab": {
          "base_uri": "https://localhost:8080/"
        },
        "id": "mVh3VeCT1UBE",
        "outputId": "ce3f7d77-5387-4665-8f9b-592dcc6ea20c"
      },
      "source": [
        "def matRead(r,c):\n",
        "  return[[int(input(\"[%d,%d]value: \"%(i,j)))for j in range(c)]for i in range(r)]\n",
        "def matDisp(mat,r,c):\n",
        "  for i in range(r):\n",
        "    for j in range(c):\n",
        "      print(mat[i][j],end='\\t')\n",
        "    print()\n",
        "\n",
        "matA=[[]]\n",
        "matB=[[]]\n",
        "matSum=[[]]\n",
        "rows=int(input(\"Enter row size of the Matrix: \"))\n",
        "cols=int(input(\"Enter column size of the Matrix: \"))\n",
        "if rows==cols:\n",
        "  print(\"Enter Matrix-A elements: \")\n",
        "  matA=matRead(rows,cols)\n",
        "\n",
        "  print(\"Enter Matrix-B elements: \")\n",
        "  matB=matRead(rows,cols)\n",
        "\n",
        "  print(\"Matrix-A is: \")\n",
        "  matDisp(matA,rows,cols)\n",
        "\n",
        "  print(\"Matrix-B is: \")\n",
        "  matDisp(matB,rows,cols)\n",
        "\n",
        "  matSum=[[matA[i][j]+matB[i][j]for j in range(cols)]for i in range(rows)]\n",
        "  print(\"Sum of Matrices is: \")\n",
        "  5matDisp(matSum,rows,cols)\n",
        "else:\n",
        "  print(\"Matrices Addition is Not possible\")"
      ],
      "execution_count": null,
      "outputs": [
        {
          "output_type": "stream",
          "text": [
            "Enter row size of the Matrix: 2\n",
            "Enter column size of the Matrix: 2\n",
            "Enter Matrix-A elements: \n",
            "[0,0]value: 1\n",
            "[0,1]value: 2\n",
            "[1,0]value: 3\n",
            "[1,1]value: 4\n",
            "Enter Matrix-B elements: \n",
            "[0,0]value: 9\n",
            "[0,1]value: 6\n",
            "[1,0]value: 5\n",
            "[1,1]value: 4\n",
            "Matrix-A is: \n",
            "1\t2\t\n",
            "3\t4\t\n",
            "Matrix-B is: \n",
            "9\t6\t\n",
            "5\t4\t\n",
            "Sum of Matrices is: \n",
            "10\t8\t\n",
            "8\t8\t\n"
          ],
          "name": "stdout"
        }
      ]
    },
    {
      "cell_type": "markdown",
      "metadata": {
        "id": "Po4bcHqm6GEp"
      },
      "source": [
        "11(c) Write a program to perform multiplication of two square matrices"
      ]
    },
    {
      "cell_type": "code",
      "metadata": {
        "colab": {
          "base_uri": "https://localhost:8080/"
        },
        "id": "yg8tsFUa6YQC",
        "outputId": "3cbd7eaf-7133-4e96-8b91-1699ca845fa1"
      },
      "source": [
        "def matRead(r,c):\n",
        "  return[[int(input(\"[%d,%d]value: \"%(i,j)))for j in range(c)]for i in range(r)]\n",
        "              \n",
        "def matDisp(mat,r,c):\n",
        "  for i in range(r):\n",
        "    for j in range(c):\n",
        "      print(mat[i][j],end='\\t')\n",
        "    print()\n",
        "matA=[[]]\n",
        "matB=[[]]\n",
        "matMul=[[]]\n",
        "rows=int(input(\"Enter row size of the Matrix: \"))\n",
        "cols=int(input(\"Enter columns size of the Matrix: \"))\n",
        "\n",
        "if rows==cols:\n",
        "  print(\"Enter Matrix-A: \")\n",
        "  matA=matRead(rows,cols)\n",
        "  print(\"Enter Matrix-B: \")\n",
        "  matB=matRead(rows,cols)\n",
        "\n",
        "  matMul=[[0 for j in range(cols)]for i in range(rows)]\n",
        "\n",
        "  for i in range(rows):\n",
        "    for j in range(cols):\n",
        "      for k in range(cols):\n",
        "        matMul[i][j]+=matA[i][k]*matB[k][j]\n",
        "\n",
        "  print(\"Matrix-A is: \")\n",
        "  matDisp(matA,rows,cols)\n",
        "\n",
        "  print(\"Matrix-B is: \")\n",
        "  matDisp(matB,rows,cols)\n",
        "\n",
        "  print(\"Mukitiplication of matrices is: \")\n",
        "  matDisp(matMul,rows,cols)\n",
        "else:\n",
        "  print(\"Matrices Multiplicataion is Not Possible\")\n"
      ],
      "execution_count": null,
      "outputs": [
        {
          "output_type": "stream",
          "text": [
            "Enter row size of the Matrix: 2\n",
            "Enter columns size of the Matrix: 2\n",
            "Enter Matrix-A: \n",
            "[0,0]value: 2\n",
            "[0,1]value: 3\n",
            "[1,0]value: 5\n",
            "[1,1]value: 6\n",
            "Enter Matrix-B: \n",
            "[0,0]value: 1\n",
            "[0,1]value: 2\n",
            "[1,0]value: 3\n",
            "[1,1]value: 4\n",
            "Matrix-A is: \n",
            "2\t3\t\n",
            "5\t6\t\n",
            "Matrix-B is: \n",
            "1\t2\t\n",
            "3\t4\t\n",
            "Mukitiplication of matrices is: \n",
            "11\t16\t\n",
            "23\t34\t\n"
          ],
          "name": "stdout"
        }
      ]
    },
    {
      "cell_type": "markdown",
      "metadata": {
        "id": "L0lYZyiFAgvv"
      },
      "source": [
        "12(a) Install packages requests flask and explore them.using(pip)"
      ]
    },
    {
      "cell_type": "code",
      "metadata": {
        "id": "W7QPq7HPAu8F"
      },
      "source": [
        ""
      ],
      "execution_count": null,
      "outputs": []
    },
    {
      "cell_type": "markdown",
      "metadata": {
        "id": "U0Ksk2O3A54f"
      },
      "source": [
        "12(b) Write a script that imports requests and fetch content from the page."
      ]
    },
    {
      "cell_type": "code",
      "metadata": {
        "id": "KNhXBzNiBMSR"
      },
      "source": [
        "import requests\n",
        "r=requests.get('https://www.google.com')\n",
        "\n",
        "print(\"Statuscode: \",r.status_code)\n",
        "\n",
        "print(\"Header Content: \",r.header['content-type'])\n",
        "\n",
        "print(r.text)"
      ],
      "execution_count": null,
      "outputs": []
    },
    {
      "cell_type": "markdown",
      "metadata": {
        "id": "OfbXrIIBCH7b"
      },
      "source": [
        "12(c) Write a simple script that serves that serves a simple HTML page"
      ]
    },
    {
      "cell_type": "code",
      "metadata": {
        "id": "uNgGghMBCY6M"
      },
      "source": [
        "from flask import Flask,render_template\n",
        "app=Flask(__name__)\n",
        "print(app)\n",
        "@app.route(\"/\")\n",
        "\n",
        "def main():\n",
        "  return render_template('login.html')\n",
        "\n",
        "  if__name__==\"__main__\":\n",
        "    app.run(host=\"127.0.0.1\",port=2500)"
      ],
      "execution_count": null,
      "outputs": []
    },
    {
      "cell_type": "markdown",
      "metadata": {
        "id": "OeIJWgLcDYUC"
      },
      "source": [
        "13(a) Class variables and instances variable and illustration of the self-variable\n",
        "1)"
      ]
    },
    {
      "cell_type": "code",
      "metadata": {
        "id": "6K_HtPvLDpZg"
      },
      "source": [
        "class Robot:\n",
        "  what=\"Machine\"\n",
        "  name=\"Chitti\"\n",
        "  version=1.0\n",
        "  speed=\"1THz\"\n",
        "  memory=\"1ZB\"\n",
        "\n",
        "def updated(upd):\n",
        "  upd.version-2.0\n",
        "  upd.speed=\"2THz\"\n",
        "  upd.memory=\"2ZB\"\n",
        "\n",
        "def disp(self):\n",
        "  print(\"Myself is a\",robj.what)\n",
        "  print(\"MyName is a\",robj.name)\n",
        "  print(\"Version:\",robj.version)\n",
        "  print(\"Speed:\",robj.speed)\n",
        "  print(\"Memory:\",robj.memory)\n",
        "\n",
        "robj=Robot()\n",
        "robj.disp()\n",
        "\n",
        "print(\".......Update.......\")\n",
        "robj.update()\n",
        "robj.disp()\n",
        "\n"
      ],
      "execution_count": null,
      "outputs": []
    },
    {
      "cell_type": "markdown",
      "metadata": {
        "id": "H1YNRlrSF4OX"
      },
      "source": [
        "ATM Machine"
      ]
    },
    {
      "cell_type": "code",
      "metadata": {
        "id": "g0vR8I9nF8ou"
      },
      "source": [
        "class ATM:\n",
        "  def init(self):\n",
        "   self.balance=0\n",
        "   \n",
        "  def enquire(self):\n",
        "    print(\"Balance: \",balance)\n",
        "\n",
        "  def deposit(self):\n",
        "    amount=int(input(\"Enter the Deposit Amount : \"))\n",
        "    self.balance+=amount\n",
        "    self.enquire()\n",
        "\n",
        "  def withdraw(self):\n",
        "    amount=int(input(\"Enter the Withdraw Amount: \"))\n",
        "    if self.balance<amount:\n",
        "      print(\"Insufficient Balance....!\")\n",
        "    else:\n",
        "      self.balance-=amount\n",
        "      self.enquire()\n",
        "\n",
        "aobj=ATM()\n",
        "while(True):\n",
        "  print(\"****Menu****\")\n",
        "  print(\"1.Deposit\")\n",
        "  print(\"2.Withdraw\")\n",
        "  print(\"3.Balance\")\n",
        "  print(\"0.Exit\")\n",
        "  ch=int(input(\"Enter Your Choice: \"))\n",
        "  if ch==0:\n",
        "    break\n",
        "  elif ch==1:\n",
        "      aobj.deposit()\n",
        "  elif ch==2:\n",
        "      aobj.withdraw()\n",
        "  elif ch==3:\n",
        "      aobj.enquire()\n",
        "  else:\n",
        "      print(\"Invalid choice:\")\n",
        "      pass"
      ],
      "execution_count": null,
      "outputs": []
    }
  ]
}